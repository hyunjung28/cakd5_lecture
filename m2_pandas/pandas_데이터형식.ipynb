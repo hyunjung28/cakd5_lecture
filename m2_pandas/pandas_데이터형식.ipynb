{
 "cells": [
  {
   "cell_type": "markdown",
   "id": "4358a8e9",
   "metadata": {},
   "source": [
    "## 판다스\n",
    "- 판다스는 구조화된 데이터 형식을 제공, 시리즈는 1차원 배열, 데이터프레임은\n",
    " 2차원 배열\n",
    "- 라이브러리는 여러 종류의 class와 다양한 내장 함수로 구성. 시리즈와 데이터프레임은\n",
    "대표적인 클래스 객체임\n",
    "- 라이브러리 패키지>모듈>클래스>함수\n",
    "- 시리즈 인덱스는 데이터값과 일대일 대응, 파이썬 딕셔너리와 비슷한 구조.\n",
    "- pandas.Series(딕셔너리)\n",
    "- Series(변환, 인덱스 구조, 원소 선택)\n",
    "- DataFrame(변환, 인덱스,삭제,선택,추가,변경,전치 등 )\n",
    "\n"
   ]
  },
  {
   "cell_type": "code",
   "execution_count": 5,
   "id": "c9423cf1",
   "metadata": {},
   "outputs": [
    {
     "name": "stdout",
     "output_type": "stream",
     "text": [
      "a    1\n",
      "b    2\n",
      "c    3\n",
      "dtype: int64 <class 'pandas.core.series.Series'>\n"
     ]
    }
   ],
   "source": [
    "# 딕셔러니를 시리즈로 변환\n",
    "import pandas as pd\n",
    "\n",
    "dic_data={'a':1,'b':2,'c':3}\n",
    "sr = pd.Series(dic_data)\n",
    "print(sr,type(sr))"
   ]
  },
  {
   "cell_type": "code",
   "execution_count": 7,
   "id": "4cf0c1cb",
   "metadata": {},
   "outputs": [
    {
     "data": {
      "text/plain": [
       "a    2019-10-02\n",
       "b          3.14\n",
       "c           ABC\n",
       "d           100\n",
       "e          True\n",
       "dtype: object"
      ]
     },
     "execution_count": 7,
     "metadata": {},
     "output_type": "execute_result"
    }
   ],
   "source": [
    "#리스트를 시리즈로 변환\n",
    "list_data = ['2019-10-02',3.14,'ABC',100, True]\n",
    "sr = pd.Series(list_data, index = ['a','b','c','d','e'])\n",
    "sr"
   ]
  },
  {
   "cell_type": "code",
   "execution_count": 17,
   "id": "162a6fa3",
   "metadata": {},
   "outputs": [
    {
     "name": "stdout",
     "output_type": "stream",
     "text": [
      "Index(['a', 'b', 'c', 'd', 'e'], dtype='object') \n",
      "\n",
      "['2019-10-02' 3.14 'ABC' 100 True]\n"
     ]
    }
   ],
   "source": [
    "idx = sr.index\n",
    "print(idx,'\\n')\n",
    "val = sr.values\n",
    "print(val)"
   ]
  },
  {
   "cell_type": "code",
   "execution_count": 29,
   "id": "0969af49",
   "metadata": {},
   "outputs": [
    {
     "data": {
      "text/plain": [
       "이름              영인\n",
       "생년월일    2015-05-01\n",
       "성별               여\n",
       "학생여부          True\n",
       "dtype: object"
      ]
     },
     "execution_count": 29,
     "metadata": {},
     "output_type": "execute_result"
    }
   ],
   "source": [
    "# 튜플을 시리즈로 변환\n",
    "tup_data = ('영인','2015-05-01','여',True)\n",
    "sr= pd.Series(tup_data,index = ['이름','생년월일','성별','학생여부'])\n",
    "sr"
   ]
  },
  {
   "cell_type": "code",
   "execution_count": 57,
   "id": "03de4e03",
   "metadata": {},
   "outputs": [
    {
     "name": "stdout",
     "output_type": "stream",
     "text": [
      "영인\n",
      "영인 \n",
      "\n",
      "생년월일    2015-05-01\n",
      "성별               여\n",
      "dtype: object \n",
      "\n",
      "생년월일    2015-05-01\n",
      "성별               여\n",
      "학생여부          True\n",
      "dtype: object \n",
      "\n",
      "생년월일    2015-05-01\n",
      "학생여부          True\n",
      "dtype: object \n",
      "\n",
      "생년월일    2015-05-01\n",
      "성별               여\n",
      "dtype: object\n"
     ]
    }
   ],
   "source": [
    "print(sr[0])\n",
    "print(sr['이름'],'\\n')\n",
    "\n",
    "print(sr['생년월일':'성별'],'\\n')\n",
    "print(sr['생년월일':'학생여부'],'\\n')\n",
    "print(sr[[1,3]],'\\n')\n",
    "print(sr[1:3])"
   ]
  },
  {
   "cell_type": "code",
   "execution_count": 62,
   "id": "e6541091",
   "metadata": {},
   "outputs": [
    {
     "name": "stdout",
     "output_type": "stream",
     "text": [
      "[11 12 13 14 15] <class 'numpy.ndarray'> \n",
      "\n",
      "ED1    11\n",
      "ED2    12\n",
      "ED3    13\n",
      "ED4    14\n",
      "ED5    15\n",
      "dtype: int32 <class 'pandas.core.series.Series'> \n",
      "\n"
     ]
    }
   ],
   "source": [
    "#배열을 시리즈로 변환\n",
    "import numpy as np\n",
    "s1 = np.arange(start = 11, stop =16)\n",
    "s2 = pd.Series(s1,index = ['ED1','ED2','ED3','ED4','ED5'])\n",
    "print(s1,type(s1),'\\n')\n",
    "print(s2,type(s2),'\\n')"
   ]
  },
  {
   "cell_type": "code",
   "execution_count": 79,
   "id": "fd8f1544",
   "metadata": {},
   "outputs": [
    {
     "name": "stdout",
     "output_type": "stream",
     "text": [
      "ED2    12\n",
      "ED3    13\n",
      "dtype: int32 \n",
      "\n",
      "ED2    12\n",
      "ED3    13\n",
      "dtype: int32 \n",
      "\n",
      "ED2    12\n",
      "ED4    14\n",
      "dtype: int32 \n",
      "\n",
      "ED2    12\n",
      "ED4    14\n",
      "dtype: int32\n"
     ]
    }
   ],
   "source": [
    "print(s2[1:3],'\\n')\n",
    "print(s2['ED2':'ED3'],'\\n')\n",
    "print(s2[[1,3]],'\\n')\n",
    "print(s2[['ED2','ED4']])"
   ]
  },
  {
   "cell_type": "code",
   "execution_count": 82,
   "id": "57a09d6a",
   "metadata": {},
   "outputs": [
    {
     "name": "stdout",
     "output_type": "stream",
     "text": [
      "<class 'pandas.core.series.Series'>\n",
      "[11 12 13 14 15] <class 'numpy.ndarray'>\n"
     ]
    }
   ],
   "source": [
    "#시리즈 -> 배열\n",
    "print(type(s2))\n",
    "ar = np.array(s2)\n",
    "print(ar,type(ar))"
   ]
  },
  {
   "cell_type": "code",
   "execution_count": 109,
   "id": "45fd4205",
   "metadata": {},
   "outputs": [
    {
     "name": "stdout",
     "output_type": "stream",
     "text": [
      "a     ABC\n",
      "b     DEF\n",
      "c    True\n",
      "d     이현정\n",
      "e      25\n",
      "dtype: object \n",
      "\n",
      "a    abc\n",
      "b    def\n",
      "dtype: object \n",
      "\n",
      "ab    1\n",
      "bd    2\n",
      "dtype: int64 \n",
      "\n",
      "a    1\n",
      "b    2\n",
      "dtype: int32 \n",
      "\n"
     ]
    }
   ],
   "source": [
    "# Q. 4가지 자료형 데이터를 생성하고 각각 시리즈로 변환하여 출력하세요\n",
    "\n",
    "listdata=['ABC','DEF',True,'이현정',25]\n",
    "\n",
    "sr = pd.Series(listdata,index = ['a','b','c','d','e'])\n",
    "print(sr,'\\n')\n",
    "\n",
    "tupledata=('abc','def')\n",
    "sr = pd.Series(tupledata,index = ['a','b'])\n",
    "print(sr,'\\n')\n",
    "\n",
    "dicdata = {'ab':1,'bd':2}\n",
    "sr= pd.Series(dicdata)\n",
    "print(sr,'\\n')\n",
    "\n",
    "import numpy as np\n",
    "arr = np.arange(1,3)\n",
    "sr = pd.Series(arr,index= ['a','b'])\n",
    "print(sr,'\\n')"
   ]
  },
  {
   "cell_type": "code",
   "execution_count": 105,
   "id": "0a88780e",
   "metadata": {},
   "outputs": [
    {
     "name": "stdout",
     "output_type": "stream",
     "text": [
      "1번    2\n",
      "2번    3\n",
      "3번    4\n",
      "4번    5\n",
      "dtype: int64 \n",
      " 1번     True\n",
      "2번    False\n",
      "3번     True\n",
      "4번     True\n",
      "dtype: bool \n",
      " 김첨지    설렁탕\n",
      "점순이     감자\n",
      "나      아달린\n",
      "dtype: object \n",
      " 1번    살바도르\n",
      "2번     빈센트\n",
      "3번     파블로\n",
      "4번    램브란트\n",
      "dtype: object\n"
     ]
    }
   ],
   "source": [
    "lidata = [2,3,4,5]\n",
    "tudata = (True,False,True,True)\n",
    "dicdata = {'김첨지':'설렁탕','점순이':'감자','나':'아달린'}\n",
    "arrdata = np.array(['살바도르','빈센트','파블로','램브란트'])\n",
    "index = ['1번','2번','3번','4번']\n",
    "\n",
    "li = pd.Series(lidata,index)\n",
    "tu = pd.Series(tudata,index)\n",
    "dic = pd.Series(dicdata)\n",
    "arr = pd.Series(arrdata,index)\n",
    "\n",
    "print(li,'\\n',tu,'\\n',dic,'\\n',arr)\n"
   ]
  },
  {
   "cell_type": "code",
   "execution_count": 113,
   "id": "cd61bf36",
   "metadata": {},
   "outputs": [
    {
     "data": {
      "text/plain": [
       "state\n",
       "California    1000\n",
       "Ohio          2000\n",
       "Oregon        3000\n",
       "Texas         4000\n",
       "Name: population, dtype: int32"
      ]
     },
     "execution_count": 113,
     "metadata": {},
     "output_type": "execute_result"
    }
   ],
   "source": [
    "data = np.arange(1000,5000,1000)\n",
    "obj = pd.Series(data)\n",
    "state = ['California','Ohio','Oregon','Texas']\n",
    "obj.name= 'population'\n",
    "obj.index = state\n",
    "obj.index.name = 'state'\n",
    "obj"
   ]
  },
  {
   "cell_type": "code",
   "execution_count": 115,
   "id": "03a1f907",
   "metadata": {},
   "outputs": [
    {
     "data": {
      "text/plain": [
       "state\n",
       "California       NaN\n",
       "Ohio          2000.0\n",
       "Oregon        3000.0\n",
       "Texas         4000.0\n",
       "Name: population, dtype: float64"
      ]
     },
     "execution_count": 115,
     "metadata": {},
     "output_type": "execute_result"
    }
   ],
   "source": [
    "obj.California = np.nan\n",
    "obj"
   ]
  },
  {
   "cell_type": "code",
   "execution_count": 123,
   "id": "615f0c13",
   "metadata": {},
   "outputs": [
    {
     "data": {
      "text/plain": [
       "nan"
      ]
     },
     "execution_count": 123,
     "metadata": {},
     "output_type": "execute_result"
    }
   ],
   "source": [
    "obj['California']"
   ]
  },
  {
   "cell_type": "code",
   "execution_count": 118,
   "id": "4e08c7fb",
   "metadata": {},
   "outputs": [
    {
     "data": {
      "text/plain": [
       "1"
      ]
     },
     "execution_count": 118,
     "metadata": {},
     "output_type": "execute_result"
    }
   ],
   "source": [
    "#is null 널이 있느냐 있는 건 트류/ 거기다 sum까지 하면 튜르 갯수 세줌\n",
    "obj.isnull().sum()"
   ]
  },
  {
   "cell_type": "code",
   "execution_count": 134,
   "id": "4aa88e71",
   "metadata": {},
   "outputs": [
    {
     "data": {
      "text/plain": [
       "state\n",
       "California       NaN\n",
       "Ohio          2000.0\n",
       "Oregon        3000.0\n",
       "Texas         4000.0\n",
       "Newyork       3000.0\n",
       "Name: population, dtype: float64"
      ]
     },
     "execution_count": 134,
     "metadata": {},
     "output_type": "execute_result"
    }
   ],
   "source": [
    "#처음 만들 때는 대괄호 해줘야됨\n",
    "obj['Newyork'] = 3000\n",
    "obj"
   ]
  },
  {
   "cell_type": "markdown",
   "id": "c5a9dede",
   "metadata": {},
   "source": [
    "## 데이터프레임 \n",
    "- 데이터프레임은 2차원 배열. R의 데이터프레임에서 유래\n",
    "- 데이터프레임은 열은 각가 시리즈 개체\n",
    "- 시리즈를 열벡터하고 하면 데이터 프레임은 여러개의 열벡터들이 같은행 인덱스를\n",
    " 기준으로 줄지어 결합된 2차 벡터 또는 행렬\n",
    "- 선형대수학에서 열 벡터(mx1행렬)는 m원소들의 단일 열 행렬\n",
    "- 행 벡터(1*m 행렬)은 m원소들의 단일 행 행렬\n",
    "- 리스트, 딕셔너리,배열 등 다양한 데이터로부터 생성\n",
    "- 반대로 리스트, 딕셔너리, 배열 등으로 변환될 수 있다\n"
   ]
  },
  {
   "cell_type": "code",
   "execution_count": 145,
   "id": "dba4b5d8",
   "metadata": {},
   "outputs": [
    {
     "name": "stdout",
     "output_type": "stream",
     "text": [
      "[[103 104 116]\n",
      " [105 114 112]\n",
      " [103 107 118]] <class 'numpy.ndarray'> \n",
      "\n"
     ]
    },
    {
     "data": {
      "text/html": [
       "<div>\n",
       "<style scoped>\n",
       "    .dataframe tbody tr th:only-of-type {\n",
       "        vertical-align: middle;\n",
       "    }\n",
       "\n",
       "    .dataframe tbody tr th {\n",
       "        vertical-align: top;\n",
       "    }\n",
       "\n",
       "    .dataframe thead th {\n",
       "        text-align: right;\n",
       "    }\n",
       "</style>\n",
       "<table border=\"1\" class=\"dataframe\">\n",
       "  <thead>\n",
       "    <tr style=\"text-align: right;\">\n",
       "      <th></th>\n",
       "      <th>pd</th>\n",
       "      <th>sales</th>\n",
       "      <th>int</th>\n",
       "    </tr>\n",
       "  </thead>\n",
       "  <tbody>\n",
       "    <tr>\n",
       "      <th>d1</th>\n",
       "      <td>103</td>\n",
       "      <td>104</td>\n",
       "      <td>116</td>\n",
       "    </tr>\n",
       "    <tr>\n",
       "      <th>d2</th>\n",
       "      <td>105</td>\n",
       "      <td>114</td>\n",
       "      <td>112</td>\n",
       "    </tr>\n",
       "    <tr>\n",
       "      <th>d3</th>\n",
       "      <td>103</td>\n",
       "      <td>107</td>\n",
       "      <td>118</td>\n",
       "    </tr>\n",
       "  </tbody>\n",
       "</table>\n",
       "</div>"
      ],
      "text/plain": [
       "     pd  sales  int\n",
       "d1  103    104  116\n",
       "d2  105    114  112\n",
       "d3  103    107  118"
      ]
     },
     "execution_count": 145,
     "metadata": {},
     "output_type": "execute_result"
    }
   ],
   "source": [
    "#배열 -> 데이터프레임\n",
    "\n",
    "ar = np.random.randint(100,120,size =(3,3))\n",
    "print(ar,type(ar),'\\n')\n",
    "df = pd.DataFrame(ar,index = ['d1','d2','d3'],\n",
    "                  columns=['pd','sales','int'])\n",
    "\n",
    "df"
   ]
  },
  {
   "cell_type": "markdown",
   "id": "4a66cdb7",
   "metadata": {},
   "source": [
    "pandas indexing\n",
    "- iloc : integer localition의 약어, 데이터프레임의 행이나 칼럼의 순서를 나타내는\n",
    "    정수로 특정 값을 추출해오는 방법\n",
    "- loc : 인덱스명,칼럼명을 직접 적거나 특정조건식을 써줌으로써 사람이 읽기 좋은 방법으로 데이터에\n",
    "     접근하는 방법"
   ]
  },
  {
   "cell_type": "code",
   "execution_count": 158,
   "id": "ad7ac42a",
   "metadata": {},
   "outputs": [
    {
     "data": {
      "text/plain": [
       "pd       103\n",
       "sales    104\n",
       "int      116\n",
       "Name: d1, dtype: int32"
      ]
     },
     "execution_count": 158,
     "metadata": {},
     "output_type": "execute_result"
    }
   ],
   "source": [
    "#  행선택\n",
    "df.iloc[1,1]\n",
    "df.iloc[0]"
   ]
  },
  {
   "cell_type": "code",
   "execution_count": 169,
   "id": "46f252fe",
   "metadata": {},
   "outputs": [
    {
     "data": {
      "text/plain": [
       "pd       105\n",
       "sales    114\n",
       "int      112\n",
       "Name: d2, dtype: int32"
      ]
     },
     "execution_count": 169,
     "metadata": {},
     "output_type": "execute_result"
    }
   ],
   "source": [
    "df.loc['d2']"
   ]
  },
  {
   "cell_type": "code",
   "execution_count": 178,
   "id": "7c64c97f",
   "metadata": {},
   "outputs": [
    {
     "name": "stdout",
     "output_type": "stream",
     "text": [
      "114 \n",
      "\n",
      "114\n"
     ]
    }
   ],
   "source": [
    "#특정 행, 열 선택\n",
    "print(df.iloc[1,1],'\\n')\n",
    "print(df.loc['d2','sales'])\n"
   ]
  },
  {
   "cell_type": "code",
   "execution_count": 180,
   "id": "f8d54175",
   "metadata": {},
   "outputs": [
    {
     "data": {
      "text/html": [
       "<div>\n",
       "<style scoped>\n",
       "    .dataframe tbody tr th:only-of-type {\n",
       "        vertical-align: middle;\n",
       "    }\n",
       "\n",
       "    .dataframe tbody tr th {\n",
       "        vertical-align: top;\n",
       "    }\n",
       "\n",
       "    .dataframe thead th {\n",
       "        text-align: right;\n",
       "    }\n",
       "</style>\n",
       "<table border=\"1\" class=\"dataframe\">\n",
       "  <thead>\n",
       "    <tr style=\"text-align: right;\">\n",
       "      <th></th>\n",
       "      <th>pd</th>\n",
       "      <th>sales</th>\n",
       "      <th>int</th>\n",
       "    </tr>\n",
       "  </thead>\n",
       "  <tbody>\n",
       "    <tr>\n",
       "      <th>d1</th>\n",
       "      <td>103</td>\n",
       "      <td>104</td>\n",
       "      <td>116</td>\n",
       "    </tr>\n",
       "    <tr>\n",
       "      <th>d2</th>\n",
       "      <td>105</td>\n",
       "      <td>114</td>\n",
       "      <td>112</td>\n",
       "    </tr>\n",
       "    <tr>\n",
       "      <th>d3</th>\n",
       "      <td>103</td>\n",
       "      <td>107</td>\n",
       "      <td>118</td>\n",
       "    </tr>\n",
       "    <tr>\n",
       "      <th>d5</th>\n",
       "      <td>0</td>\n",
       "      <td>0</td>\n",
       "      <td>0</td>\n",
       "    </tr>\n",
       "  </tbody>\n",
       "</table>\n",
       "</div>"
      ],
      "text/plain": [
       "     pd  sales  int\n",
       "d1  103    104  116\n",
       "d2  105    114  112\n",
       "d3  103    107  118\n",
       "d5    0      0    0"
      ]
     },
     "execution_count": 180,
     "metadata": {},
     "output_type": "execute_result"
    }
   ],
   "source": [
    "#행 추가\n",
    "df1 = df.copy()\n",
    "df1.loc['d5']= 0\n",
    "df1\n"
   ]
  },
  {
   "cell_type": "code",
   "execution_count": 191,
   "id": "d6cfe05e",
   "metadata": {},
   "outputs": [
    {
     "data": {
      "text/html": [
       "<div>\n",
       "<style scoped>\n",
       "    .dataframe tbody tr th:only-of-type {\n",
       "        vertical-align: middle;\n",
       "    }\n",
       "\n",
       "    .dataframe tbody tr th {\n",
       "        vertical-align: top;\n",
       "    }\n",
       "\n",
       "    .dataframe thead th {\n",
       "        text-align: right;\n",
       "    }\n",
       "</style>\n",
       "<table border=\"1\" class=\"dataframe\">\n",
       "  <thead>\n",
       "    <tr style=\"text-align: right;\">\n",
       "      <th></th>\n",
       "      <th>pd</th>\n",
       "      <th>sales</th>\n",
       "      <th>int</th>\n",
       "      <th>pf</th>\n",
       "      <th>d6</th>\n",
       "    </tr>\n",
       "  </thead>\n",
       "  <tbody>\n",
       "    <tr>\n",
       "      <th>d1</th>\n",
       "      <td>103</td>\n",
       "      <td>104.0</td>\n",
       "      <td>116</td>\n",
       "      <td>100</td>\n",
       "      <td>0</td>\n",
       "    </tr>\n",
       "    <tr>\n",
       "      <th>d2</th>\n",
       "      <td>105</td>\n",
       "      <td>NaN</td>\n",
       "      <td>112</td>\n",
       "      <td>100</td>\n",
       "      <td>0</td>\n",
       "    </tr>\n",
       "    <tr>\n",
       "      <th>d3</th>\n",
       "      <td>103</td>\n",
       "      <td>107.0</td>\n",
       "      <td>118</td>\n",
       "      <td>100</td>\n",
       "      <td>0</td>\n",
       "    </tr>\n",
       "    <tr>\n",
       "      <th>d5</th>\n",
       "      <td>0</td>\n",
       "      <td>0.0</td>\n",
       "      <td>0</td>\n",
       "      <td>0</td>\n",
       "      <td>0</td>\n",
       "    </tr>\n",
       "  </tbody>\n",
       "</table>\n",
       "</div>"
      ],
      "text/plain": [
       "     pd  sales  int   pf  d6\n",
       "d1  103  104.0  116  100   0\n",
       "d2  105    NaN  112  100   0\n",
       "d3  103  107.0  118  100   0\n",
       "d5    0    0.0    0    0   0"
      ]
     },
     "execution_count": 191,
     "metadata": {},
     "output_type": "execute_result"
    }
   ],
   "source": [
    "#열 추가\n",
    "df1['pf']=[100,100,100,0]\n",
    "df1"
   ]
  },
  {
   "cell_type": "code",
   "execution_count": 200,
   "id": "201d3f43",
   "metadata": {
    "collapsed": true
   },
   "outputs": [
    {
     "ename": "KeyError",
     "evalue": "\"['d6'] not found in axis\"",
     "output_type": "error",
     "traceback": [
      "\u001b[1;31m---------------------------------------------------------------------------\u001b[0m",
      "\u001b[1;31mKeyError\u001b[0m                                  Traceback (most recent call last)",
      "\u001b[1;32m~\\AppData\\Local\\Temp/ipykernel_8144/1990694076.py\u001b[0m in \u001b[0;36m<module>\u001b[1;34m\u001b[0m\n\u001b[1;32m----> 1\u001b[1;33m \u001b[0mdf1\u001b[0m\u001b[1;33m.\u001b[0m\u001b[0mdrop\u001b[0m\u001b[1;33m(\u001b[0m\u001b[1;34m'd6'\u001b[0m\u001b[1;33m,\u001b[0m\u001b[0maxis\u001b[0m\u001b[1;33m=\u001b[0m\u001b[1;36m1\u001b[0m\u001b[1;33m,\u001b[0m\u001b[0minplace\u001b[0m \u001b[1;33m=\u001b[0m\u001b[1;32mTrue\u001b[0m\u001b[1;33m)\u001b[0m\u001b[1;33m\u001b[0m\u001b[1;33m\u001b[0m\u001b[0m\n\u001b[0m\u001b[0;32m      2\u001b[0m \u001b[0mdf1\u001b[0m\u001b[1;33m\u001b[0m\u001b[1;33m\u001b[0m\u001b[0m\n",
      "\u001b[1;32m~\\Anaconda3\\envs\\cakd5\\lib\\site-packages\\pandas\\util\\_decorators.py\u001b[0m in \u001b[0;36mwrapper\u001b[1;34m(*args, **kwargs)\u001b[0m\n\u001b[0;32m    309\u001b[0m                     \u001b[0mstacklevel\u001b[0m\u001b[1;33m=\u001b[0m\u001b[0mstacklevel\u001b[0m\u001b[1;33m,\u001b[0m\u001b[1;33m\u001b[0m\u001b[1;33m\u001b[0m\u001b[0m\n\u001b[0;32m    310\u001b[0m                 )\n\u001b[1;32m--> 311\u001b[1;33m             \u001b[1;32mreturn\u001b[0m \u001b[0mfunc\u001b[0m\u001b[1;33m(\u001b[0m\u001b[1;33m*\u001b[0m\u001b[0margs\u001b[0m\u001b[1;33m,\u001b[0m \u001b[1;33m**\u001b[0m\u001b[0mkwargs\u001b[0m\u001b[1;33m)\u001b[0m\u001b[1;33m\u001b[0m\u001b[1;33m\u001b[0m\u001b[0m\n\u001b[0m\u001b[0;32m    312\u001b[0m \u001b[1;33m\u001b[0m\u001b[0m\n\u001b[0;32m    313\u001b[0m         \u001b[1;32mreturn\u001b[0m \u001b[0mwrapper\u001b[0m\u001b[1;33m\u001b[0m\u001b[1;33m\u001b[0m\u001b[0m\n",
      "\u001b[1;32m~\\Anaconda3\\envs\\cakd5\\lib\\site-packages\\pandas\\core\\frame.py\u001b[0m in \u001b[0;36mdrop\u001b[1;34m(self, labels, axis, index, columns, level, inplace, errors)\u001b[0m\n\u001b[0;32m   4911\u001b[0m             \u001b[0mlevel\u001b[0m\u001b[1;33m=\u001b[0m\u001b[0mlevel\u001b[0m\u001b[1;33m,\u001b[0m\u001b[1;33m\u001b[0m\u001b[1;33m\u001b[0m\u001b[0m\n\u001b[0;32m   4912\u001b[0m             \u001b[0minplace\u001b[0m\u001b[1;33m=\u001b[0m\u001b[0minplace\u001b[0m\u001b[1;33m,\u001b[0m\u001b[1;33m\u001b[0m\u001b[1;33m\u001b[0m\u001b[0m\n\u001b[1;32m-> 4913\u001b[1;33m             \u001b[0merrors\u001b[0m\u001b[1;33m=\u001b[0m\u001b[0merrors\u001b[0m\u001b[1;33m,\u001b[0m\u001b[1;33m\u001b[0m\u001b[1;33m\u001b[0m\u001b[0m\n\u001b[0m\u001b[0;32m   4914\u001b[0m         )\n\u001b[0;32m   4915\u001b[0m \u001b[1;33m\u001b[0m\u001b[0m\n",
      "\u001b[1;32m~\\Anaconda3\\envs\\cakd5\\lib\\site-packages\\pandas\\core\\generic.py\u001b[0m in \u001b[0;36mdrop\u001b[1;34m(self, labels, axis, index, columns, level, inplace, errors)\u001b[0m\n\u001b[0;32m   4148\u001b[0m         \u001b[1;32mfor\u001b[0m \u001b[0maxis\u001b[0m\u001b[1;33m,\u001b[0m \u001b[0mlabels\u001b[0m \u001b[1;32min\u001b[0m \u001b[0maxes\u001b[0m\u001b[1;33m.\u001b[0m\u001b[0mitems\u001b[0m\u001b[1;33m(\u001b[0m\u001b[1;33m)\u001b[0m\u001b[1;33m:\u001b[0m\u001b[1;33m\u001b[0m\u001b[1;33m\u001b[0m\u001b[0m\n\u001b[0;32m   4149\u001b[0m             \u001b[1;32mif\u001b[0m \u001b[0mlabels\u001b[0m \u001b[1;32mis\u001b[0m \u001b[1;32mnot\u001b[0m \u001b[1;32mNone\u001b[0m\u001b[1;33m:\u001b[0m\u001b[1;33m\u001b[0m\u001b[1;33m\u001b[0m\u001b[0m\n\u001b[1;32m-> 4150\u001b[1;33m                 \u001b[0mobj\u001b[0m \u001b[1;33m=\u001b[0m \u001b[0mobj\u001b[0m\u001b[1;33m.\u001b[0m\u001b[0m_drop_axis\u001b[0m\u001b[1;33m(\u001b[0m\u001b[0mlabels\u001b[0m\u001b[1;33m,\u001b[0m \u001b[0maxis\u001b[0m\u001b[1;33m,\u001b[0m \u001b[0mlevel\u001b[0m\u001b[1;33m=\u001b[0m\u001b[0mlevel\u001b[0m\u001b[1;33m,\u001b[0m \u001b[0merrors\u001b[0m\u001b[1;33m=\u001b[0m\u001b[0merrors\u001b[0m\u001b[1;33m)\u001b[0m\u001b[1;33m\u001b[0m\u001b[1;33m\u001b[0m\u001b[0m\n\u001b[0m\u001b[0;32m   4151\u001b[0m \u001b[1;33m\u001b[0m\u001b[0m\n\u001b[0;32m   4152\u001b[0m         \u001b[1;32mif\u001b[0m \u001b[0minplace\u001b[0m\u001b[1;33m:\u001b[0m\u001b[1;33m\u001b[0m\u001b[1;33m\u001b[0m\u001b[0m\n",
      "\u001b[1;32m~\\Anaconda3\\envs\\cakd5\\lib\\site-packages\\pandas\\core\\generic.py\u001b[0m in \u001b[0;36m_drop_axis\u001b[1;34m(self, labels, axis, level, errors)\u001b[0m\n\u001b[0;32m   4183\u001b[0m                 \u001b[0mnew_axis\u001b[0m \u001b[1;33m=\u001b[0m \u001b[0maxis\u001b[0m\u001b[1;33m.\u001b[0m\u001b[0mdrop\u001b[0m\u001b[1;33m(\u001b[0m\u001b[0mlabels\u001b[0m\u001b[1;33m,\u001b[0m \u001b[0mlevel\u001b[0m\u001b[1;33m=\u001b[0m\u001b[0mlevel\u001b[0m\u001b[1;33m,\u001b[0m \u001b[0merrors\u001b[0m\u001b[1;33m=\u001b[0m\u001b[0merrors\u001b[0m\u001b[1;33m)\u001b[0m\u001b[1;33m\u001b[0m\u001b[1;33m\u001b[0m\u001b[0m\n\u001b[0;32m   4184\u001b[0m             \u001b[1;32melse\u001b[0m\u001b[1;33m:\u001b[0m\u001b[1;33m\u001b[0m\u001b[1;33m\u001b[0m\u001b[0m\n\u001b[1;32m-> 4185\u001b[1;33m                 \u001b[0mnew_axis\u001b[0m \u001b[1;33m=\u001b[0m \u001b[0maxis\u001b[0m\u001b[1;33m.\u001b[0m\u001b[0mdrop\u001b[0m\u001b[1;33m(\u001b[0m\u001b[0mlabels\u001b[0m\u001b[1;33m,\u001b[0m \u001b[0merrors\u001b[0m\u001b[1;33m=\u001b[0m\u001b[0merrors\u001b[0m\u001b[1;33m)\u001b[0m\u001b[1;33m\u001b[0m\u001b[1;33m\u001b[0m\u001b[0m\n\u001b[0m\u001b[0;32m   4186\u001b[0m             \u001b[0mresult\u001b[0m \u001b[1;33m=\u001b[0m \u001b[0mself\u001b[0m\u001b[1;33m.\u001b[0m\u001b[0mreindex\u001b[0m\u001b[1;33m(\u001b[0m\u001b[1;33m**\u001b[0m\u001b[1;33m{\u001b[0m\u001b[0maxis_name\u001b[0m\u001b[1;33m:\u001b[0m \u001b[0mnew_axis\u001b[0m\u001b[1;33m}\u001b[0m\u001b[1;33m)\u001b[0m\u001b[1;33m\u001b[0m\u001b[1;33m\u001b[0m\u001b[0m\n\u001b[0;32m   4187\u001b[0m \u001b[1;33m\u001b[0m\u001b[0m\n",
      "\u001b[1;32m~\\Anaconda3\\envs\\cakd5\\lib\\site-packages\\pandas\\core\\indexes\\base.py\u001b[0m in \u001b[0;36mdrop\u001b[1;34m(self, labels, errors)\u001b[0m\n\u001b[0;32m   6015\u001b[0m         \u001b[1;32mif\u001b[0m \u001b[0mmask\u001b[0m\u001b[1;33m.\u001b[0m\u001b[0many\u001b[0m\u001b[1;33m(\u001b[0m\u001b[1;33m)\u001b[0m\u001b[1;33m:\u001b[0m\u001b[1;33m\u001b[0m\u001b[1;33m\u001b[0m\u001b[0m\n\u001b[0;32m   6016\u001b[0m             \u001b[1;32mif\u001b[0m \u001b[0merrors\u001b[0m \u001b[1;33m!=\u001b[0m \u001b[1;34m\"ignore\"\u001b[0m\u001b[1;33m:\u001b[0m\u001b[1;33m\u001b[0m\u001b[1;33m\u001b[0m\u001b[0m\n\u001b[1;32m-> 6017\u001b[1;33m                 \u001b[1;32mraise\u001b[0m \u001b[0mKeyError\u001b[0m\u001b[1;33m(\u001b[0m\u001b[1;34mf\"{labels[mask]} not found in axis\"\u001b[0m\u001b[1;33m)\u001b[0m\u001b[1;33m\u001b[0m\u001b[1;33m\u001b[0m\u001b[0m\n\u001b[0m\u001b[0;32m   6018\u001b[0m             \u001b[0mindexer\u001b[0m \u001b[1;33m=\u001b[0m \u001b[0mindexer\u001b[0m\u001b[1;33m[\u001b[0m\u001b[1;33m~\u001b[0m\u001b[0mmask\u001b[0m\u001b[1;33m]\u001b[0m\u001b[1;33m\u001b[0m\u001b[1;33m\u001b[0m\u001b[0m\n\u001b[0;32m   6019\u001b[0m         \u001b[1;32mreturn\u001b[0m \u001b[0mself\u001b[0m\u001b[1;33m.\u001b[0m\u001b[0mdelete\u001b[0m\u001b[1;33m(\u001b[0m\u001b[0mindexer\u001b[0m\u001b[1;33m)\u001b[0m\u001b[1;33m\u001b[0m\u001b[1;33m\u001b[0m\u001b[0m\n",
      "\u001b[1;31mKeyError\u001b[0m: \"['d6'] not found in axis\""
     ]
    }
   ],
   "source": [
    "#이미 지워서 안뜨는데 열 삭제할 땐 axis=1 반드시 줘야됨, 행은 기본값\n",
    "df1.drop('d6',axis=1,inplace =True)\n",
    "df1"
   ]
  },
  {
   "cell_type": "code",
   "execution_count": 184,
   "id": "17b82846",
   "metadata": {},
   "outputs": [
    {
     "data": {
      "text/html": [
       "<div>\n",
       "<style scoped>\n",
       "    .dataframe tbody tr th:only-of-type {\n",
       "        vertical-align: middle;\n",
       "    }\n",
       "\n",
       "    .dataframe tbody tr th {\n",
       "        vertical-align: top;\n",
       "    }\n",
       "\n",
       "    .dataframe thead th {\n",
       "        text-align: right;\n",
       "    }\n",
       "</style>\n",
       "<table border=\"1\" class=\"dataframe\">\n",
       "  <thead>\n",
       "    <tr style=\"text-align: right;\">\n",
       "      <th></th>\n",
       "      <th>pd</th>\n",
       "      <th>sales</th>\n",
       "      <th>int</th>\n",
       "    </tr>\n",
       "  </thead>\n",
       "  <tbody>\n",
       "    <tr>\n",
       "      <th>d1</th>\n",
       "      <td>103</td>\n",
       "      <td>104.0</td>\n",
       "      <td>116</td>\n",
       "    </tr>\n",
       "    <tr>\n",
       "      <th>d2</th>\n",
       "      <td>105</td>\n",
       "      <td>NaN</td>\n",
       "      <td>112</td>\n",
       "    </tr>\n",
       "    <tr>\n",
       "      <th>d3</th>\n",
       "      <td>103</td>\n",
       "      <td>107.0</td>\n",
       "      <td>118</td>\n",
       "    </tr>\n",
       "    <tr>\n",
       "      <th>d5</th>\n",
       "      <td>0</td>\n",
       "      <td>0.0</td>\n",
       "      <td>0</td>\n",
       "    </tr>\n",
       "  </tbody>\n",
       "</table>\n",
       "</div>"
      ],
      "text/plain": [
       "     pd  sales  int\n",
       "d1  103  104.0  116\n",
       "d2  105    NaN  112\n",
       "d3  103  107.0  118\n",
       "d5    0    0.0    0"
      ]
     },
     "execution_count": 184,
     "metadata": {},
     "output_type": "execute_result"
    }
   ],
   "source": [
    "#원소 값 변경\n",
    "\n",
    "df1.iloc[1,1]=np.nan\n",
    "df1"
   ]
  },
  {
   "cell_type": "code",
   "execution_count": null,
   "id": "493690ba",
   "metadata": {},
   "outputs": [],
   "source": []
  },
  {
   "cell_type": "code",
   "execution_count": 213,
   "id": "8dc3a41a",
   "metadata": {},
   "outputs": [
    {
     "data": {
      "text/html": [
       "<div>\n",
       "<style scoped>\n",
       "    .dataframe tbody tr th:only-of-type {\n",
       "        vertical-align: middle;\n",
       "    }\n",
       "\n",
       "    .dataframe tbody tr th {\n",
       "        vertical-align: top;\n",
       "    }\n",
       "\n",
       "    .dataframe thead th {\n",
       "        text-align: right;\n",
       "    }\n",
       "</style>\n",
       "<table border=\"1\" class=\"dataframe\">\n",
       "  <thead>\n",
       "    <tr style=\"text-align: right;\">\n",
       "      <th></th>\n",
       "      <th>col1</th>\n",
       "      <th>col2</th>\n",
       "      <th>col3</th>\n",
       "    </tr>\n",
       "  </thead>\n",
       "  <tbody>\n",
       "    <tr>\n",
       "      <th>0</th>\n",
       "      <td>1</td>\n",
       "      <td>2</td>\n",
       "      <td>A</td>\n",
       "    </tr>\n",
       "    <tr>\n",
       "      <th>1</th>\n",
       "      <td>2</td>\n",
       "      <td>4</td>\n",
       "      <td>B</td>\n",
       "    </tr>\n",
       "    <tr>\n",
       "      <th>2</th>\n",
       "      <td>3</td>\n",
       "      <td>6</td>\n",
       "      <td>C</td>\n",
       "    </tr>\n",
       "    <tr>\n",
       "      <th>3</th>\n",
       "      <td>4</td>\n",
       "      <td>8</td>\n",
       "      <td>D</td>\n",
       "    </tr>\n",
       "    <tr>\n",
       "      <th>4</th>\n",
       "      <td>5</td>\n",
       "      <td>10</td>\n",
       "      <td>E</td>\n",
       "    </tr>\n",
       "  </tbody>\n",
       "</table>\n",
       "</div>"
      ],
      "text/plain": [
       "   col1  col2 col3\n",
       "0     1     2    A\n",
       "1     2     4    B\n",
       "2     3     6    C\n",
       "3     4     8    D\n",
       "4     5    10    E"
      ]
     },
     "execution_count": 213,
     "metadata": {},
     "output_type": "execute_result"
    }
   ],
   "source": [
    "#사전 - > 데이터프레임\n",
    "sp1 = np.arange(1,6)\n",
    "df = pd.DataFrame({\n",
    "    'col1': sp1,\n",
    "    'col2': sp1 *2,\n",
    "    'col3':['A','B','C','D','E']\n",
    "    \n",
    "})\n",
    "df"
   ]
  },
  {
   "cell_type": "code",
   "execution_count": 222,
   "id": "824e3fd2",
   "metadata": {},
   "outputs": [
    {
     "data": {
      "text/html": [
       "<div>\n",
       "<style scoped>\n",
       "    .dataframe tbody tr th:only-of-type {\n",
       "        vertical-align: middle;\n",
       "    }\n",
       "\n",
       "    .dataframe tbody tr th {\n",
       "        vertical-align: top;\n",
       "    }\n",
       "\n",
       "    .dataframe thead th {\n",
       "        text-align: right;\n",
       "    }\n",
       "</style>\n",
       "<table border=\"1\" class=\"dataframe\">\n",
       "  <thead>\n",
       "    <tr style=\"text-align: right;\">\n",
       "      <th></th>\n",
       "      <th>c1</th>\n",
       "      <th>c2</th>\n",
       "      <th>c3</th>\n",
       "      <th>c4</th>\n",
       "      <th>c5</th>\n",
       "    </tr>\n",
       "  </thead>\n",
       "  <tbody>\n",
       "    <tr>\n",
       "      <th>1</th>\n",
       "      <td>3</td>\n",
       "      <td>2</td>\n",
       "      <td>1</td>\n",
       "      <td>1</td>\n",
       "      <td>3</td>\n",
       "    </tr>\n",
       "    <tr>\n",
       "      <th>2</th>\n",
       "      <td>1</td>\n",
       "      <td>4</td>\n",
       "      <td>3</td>\n",
       "      <td>3</td>\n",
       "      <td>4</td>\n",
       "    </tr>\n",
       "    <tr>\n",
       "      <th>3</th>\n",
       "      <td>2</td>\n",
       "      <td>4</td>\n",
       "      <td>2</td>\n",
       "      <td>1</td>\n",
       "      <td>1</td>\n",
       "    </tr>\n",
       "    <tr>\n",
       "      <th>4</th>\n",
       "      <td>4</td>\n",
       "      <td>4</td>\n",
       "      <td>4</td>\n",
       "      <td>2</td>\n",
       "      <td>1</td>\n",
       "    </tr>\n",
       "    <tr>\n",
       "      <th>5</th>\n",
       "      <td>4</td>\n",
       "      <td>4</td>\n",
       "      <td>4</td>\n",
       "      <td>1</td>\n",
       "      <td>1</td>\n",
       "    </tr>\n",
       "    <tr>\n",
       "      <th>6</th>\n",
       "      <td>3</td>\n",
       "      <td>3</td>\n",
       "      <td>4</td>\n",
       "      <td>4</td>\n",
       "      <td>2</td>\n",
       "    </tr>\n",
       "    <tr>\n",
       "      <th>7</th>\n",
       "      <td>4</td>\n",
       "      <td>3</td>\n",
       "      <td>4</td>\n",
       "      <td>3</td>\n",
       "      <td>3</td>\n",
       "    </tr>\n",
       "    <tr>\n",
       "      <th>8</th>\n",
       "      <td>1</td>\n",
       "      <td>4</td>\n",
       "      <td>4</td>\n",
       "      <td>3</td>\n",
       "      <td>2</td>\n",
       "    </tr>\n",
       "    <tr>\n",
       "      <th>9</th>\n",
       "      <td>3</td>\n",
       "      <td>1</td>\n",
       "      <td>1</td>\n",
       "      <td>1</td>\n",
       "      <td>1</td>\n",
       "    </tr>\n",
       "    <tr>\n",
       "      <th>10</th>\n",
       "      <td>2</td>\n",
       "      <td>3</td>\n",
       "      <td>3</td>\n",
       "      <td>4</td>\n",
       "      <td>4</td>\n",
       "    </tr>\n",
       "  </tbody>\n",
       "</table>\n",
       "</div>"
      ],
      "text/plain": [
       "    c1  c2  c3  c4  c5\n",
       "1    3   2   1   1   3\n",
       "2    1   4   3   3   4\n",
       "3    2   4   2   1   1\n",
       "4    4   4   4   2   1\n",
       "5    4   4   4   1   1\n",
       "6    3   3   4   4   2\n",
       "7    4   3   4   3   3\n",
       "8    1   4   4   3   2\n",
       "9    3   1   1   1   1\n",
       "10   2   3   3   4   4"
      ]
     },
     "execution_count": 222,
     "metadata": {},
     "output_type": "execute_result"
    }
   ],
   "source": [
    "#리스트 -> 데이터 프레임\n",
    "a = np.random.randint(1,5, size = (10,5))\n",
    "list1 = a.tolist()\n",
    "list1\n",
    "df=pd.DataFrame (list1, index, columns=['c1','c2','c3','c4','c5'])\n",
    "df"
   ]
  },
  {
   "cell_type": "code",
   "execution_count": 188,
   "id": "66ea05e4",
   "metadata": {},
   "outputs": [
    {
     "name": "stdout",
     "output_type": "stream",
     "text": [
      "    나이 성별   학교\n",
      "준서  14  남  엄경중\n",
      "예은  18  여  복덩중\n",
      "Index(['준서', '예은'], dtype='object')\n"
     ]
    },
    {
     "data": {
      "text/html": [
       "<div>\n",
       "<style scoped>\n",
       "    .dataframe tbody tr th:only-of-type {\n",
       "        vertical-align: middle;\n",
       "    }\n",
       "\n",
       "    .dataframe tbody tr th {\n",
       "        vertical-align: top;\n",
       "    }\n",
       "\n",
       "    .dataframe thead th {\n",
       "        text-align: right;\n",
       "    }\n",
       "</style>\n",
       "<table border=\"1\" class=\"dataframe\">\n",
       "  <thead>\n",
       "    <tr style=\"text-align: right;\">\n",
       "      <th></th>\n",
       "      <th>연령</th>\n",
       "      <th>남녀</th>\n",
       "      <th>소속</th>\n",
       "    </tr>\n",
       "  </thead>\n",
       "  <tbody>\n",
       "    <tr>\n",
       "      <th>학생1</th>\n",
       "      <td>14</td>\n",
       "      <td>남</td>\n",
       "      <td>엄경중</td>\n",
       "    </tr>\n",
       "    <tr>\n",
       "      <th>학생2</th>\n",
       "      <td>18</td>\n",
       "      <td>여</td>\n",
       "      <td>복덩중</td>\n",
       "    </tr>\n",
       "  </tbody>\n",
       "</table>\n",
       "</div>"
      ],
      "text/plain": [
       "     연령 남녀   소속\n",
       "학생1  14  남  엄경중\n",
       "학생2  18  여  복덩중"
      ]
     },
     "execution_count": 188,
     "metadata": {},
     "output_type": "execute_result"
    }
   ],
   "source": [
    "df = pd.DataFrame([[14,'남','엄경중'],[18,'여','복덩중']],\n",
    "                 index = ['준서','예은'],\n",
    "                 columns =['나이','성별','학교'])\n",
    "\n",
    "print(df)\n",
    "print(df.index)\n",
    "df.index = ['학생1','학생2']\n",
    "df.rename(columns={'나이':'연령','성별':'남녀','학교':'소속'},inplace=True)\n",
    "df"
   ]
  },
  {
   "cell_type": "code",
   "execution_count": 229,
   "id": "9d79b5d6",
   "metadata": {},
   "outputs": [
    {
     "name": "stdout",
     "output_type": "stream",
     "text": [
      "[[3 2 1 1 3]\n",
      " [1 4 3 3 4]\n",
      " [2 4 2 1 1]\n",
      " [4 4 4 2 1]\n",
      " [4 4 4 1 1]\n",
      " [3 3 4 4 2]\n",
      " [4 3 4 3 3]\n",
      " [1 4 4 3 2]\n",
      " [3 1 1 1 1]\n",
      " [2 3 3 4 4]] <class 'numpy.ndarray'> \n",
      "\n",
      "[[3, 2, 1, 1, 3], [1, 4, 3, 3, 4], [2, 4, 2, 1, 1], [4, 4, 4, 2, 1], [4, 4, 4, 1, 1], [3, 3, 4, 4, 2], [4, 3, 4, 3, 3], [1, 4, 4, 3, 2], [3, 1, 1, 1, 1], [2, 3, 3, 4, 4]] <class 'list'> \n",
      "\n",
      "{'c1': [3, 1, 2, 4, 4, 3, 4, 1, 3, 2], 'c2': [2, 4, 4, 4, 4, 3, 3, 4, 1, 3], 'c3': [1, 3, 2, 4, 4, 4, 4, 4, 1, 3], 'c4': [1, 3, 1, 2, 1, 4, 3, 3, 1, 4], 'c5': [3, 4, 1, 1, 1, 2, 3, 2, 1, 4]}\n"
     ]
    }
   ],
   "source": [
    "# 데이터프레임-> 배열, 리스트, 딕셔너리 \n",
    "ar = df.values \n",
    "print(ar,type(ar),'\\n')\n",
    "li = df.values.tolist()\n",
    "print(li,type(li),'\\n')\n",
    "dict = df.to_dict('list')\n",
    "print(dict)"
   ]
  },
  {
   "cell_type": "code",
   "execution_count": null,
   "id": "fe48111f",
   "metadata": {},
   "outputs": [],
   "source": [
    "#Q. 배열, 리스트 딕셔너리로 데이터프레임을 생성한 후 다시 배열, 리스트,\n",
    "#딕셔너리로 변환하여 출력하세요"
   ]
  },
  {
   "cell_type": "code",
   "execution_count": 247,
   "id": "62d8c9e1",
   "metadata": {},
   "outputs": [
    {
     "name": "stdout",
     "output_type": "stream",
     "text": [
      "[[3 2 1 1 3]\n",
      " [1 4 3 3 4]\n",
      " [2 4 2 1 1]\n",
      " [4 4 4 2 1]\n",
      " [4 4 4 1 1]\n",
      " [3 3 4 4 2]\n",
      " [4 3 4 3 3]\n",
      " [1 4 4 3 2]\n",
      " [3 1 1 1 1]\n",
      " [2 3 3 4 4]]\n"
     ]
    }
   ],
   "source": [
    "arr = np.random.randint(1,6,size=(4,5))\n",
    "index = np.arange(1,5)\n",
    "sr = pd.DataFrame(arr, index, columns= ['a','b','c','d','e'] )\n",
    "sr\n",
    "\n",
    "arr=df.values\n",
    "print(arr)\n"
   ]
  },
  {
   "cell_type": "code",
   "execution_count": 299,
   "id": "5c3caf23",
   "metadata": {},
   "outputs": [
    {
     "data": {
      "text/html": [
       "<div>\n",
       "<style scoped>\n",
       "    .dataframe tbody tr th:only-of-type {\n",
       "        vertical-align: middle;\n",
       "    }\n",
       "\n",
       "    .dataframe tbody tr th {\n",
       "        vertical-align: top;\n",
       "    }\n",
       "\n",
       "    .dataframe thead th {\n",
       "        text-align: right;\n",
       "    }\n",
       "</style>\n",
       "<table border=\"1\" class=\"dataframe\">\n",
       "  <thead>\n",
       "    <tr style=\"text-align: right;\">\n",
       "      <th></th>\n",
       "      <th>c1</th>\n",
       "      <th>c2</th>\n",
       "      <th>c3</th>\n",
       "      <th>c4</th>\n",
       "      <th>c5</th>\n",
       "    </tr>\n",
       "  </thead>\n",
       "  <tbody>\n",
       "    <tr>\n",
       "      <th>1</th>\n",
       "      <td>3</td>\n",
       "      <td>2</td>\n",
       "      <td>2</td>\n",
       "      <td>1</td>\n",
       "      <td>2</td>\n",
       "    </tr>\n",
       "    <tr>\n",
       "      <th>2</th>\n",
       "      <td>4</td>\n",
       "      <td>2</td>\n",
       "      <td>3</td>\n",
       "      <td>2</td>\n",
       "      <td>3</td>\n",
       "    </tr>\n",
       "    <tr>\n",
       "      <th>3</th>\n",
       "      <td>2</td>\n",
       "      <td>1</td>\n",
       "      <td>3</td>\n",
       "      <td>2</td>\n",
       "      <td>1</td>\n",
       "    </tr>\n",
       "    <tr>\n",
       "      <th>4</th>\n",
       "      <td>2</td>\n",
       "      <td>1</td>\n",
       "      <td>4</td>\n",
       "      <td>2</td>\n",
       "      <td>4</td>\n",
       "    </tr>\n",
       "    <tr>\n",
       "      <th>5</th>\n",
       "      <td>4</td>\n",
       "      <td>4</td>\n",
       "      <td>4</td>\n",
       "      <td>1</td>\n",
       "      <td>4</td>\n",
       "    </tr>\n",
       "    <tr>\n",
       "      <th>6</th>\n",
       "      <td>3</td>\n",
       "      <td>3</td>\n",
       "      <td>2</td>\n",
       "      <td>1</td>\n",
       "      <td>2</td>\n",
       "    </tr>\n",
       "    <tr>\n",
       "      <th>7</th>\n",
       "      <td>4</td>\n",
       "      <td>3</td>\n",
       "      <td>4</td>\n",
       "      <td>2</td>\n",
       "      <td>4</td>\n",
       "    </tr>\n",
       "    <tr>\n",
       "      <th>8</th>\n",
       "      <td>2</td>\n",
       "      <td>2</td>\n",
       "      <td>4</td>\n",
       "      <td>4</td>\n",
       "      <td>1</td>\n",
       "    </tr>\n",
       "    <tr>\n",
       "      <th>9</th>\n",
       "      <td>2</td>\n",
       "      <td>1</td>\n",
       "      <td>1</td>\n",
       "      <td>1</td>\n",
       "      <td>2</td>\n",
       "    </tr>\n",
       "    <tr>\n",
       "      <th>10</th>\n",
       "      <td>4</td>\n",
       "      <td>1</td>\n",
       "      <td>4</td>\n",
       "      <td>4</td>\n",
       "      <td>1</td>\n",
       "    </tr>\n",
       "  </tbody>\n",
       "</table>\n",
       "</div>"
      ],
      "text/plain": [
       "    c1  c2  c3  c4  c5\n",
       "1    3   2   2   1   2\n",
       "2    4   2   3   2   3\n",
       "3    2   1   3   2   1\n",
       "4    2   1   4   2   4\n",
       "5    4   4   4   1   4\n",
       "6    3   3   2   1   2\n",
       "7    4   3   4   2   4\n",
       "8    2   2   4   4   1\n",
       "9    2   1   1   1   2\n",
       "10   4   1   4   4   1"
      ]
     },
     "execution_count": 299,
     "metadata": {},
     "output_type": "execute_result"
    }
   ],
   "source": [
    "#리스트 -> 데이터 프레임\n",
    "a = np.random.randint(1,5, size = (10,5))\n",
    "list1 = a.tolist()\n",
    "list1\n",
    "index = np.arange(1,11)\n",
    "df=pd.DataFrame (list1, index, columns=['c1','c2','c3','c4','c5'])\n",
    "df"
   ]
  },
  {
   "cell_type": "code",
   "execution_count": 276,
   "id": "0a97075f",
   "metadata": {},
   "outputs": [
    {
     "data": {
      "text/plain": [
       "[['abc'], ['bd'], ['cd'], ['ed'], ['fe']]"
      ]
     },
     "execution_count": 276,
     "metadata": {},
     "output_type": "execute_result"
    }
   ],
   "source": [
    "lst = ['abc','bd','cd','ed','fe']\n",
    "\n",
    "index = np.arange(1,6)\n",
    "df = pd.DataFrame(lst,index,columns = ['ahpa'])\n",
    "df\n",
    "\n",
    "lst=df.values.tolist()\n",
    "lst"
   ]
  },
  {
   "cell_type": "code",
   "execution_count": 298,
   "id": "6adf1bf3",
   "metadata": {},
   "outputs": [
    {
     "data": {
      "text/html": [
       "<div>\n",
       "<style scoped>\n",
       "    .dataframe tbody tr th:only-of-type {\n",
       "        vertical-align: middle;\n",
       "    }\n",
       "\n",
       "    .dataframe tbody tr th {\n",
       "        vertical-align: top;\n",
       "    }\n",
       "\n",
       "    .dataframe thead th {\n",
       "        text-align: right;\n",
       "    }\n",
       "</style>\n",
       "<table border=\"1\" class=\"dataframe\">\n",
       "  <thead>\n",
       "    <tr style=\"text-align: right;\">\n",
       "      <th></th>\n",
       "      <th>커피</th>\n",
       "      <th>쿠키</th>\n",
       "      <th>케이크</th>\n",
       "    </tr>\n",
       "  </thead>\n",
       "  <tbody>\n",
       "    <tr>\n",
       "      <th>가격</th>\n",
       "      <td>4000</td>\n",
       "      <td>3000</td>\n",
       "      <td>6500</td>\n",
       "    </tr>\n",
       "  </tbody>\n",
       "</table>\n",
       "</div>"
      ],
      "text/plain": [
       "      커피    쿠키   케이크\n",
       "가격  4000  3000  6500"
      ]
     },
     "execution_count": 298,
     "metadata": {},
     "output_type": "execute_result"
    }
   ],
   "source": [
    "\n",
    "\n",
    "dic = pd.DataFrame({\n",
    "    '커피': [4000,3000,4000]\n",
    "    '쿠키':3000,\n",
    "    '케이크':6500\n",
    "    },index=['가격'])\n",
    "\n",
    "    \n",
    "dic"
   ]
  },
  {
   "cell_type": "code",
   "execution_count": 293,
   "id": "c6204f1d",
   "metadata": {},
   "outputs": [
    {
     "data": {
      "text/plain": [
       "{'ahpa': ['abc', 'bd', 'cd', 'ed', 'fe']}"
      ]
     },
     "execution_count": 293,
     "metadata": {},
     "output_type": "execute_result"
    }
   ],
   "source": [
    "import warnings\n",
    "warnings.filterwarnings('ignore')\n",
    "dict = df.to_dict('list')\n",
    "dict\n",
    "\n"
   ]
  },
  {
   "cell_type": "code",
   "execution_count": 296,
   "id": "43b72fbf",
   "metadata": {},
   "outputs": [
    {
     "data": {
      "text/html": [
       "<div>\n",
       "<style scoped>\n",
       "    .dataframe tbody tr th:only-of-type {\n",
       "        vertical-align: middle;\n",
       "    }\n",
       "\n",
       "    .dataframe tbody tr th {\n",
       "        vertical-align: top;\n",
       "    }\n",
       "\n",
       "    .dataframe thead th {\n",
       "        text-align: right;\n",
       "    }\n",
       "</style>\n",
       "<table border=\"1\" class=\"dataframe\">\n",
       "  <thead>\n",
       "    <tr style=\"text-align: right;\">\n",
       "      <th></th>\n",
       "      <th>차림표</th>\n",
       "    </tr>\n",
       "  </thead>\n",
       "  <tbody>\n",
       "    <tr>\n",
       "      <th>0</th>\n",
       "      <td>냉면</td>\n",
       "    </tr>\n",
       "    <tr>\n",
       "      <th>1</th>\n",
       "      <td>콩국수</td>\n",
       "    </tr>\n",
       "    <tr>\n",
       "      <th>2</th>\n",
       "      <td>잔치국수</td>\n",
       "    </tr>\n",
       "    <tr>\n",
       "      <th>3</th>\n",
       "      <td>수제비</td>\n",
       "    </tr>\n",
       "    <tr>\n",
       "      <th>4</th>\n",
       "      <td>우동</td>\n",
       "    </tr>\n",
       "  </tbody>\n",
       "</table>\n",
       "</div>"
      ],
      "text/plain": [
       "    차림표\n",
       "0    냉면\n",
       "1   콩국수\n",
       "2  잔치국수\n",
       "3   수제비\n",
       "4    우동"
      ]
     },
     "execution_count": 296,
     "metadata": {},
     "output_type": "execute_result"
    }
   ],
   "source": [
    "#file생성,저장,읽기\n",
    "li = ['냉면','콩국수','잔치국수','수제비','우동']\n",
    "df1 = pd.DataFrame(li,index = ['메뉴1','메뉴2','메뉴3','메뉴4','메뉴5'],columns=['차림표'])\n",
    "df1.to_csv(\"./dataset/file_data.csv\",index= None)\n",
    "file_data = pd.read_csv(\"./dataset/file_data.csv\")\n",
    "file_data"
   ]
  },
  {
   "cell_type": "code",
   "execution_count": null,
   "id": "0b222b21",
   "metadata": {},
   "outputs": [],
   "source": []
  },
  {
   "cell_type": "code",
   "execution_count": 301,
   "id": "a10ba2d0",
   "metadata": {},
   "outputs": [
    {
     "data": {
      "text/html": [
       "<div>\n",
       "<style scoped>\n",
       "    .dataframe tbody tr th:only-of-type {\n",
       "        vertical-align: middle;\n",
       "    }\n",
       "\n",
       "    .dataframe tbody tr th {\n",
       "        vertical-align: top;\n",
       "    }\n",
       "\n",
       "    .dataframe thead th {\n",
       "        text-align: right;\n",
       "    }\n",
       "</style>\n",
       "<table border=\"1\" class=\"dataframe\">\n",
       "  <thead>\n",
       "    <tr style=\"text-align: right;\">\n",
       "      <th></th>\n",
       "      <th>col1</th>\n",
       "      <th>col2</th>\n",
       "      <th>col3</th>\n",
       "    </tr>\n",
       "  </thead>\n",
       "  <tbody>\n",
       "    <tr>\n",
       "      <th>0</th>\n",
       "      <td>1</td>\n",
       "      <td>2</td>\n",
       "      <td>A</td>\n",
       "    </tr>\n",
       "    <tr>\n",
       "      <th>1</th>\n",
       "      <td>2</td>\n",
       "      <td>4</td>\n",
       "      <td>B</td>\n",
       "    </tr>\n",
       "    <tr>\n",
       "      <th>2</th>\n",
       "      <td>3</td>\n",
       "      <td>6</td>\n",
       "      <td>C</td>\n",
       "    </tr>\n",
       "    <tr>\n",
       "      <th>3</th>\n",
       "      <td>4</td>\n",
       "      <td>8</td>\n",
       "      <td>D</td>\n",
       "    </tr>\n",
       "    <tr>\n",
       "      <th>4</th>\n",
       "      <td>5</td>\n",
       "      <td>10</td>\n",
       "      <td>E</td>\n",
       "    </tr>\n",
       "  </tbody>\n",
       "</table>\n",
       "</div>"
      ],
      "text/plain": [
       "   col1  col2 col3\n",
       "0     1     2    A\n",
       "1     2     4    B\n",
       "2     3     6    C\n",
       "3     4     8    D\n",
       "4     5    10    E"
      ]
     },
     "execution_count": 301,
     "metadata": {},
     "output_type": "execute_result"
    }
   ],
   "source": [
    "#사전 - > 데이터프레임\n",
    "sp1 = np.arange(1,6)\n",
    "df = pd.DataFrame({\n",
    "    'col1': sp1,\n",
    "    'col2': sp1 *2,\n",
    "    'col3':['A','B','C','D','E']\n",
    "    \n",
    "})\n",
    "df\n",
    "\n",
    "#둘 다 배열이고 리스트"
   ]
  },
  {
   "cell_type": "code",
   "execution_count": 305,
   "id": "54e3c47c",
   "metadata": {},
   "outputs": [
    {
     "name": "stdout",
     "output_type": "stream",
     "text": [
      "   A  B  C  D\n",
      "1  1  2  3  4\n",
      "2  1  2  3  4\n",
      "3  1  2  3  4\n",
      "4  1  2  3  4\n"
     ]
    }
   ],
   "source": [
    "dic= {'A':1,'B':2,'C':3,'D':4}\n",
    "#여기서 숫자들은 상수\n",
    "columns = ['a','b','c','d']\n",
    "\n",
    "df_dic =pd.DataFrame(dic,index)\n",
    "print(df_dic)\n",
    "\n"
   ]
  },
  {
   "cell_type": "code",
   "execution_count": null,
   "id": "66dd421b",
   "metadata": {},
   "outputs": [],
   "source": []
  },
  {
   "cell_type": "code",
   "execution_count": null,
   "id": "c7fae3ce",
   "metadata": {},
   "outputs": [],
   "source": []
  }
 ],
 "metadata": {
  "kernelspec": {
   "display_name": "Python 3",
   "language": "python",
   "name": "python3"
  },
  "language_info": {
   "codemirror_mode": {
    "name": "ipython",
    "version": 3
   },
   "file_extension": ".py",
   "mimetype": "text/x-python",
   "name": "python",
   "nbconvert_exporter": "python",
   "pygments_lexer": "ipython3",
   "version": "3.8.8"
  }
 },
 "nbformat": 4,
 "nbformat_minor": 5
}

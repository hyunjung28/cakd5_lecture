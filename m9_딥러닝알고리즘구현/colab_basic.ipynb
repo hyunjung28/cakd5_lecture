{
  "nbformat": 4,
  "nbformat_minor": 0,
  "metadata": {
    "colab": {
      "name": "colab_basic.ipynb",
      "provenance": [],
      "mount_file_id": "1j-Nv5RPkd16dMu_1hDeCJ0ach05Bm31E",
      "authorship_tag": "ABX9TyMtRRHZInJWlPoPC4w5www3",
      "include_colab_link": true
    },
    "kernelspec": {
      "name": "python3",
      "display_name": "Python 3"
    },
    "language_info": {
      "name": "python"
    },
    "accelerator": "TPU"
  },
  "cells": [
    {
      "cell_type": "markdown",
      "metadata": {
        "id": "view-in-github",
        "colab_type": "text"
      },
      "source": [
        "<a href=\"https://colab.research.google.com/github/hyunjung28/cakd5/blob/main/colab_basic.ipynb\" target=\"_parent\"><img src=\"https://colab.research.google.com/assets/colab-badge.svg\" alt=\"Open In Colab\"/></a>"
      ]
    },
    {
      "cell_type": "code",
      "execution_count": null,
      "metadata": {
        "id": "CJpbtafCAyHf"
      },
      "outputs": [],
      "source": [
        "/content/drive/MyDrive/딥러닝/M9_딥러닝알고리즘구현/colab_basic.ipynb"
      ]
    }
  ]
}

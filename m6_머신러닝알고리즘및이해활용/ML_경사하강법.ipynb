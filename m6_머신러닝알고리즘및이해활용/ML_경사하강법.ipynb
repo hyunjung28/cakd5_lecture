{
 "cells": [
  {
   "cell_type": "markdown",
   "id": "7c49d4ce",
   "metadata": {},
   "source": [
    "[비용 최소화]  \n",
    "\n",
    "- 비용함수 R(w)는 변수가 w 파라미터로 이뤄진 함수이며 R(w)를 최소화하는 w0와 w1의 값은 R(w)를 w0, w1으로 순차적으로 편미분해 얻을 수 있다.  \n",
    " w1 편미분값 : $-2/N*sigmax*diff$, w0 편미분값 : $-2/N*sigma*diff$\n",
    "- 업데이트는 새로운 w1을 이전 w1에서 편미분 결과값을 반영하는데 기울기가 양수이면 감소, 음수이면 증가\n",
    "- 편미분값이 너무 클 수 있기 때문에 보정 계수를 곱하는데 이를 학습률이라고 한다.\n"
   ]
  },
  {
   "cell_type": "code",
   "execution_count": 16,
   "id": "f4b55926",
   "metadata": {},
   "outputs": [
    {
     "data": {
      "text/plain": [
       "<matplotlib.collections.PathCollection at 0x1ee1d2d37c0>"
      ]
     },
     "execution_count": 16,
     "metadata": {},
     "output_type": "execute_result"
    },
    {
     "data": {
      "image/png": "[encoded data removed]",
      "text/plain": [
       "<Figure size 576x576 with 1 Axes>"
      ]
     },
     "metadata": {
      "needs_background": "light"
     },
     "output_type": "display_data"
    }
   ],
   "source": [
    "import numpy as np\n",
    "import pandas as pd\n",
    "import matplotlib.pyplot as plt\n",
    "plt.figure(figsize=(8,8))\n",
    "np.random.seed(2)\n",
    "X = np.random.rand(100,1)\n",
    "y = 6 +4*X+np.random.randn(100,1)\n",
    "plt.scatter(X,y,c='blue')"
   ]
  },
  {
   "cell_type": "code",
   "execution_count": 13,
   "id": "da2a9f32",
   "metadata": {},
   "outputs": [],
   "source": [
    "def get_weight_updates(w1,w0,X,y,learning_rate=0.01):\n",
    "    N = len(y)\n",
    "    w1_update = np.zeros_like(w1)\n",
    "    w0_update = np.zeros_like(w0)\n",
    "    y_pred = np.dot(X,w1.T)+w0\n",
    "    diff = y-y_pred\n",
    "    w0_factors = np.ones((N,1))\n",
    "    w1_update = -(2/N)*learning_rate*(np.dot(X.T,diff))\n",
    "    w0_update = -(2/N)*learning_rate*(np.dot(w0_factors.T,diff))\n",
    "    \n",
    "    return w1_update,w0_update"
   ]
  },
  {
   "cell_type": "code",
   "execution_count": 17,
   "id": "43b1002d",
   "metadata": {},
   "outputs": [],
   "source": [
    "def gradient_descent_steps(X,y,iters=10000):\n",
    "    w0 = np.zeros((1,1))\n",
    "    w1 = np.zeros((1,1))\n",
    "    for ind in range(iters):\n",
    "        w1_update, w0_update = get_weight_updates(w1,w0,X,y,learning_rate=0.01)\n",
    "        w1 = w1-w1_update\n",
    "        w0 =w0-w0_update\n",
    "    return w1,w0"
   ]
  },
  {
   "cell_type": "code",
   "execution_count": 23,
   "id": "20174a8f",
   "metadata": {},
   "outputs": [
    {
     "name": "stdout",
     "output_type": "stream",
     "text": [
      "w1:4.288,w0:5.989\n",
      "gradient descnet total cost:1.2486\n"
     ]
    }
   ],
   "source": [
    "def get_cost(y,y_pred):\n",
    "    N = len(y)\n",
    "    cost = np.sum(np.square(y-y_pred))/N\n",
    "    return cost\n",
    "w1,w0 = gradient_descent_steps(X,y,iters=1000)\n",
    "print('w1:{0:.3f},w0:{1:.3f}'.format(w1[0,0],w0[0,0]))\n",
    "y_pred = w1[0,0]*X+w0\n",
    "print('gradient descnet total cost:{0:.4f}'.format(get_cost(y,y_pred)))"
   ]
  },
  {
   "cell_type": "code",
   "execution_count": 24,
   "id": "82094bae",
   "metadata": {},
   "outputs": [
    {
     "data": {
      "text/plain": [
       "[<matplotlib.lines.Line2D at 0x1ee1d3628e0>]"
      ]
     },
     "execution_count": 24,
     "metadata": {},
     "output_type": "execute_result"
    },
    {
     "data": {
      "image/png": "[encoded data removed]",
      "text/plain": [
       "<Figure size 432x288 with 1 Axes>"
      ]
     },
     "metadata": {
      "needs_background": "light"
     },
     "output_type": "display_data"
    }
   ],
   "source": [
    "plt.scatter(X,y)\n",
    "plt.plot(X,y_pred)"
   ]
  }
 ],
 "metadata": {
  "kernelspec": {
   "display_name": "Python 3",
   "language": "python",
   "name": "python3"
  },
  "language_info": {
   "codemirror_mode": {
    "name": "ipython",
    "version": 3
   },
   "file_extension": ".py",
   "mimetype": "text/x-python",
   "name": "python",
   "nbconvert_exporter": "python",
   "pygments_lexer": "ipython3",
   "version": "3.8.8"
  }
 },
 "nbformat": 4,
 "nbformat_minor": 5
}

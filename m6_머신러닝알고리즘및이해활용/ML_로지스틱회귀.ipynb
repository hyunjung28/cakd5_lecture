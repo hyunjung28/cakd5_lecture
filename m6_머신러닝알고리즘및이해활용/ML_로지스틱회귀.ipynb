{
 "cells": [
  {
   "cell_type": "code",
   "execution_count": 1,
   "id": "45ca71be",
   "metadata": {},
   "outputs": [],
   "source": [
    "import lightgbm"
   ]
  },
  {
   "cell_type": "code",
   "execution_count": 9,
   "id": "2cf137c1",
   "metadata": {},
   "outputs": [
    {
     "name": "stdout",
     "output_type": "stream",
     "text": [
      "정확도: 0.9766081871345029\n",
      "roc_auc 0.9715608465608465\n"
     ]
    }
   ],
   "source": [
    "import pandas as pd\n",
    "import matplotlib.pyplot as plt\n",
    "# %matplotlib.inline\n",
    "\n",
    "from sklearn.datasets import load_breast_cancer\n",
    "from sklearn.linear_model import LogisticRegression\n",
    "from sklearn.preprocessing import StandardScaler\n",
    "from sklearn.model_selection import train_test_split\n",
    "#로지스틱 회귀로 분류 수행\n",
    "cancer = load_breast_cancer()\n",
    "\n",
    "scaler =StandardScaler()\n",
    "data_scaled = scaler.fit_transform(cancer.data)\n",
    "X_train,X_test,y_train,y_test = train_test_split(data_scaled,cancer.target,test_size=0.3,random_state=0)\n",
    "\n",
    "from sklearn.metrics import accuracy_score,roc_auc_score\n",
    "lr_clf = LogisticRegression()\n",
    "lr_clf.fit(X_train,y_train)\n",
    "lr_pred = lr_clf.predict(X_test)\n",
    "\n",
    "print('정확도:',accuracy_score(y_test,lr_pred))\n",
    "print('roc_auc',roc_auc_score(y_test,lr_pred))"
   ]
  },
  {
   "cell_type": "code",
   "execution_count": 16,
   "id": "6fb0e817",
   "metadata": {},
   "outputs": [
    {
     "name": "stdout",
     "output_type": "stream",
     "text": [
      "최적 하이퍼 파라미터 {'C': 1, 'penalty': 'l2'} 최적 평균 정확도 0.975392184164114\n",
      "테스트 정확도 테스트 0.9883040935672515\n"
     ]
    }
   ],
   "source": [
    "# penalty(규제 l2-> L2규제,L1=>L1규제)\n",
    "import warnings\n",
    "warnings.filterwarnings('ignore')\n",
    "from sklearn.model_selection import GridSearchCV\n",
    "\n",
    "params={'penalty':['l2','l1'],\n",
    "       'C':[0.01,0.1,1,1,5,10]}\n",
    "grid_clf = GridSearchCV(lr_clf,param_grid =params,scoring='accuracy',cv=3)\n",
    "grid_clf.fit(data_scaled,cancer.target)\n",
    "print('최적 하이퍼 파라미터',grid_clf.best_params_,'최적 평균 정확도',grid_clf.best_score_)\n",
    "pred = grid_clf.best_estimator_.predict(X_test)\n",
    "accuracy_test = accuracy_score(y_test,pred)\n",
    "print('테스트 정확도 테스트',accuracy_test)"
   ]
  },
  {
   "cell_type": "code",
   "execution_count": null,
   "id": "2acf3ecf",
   "metadata": {},
   "outputs": [],
   "source": []
  }
 ],
 "metadata": {
  "kernelspec": {
   "display_name": "Python 3",
   "language": "python",
   "name": "python3"
  },
  "language_info": {
   "codemirror_mode": {
    "name": "ipython",
    "version": 3
   },
   "file_extension": ".py",
   "mimetype": "text/x-python",
   "name": "python",
   "nbconvert_exporter": "python",
   "pygments_lexer": "ipython3",
   "version": "3.8.8"
  }
 },
 "nbformat": 4,
 "nbformat_minor": 5
}

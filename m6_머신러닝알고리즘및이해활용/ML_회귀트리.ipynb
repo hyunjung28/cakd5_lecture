{
 "cells": [
  {
   "cell_type": "markdown",
   "id": "b80b4450",
   "metadata": {},
   "source": [
    "### 회귀 트리\n",
    "- 회귀 함수를 기반으로 하지 않고 결정 트리와 같이 트리를 기반으로 하는 회귀 방식\n",
    "- 회귀를 위한 트리를 생성하고 이를 기반으로 회귀 예측\n",
    "- 리프 노드에서 예측 결정 값을 만드는 과정에서 분류 트리가 특정 클래스 레이블을 결정하는 것과 달리 회귀 트리는 리프 노드에 속한 데이터 값의 평균값을 구해 회귀 예측값을 계산\n",
    "- 결정트리, 랜덤 포레스트, GBM, XGBOOST, LIGHTGBM 등 트리 기반의 알고리즘은 분류뿐만 아니라 회귀도 가능한데 트리 생성이 CART(Classification And Regression Trees)에 기반하고 있기 때문이며 CART는 분류뿐만 아니라 회귀도 가능하게 해주는 트리 생성 알고리즘임\n"
   ]
  },
  {
   "cell_type": "code",
   "execution_count": 4,
   "id": "05df7a85",
   "metadata": {},
   "outputs": [
    {
     "data": {
      "text/html": [
       "<div>\n",
       "<style scoped>\n",
       "    .dataframe tbody tr th:only-of-type {\n",
       "        vertical-align: middle;\n",
       "    }\n",
       "\n",
       "    .dataframe tbody tr th {\n",
       "        vertical-align: top;\n",
       "    }\n",
       "\n",
       "    .dataframe thead th {\n",
       "        text-align: right;\n",
       "    }\n",
       "</style>\n",
       "<table border=\"1\" class=\"dataframe\">\n",
       "  <thead>\n",
       "    <tr style=\"text-align: right;\">\n",
       "      <th></th>\n",
       "      <th>CRIM</th>\n",
       "      <th>ZN</th>\n",
       "      <th>INDUS</th>\n",
       "      <th>CHAS</th>\n",
       "      <th>NOX</th>\n",
       "      <th>RM</th>\n",
       "      <th>AGE</th>\n",
       "      <th>DIS</th>\n",
       "      <th>RAD</th>\n",
       "      <th>TAX</th>\n",
       "      <th>PTRATIO</th>\n",
       "      <th>B</th>\n",
       "      <th>LSTAT</th>\n",
       "      <th>PRICE</th>\n",
       "    </tr>\n",
       "  </thead>\n",
       "  <tbody>\n",
       "    <tr>\n",
       "      <th>0</th>\n",
       "      <td>0.00632</td>\n",
       "      <td>18.0</td>\n",
       "      <td>2.31</td>\n",
       "      <td>0.0</td>\n",
       "      <td>0.538</td>\n",
       "      <td>6.575</td>\n",
       "      <td>65.2</td>\n",
       "      <td>4.0900</td>\n",
       "      <td>1.0</td>\n",
       "      <td>296.0</td>\n",
       "      <td>15.3</td>\n",
       "      <td>396.90</td>\n",
       "      <td>4.98</td>\n",
       "      <td>24.0</td>\n",
       "    </tr>\n",
       "    <tr>\n",
       "      <th>1</th>\n",
       "      <td>0.02731</td>\n",
       "      <td>0.0</td>\n",
       "      <td>7.07</td>\n",
       "      <td>0.0</td>\n",
       "      <td>0.469</td>\n",
       "      <td>6.421</td>\n",
       "      <td>78.9</td>\n",
       "      <td>4.9671</td>\n",
       "      <td>2.0</td>\n",
       "      <td>242.0</td>\n",
       "      <td>17.8</td>\n",
       "      <td>396.90</td>\n",
       "      <td>9.14</td>\n",
       "      <td>21.6</td>\n",
       "    </tr>\n",
       "    <tr>\n",
       "      <th>2</th>\n",
       "      <td>0.02729</td>\n",
       "      <td>0.0</td>\n",
       "      <td>7.07</td>\n",
       "      <td>0.0</td>\n",
       "      <td>0.469</td>\n",
       "      <td>7.185</td>\n",
       "      <td>61.1</td>\n",
       "      <td>4.9671</td>\n",
       "      <td>2.0</td>\n",
       "      <td>242.0</td>\n",
       "      <td>17.8</td>\n",
       "      <td>392.83</td>\n",
       "      <td>4.03</td>\n",
       "      <td>34.7</td>\n",
       "    </tr>\n",
       "    <tr>\n",
       "      <th>3</th>\n",
       "      <td>0.03237</td>\n",
       "      <td>0.0</td>\n",
       "      <td>2.18</td>\n",
       "      <td>0.0</td>\n",
       "      <td>0.458</td>\n",
       "      <td>6.998</td>\n",
       "      <td>45.8</td>\n",
       "      <td>6.0622</td>\n",
       "      <td>3.0</td>\n",
       "      <td>222.0</td>\n",
       "      <td>18.7</td>\n",
       "      <td>394.63</td>\n",
       "      <td>2.94</td>\n",
       "      <td>33.4</td>\n",
       "    </tr>\n",
       "    <tr>\n",
       "      <th>4</th>\n",
       "      <td>0.06905</td>\n",
       "      <td>0.0</td>\n",
       "      <td>2.18</td>\n",
       "      <td>0.0</td>\n",
       "      <td>0.458</td>\n",
       "      <td>7.147</td>\n",
       "      <td>54.2</td>\n",
       "      <td>6.0622</td>\n",
       "      <td>3.0</td>\n",
       "      <td>222.0</td>\n",
       "      <td>18.7</td>\n",
       "      <td>396.90</td>\n",
       "      <td>5.33</td>\n",
       "      <td>36.2</td>\n",
       "    </tr>\n",
       "  </tbody>\n",
       "</table>\n",
       "</div>"
      ],
      "text/plain": [
       "      CRIM    ZN  INDUS  CHAS    NOX     RM   AGE     DIS  RAD    TAX  \\\n",
       "0  0.00632  18.0   2.31   0.0  0.538  6.575  65.2  4.0900  1.0  296.0   \n",
       "1  0.02731   0.0   7.07   0.0  0.469  6.421  78.9  4.9671  2.0  242.0   \n",
       "2  0.02729   0.0   7.07   0.0  0.469  7.185  61.1  4.9671  2.0  242.0   \n",
       "3  0.03237   0.0   2.18   0.0  0.458  6.998  45.8  6.0622  3.0  222.0   \n",
       "4  0.06905   0.0   2.18   0.0  0.458  7.147  54.2  6.0622  3.0  222.0   \n",
       "\n",
       "   PTRATIO       B  LSTAT  PRICE  \n",
       "0     15.3  396.90   4.98   24.0  \n",
       "1     17.8  396.90   9.14   21.6  \n",
       "2     17.8  392.83   4.03   34.7  \n",
       "3     18.7  394.63   2.94   33.4  \n",
       "4     18.7  396.90   5.33   36.2  "
      ]
     },
     "execution_count": 4,
     "metadata": {},
     "output_type": "execute_result"
    }
   ],
   "source": [
    "from sklearn.datasets import load_boston\n",
    "import pandas as pd\n",
    "import numpy as np\n",
    "from sklearn.model_selection import cross_val_score\n",
    "from sklearn.ensemble import RandomForestRegressor\n",
    "import warnings\n",
    "warnings.filterwarnings('ignore')\n",
    "data = load_boston()\n",
    "df = pd.DataFrame(data=data.data,columns=data.feature_names)\n",
    "df['PRICE']=data.target\n",
    "df.head()"
   ]
  },
  {
   "cell_type": "code",
   "execution_count": 5,
   "id": "99c8645f",
   "metadata": {},
   "outputs": [
    {
     "name": "stdout",
     "output_type": "stream",
     "text": [
      "5교차 검증의 개별 neg_mse_score: [ -7.88 -13.14 -20.57 -46.23 -18.88]\n",
      "5교차 검증의 개별 rmse_score: [2.81 3.63 4.54 6.8  4.34]\n",
      "5교차 검증의 개별 avg_rmsee: 4.42\n"
     ]
    }
   ],
   "source": [
    "X = df.drop('PRICE',axis=1)\n",
    "y= df['PRICE']\n",
    "rf =  RandomForestRegressor(random_state=0,n_estimators=1000)\n",
    "neg_mse_score = cross_val_score(rf,X,y,scoring='neg_mean_squared_error',cv=5)\n",
    "rmse_score = np.sqrt(-1*neg_mse_score)\n",
    "avg_rmse = np.mean(rmse_score)\n",
    "print(f'5교차 검증의 개별 neg_mse_score:',np.round(neg_mse_score,2))\n",
    "print(f'5교차 검증의 개별 rmse_score:',np.round(rmse_score,2))\n",
    "print(f'5교차 검증의 개별 avg_rmsee:',np.round(avg_rmse,2))"
   ]
  },
  {
   "cell_type": "code",
   "execution_count": 10,
   "id": "67a0527c",
   "metadata": {},
   "outputs": [],
   "source": [
    "def get_model_predict(model,X,y):\n",
    "    neg_mse_score = cross_val_score(model,X,y,scoring='neg_mean_squared_error',cv=5)\n",
    "    rmse_score = np.sqrt(-1*neg_mse_score)\n",
    "    avg_rmse = np.mean(rmse_score)\n",
    "    print('###',model.__class__.__name__,'####')\n",
    "    print('5 교차 검증의 평균 rmse:{0:.3f}'.format(avg_rmse))"
   ]
  },
  {
   "cell_type": "code",
   "execution_count": 11,
   "id": "038efb57",
   "metadata": {},
   "outputs": [
    {
     "name": "stdout",
     "output_type": "stream",
     "text": [
      "### XGBRegressor ####\n",
      "5 교차 검증의 평균 rmse:4.251\n"
     ]
    }
   ],
   "source": [
    "# Q, 교차검증 사용자 함수를 작성하여 XGBRegressor 클래스를 사용\n",
    "from xgboost import XGBRegressor\n",
    "xgb = XGBRegressor(n_estimators=100)\n",
    "get_model_predict(xgb,X,y)"
   ]
  },
  {
   "cell_type": "code",
   "execution_count": 14,
   "id": "fd4f4710",
   "metadata": {},
   "outputs": [
    {
     "name": "stdout",
     "output_type": "stream",
     "text": [
      "### DecisionTreeRegressor ####\n",
      "5 교차 검증의 평균 rmse:5.978\n",
      "### GradientBoostingRegressor ####\n",
      "5 교차 검증의 평균 rmse:4.206\n",
      "### LGBMRegressor ####\n",
      "5 교차 검증의 평균 rmse:4.571\n"
     ]
    }
   ],
   "source": [
    "from sklearn.tree import DecisionTreeRegressor\n",
    "from sklearn.ensemble import GradientBoostingRegressor\n",
    "from lightgbm import LGBMRegressor\n",
    "\n",
    "dt =  DecisionTreeRegressor(random_state=0,max_depth=4)\n",
    "gb= GradientBoostingRegressor(random_state=0,n_estimators =100)\n",
    "lgb = LGBMRegressor(n_estimators=100)\n",
    "models = [dt,gb,lgb]\n",
    "for model in models:\n",
    "    get_model_predict(model,X,y)"
   ]
  },
  {
   "cell_type": "code",
   "execution_count": 18,
   "id": "e54622bc",
   "metadata": {},
   "outputs": [
    {
     "data": {
      "text/plain": [
       "<AxesSubplot:>"
      ]
     },
     "execution_count": 18,
     "metadata": {},
     "output_type": "execute_result"
    },
    {
     "data": {
      "image/png": "[encoded data removed]",
      "text/plain": [
       "<Figure size 432x288 with 1 Axes>"
      ]
     },
     "metadata": {
      "needs_background": "light"
     },
     "output_type": "display_data"
    }
   ],
   "source": [
    "import seaborn as sns\n",
    "rf = RandomForestRegressor(random_state=0,n_estimators=1000)\n",
    "rf.fit(X,y)\n",
    "\n",
    "feature_series = pd.Series(data = rf.feature_importances_,index=X.columns)\n",
    "feature_series = feature_series.sort_values(ascending=False)\n",
    "sns.barplot(x=feature_series,y=feature_series.index)"
   ]
  },
  {
   "cell_type": "code",
   "execution_count": 22,
   "id": "e929a5f8",
   "metadata": {},
   "outputs": [
    {
     "name": "stdout",
     "output_type": "stream",
     "text": [
      "(100, 2)\n"
     ]
    },
    {
     "data": {
      "text/plain": [
       "<matplotlib.collections.PathCollection at 0x220a2296a60>"
      ]
     },
     "execution_count": 22,
     "metadata": {},
     "output_type": "execute_result"
    },
    {
     "data": {
      "image/png": "[encoded data removed]",
      "text/plain": [
       "<Figure size 432x288 with 1 Axes>"
      ]
     },
     "metadata": {
      "needs_background": "light"
     },
     "output_type": "display_data"
    }
   ],
   "source": [
    "import matplotlib.pyplot as plt\n",
    "boston_sample = df[['PRICE','RM']]\n",
    "boston_sample = boston_sample.sample(n= 100,random_state=0)\n",
    "print(boston_sample.shape)\n",
    "plt.figure()\n",
    "plt.scatter(boston_sample.RM,boston_sample.PRICE,c='darkorange')"
   ]
  },
  {
   "cell_type": "code",
   "execution_count": 24,
   "id": "6cdc92fe",
   "metadata": {},
   "outputs": [],
   "source": [
    "from sklearn.linear_model import LinearRegression\n",
    "lr = LinearRegression()\n",
    "lr_reg2= DecisionTreeRegressor(max_depth=2)\n",
    "lr_reg7= DecisionTreeRegressor(max_depth=7)\n",
    "#테스트용 데이터 셋을 4.5~8.5까지 rm의 x축 보면 \n",
    "X_test = np.arange(4.5,8.5,0.04).reshape(-1,1)\n",
    "\n",
    "X =boston_sample['RM'].values.reshape(-1,1)\n",
    "y =boston_sample['PRICE'].values.reshape(-1,1)\n",
    "lr.fit(X,y)\n",
    "lr_reg2.fit(X,y)\n",
    "lr_reg7.fit(X,y)\n",
    "\n",
    "pred_lr = lr.predict(X_test)\n",
    "pred_lr2 = lr_reg2.predict(X_test)\n",
    "pred_lr7 = lr_reg7.predict(X_test)"
   ]
  },
  {
   "cell_type": "code",
   "execution_count": 27,
   "id": "9fb1c7ea",
   "metadata": {},
   "outputs": [
    {
     "data": {
      "text/plain": [
       "[<matplotlib.lines.Line2D at 0x220a2b1e8b0>]"
      ]
     },
     "execution_count": 27,
     "metadata": {},
     "output_type": "execute_result"
    },
    {
     "data": {
      "image/png": "[encoded data removed]",
      "text/plain": [
       "<Figure size 1008x288 with 3 Axes>"
      ]
     },
     "metadata": {
      "needs_background": "light"
     },
     "output_type": "display_data"
    }
   ],
   "source": [
    "fig,(ax1,ax2,ax3) = plt.subplots(figsize=(14,4),ncols=3)\n",
    "ax1.set_title('linear regression')\n",
    "ax1.scatter(boston_sample.RM,boston_sample.PRICE,c='darkorange')\n",
    "ax1.plot(X_test,pred_lr,label='linear')\n",
    "\n",
    "ax2.set_title('dt regression \\n max_depth=2')\n",
    "ax2.scatter(boston_sample.RM,boston_sample.PRICE,c='darkorange')\n",
    "ax2.plot(X_test,pred_lr2,label='max_depth:3')\n",
    "\n",
    "ax3.set_title('dt regression \\n max_depth=7')\n",
    "ax3.scatter(boston_sample.RM,boston_sample.PRICE,c='darkorange')\n",
    "ax3.plot(X_test,pred_lr7,label='max_depth:7')\n",
    "# max depth7 같은 경우 이상치까지 학습을 하며 과적합되기 쉬운 모델이 되었음을 알 수 있음"
   ]
  },
  {
   "cell_type": "code",
   "execution_count": null,
   "id": "de7dc4e1",
   "metadata": {},
   "outputs": [],
   "source": []
  }
 ],
 "metadata": {
  "kernelspec": {
   "display_name": "Python 3",
   "language": "python",
   "name": "python3"
  },
  "language_info": {
   "codemirror_mode": {
    "name": "ipython",
    "version": 3
   },
   "file_extension": ".py",
   "mimetype": "text/x-python",
   "name": "python",
   "nbconvert_exporter": "python",
   "pygments_lexer": "ipython3",
   "version": "3.8.8"
  }
 },
 "nbformat": 4,
 "nbformat_minor": 5
}

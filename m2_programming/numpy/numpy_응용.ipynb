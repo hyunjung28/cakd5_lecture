{
 "cells": [
  {
   "cell_type": "code",
   "execution_count": 287,
   "id": "940f3d4a",
   "metadata": {},
   "outputs": [],
   "source": [
    "import numpy as np"
   ]
  },
  {
   "cell_type": "code",
   "execution_count": 288,
   "id": "91e361b4",
   "metadata": {},
   "outputs": [
    {
     "data": {
      "text/plain": [
       "array([[7, 9, 9, 2, 7],\n",
       "       [8, 8, 9, 2, 6],\n",
       "       [9, 5, 4, 1, 4],\n",
       "       [6, 1, 3, 4, 9],\n",
       "       [2, 4, 4, 4, 8]])"
      ]
     },
     "execution_count": 288,
     "metadata": {},
     "output_type": "execute_result"
    }
   ],
   "source": [
    "arr = np.random.randint(1,10, size = (5,5)) #random하게 정수를 뽑아냄 \n",
    "arr"
   ]
  },
  {
   "cell_type": "code",
   "execution_count": 289,
   "id": "9e5cb7e9",
   "metadata": {},
   "outputs": [
    {
     "data": {
      "text/plain": [
       "array([[7, 8, 9, 6, 2],\n",
       "       [9, 8, 5, 1, 4],\n",
       "       [9, 9, 4, 3, 4],\n",
       "       [2, 2, 1, 4, 4],\n",
       "       [7, 6, 4, 9, 8]])"
      ]
     },
     "execution_count": 289,
     "metadata": {},
     "output_type": "execute_result"
    }
   ],
   "source": [
    "arr.T\n",
    "np.transpose(arr)"
   ]
  },
  {
   "cell_type": "code",
   "execution_count": 290,
   "id": "27ac6e86",
   "metadata": {},
   "outputs": [
    {
     "data": {
      "text/plain": [
       "array([[234, 186, 197,  71, 203],\n",
       "       [186, 187, 192,  59, 172],\n",
       "       [197, 192, 203,  68, 192],\n",
       "       [ 71,  59,  68,  41,  98],\n",
       "       [203, 172, 192,  98, 246]])"
      ]
     },
     "execution_count": 290,
     "metadata": {},
     "output_type": "execute_result"
    }
   ],
   "source": [
    "#행렬곱, 내적\n",
    "np.dot(arr.T,arr)"
   ]
  },
  {
   "cell_type": "code",
   "execution_count": 291,
   "id": "4eaf58e6",
   "metadata": {},
   "outputs": [
    {
     "name": "stdout",
     "output_type": "stream",
     "text": [
      "[[0 1 2]\n",
      " [3 4 5]] \n",
      "\n",
      "[[0 3]\n",
      " [1 4]\n",
      " [2 5]]\n",
      "\n",
      " [[0 3]\n",
      " [1 4]\n",
      " [2 5]]\n",
      "\n",
      " [[0 3]\n",
      " [1 4]\n",
      " [2 5]]\n"
     ]
    }
   ],
   "source": [
    "a = np.arange(6).reshape(2,3)\n",
    "print(a,'\\n')\n",
    "\n",
    "y = np.swapaxes(a,0,1) #0은 2차원 (열). 1은 1차원 (행)\n",
    "print(y)\n",
    "\n",
    "print('\\n',a.T)\n",
    "\n",
    "\n",
    "y = np.transpose(a)\n",
    "print('\\n',y)"
   ]
  },
  {
   "cell_type": "code",
   "execution_count": 292,
   "id": "ec9b3479",
   "metadata": {},
   "outputs": [
    {
     "ename": "SyntaxError",
     "evalue": "invalid syntax (Temp/ipykernel_5424/1238534767.py, line 1)",
     "output_type": "error",
     "traceback": [
      "\u001b[1;36m  File \u001b[1;32m\"C:\\Users\\admin\\AppData\\Local\\Temp/ipykernel_5424/1238534767.py\"\u001b[1;36m, line \u001b[1;32m1\u001b[0m\n\u001b[1;33m    [[  1   2   3   4   5   6   7   8   9  10]\u001b[0m\n\u001b[1;37m            ^\u001b[0m\n\u001b[1;31mSyntaxError\u001b[0m\u001b[1;31m:\u001b[0m invalid syntax\n"
     ]
    }
   ],
   "source": [
    "[[  1   2   3   4   5   6   7   8   9  10]\n",
    " [ 20  19  18  17  16  15  14  13  12  11]\n",
    " [ 21  22  23  24  25  26  27  28  29  30]\n",
    " [ 40  39  38  37  36  35  34  33  32  31]\n",
    " [ 41  42  43  44  45  46  47  48  49  50]\n",
    " [ 60  59  58  57  56  55  54  53  52  51]\n",
    " [ 61  62  63  64  65  66  67  68  69  70]\n",
    " [ 80  79  78  77  76  75  74  73  72  71]\n",
    " [ 81  82  83  84  85  86  87  88  89  90]\n",
    " [100  99  98  97  96  95  94  93  92  91]] \n"
   ]
  },
  {
   "cell_type": "code",
   "execution_count": null,
   "id": "b2d2a910",
   "metadata": {},
   "outputs": [],
   "source": [
    "arr= np.arange(1,11)\n",
    "print(arr1)\n",
    "arr2 = np.arange(11,21)\n",
    "print(arr2.T)\n",
    "arr3= np.arange(21,31)\n",
    "print(arr3)\n",
    "arr4= np.arange(31,41)\n",
    "print(arr4.T)\n",
    "arr5= np.arange(41,51)\n",
    "print(arr5)\n",
    "arr6= np.arange(51,61)\n",
    "print(arr6.T)\n"
   ]
  },
  {
   "cell_type": "code",
   "execution_count": null,
   "id": "4ba4204a",
   "metadata": {},
   "outputs": [],
   "source": [
    "arr= np.arange(1,101).reshape(10,10)\n",
    "print(arr1)\n"
   ]
  },
  {
   "cell_type": "code",
   "execution_count": null,
   "id": "5c76cb96",
   "metadata": {
    "scrolled": true
   },
   "outputs": [],
   "source": [
    "print(arr1[1][::-1])\n",
    "print(arr1[3][::-1])"
   ]
  },
  {
   "cell_type": "code",
   "execution_count": null,
   "id": "f2ddb1b4",
   "metadata": {},
   "outputs": [],
   "source": [
    "arr = np.arange(1,101).reshape(10,10)\n",
    "arr[[1,3,5,7,9]] = arr[[1,3,5,7,9]][:,::-1]\n",
    "print(arr)\n"
   ]
  },
  {
   "cell_type": "code",
   "execution_count": null,
   "id": "523bf2d9",
   "metadata": {},
   "outputs": [],
   "source": [
    "# (0,1,2) 0->3차원,1->2차원,2->1차원\n",
    "#3차원과 2차원을 바꾸는 경우: (1.2,3) - > (2,1,3)\n",
    "\n",
    "a = np.arange(6).reshape(1,2,3)\n",
    "print(a,a.shape,'\\n')\n",
    "\n",
    "y =np.transpose(a,(1,0,2))\n",
    "print(y,y.shape)"
   ]
  },
  {
   "cell_type": "code",
   "execution_count": null,
   "id": "76afa46b",
   "metadata": {},
   "outputs": [],
   "source": [
    "#(1,2,3) - > (2,3,1)\n",
    "a = np.arange(6).reshape(1,2,3)\n",
    "print(a,a.shape,'\\n')\n",
    "y = np.transpose(a,(1,2,0))\n",
    "print(y,y.shape)"
   ]
  },
  {
   "cell_type": "code",
   "execution_count": null,
   "id": "23b4e538",
   "metadata": {},
   "outputs": [],
   "source": [
    "#[과제] 아래 배열에서 3차원과 2차원을 변경하여 출력하세요 (shape확인)\n",
    "arr = np.arange(16).reshape(2,2,4)\n",
    "print(arr,arr.shape,'\\n',arr.ndim,'\\n')\n",
    "\n",
    "arr1 = arr.reshape(2,-1)\n",
    "print(arr1,arr1.shape,arr1.ndim)"
   ]
  },
  {
   "cell_type": "code",
   "execution_count": null,
   "id": "91e4d573",
   "metadata": {},
   "outputs": [],
   "source": [
    "#[과제] 상기 과제의 arr 에서 2차원과 1차원을 변경하여 출력하세요\n",
    "\n",
    "arr2 = arr1.reshape(-1,)\n",
    "print(arr1,arr2.shape,arr2.ndim)"
   ]
  },
  {
   "cell_type": "code",
   "execution_count": null,
   "id": "3cb808ed",
   "metadata": {},
   "outputs": [],
   "source": [
    "# 나머지를 구할 경우 사용하는 함수\n",
    "value1 = np.array([15,30,45])\n",
    "value2 = np.array([2,7,9])\n",
    "print(np.mod(value1,value2))\n",
    "print(np.remainder(value1,value2))\n"
   ]
  },
  {
   "cell_type": "code",
   "execution_count": null,
   "id": "383bdcf9",
   "metadata": {},
   "outputs": [],
   "source": [
    "#각 수의 역수를 구해주는 함수  #0.85분의 1,  1.85분의 1해준거\n",
    "value = np.array([0.85,1.85,1,100])\n",
    "print(np.reciprocal(value))\n",
    "\n",
    "\n",
    "value1 = np.array([100],dtype = int)\n",
    "print(value1,'\\n')\n",
    "print(np.reciprocal(value1,dtype =float))"
   ]
  },
  {
   "cell_type": "code",
   "execution_count": null,
   "id": "3325cc97",
   "metadata": {},
   "outputs": [],
   "source": [
    "#승수의 결과 값을 표시해주는 함수 : power\n",
    "value1 = np.array ([2,10,15])\n",
    "value2 = np.array([1,2,3])\n",
    "\n",
    "print(np.power(value1,2),'\\n')\n",
    "print(np.power(value1,value2))"
   ]
  },
  {
   "cell_type": "code",
   "execution_count": null,
   "id": "a4c3e998",
   "metadata": {},
   "outputs": [],
   "source": [
    "arr = np.random.randn(10)     #-4.ddddde-05(소수점 5개 더 있단 뜻)\n",
    "# print(arr.mean(),'\\n')\n",
    "# print(arr.std())\n",
    "arr"
   ]
  },
  {
   "cell_type": "code",
   "execution_count": null,
   "id": "7612c0a9",
   "metadata": {},
   "outputs": [],
   "source": [
    "#양수인 원소의 개수\n",
    "(arr>0).sum()\n"
   ]
  },
  {
   "cell_type": "code",
   "execution_count": null,
   "id": "a7651576",
   "metadata": {},
   "outputs": [],
   "source": [
    "#하나 이상의 값이 True인지 검사\n",
    "bools = np.array([False,False,True,True])\n",
    "bools.any()"
   ]
  },
  {
   "cell_type": "code",
   "execution_count": null,
   "id": "e89e287c",
   "metadata": {},
   "outputs": [],
   "source": [
    "#모든 원소가 True인지 검사\n",
    "bools.all()"
   ]
  },
  {
   "cell_type": "code",
   "execution_count": null,
   "id": "f5cbf33f",
   "metadata": {},
   "outputs": [],
   "source": [
    "# 삼항식의 벡터화 버전\n",
    "arr= np.random.randn(4,4)\n",
    "print(arr,'\\n')\n",
    "np.where(arr>0,2,-2 ) #0보다 크면 2, 아니면 -2"
   ]
  },
  {
   "cell_type": "code",
   "execution_count": null,
   "id": "0209b1cb",
   "metadata": {},
   "outputs": [],
   "source": [
    "#arr의 모든 양수를 2로 바꿀 경우\n",
    "arr= np.random.randn(4,4)\n",
    "np.where(arr>0,2,arr) # 아닌 경우 그냥 기존의 arr 로 주면 됨"
   ]
  },
  {
   "cell_type": "code",
   "execution_count": null,
   "id": "7e64b777",
   "metadata": {},
   "outputs": [],
   "source": [
    "# 두개의 1차원 배열을 받아서 가능한 모든 (x,y) 짝을 만들 수 있는 2차원 배열\n",
    "#2개 반환\n",
    "x = np.arange(1,4)\n",
    "y = np.arange(1,4)\n",
    "xs,ys = np.meshgrid(x,y)\n",
    "print(xs, ' \\n')\n",
    "print(ys)"
   ]
  },
  {
   "cell_type": "code",
   "execution_count": null,
   "id": "fe4b0331",
   "metadata": {},
   "outputs": [],
   "source": [
    "#np.sort()\n",
    "np.random.seed(0)\n",
    "arr = np.random.randint(1,100,size = 10)\n",
    "print(arr,'\\n')\n",
    "print(np.sort(arr),'\\n')  # np.sort()는 원본반영 x\n",
    "print(arr)\n",
    "    \n"
   ]
  },
  {
   "cell_type": "code",
   "execution_count": null,
   "id": "ad1c1911",
   "metadata": {},
   "outputs": [],
   "source": [
    "sorted = np.sort(arr)\n",
    "print(sorted)\n",
    "print(arr)"
   ]
  },
  {
   "cell_type": "code",
   "execution_count": null,
   "id": "cd51fa3d",
   "metadata": {},
   "outputs": [],
   "source": [
    "#행렬이 2차원 이상일 떄 axis 축 값 설정을 통해 행, 열 방향으로 정렬 수행\n",
    "arr2d = np.array([[8,12],[7,1]])\n",
    "print(arr2d,'\\n')\n",
    "sort_ar2d_axis0 = np.sort(arr2d,axis=0) #정렬을 했는데 axis= 0(행방향으로) 정렬\n",
    "print(sort_ar2d_axis0,'\\n')\n",
    "sort_ar2d_axis1 = np.sort(arr2d,axis=1)# 열 방향이니깐 \n",
    "print(sort_ar2d_axis1)"
   ]
  },
  {
   "cell_type": "code",
   "execution_count": null,
   "id": "5fa49a22",
   "metadata": {},
   "outputs": [],
   "source": [
    "# ndarray.sort():원본반영\n",
    "np.random.seed(0)\n",
    "arr = np.random.randint(1,10,size = 10)\n",
    "print(arr,'\\n')\n",
    "arr.sort()  #원본반영 바뀜\n",
    "arr"
   ]
  },
  {
   "cell_type": "code",
   "execution_count": null,
   "id": "d284b01a",
   "metadata": {},
   "outputs": [],
   "source": [
    "# 다차원 배열의 정렬은 sort 메소드에 넘긴 축에 따라 1차원 부분을 정렬\n",
    "#열방향 - default\n",
    "np.random.seed(0)\n",
    "arr = np.random.randint(1,10,size = (5,3))\n",
    "print(arr,'\\n')\n",
    "arr.sort(1)  #열방향\n",
    "print(arr)"
   ]
  },
  {
   "cell_type": "code",
   "execution_count": null,
   "id": "000baa64",
   "metadata": {},
   "outputs": [],
   "source": [
    "#행방향 정렬\n",
    "np.random.seed(0)\n",
    "arr = np.random.randint(1,10,size = (5,3))\n",
    "print(arr,'\\n')\n",
    "arr.sort(0)  #행방향\n",
    "print(arr)"
   ]
  },
  {
   "cell_type": "code",
   "execution_count": null,
   "id": "b62fe436",
   "metadata": {},
   "outputs": [],
   "source": [
    "#정렬된 행렬의 인덱스 반환: 기존 원본 행렬의 원소에 대한 인덱스를 필요로 할 때\n",
    "#argsort 는 배열정렬 후 인덱스 값 반환\n",
    "org_array = np.array([3,1,9,5])\n",
    "sort_indices = np.argsort(org_array)\n",
    "print(org_array)\n",
    "print(type(sort_indices))\n",
    "sort_indices"
   ]
  },
  {
   "cell_type": "code",
   "execution_count": null,
   "id": "36564514",
   "metadata": {},
   "outputs": [],
   "source": [
    "# 배열에서 정렬한 후 5%에 해당하는 요소(분위수) 출력\n",
    "large_arr = np.random.randn(1000)\n",
    "large_arr.sort()\n",
    "large_arr[int(0.05*len(large_arr))]\n",
    "#1000개 잖아 곱하기 *0.05하면 50개 int를 붙인거고 large_arr[조건]"
   ]
  },
  {
   "cell_type": "code",
   "execution_count": null,
   "id": "0d4988ee",
   "metadata": {},
   "outputs": [],
   "source": [
    "#배열 집합 연산\n",
    "names = np.array(['Bob','Joe','Will','Joe','Joe'])\n",
    "np.unique(names)"
   ]
  },
  {
   "cell_type": "code",
   "execution_count": null,
   "id": "5498f304",
   "metadata": {},
   "outputs": [],
   "source": [
    "names = np.sort(names)\n",
    "names"
   ]
  },
  {
   "cell_type": "code",
   "execution_count": null,
   "id": "d862fc51",
   "metadata": {},
   "outputs": [],
   "source": [
    "import numpy as np\n",
    "names = np.array(['Bob','Joe','Will','Joe','Joe'])\n",
    "sorted(set(names))"
   ]
  },
  {
   "cell_type": "code",
   "execution_count": null,
   "id": "5228dd44",
   "metadata": {},
   "outputs": [],
   "source": [
    "#첫번쨰 배열의 원소가 두번쨰 배열의 원소를 포함하는지 알려주는 불리언 배열을 빈환\n",
    "values = np.array([6,0,0,3,2,5,6])\n",
    "np.in1d(values,[2,3,6])\n",
    "\n"
   ]
  },
  {
   "cell_type": "code",
   "execution_count": null,
   "id": "d0f8ce57",
   "metadata": {},
   "outputs": [],
   "source": [
    "#배열 데이터의 입출력\n",
    "#np.save, np.load는 바이너리 형식으로 .npy파일로 저장\n",
    "arr = np.arange(10)\n",
    "np.save('some_array',arr)\n"
   ]
  },
  {
   "cell_type": "code",
   "execution_count": null,
   "id": "66122a8d",
   "metadata": {},
   "outputs": [],
   "source": [
    "np.load('some_array.npy')"
   ]
  },
  {
   "cell_type": "code",
   "execution_count": null,
   "id": "e11fa2bb",
   "metadata": {},
   "outputs": [],
   "source": [
    "#np.savez : 여러개의 배열을 압축된 형식으로 저장\n",
    "np.savez('array_archive.npz',a=arr,b=arr)\n"
   ]
  },
  {
   "cell_type": "code",
   "execution_count": null,
   "id": "c2a0de69",
   "metadata": {},
   "outputs": [],
   "source": [
    "arch= np.load('array_archive.npz')\n",
    "arch['b']\n",
    "arch['a']\n",
    "\n"
   ]
  },
  {
   "cell_type": "code",
   "execution_count": null,
   "id": "3e65ba80",
   "metadata": {},
   "outputs": [],
   "source": [
    "#Q.인덱싱을 사용하여 [1 0 1 0 1 0 1 0 1 0]을 출력하세요\n",
    "a = np.ones(10,dtype=int)\n",
    "a[[1,3,5,7,9]]=0   #인덱스를 줘서 0 집어넣어주면 되지 \n",
    "a"
   ]
  },
  {
   "cell_type": "code",
   "execution_count": null,
   "id": "de009df2",
   "metadata": {},
   "outputs": [],
   "source": [
    "# Q. a = np.arange(10)에서 [6,7,8,9] 출력\n",
    "a = np.arange(10)\n",
    "print(a[6:10])"
   ]
  },
  {
   "cell_type": "code",
   "execution_count": null,
   "id": "238b908e",
   "metadata": {},
   "outputs": [],
   "source": [
    "#Q. a에서 최대값, 최소값 인덱스 출력\n",
    "a= np.arange(1,10)\n",
    "print(np.argmax(a))\n",
    "print(np.argmin(a))"
   ]
  },
  {
   "cell_type": "code",
   "execution_count": null,
   "id": "6eec79dd",
   "metadata": {},
   "outputs": [],
   "source": [
    "#Q. a에서 인덱스 배열을 역순으로 출력하세요\n",
    "print(a[::-1])"
   ]
  },
  {
   "cell_type": "code",
   "execution_count": null,
   "id": "9a6f72c8",
   "metadata": {},
   "outputs": [],
   "source": [
    "np.argsort(a)[::-1]"
   ]
  },
  {
   "cell_type": "code",
   "execution_count": null,
   "id": "27e0f512",
   "metadata": {},
   "outputs": [],
   "source": [
    "# Q. np.omes((10,10))을 아래와 같이 출력하세요\n",
    "array([[1., 1., 1., 1., 1., 1., 1., 1., 1., 1.],\n",
    "       [1., 0., 0., 0., 0., 0., 0., 0., 0., 1.],\n",
    "       [1., 0., 0., 0., 0., 0., 0., 0., 0., 1.],\n",
    "       [1., 0., 0., 0., 0., 0., 0., 0., 0., 1.],\n",
    "       [1., 0., 0., 0., 0., 0., 0., 0., 0., 1.],\n",
    "       [1., 0., 0., 0., 0., 0., 0., 0., 0., 1.],\n",
    "       [1., 0., 0., 0., 0., 0., 0., 0., 0., 1.],\n",
    "       [1., 0., 0., 0., 0., 0., 0., 0., 0., 1.],\n",
    "       [1., 0., 0., 0., 0., 0., 0., 0., 0., 1.],\n",
    "       [1., 1., 1., 1., 1., 1., 1., 1., 1., 1.]])\n"
   ]
  },
  {
   "cell_type": "code",
   "execution_count": null,
   "id": "7e9ee55a",
   "metadata": {},
   "outputs": [],
   "source": [
    "arr = np.ones((10,10))\n",
    "arr[1:9,1:9]=0 \n",
    "arr"
   ]
  },
  {
   "cell_type": "code",
   "execution_count": null,
   "id": "3ac8b6fa",
   "metadata": {},
   "outputs": [],
   "source": [
    "arr = np.arange(1,101).reshape(10,10)\n",
    "arr[[1,3,5,7,9]] = arr[[1,3,5,7,9]][:,::-1]\n",
    "print(arr)"
   ]
  },
  {
   "cell_type": "code",
   "execution_count": null,
   "id": "b4a44638",
   "metadata": {},
   "outputs": [],
   "source": [
    "#[과제]  np.ones를 ((5,5))을 아래와 같이 출력하세요\n",
    "\n",
    "array([[0., 0., 0., 0., 0., 0., 0., 0., 0.],\n",
    "       [0., 0., 0., 0., 0., 0., 0., 0., 0.],\n",
    "       [0., 0., 1., 1., 1., 1., 1., 0., 0.],\n",
    "       [0., 0., 1., 1., 1., 1., 1., 0., 0.],\n",
    "       [0., 0., 1., 1., 1., 1., 1., 0., 0.],\n",
    "       [0., 0., 1., 1., 1., 1., 1., 0., 0.],\n",
    "       [0., 0., 1., 1., 1., 1., 1., 0., 0.],\n",
    "       [0., 0., 0., 0., 0., 0., 0., 0., 0.],\n",
    "       [0., 0., 0., 0., 0., 0., 0., 0., 0.]])\n"
   ]
  },
  {
   "cell_type": "code",
   "execution_count": 352,
   "id": "c26c4aa3",
   "metadata": {},
   "outputs": [
    {
     "data": {
      "text/plain": [
       "array([[0., 0., 0., 0., 0., 0., 0., 0., 0., 0.],\n",
       "       [0., 0., 0., 0., 0., 0., 0., 0., 0., 0.],\n",
       "       [0., 0., 1., 1., 1., 1., 1., 0., 0., 0.],\n",
       "       [0., 0., 1., 1., 1., 1., 1., 0., 0., 0.],\n",
       "       [0., 0., 1., 1., 1., 1., 1., 0., 0., 0.],\n",
       "       [0., 0., 1., 1., 1., 1., 1., 0., 0., 0.],\n",
       "       [0., 0., 1., 1., 1., 1., 1., 0., 0., 0.],\n",
       "       [0., 0., 0., 0., 0., 0., 0., 0., 0., 0.],\n",
       "       [0., 0., 0., 0., 0., 0., 0., 0., 0., 0.],\n",
       "       [0., 0., 0., 0., 0., 0., 0., 0., 0., 0.]])"
      ]
     },
     "execution_count": 352,
     "metadata": {},
     "output_type": "execute_result"
    }
   ],
   "source": [
    "five = np.ones((5,5))\n",
    "arr = np.zeros((10,10))\n",
    "arr[2:7,2:7] = 1\n",
    "arr"
   ]
  },
  {
   "cell_type": "code",
   "execution_count": null,
   "id": "72022b98",
   "metadata": {},
   "outputs": [],
   "source": [
    "#[과제]np.ones((8,8))을 이용해서 아래와 같이 추력하세요(인덱싱,tile함수())\n",
    "\n",
    "array([[0, 1, 0, 1, 0, 1, 0, 1],\n",
    "       [1, 0, 1, 0, 1, 0, 1, 0],\n",
    "       [0, 1, 0, 1, 0, 1, 0, 1],\n",
    "       [1, 0, 1, 0, 1, 0, 1, 0],\n",
    "       [0, 1, 0, 1, 0, 1, 0, 1],\n",
    "       [1, 0, 1, 0, 1, 0, 1, 0],\n",
    "       [0, 1, 0, 1, 0, 1, 0, 1],\n",
    "       [1, 0, 1, 0, 1, 0, 1, 0]])\n"
   ]
  },
  {
   "cell_type": "code",
   "execution_count": 386,
   "id": "e0cb13bd",
   "metadata": {},
   "outputs": [
    {
     "data": {
      "text/plain": [
       "array([[0, 1, 0, 1, 0, 1, 0, 1],\n",
       "       [1, 0, 1, 0, 1, 0, 1, 0],\n",
       "       [0, 1, 0, 1, 0, 1, 0, 1],\n",
       "       [1, 0, 1, 0, 1, 0, 1, 0],\n",
       "       [0, 1, 0, 1, 0, 1, 0, 1],\n",
       "       [1, 0, 1, 0, 1, 0, 1, 0],\n",
       "       [0, 1, 0, 1, 0, 1, 0, 1],\n",
       "       [1, 0, 1, 0, 1, 0, 1, 0]])"
      ]
     },
     "execution_count": 386,
     "metadata": {},
     "output_type": "execute_result"
    }
   ],
   "source": [
    "import numpy as np\n",
    "a= np.array([[0,1],[1,0]])\n",
    "b= np.tile(a,(4,4))\n",
    "b\n"
   ]
  },
  {
   "cell_type": "code",
   "execution_count": null,
   "id": "e6259b5f",
   "metadata": {},
   "outputs": [],
   "source": []
  },
  {
   "cell_type": "code",
   "execution_count": 397,
   "id": "ef44bfc0",
   "metadata": {},
   "outputs": [
    {
     "data": {
      "text/plain": [
       "array([[1., 0., 0., 0., 0., 0.],\n",
       "       [0., 1., 0., 0., 0., 0.],\n",
       "       [0., 0., 1., 0., 0., 0.],\n",
       "       [0., 0., 0., 1., 0., 0.],\n",
       "       [0., 0., 0., 0., 1., 0.],\n",
       "       [0., 0., 0., 0., 0., 1.]])"
      ]
     },
     "execution_count": 397,
     "metadata": {},
     "output_type": "execute_result"
    }
   ],
   "source": [
    "np.eye(8)\n",
    "np.eye(6)"
   ]
  },
  {
   "cell_type": "code",
   "execution_count": null,
   "id": "e62b0ff8",
   "metadata": {},
   "outputs": [],
   "source": [
    "#[도전과제] np.arange(336),reshape(6,7,8)에서 100번째 요소의 인덱스를 구하세요"
   ]
  },
  {
   "cell_type": "code",
   "execution_count": null,
   "id": "ab7c3699",
   "metadata": {},
   "outputs": [],
   "source": [
    "#[도전과제] np.arrange(4)을 이용해서 아래와 같이 출력하세요\n",
    "array([[0, 0, 0, 0, 0],\n",
    "       [1, 0, 0, 0, 0],\n",
    "       [0, 2, 0, 0, 0],\n",
    "       [0, 0, 3, 0, 0],\n",
    "       [0, 0, 0, 4, 0]])\n"
   ]
  },
  {
   "cell_type": "markdown",
   "id": "18d0a723",
   "metadata": {},
   "source": [
    "###[파이썬 random 함수]\n"
   ]
  },
  {
   "cell_type": "code",
   "execution_count": null,
   "id": "c2609d0e",
   "metadata": {},
   "outputs": [],
   "source": [
    "import random\n",
    "print(random.random(),'\\n') #0.0 <= x < 1.0 사이\n",
    "print(random.randint(1,10),'\\n') #1에서 10사이의 정수중에서 난수 값 리턴\n",
    "print(random.uniform(10,20),'\\n') #min,max사이 float리턴 \n",
    "print(random.randrange(10),'\\n') # 지정범위 int리턴\n",
    "print(random.choice([1,2,3,4,5]),'\\n') #리스트 내부에 있는 요소를 랜덤하게 선택\n",
    "\n",
    "li= [1,2,3,4,5]\n",
    "print(random.sample(li,3),'\\n')#리스트 요소를 중복이 안되게 리턴\n",
    "random.shuffle(li) #리스트 요소를 다시 섞어서 리턴\n",
    "print(li)"
   ]
  },
  {
   "cell_type": "markdown",
   "id": "1bf701ba",
   "metadata": {},
   "source": [
    "### [numpy_random함수]\n",
    "\n",
    "- np.random.seed  : seed를 통한 난수 생성\n",
    "- np.random.randint : 균일분포의 정수 난수 1개 생성\n",
    "- np.random.rand : 0부터 1사이의 균일분포에서 난수 매트릭스 배열 생성\n",
    "- np.random.randn : 가우시안 표준 정규분포에서 난수 매트릭스 배열 생성\n",
    "- np.random.shuffle : 기존의 데이터의 순서 바꾸기 \n",
    "- np.random.choice : 기존 데이터에서 sampling "
   ]
  },
  {
   "cell_type": "code",
   "execution_count": null,
   "id": "f2dacdf7",
   "metadata": {},
   "outputs": [],
   "source": [
    "print(np.random.randint(6), '\\n') # 0에서 5까지 정수인 난수 1개 \n",
    "print(np.random.randint(1,20),'\\n') # 1~19까지 정수인 난수 1개\n",
    "print(np.random.randint(10,size = 10), '\\n') # 0~ 9까지 정수인 난수 10개\n",
    "print(np.random.randint(10,20, size = 10), '\\n')# 10에서 10까지 정수인 난수10개\n",
    "print(np.random.randint(10,20, size = (3,5))) # 10 에서 19까지 정수인 난수로 3행5열\n"
   ]
  },
  {
   "cell_type": "code",
   "execution_count": null,
   "id": "bf36479e",
   "metadata": {},
   "outputs": [],
   "source": [
    "r = np.random.rand(6) # 0~ 1 사이의  균일분포 함수 (rand)\n",
    "print(r,'\\n')\n",
    "\n",
    "r.mean() #평균값"
   ]
  },
  {
   "cell_type": "code",
   "execution_count": null,
   "id": "004402a2",
   "metadata": {},
   "outputs": [],
   "source": [
    "#표준 정규분포 평균 0과 표준편차 1 사이에 가우시안 정규분포 난수 생성\n",
    "r = np.random.randn(6)\n",
    "r"
   ]
  },
  {
   "cell_type": "markdown",
   "id": "66ea5964",
   "metadata": {},
   "source": [
    "#균일분포는 미래의 결과값을 예측할 수 없을 떄\n",
    "like : 주사위 던지면 나올 수 있는 결과값이 1~6까지 중 랜더믕로 나오는데 201번째\n",
    "    라해도 200번째까지 전혀 영향을 미치지않지\n",
    "but 정규분포값은 어느정도 예측이 가능함, 6개월치 데이터를 가지고 7월의 \n",
    "예상매출액을 낼수있듯"
   ]
  },
  {
   "cell_type": "code",
   "execution_count": null,
   "id": "312788f9",
   "metadata": {},
   "outputs": [],
   "source": [
    "#기존의 데이터 숫자 바꾸는 suffle\n",
    "list = np.arange(1,6)\n",
    "print(list,'\\n')\n",
    "np.random.shuffle(list)\n",
    "list"
   ]
  },
  {
   "cell_type": "code",
   "execution_count": null,
   "id": "b53e8a91",
   "metadata": {},
   "outputs": [],
   "source": [
    "np.random.choice(list)"
   ]
  },
  {
   "cell_type": "code",
   "execution_count": null,
   "id": "d887da53",
   "metadata": {},
   "outputs": [],
   "source": [
    "a = np.array([11,11,3,3,2,2,2,7])\n",
    "index,count = np.unique(a,return_counts = True)\n",
    "print(index)\n",
    "print(count)"
   ]
  },
  {
   "cell_type": "code",
   "execution_count": null,
   "id": "35b3643f",
   "metadata": {},
   "outputs": [],
   "source": [
    "np.random.uniform(1.0,2.0, 10)\n"
   ]
  },
  {
   "cell_type": "code",
   "execution_count": null,
   "id": "9ef21861",
   "metadata": {},
   "outputs": [],
   "source": [
    "print(np.random.uniform(0,1,(2,3)))"
   ]
  },
  {
   "cell_type": "code",
   "execution_count": null,
   "id": "5a31e6dc",
   "metadata": {},
   "outputs": [],
   "source": [
    "#0~1 사이의 난수 실수값으로 행렬 생성 \n",
    "#uniform 함수의 최소값, 최대값을 각각 0,1로 지정한 것과 같음\n",
    "np.random.random_sample((2,3))"
   ]
  },
  {
   "cell_type": "code",
   "execution_count": null,
   "id": "601a9453",
   "metadata": {},
   "outputs": [],
   "source": [
    "!pip install pandas"
   ]
  },
  {
   "cell_type": "code",
   "execution_count": 305,
   "id": "bc56ee60",
   "metadata": {},
   "outputs": [
    {
     "data": {
      "text/plain": [
       "array([[0.96541622, 0.58846509, 0.65966841, 0.53320625, 0.23053302,\n",
       "        0.39486929, 0.61880856, 0.47486752],\n",
       "       [0.47013219, 0.71607453, 0.287991  , 0.38346223, 0.74916984,\n",
       "        0.87845219, 0.10286336, 0.09237389],\n",
       "       [0.35404666, 0.55181626, 0.03362509, 0.96896177, 0.32099724,\n",
       "        0.22126269, 0.1412639 , 0.09725993],\n",
       "       [0.98404224, 0.26034093, 0.53702252, 0.44792617, 0.09956909,\n",
       "        0.35231166, 0.46924917, 0.84114013]])"
      ]
     },
     "execution_count": 305,
     "metadata": {},
     "output_type": "execute_result"
    }
   ],
   "source": [
    "ar = np.random.rand(4,8)\n",
    "ar\n"
   ]
  },
  {
   "cell_type": "code",
   "execution_count": 306,
   "id": "ece7a567",
   "metadata": {},
   "outputs": [
    {
     "name": "stdout",
     "output_type": "stream",
     "text": [
      "          0         1         2         3         4         5         6  \\\n",
      "0  0.965416  0.588465  0.659668  0.533206  0.230533  0.394869  0.618809   \n",
      "1  0.470132  0.716075  0.287991  0.383462  0.749170  0.878452  0.102863   \n",
      "2  0.354047  0.551816  0.033625  0.968962  0.320997  0.221263  0.141264   \n",
      "3  0.984042  0.260341  0.537023  0.447926  0.099569  0.352312  0.469249   \n",
      "\n",
      "          7  \n",
      "0  0.474868  \n",
      "1  0.092374  \n",
      "2  0.097260  \n",
      "3  0.841140   <class 'pandas.core.frame.DataFrame'>\n"
     ]
    }
   ],
   "source": [
    "# 배열을 데이터프레임으로 변환\n",
    "import pandas as pd\n",
    "df = pd.DataFrame(ar)\n",
    "print(df,type(df))"
   ]
  },
  {
   "cell_type": "code",
   "execution_count": null,
   "id": "19db42dd",
   "metadata": {},
   "outputs": [],
   "source": [
    "print(df [0])\n",
    "type(df[0])"
   ]
  },
  {
   "cell_type": "code",
   "execution_count": null,
   "id": "c7aaa3c1",
   "metadata": {},
   "outputs": [],
   "source": [
    "#Q. id, gender,age 컬럼에 대하여 의미있는 값으로 변환하여 3개의 컬럼으로\n",
    "#구성된 df를 출력하세요\n",
    "columns = ['id','gender','age','region','product','price','qty','time']\n",
    "index = [np.arange(4)]  # 0,1,2,3이란거죵\n",
    "df = pd.DataFrame(ar,index, columns = columns) #colums를 리스트로 ㅏ만들어 출력\n",
    "df"
   ]
  },
  {
   "cell_type": "code",
   "execution_count": null,
   "id": "c377ead2",
   "metadata": {},
   "outputs": [],
   "source": [
    "ar = np.zeros((4,3))  \n",
    "columns = ['id','gender','age']\n",
    "index = [np.arange(4)] \n",
    "df = pd.DataFrame(ar,index, columns = columns) #colums를 리스트로 ㅏ만들어 출력\n",
    "np.random.seed(0)\n",
    "df.id = np.random.randint(0,1000,size=4)\n",
    "df.age = np.random.randint(0,100,4)\n",
    "df.gender = np.random.choice(['F','M'],4)\n",
    "df"
   ]
  },
  {
   "cell_type": "code",
   "execution_count": null,
   "id": "e2e1669b",
   "metadata": {},
   "outputs": [],
   "source": [
    "ID = np.random.randint(1000,10000,3)\n",
    "gen = np.random.choice(['M','F'],3)\n",
    "age = np.random.randint(10,40,3)\n",
    "\n",
    "data = np.array([ID,gen,age]).reshape(3,3).transpose()\n",
    "df=pd.DataFrame(data,np.arange(1,4),['ID','Gender','Age'])\n",
    "df\n"
   ]
  },
  {
   "cell_type": "code",
   "execution_count": null,
   "id": "c408cbe0",
   "metadata": {},
   "outputs": [],
   "source": [
    "h = np.zeros((3, 10))\n",
    "id_ = np.random.randint(1, 1000, size = (1, 10))\n",
    "gender = np.random.randint(2, size = (1, 10))\n",
    "age = np.random.randint(0, 120, size = (1, 10))\n",
    "\n",
    "h[0] = id_\n",
    "h[1] = gender\n",
    "h[2] = age\n",
    "\n",
    "h = np.transpose(h)\n",
    "\n",
    "columns = ['id', 'gender', 'age']\n",
    "index = np.arange(1, 11)\n",
    "df = pd.DataFrame(h, index, columns = columns)\n",
    "\n",
    "df\n"
   ]
  },
  {
   "cell_type": "markdown",
   "id": "3dff7d84",
   "metadata": {},
   "source": [
    "###[과제] 아래 가이드에 따라서 고객 구매데이터를 생성하고 데이터 프레임으로 변혼하여 출력\n",
    " - id : 1 ~ 1000번 일련번호\n",
    " - gender : 0,1 정수 난수 생성\n",
    " - age : 0 ~ 80사이 정수 난수 생성\n",
    " - region : 1 ~ 10 사이 정수 난수 생성\n",
    " - product_19 : 제품코드 11111 ~ 99999\n",
    " - product_20 : 제품코드 11111 ~ 99999\n",
    " - price_19 : 1000 ~ 50000 사이 실수 난수 생성\n",
    " - price_20 : 1000 ~ 50000 사이 실수 난수 생성\n",
    "- quantity_19 : 1 ~ 100 사이 정수 난수 생성\n",
    "- quantity_20 : 1 ~ 100 사이 정수 난수 생성\n",
    "- time_19 : 01 ~ 24 사이 정수 난수 생성\n",
    "- time_20 : 01 ~ 24 사이 정수 난수 생성\n",
    "- amount_19 : price_19 * quantity_19\n",
    "- amount_20 : price_20 * quantity_20\n",
    "- sales : 19년 대비 20년구매금액이 증가면 1, 감소면 0"
   ]
  },
  {
   "cell_type": "code",
   "execution_count": 336,
   "id": "fc195fbe",
   "metadata": {},
   "outputs": [
    {
     "data": {
      "text/plain": [
       "array([[0.84960398, 0.55679452, 0.21364467, ..., 0.65959773, 0.26215945,\n",
       "        0.51713677],\n",
       "       [0.3391828 , 0.92420744, 0.06388845, ..., 0.62965987, 0.84340933,\n",
       "        0.58117938],\n",
       "       [0.35753836, 0.04058937, 0.95838967, ..., 0.17219011, 0.10678606,\n",
       "        0.36485542],\n",
       "       ...,\n",
       "       [0.96190259, 0.31314971, 0.54061375, ..., 0.25587552, 0.67518975,\n",
       "        0.46065692],\n",
       "       [0.77285989, 0.39801204, 0.1217915 , ..., 0.41353601, 0.6832142 ,\n",
       "        0.4864349 ],\n",
       "       [0.91084928, 0.38865189, 0.47725768, ..., 0.91809638, 0.43340167,\n",
       "        0.78128967]])"
      ]
     },
     "execution_count": 336,
     "metadata": {},
     "output_type": "execute_result"
    }
   ],
   "source": [
    "ar = np.random.rand(1000,15)\n",
    "ar"
   ]
  },
  {
   "cell_type": "code",
   "execution_count": 396,
   "id": "30ae4008",
   "metadata": {},
   "outputs": [
    {
     "data": {
      "text/html": [
       "<div>\n",
       "<style scoped>\n",
       "    .dataframe tbody tr th:only-of-type {\n",
       "        vertical-align: middle;\n",
       "    }\n",
       "\n",
       "    .dataframe tbody tr th {\n",
       "        vertical-align: top;\n",
       "    }\n",
       "\n",
       "    .dataframe thead th {\n",
       "        text-align: right;\n",
       "    }\n",
       "</style>\n",
       "<table border=\"1\" class=\"dataframe\">\n",
       "  <thead>\n",
       "    <tr style=\"text-align: right;\">\n",
       "      <th></th>\n",
       "      <th>id</th>\n",
       "      <th>gender</th>\n",
       "      <th>age</th>\n",
       "      <th>region</th>\n",
       "      <th>product_19</th>\n",
       "      <th>product_20</th>\n",
       "      <th>price_19</th>\n",
       "      <th>price_20</th>\n",
       "      <th>qty_19</th>\n",
       "      <th>qty_20</th>\n",
       "      <th>time_19</th>\n",
       "      <th>time_20</th>\n",
       "      <th>amount_19</th>\n",
       "      <th>amount_20</th>\n",
       "      <th>sales</th>\n",
       "    </tr>\n",
       "  </thead>\n",
       "  <tbody>\n",
       "    <tr>\n",
       "      <th>0</th>\n",
       "      <td>685</td>\n",
       "      <td>1</td>\n",
       "      <td>0</td>\n",
       "      <td>4</td>\n",
       "      <td>33190</td>\n",
       "      <td>78414</td>\n",
       "      <td>31594</td>\n",
       "      <td>21035</td>\n",
       "      <td>1</td>\n",
       "      <td>28</td>\n",
       "      <td>21</td>\n",
       "      <td>15</td>\n",
       "      <td>31594</td>\n",
       "      <td>588980</td>\n",
       "      <td>1</td>\n",
       "    </tr>\n",
       "    <tr>\n",
       "      <th>1</th>\n",
       "      <td>560</td>\n",
       "      <td>1</td>\n",
       "      <td>66</td>\n",
       "      <td>7</td>\n",
       "      <td>61331</td>\n",
       "      <td>20014</td>\n",
       "      <td>10956</td>\n",
       "      <td>10067</td>\n",
       "      <td>54</td>\n",
       "      <td>76</td>\n",
       "      <td>18</td>\n",
       "      <td>14</td>\n",
       "      <td>591624</td>\n",
       "      <td>765092</td>\n",
       "      <td>1</td>\n",
       "    </tr>\n",
       "    <tr>\n",
       "      <th>2</th>\n",
       "      <td>630</td>\n",
       "      <td>1</td>\n",
       "      <td>12</td>\n",
       "      <td>0</td>\n",
       "      <td>95972</td>\n",
       "      <td>17188</td>\n",
       "      <td>42069</td>\n",
       "      <td>10681</td>\n",
       "      <td>75</td>\n",
       "      <td>60</td>\n",
       "      <td>5</td>\n",
       "      <td>11</td>\n",
       "      <td>3155175</td>\n",
       "      <td>640860</td>\n",
       "      <td>0</td>\n",
       "    </tr>\n",
       "    <tr>\n",
       "      <th>3</th>\n",
       "      <td>193</td>\n",
       "      <td>1</td>\n",
       "      <td>15</td>\n",
       "      <td>3</td>\n",
       "      <td>42473</td>\n",
       "      <td>72327</td>\n",
       "      <td>48693</td>\n",
       "      <td>22352</td>\n",
       "      <td>4</td>\n",
       "      <td>48</td>\n",
       "      <td>7</td>\n",
       "      <td>2</td>\n",
       "      <td>194772</td>\n",
       "      <td>1072896</td>\n",
       "      <td>1</td>\n",
       "    </tr>\n",
       "    <tr>\n",
       "      <th>4</th>\n",
       "      <td>836</td>\n",
       "      <td>0</td>\n",
       "      <td>33</td>\n",
       "      <td>5</td>\n",
       "      <td>88445</td>\n",
       "      <td>46468</td>\n",
       "      <td>32614</td>\n",
       "      <td>38756</td>\n",
       "      <td>66</td>\n",
       "      <td>48</td>\n",
       "      <td>22</td>\n",
       "      <td>7</td>\n",
       "      <td>2152524</td>\n",
       "      <td>1860288</td>\n",
       "      <td>0</td>\n",
       "    </tr>\n",
       "    <tr>\n",
       "      <th>5</th>\n",
       "      <td>764</td>\n",
       "      <td>0</td>\n",
       "      <td>23</td>\n",
       "      <td>6</td>\n",
       "      <td>35043</td>\n",
       "      <td>80646</td>\n",
       "      <td>15567</td>\n",
       "      <td>40204</td>\n",
       "      <td>26</td>\n",
       "      <td>87</td>\n",
       "      <td>10</td>\n",
       "      <td>9</td>\n",
       "      <td>404742</td>\n",
       "      <td>3497748</td>\n",
       "      <td>1</td>\n",
       "    </tr>\n",
       "    <tr>\n",
       "      <th>6</th>\n",
       "      <td>708</td>\n",
       "      <td>0</td>\n",
       "      <td>12</td>\n",
       "      <td>6</td>\n",
       "      <td>49919</td>\n",
       "      <td>32054</td>\n",
       "      <td>18657</td>\n",
       "      <td>21452</td>\n",
       "      <td>13</td>\n",
       "      <td>33</td>\n",
       "      <td>18</td>\n",
       "      <td>7</td>\n",
       "      <td>242541</td>\n",
       "      <td>707916</td>\n",
       "      <td>1</td>\n",
       "    </tr>\n",
       "    <tr>\n",
       "      <th>7</th>\n",
       "      <td>360</td>\n",
       "      <td>0</td>\n",
       "      <td>5</td>\n",
       "      <td>7</td>\n",
       "      <td>92947</td>\n",
       "      <td>53810</td>\n",
       "      <td>44209</td>\n",
       "      <td>24761</td>\n",
       "      <td>61</td>\n",
       "      <td>54</td>\n",
       "      <td>1</td>\n",
       "      <td>9</td>\n",
       "      <td>2696749</td>\n",
       "      <td>1337094</td>\n",
       "      <td>0</td>\n",
       "    </tr>\n",
       "    <tr>\n",
       "      <th>8</th>\n",
       "      <td>10</td>\n",
       "      <td>0</td>\n",
       "      <td>38</td>\n",
       "      <td>4</td>\n",
       "      <td>35514</td>\n",
       "      <td>75602</td>\n",
       "      <td>39782</td>\n",
       "      <td>47753</td>\n",
       "      <td>75</td>\n",
       "      <td>5</td>\n",
       "      <td>16</td>\n",
       "      <td>22</td>\n",
       "      <td>2983650</td>\n",
       "      <td>238765</td>\n",
       "      <td>0</td>\n",
       "    </tr>\n",
       "    <tr>\n",
       "      <th>9</th>\n",
       "      <td>724</td>\n",
       "      <td>1</td>\n",
       "      <td>1</td>\n",
       "      <td>7</td>\n",
       "      <td>43589</td>\n",
       "      <td>55558</td>\n",
       "      <td>9203</td>\n",
       "      <td>38800</td>\n",
       "      <td>58</td>\n",
       "      <td>30</td>\n",
       "      <td>19</td>\n",
       "      <td>18</td>\n",
       "      <td>533774</td>\n",
       "      <td>1164000</td>\n",
       "      <td>1</td>\n",
       "    </tr>\n",
       "    <tr>\n",
       "      <th>10</th>\n",
       "      <td>278</td>\n",
       "      <td>0</td>\n",
       "      <td>10</td>\n",
       "      <td>2</td>\n",
       "      <td>49972</td>\n",
       "      <td>26578</td>\n",
       "      <td>17190</td>\n",
       "      <td>39312</td>\n",
       "      <td>23</td>\n",
       "      <td>38</td>\n",
       "      <td>12</td>\n",
       "      <td>18</td>\n",
       "      <td>395370</td>\n",
       "      <td>1493856</td>\n",
       "      <td>1</td>\n",
       "    </tr>\n",
       "  </tbody>\n",
       "</table>\n",
       "</div>"
      ],
      "text/plain": [
       "     id  gender  age  region  product_19  product_20  price_19  price_20  \\\n",
       "0   685       1    0       4       33190       78414     31594     21035   \n",
       "1   560       1   66       7       61331       20014     10956     10067   \n",
       "2   630       1   12       0       95972       17188     42069     10681   \n",
       "3   193       1   15       3       42473       72327     48693     22352   \n",
       "4   836       0   33       5       88445       46468     32614     38756   \n",
       "5   764       0   23       6       35043       80646     15567     40204   \n",
       "6   708       0   12       6       49919       32054     18657     21452   \n",
       "7   360       0    5       7       92947       53810     44209     24761   \n",
       "8    10       0   38       4       35514       75602     39782     47753   \n",
       "9   724       1    1       7       43589       55558      9203     38800   \n",
       "10  278       0   10       2       49972       26578     17190     39312   \n",
       "\n",
       "    qty_19  qty_20  time_19  time_20  amount_19  amount_20 sales  \n",
       "0        1      28       21       15      31594     588980     1  \n",
       "1       54      76       18       14     591624     765092     1  \n",
       "2       75      60        5       11    3155175     640860     0  \n",
       "3        4      48        7        2     194772    1072896     1  \n",
       "4       66      48       22        7    2152524    1860288     0  \n",
       "5       26      87       10        9     404742    3497748     1  \n",
       "6       13      33       18        7     242541     707916     1  \n",
       "7       61      54        1        9    2696749    1337094     0  \n",
       "8       75       5       16       22    2983650     238765     0  \n",
       "9       58      30       19       18     533774    1164000     1  \n",
       "10      23      38       12       18     395370    1493856     1  "
      ]
     },
     "execution_count": 396,
     "metadata": {},
     "output_type": "execute_result"
    }
   ],
   "source": [
    "import pandas as pd\n",
    "columns =['id','gender','age',\n",
    "          'region','product_19','product_20','price_19','price_20','qty_19',\n",
    "          'qty_20','time_19','time_20','amount_19','amount_20','sales']\n",
    "\n",
    "index = [np.arange(0,1000)]  \n",
    "df = pd.DataFrame(ar,index, columns = columns)\n",
    "np.random.seed(0)\n",
    "df.id = np.random.randint(1,1000,size=1000)\n",
    "df.age = np.random.randint(0,80,1000)\n",
    "df.region = np.random.randint(0,10,1000)\n",
    "df.gender = np.random.randint(2,size=1000)\n",
    "df.product_19 = np.random.randint(11111,99999,size=1000)\n",
    "df.product_20 = np.random.randint(11111,99999,size=1000)\n",
    "df.price_19 = np.random.randint(1000,50000,size=1000)\n",
    "df.price_20 = np.random.randint(1000,50000,size=1000)\n",
    "df.qty_19 = np.random.randint(1.0,100.0,size=1000)\n",
    "df.qty_20 = np.random.randint(1.0,100.0,size=1000)\n",
    "df.time_19 = np.random.randint(1,24,size=1000)\n",
    "df.time_20 = np.random.randint(1,24,size=1000)\n",
    "df.amount_19 = df.price_19*df.qty_19\n",
    "df.amount_20 = df.price_20*df.qty_20\n",
    "df.sales = np.where(df.amount_19<df.amount_20,'1','0')\n",
    "df.head(11)"
   ]
  },
  {
   "cell_type": "code",
   "execution_count": null,
   "id": "3cd0a552",
   "metadata": {},
   "outputs": [],
   "source": []
  }
 ],
 "metadata": {
  "kernelspec": {
   "display_name": "Python 3 (ipykernel)",
   "language": "python",
   "name": "python3"
  },
  "language_info": {
   "codemirror_mode": {
    "name": "ipython",
    "version": 3
   },
   "file_extension": ".py",
   "mimetype": "text/x-python",
   "name": "python",
   "nbconvert_exporter": "python",
   "pygments_lexer": "ipython3",
   "version": "3.7.11"
  }
 },
 "nbformat": 4,
 "nbformat_minor": 5
}

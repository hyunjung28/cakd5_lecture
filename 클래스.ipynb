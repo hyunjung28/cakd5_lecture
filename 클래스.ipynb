{
 "cells": [
  {
   "cell_type": "markdown",
   "id": "29d0e63b",
   "metadata": {},
   "source": [
    "클래스\n",
    "클래스(class)란 똑같은 무엇인가를 계속해서 만들어 낼 수 있는 설계 도면이고(과자 틀), 객체(object)란 클래스로 만든 피조물(과자 틀을 사용해 만든 과자)을 뜻한다.\n",
    "과자 틀 → 클래스 (class)\n",
    "과자 틀에 의해서 만들어진 과자 → 객체 (object)\n",
    "\n",
    "- class : 함수 + 변수 모아놓은 것\n",
    "- 오브젝트(object) : 클래스를 써서 만든 것\n",
    "- 오브젝트(object) == 인스턴스(instance)\n",
    "- 클래스를 정의한 후, 그 클래스를 사용해서 데이터 객체(인스턴스)를 만들 수 있다.\n",
    "- 동일한 클래스에 의해 만들어진 각 객체들은 유사한 특징을 공유한다.\n",
    " - 모든 인스턴스에서 메소드(=코드)는 동일하지만, 속성(데이터)는 다르다.\n",
    " - 메소드 : 코드\n",
    " - 속성 : 데이터\n",
    " - 인스턴스 : 클래스에 의해 만들어진 데이터 객체\n",
    " - a = 클래스() 이렇게 만든 a는 객체이다. 그리고 a 객체는 클래스의 인스턴스이다. 즉 인스턴스라는 말은 특정 객체(a)가 어떤 클래스의 객체인지를 관계 위주로 설명할 때 사용\n"
   ]
  },
  {
   "cell_type": "code",
   "execution_count": 1,
   "id": "b6b6af84",
   "metadata": {},
   "outputs": [],
   "source": [
    "#[과제] 클래스 정의 및 사용하는 방법을 설명\n",
    "\n",
    "클래스는 객체를 표현하기 위한 문법입니다.\n",
    "체크박스, 스크롤바 같은 특정 개념 혹은 모양이 존재하는 것을 객체라고 부르고\n",
    "이런 객체를 사용한 프로그래밍 언어를 객체지향 언어라고 부릅니다.\n",
    "\n",
    "\n",
    "그 예로 list,dict등도 모두 각자의 용도에 맞게 만들어진 클래스 입니다.\n",
    "\n",
    "\n",
    "클래스에는 크게 속성과 메소드 두가지로 구분되는데, \n",
    "메소드는 코드 즉 실행되어 나오지는 것으로 구분하면 될 것 같습니다.\n",
    "\n",
    "클래스를 호출하기 위해서는 아래의 a=Hello()와 같이 인스턴스명=클래스명을 입력하면\n",
    "인스턴스를 생성해주어야한다\n",
    "\n",
    "\n",
    "클래스는 자기소개서라고 생각해보자\n",
    "자기소개서에 막 주민등록번호, 경력 등 그런 것들을 적어놨어\n",
    "name이란 변수에 김철수\n",
    "age에 28\n",
    "\n",
    "메일을 보니 길동씨와 영희님이 또 자기소개서를 보냈어\n",
    "각각 변수 이름을 만들어서 저장하려고함\n",
    "name_1, name_2, name_3이렇게 변수를 만들어 저장하였습니다\n",
    "이거 너무 양식도 없이 저장하는 거 아냐?\n",
    "이거 사람들 몰리면 어떻게 구분할거야\n",
    "통일된 양식으로 고칠려고함\n",
    "정해진 양식으로\n",
    "이름과 나이정보를 받았지 이제 이 정도를 토대로 정리를 해보자니\n",
    "name, age로\n",
    "\n",
    "JSS자소서 클래스를 만들고\n",
    "a= JSS()\n",
    "B= JSS()\n",
    "C = JSS()\n",
    "\n",
    "함수 뒤에 \n",
    "init 시작하다 함수 \n",
    "클래스를 선언하는 순간 실행되는 함수\n",
    "\n",
    "class JSS:\n",
    "    def __init__(self):\n",
    "        print('JSS  클래스 선언')\n",
    "a= JSS()\n",
    "a.show()\n",
    "\n",
    "\n",
    "class JSS:\n",
    "    def__init__(self):\n",
    "        \n",
    "\n"
   ]
  },
  {
   "cell_type": "code",
   "execution_count": 13,
   "id": "8b79c20d",
   "metadata": {},
   "outputs": [
    {
     "name": "stdout",
     "output_type": "stream",
     "text": [
      "이현정\n",
      "25\n",
      "chinese\n"
     ]
    }
   ],
   "source": [
    "#클래스 생성자 (인자가 있는 경우)\n",
    "class Cakd : #클래스 이름 첫글자 대문자\n",
    "    def __init__(self,name,age,major):\n",
    "        self.name = name  #객체.네임 \n",
    "        self.age = age \n",
    "        self.major = major\n",
    "#        print(f'{self.name}은 {self.age}세이며 {self.major}을 전공했습니다.')\n",
    "    \n",
    "    \n",
    "이현정 = Cakd('이현정',25,'chinese')\n",
    "print(이현정.name)\n",
    "print(이현정.age)\n",
    "print(이현정.major)\n",
    "\n",
    "        \n",
    "        "
   ]
  },
  {
   "cell_type": "code",
   "execution_count": 14,
   "id": "71559c26",
   "metadata": {},
   "outputs": [
    {
     "name": "stdout",
     "output_type": "stream",
     "text": [
      "Cakd 인스턴스 객체가 메모리에서 제거됩니다\n"
     ]
    }
   ],
   "source": [
    "#클래스 소멸자\n",
    "#클래스 인스턴스 객체가 메모리에서 제거될 때 자동으로 호출되는 클래스 메소드\n",
    "\n",
    "class Cakd:\n",
    "    def __del__(self):\n",
    "        print('Cakd 인스턴스 객체가 메모리에서 제거됩니다')\n",
    "        \n",
    "obj = Cakd()\n",
    "del obj\n"
   ]
  },
  {
   "cell_type": "markdown",
   "id": "e511987d",
   "metadata": {},
   "source": [
    "###  클래스 멤버, 클래스 메소드 \n",
    "- 클래스를 구성하는 주요 요소는 클래스 멤버(변수와 클래스 메소드(함수)로 클래스\n",
    "    공간내에서 정의 \n",
    "- 클래스 멤버는 클래스 메소드내에서 정의되는 지역변수나 인스턴스 멤버와는 다르다.\n",
    "- 클래스 메소드는 첫번째 인자가 반드시  self로 시작한다.-\n",
    "- self는 이 클래스의 인스턴스 객체를 가리키는 참조자\n",
    "- 인스턴스 객체에서 클래스 메소드를 호출시 첫번쨰 인자인 self 생략\n",
    "\n",
    "                         \n",
    "                         "
   ]
  },
  {
   "cell_type": "code",
   "execution_count": 19,
   "id": "78d606af",
   "metadata": {},
   "outputs": [
    {
     "name": "stdout",
     "output_type": "stream",
     "text": [
      "안녕하세요\n",
      "안녕하세요\n"
     ]
    }
   ],
   "source": [
    "class MyClass :\n",
    "    var = '안녕하세요' #클래스 멤버(or 변수)\n",
    "    def SayHello(self): #클래스 메소드\n",
    "        return self.var \n",
    "obj = MyClass()\n",
    "print(obj.var)\n",
    "print(obj.SayHello())"
   ]
  },
  {
   "cell_type": "code",
   "execution_count": 23,
   "id": "08276194",
   "metadata": {},
   "outputs": [
    {
     "name": "stdout",
     "output_type": "stream",
     "text": [
      "안녕하세요\n",
      "안녕\n",
      "안녕하세요\n"
     ]
    }
   ],
   "source": [
    "#클래스 멤버와 인스턴스 멤버\n",
    "#클래스 멤버는 클래스 메소드 바깥에서 선언되고 인스턴스 멤버는 클래스 메소드 안에서 \n",
    "#self와 함께 선언된다\n",
    "\n",
    "\n",
    "#클래스 메소드 안에 만드는 게 지역변수\n",
    "\n",
    "class Myclass:\n",
    "    var = '안녕하세요' # 클래스멤버\n",
    "    def sayHello(self):  # 클래스 메소드\n",
    "        param1 = '안녕' # 지역변수\n",
    "        #인스턴스는 매소드 안에서  self와 함꼐\n",
    "        self.param2 = '하이'    # 인스턴스 멤버 \n",
    "        \n",
    "        print(param1)\n",
    "        print(self.var)\n",
    "obj = Myclass()\n",
    "print(obj.var)\n",
    "obj.sayHello()   #위에는 return을 했고 밑에는  return을 안했으니깐\n",
    "        "
   ]
  },
  {
   "cell_type": "code",
   "execution_count": 28,
   "id": "6b2daa03",
   "metadata": {},
   "outputs": [
    {
     "name": "stdout",
     "output_type": "stream",
     "text": [
      "안녕하세요\n",
      "kevin! 다음에 보자\n"
     ]
    }
   ],
   "source": [
    "#클래스 메소드\n",
    "#클래스 내에서 정의되는 클래스 메소드는 첫번째 인자가 반드시  self여야 함\n",
    "\n",
    "\n",
    "class MyClass:\n",
    "    def sayHello(self):\n",
    "        print('안녕하세요')\n",
    "    def sayBye(self,name):\n",
    "        print(f'{name}! 다음에 보자')\n",
    "        \n",
    "obj = MyClass()\n",
    "obj.sayHello() #인자값이 없어서 괄호만 해주면 됨\n",
    "obj.sayBye('kevin')  # 인자값에 맞게 입력값을 줘야됨 "
   ]
  },
  {
   "cell_type": "markdown",
   "id": "2bbf3acf",
   "metadata": {},
   "source": [
    "### 객체지향 프로그래밍(Object -Oriented Progtamming) \n",
    "- 클래스 인스턴스는 객체(object)라고도 하며 이렇게 클래스를 정의하고 객체를\n",
    "  만드는 패턴을 객체 지향 프로그래밍(OOP) 이라고 함\n",
    "- 인스턴스를 불러온다는 것은 클래스를 가져와 객체로 바꿔준다는 것인데 type()함수를 사용하는 것은 그 반대\n",
    "- 객체의 type을 확인해 보면 해당 객체가 어떤 클래스의 인스턴스인지를 확인\n",
    "- 파이썬에서 main은 \"현재 실행중인 파일\"을 의미 \n"
   ]
  },
  {
   "cell_type": "code",
   "execution_count": 30,
   "id": "c2fa7451",
   "metadata": {},
   "outputs": [
    {
     "name": "stdout",
     "output_type": "stream",
     "text": [
      "<class '__main__.Test'>\n"
     ]
    }
   ],
   "source": [
    "#임의의 클래스를 작성한 후 인스턴스를 생성하고 그것의 타입을 확인\n",
    "class Test: \n",
    "    pass\n",
    "test=Test()\n",
    "print(type(test))"
   ]
  },
  {
   "cell_type": "markdown",
   "id": "fe0e7bcb",
   "metadata": {},
   "source": [
    "### 클래스 상속\n",
    "- 어떤 클래스가 가지고 있는 모든 멤버나 메소드(코드)를 상속받는 클래스가 모두 사용할\n",
    " 수 있도록 해주는 것\n",
    "- 상속을 해주는 클래스가 부모클래스(슈퍼), 상속을 받는 클래스가 자식클래스 (서브)라 함.\n",
    "    class 자식 클래스명(부모클래스명)\n",
    "- 자식 클래스는 여러 부모클래스로 부터 상속받을 수 있으며 다중상속이라 함. \n",
    "   class 자식 클래스명 (부모 클래스1, 부모 클래스2, ...)\n",
    "    \n",
    "    \n"
   ]
  },
  {
   "cell_type": "code",
   "execution_count": 39,
   "id": "c4ab35fd",
   "metadata": {},
   "outputs": [
    {
     "name": "stdout",
     "output_type": "stream",
     "text": [
      "3\n",
      "6\n",
      "2\n"
     ]
    }
   ],
   "source": [
    "class Sum:\n",
    "    def sum( self, n1,n2):\n",
    "        return n1+n2\n",
    "class Mul:\n",
    "    def mul(self, n1,n2):\n",
    "        return n1*n2\n",
    "    \n",
    "class Cal(Sum,Mul):\n",
    "    def sub (self,n1,n2):\n",
    "        return n1-n2\n",
    "obj = Cal()\n",
    "print(obj.sum(1,2))\n",
    "print(obj.mul(3,2))\n",
    "print(obj.sub(5,3))"
   ]
  },
  {
   "cell_type": "code",
   "execution_count": 41,
   "id": "6bf4787f",
   "metadata": {},
   "outputs": [
    {
     "name": "stdout",
     "output_type": "stream",
     "text": [
      "이현정, 안녕하세요\n",
      "이현정!, 다음에 보자\n"
     ]
    }
   ],
   "source": [
    "# Q. 클래스 MyClass를 작성하고 객체를 생성하여 아래와 같이 출력하세요(생성자사용)\n",
    "# 이현정, 안녕하세요\n",
    "# 이현정, 다음에 보자\n",
    "\n",
    "\n",
    "\n",
    "class MyClass:\n",
    "    def sayHello(self,name):\n",
    "        print(f'{name}, 안녕하세요')\n",
    "    def sayBye(self,name):\n",
    "        print(f'{name}!, 다음에 보자')\n",
    "\n",
    "obj = MyClass()\n",
    "obj.sayHello('이현정')\n",
    "obj.sayBye('이현정')"
   ]
  },
  {
   "cell_type": "code",
   "execution_count": 58,
   "id": "ba51c1ab",
   "metadata": {},
   "outputs": [
    {
     "ename": "TypeError",
     "evalue": "sayHello() missing 1 required positional argument: 'name'",
     "output_type": "error",
     "traceback": [
      "\u001b[1;31m---------------------------------------------------------------------------\u001b[0m",
      "\u001b[1;31mTypeError\u001b[0m                                 Traceback (most recent call last)",
      "\u001b[1;32m~\\AppData\\Local\\Temp/ipykernel_8564/257001348.py\u001b[0m in \u001b[0;36m<module>\u001b[1;34m\u001b[0m\n\u001b[0;32m     14\u001b[0m \u001b[0mobj\u001b[0m\u001b[1;33m=\u001b[0m\u001b[0mName\u001b[0m\u001b[1;33m(\u001b[0m\u001b[1;34m'이현정'\u001b[0m\u001b[1;33m)\u001b[0m\u001b[1;33m\u001b[0m\u001b[1;33m\u001b[0m\u001b[0m\n\u001b[0;32m     15\u001b[0m \u001b[1;33m\u001b[0m\u001b[0m\n\u001b[1;32m---> 16\u001b[1;33m \u001b[0mobj\u001b[0m\u001b[1;33m.\u001b[0m\u001b[0msayHello\u001b[0m\u001b[1;33m(\u001b[0m\u001b[1;33m)\u001b[0m\u001b[1;33m\u001b[0m\u001b[1;33m\u001b[0m\u001b[0m\n\u001b[0m\u001b[0;32m     17\u001b[0m \u001b[0mobj\u001b[0m\u001b[1;33m.\u001b[0m\u001b[0msayBye\u001b[0m\u001b[1;33m(\u001b[0m\u001b[1;34m'이현정'\u001b[0m\u001b[1;33m)\u001b[0m\u001b[1;33m\u001b[0m\u001b[1;33m\u001b[0m\u001b[0m\n",
      "\u001b[1;31mTypeError\u001b[0m: sayHello() missing 1 required positional argument: 'name'"
     ]
    }
   ],
   "source": [
    "#클래스 생성자 (인자가 있는 경우)\n",
    "class Name: \n",
    "    def __init__(self,name):\n",
    "        self.name = name  \n",
    "    def sayHello(self,name):\n",
    "        print(f'{name}, 안녕하세요')\n",
    "    def sayBye(self,name):\n",
    "        print(f'{name}!, 다음에 보자')\n",
    "       \n",
    "    \n",
    "    \n",
    "    \n",
    "\n",
    "obj=Name('이현정')\n",
    "\n",
    "obj.sayHello()\n",
    "obj.sayBye('이현정')\n"
   ]
  },
  {
   "cell_type": "code",
   "execution_count": 51,
   "id": "936026da",
   "metadata": {},
   "outputs": [
    {
     "data": {
      "text/plain": [
       "3000"
      ]
     },
     "execution_count": 51,
     "metadata": {},
     "output_type": "execute_result"
    }
   ],
   "source": [
    "#[과제] 사용자 함수를 작성하여 기본가격 1000에 입력 받은 값을 추가한 가격을 산출하세요\n",
    "#(지역변수,전역변수 2가지 방법)\n",
    "\n",
    "a = 1000\n",
    "\n",
    "class Price:\n",
    "    def cal(self,price):\n",
    "        return a+price\n",
    "\n",
    "\n",
    "obj = Price()\n",
    "obj.cal(2000)\n",
    "\n",
    "\n"
   ]
  },
  {
   "cell_type": "code",
   "execution_count": 52,
   "id": "1daf7cc7",
   "metadata": {},
   "outputs": [
    {
     "data": {
      "text/plain": [
       "3000"
      ]
     },
     "execution_count": 52,
     "metadata": {},
     "output_type": "execute_result"
    }
   ],
   "source": [
    "class Price:\n",
    "    a= 1000\n",
    "    def cal(self,price):\n",
    "        return a+price\n",
    "\n",
    "\n",
    "obj = Price()\n",
    "obj.cal(2000)"
   ]
  },
  {
   "cell_type": "code",
   "execution_count": 44,
   "id": "35f7e19b",
   "metadata": {},
   "outputs": [
    {
     "name": "stdout",
     "output_type": "stream",
     "text": [
      "3\n",
      "6\n",
      "2\n"
     ]
    }
   ],
   "source": [
    "#[과제] 4칙 연산 기능을 포함한 Cal4  클래스 (생성자 이용)을 작성하고 이 클래스를\n",
    "#이용하여 Cal 계싼기 객체를 만든후 적절한 사칙연산 수행 결과를 출력하세요class Add:\n",
    "\n",
    "\n",
    "def Add(self,n1,n2):\n",
    "    return n1+n2\n",
    "class Sub:\n",
    "    def sub(slef, n1, n2):\n",
    "        return n1-n2\n",
    "class Mul:\n",
    "    def mul(self,n1,n2):\n",
    "        return n1*n2\n",
    "class Div:\n",
    "    def div(self,n1,n2):\n",
    "        return n1/n2\n",
    "\n",
    "class Cal(Add,Sub,Mul,Div):\n",
    "    def cal(self, n1,n2):\n",
    "        return n1+n2, n1-n2, n1*n2, n1/n2\n",
    "    \n",
    "obj = Cal()\n",
    "print(obj.add(1,2))\n",
    "print(obj.mul(3,2))\n",
    "print(obj.sub(5,3))    \n",
    "    \n",
    "    \n",
    "    \n",
    "\n"
   ]
  },
  {
   "cell_type": "code",
   "execution_count": 73,
   "id": "19f03b3f",
   "metadata": {},
   "outputs": [
    {
     "name": "stdout",
     "output_type": "stream",
     "text": [
      "4\n",
      "9\n",
      "3\n"
     ]
    }
   ],
   "source": [
    "class Calculator : #클래스 이름 첫글자 대문자\n",
    "    def __init__(self):\n",
    "        self.result=0\n",
    "        \n",
    "    def add(self,num):\n",
    "        self.result += num\n",
    "        return self.result\n",
    "    \n",
    "cal1=Calculator()\n",
    "cal2=Calculator()\n",
    "\n",
    "print(cal1.add(4))\n",
    "print(cal1.add(5))\n",
    "print(cal2.add(3))\n"
   ]
  },
  {
   "cell_type": "code",
   "execution_count": 93,
   "id": "73ed5a5b",
   "metadata": {},
   "outputs": [
    {
     "name": "stdout",
     "output_type": "stream",
     "text": [
      "6\n",
      "8\n",
      "2\n",
      "2.0\n"
     ]
    }
   ],
   "source": [
    "#[과제] 4칙 연산 기능을 포함한 Cal4  클래스 (생성자 이용)을 작성하고 이 클래스를\n",
    "#이용하여 Cal 계싼기 객체를 만든후 적절한 사칙연산 수행 결과를 출력하세요class Add:\n",
    "class FourCal:\n",
    "    def setdata(self,first,second):\n",
    "        self.first = first\n",
    "        self.second = second\n",
    "    def add(self):\n",
    "        result = self.first+ self.second\n",
    "        return result\n",
    "\n",
    "    def mul(self):\n",
    "        result = self.first * self.second\n",
    "        return result \n",
    "    def sub(self):\n",
    "        result = self.first - self.second\n",
    "        return result \n",
    "    def div(self):\n",
    "        result = self.first / self.second\n",
    "        return result \n",
    "    \n",
    "a = FourCal()\n",
    "a.setdata(4,2)\n",
    "print(a.add())\n",
    "print(a.mul())\n",
    "print(a.sub())\n",
    "print(a.div())"
   ]
  },
  {
   "cell_type": "code",
   "execution_count": 100,
   "id": "40749740",
   "metadata": {},
   "outputs": [
    {
     "name": "stdout",
     "output_type": "stream",
     "text": [
      "6\n",
      "8\n",
      "2\n",
      "2.0\n"
     ]
    }
   ],
   "source": [
    "\n",
    "#[과제] 4칙 연산 기능을 포함한 Cal4  클래스 (생성자 이용)을 작성하고 이 클래스를\n",
    "#이용하여 Cal 계싼기 객체를 만든후 적절한 사칙연산 수행 결과를 출력하세요class Add:\n",
    "\n",
    "\n",
    "class FourCal:\n",
    "    def __init__(self,first,second):\n",
    "        self.first = first\n",
    "        self.second = second\n",
    "        \n",
    "    def setdata(self,first,second):\n",
    "        self.first= first\n",
    "        self.second=second\n",
    "    def add(self):\n",
    "        result = self.first+self.second\n",
    "        return result\n",
    "    def mul(self):\n",
    "        result = self.first * self.second\n",
    "        return result \n",
    "    def sub(self):\n",
    "        result = self.first - self.second\n",
    "        return result \n",
    "    def div(self):\n",
    "        result = self.first / self.second\n",
    "        return result \n",
    "\n",
    "a = FourCal(4,2)\n",
    "print(a.add())\n",
    "print(a.mul())\n",
    "print(a.sub())\n",
    "print(a.div())"
   ]
  }
 ],
 "metadata": {
  "kernelspec": {
   "display_name": "Python 3 (ipykernel)",
   "language": "python",
   "name": "python3"
  },
  "language_info": {
   "codemirror_mode": {
    "name": "ipython",
    "version": 3
   },
   "file_extension": ".py",
   "mimetype": "text/x-python",
   "name": "python",
   "nbconvert_exporter": "python",
   "pygments_lexer": "ipython3",
   "version": "3.7.11"
  }
 },
 "nbformat": 4,
 "nbformat_minor": 5
}

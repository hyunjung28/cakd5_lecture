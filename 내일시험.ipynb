{
 "cells": [
  {
   "cell_type": "code",
   "execution_count": null,
   "id": "5c2578d8",
   "metadata": {},
   "outputs": [],
   "source": [
    "import keyword\n",
    "print(keyword.kwlist,'\\n')"
   ]
  },
  {
   "cell_type": "code",
   "execution_count": null,
   "id": "b8990f9e",
   "metadata": {},
   "outputs": [],
   "source": [
    "\n",
    "\n",
    "print(round(2//3))\n",
    "print(2%1)\n",
    "print(2**3)"
   ]
  },
  {
   "cell_type": "code",
   "execution_count": null,
   "id": "f278b36a",
   "metadata": {},
   "outputs": [],
   "source": [
    "#Q. a=52 와 b=52.273 일때, a+b는 5252.273로 출력되도록 a ,b를 문자열 \n",
    "#자료형으로 변환하세요.\n",
    "\n",
    "a=52\n",
    "b=52.273\n",
    "\n",
    "print(str(a)+str(b))"
   ]
  },
  {
   "cell_type": "code",
   "execution_count": null,
   "id": "74e67291",
   "metadata": {},
   "outputs": [],
   "source": [
    "d1= {'a':1,'b':2,'c':3}\n",
    "\n",
    "print(d1['a'])\n"
   ]
  },
  {
   "cell_type": "code",
   "execution_count": null,
   "id": "e4f4b3e1",
   "metadata": {},
   "outputs": [],
   "source": [
    "d1={'맑음':1, '눈':2, '비':3}\n",
    "\n",
    "\n",
    "x = int(input('오늘의 날씨를 입력하세요>'))\n",
    "print(d1[x])"
   ]
  },
  {
   "cell_type": "code",
   "execution_count": null,
   "id": "fcadad30",
   "metadata": {},
   "outputs": [],
   "source": [
    "y=3.42134234\n",
    "f'{y:0.4f}'\n",
    "f'{y:10.5f}'"
   ]
  },
  {
   "cell_type": "code",
   "execution_count": null,
   "id": "1d68a8cc",
   "metadata": {},
   "outputs": [],
   "source": [
    "# 1~ 10 법위의 정수에서 1부터 5까지만 출력하세요\n",
    "\n",
    "for i in range (1,11):\n",
    "    print(i)\n",
    "    while 1 :\n",
    "        if i > 4:\n",
    "            continue\n",
    "        else:\n",
    "            break\n"
   ]
  },
  {
   "cell_type": "code",
   "execution_count": null,
   "id": "daba43b3",
   "metadata": {},
   "outputs": [],
   "source": [
    "#numbers 리스트에서 15,20,25를 출력하세요(for문과  if조건 사용 필수)\n",
    "numbers = [5,15,6,20,7,25]\n",
    "\n",
    "for i in  numbers:\n",
    "   \n",
    "    if i > 10:\n",
    "        print(i)\n",
    "    else:\n",
    "        continue\n",
    "        "
   ]
  },
  {
   "cell_type": "code",
   "execution_count": null,
   "id": "a0ea12ae",
   "metadata": {},
   "outputs": [],
   "source": [
    "# 정수 1부터 n 까지 더할 때 그 합이 1000보다 커지게 되는 n과 합을 구하세요\n",
    "\n",
    "x=1\n",
    "sum= 0\n",
    "\n",
    "while 1:\n",
    "    \n",
    "        sum = sum+x\n",
    "        if sum > 1000:\n",
    "            print(x)\n",
    "            print(sum)\n",
    "       \n",
    "            break\n",
    "        x =x+1"
   ]
  },
  {
   "cell_type": "code",
   "execution_count": null,
   "id": "6fad38ab",
   "metadata": {},
   "outputs": [],
   "source": [
    "#while 문을 사용해1부터 10000까지의 정수 중 3의 배수의 합을 구하시오\n",
    "\n",
    "x=1\n",
    "sum=0\n",
    "\n",
    "while 1:\n",
    "    for x in range(1,1000):\n",
    "        if x%3 == 0 :\n",
    "            sum=sum+x\n",
    "    break   \n",
    "  \n",
    "print(sum)\n",
    "\n",
    "\n"
   ]
  },
  {
   "cell_type": "code",
   "execution_count": null,
   "id": "97963385",
   "metadata": {},
   "outputs": [],
   "source": [
    "x=1\n",
    "sum = 0\n",
    "\n",
    "while 1 :\n",
    "    for x in range(1,1000):\n",
    "        if x %3 == 0 :\n",
    "            sum+=x\n",
    "        \n",
    "    break\n",
    "    \n",
    "print(sum)"
   ]
  },
  {
   "cell_type": "code",
   "execution_count": null,
   "id": "f9e9735e",
   "metadata": {},
   "outputs": [],
   "source": [
    "#과제 #1부터 100까지의 정수 중 5에서 95까지의 합을 구하시오\n",
    "\n",
    "num = 1\n",
    "sum = 0\n",
    "\n",
    "\n",
    "while num <100:\n",
    "    if i >= 5 or i <=95:\n",
    "        sum += num\n",
    "        num += 1\n",
    "print(sum)\n",
    "        \n"
   ]
  },
  {
   "cell_type": "code",
   "execution_count": null,
   "id": "6ae3b534",
   "metadata": {},
   "outputs": [],
   "source": [
    "#5의 3승을 3으로 나누었을 때 나머지를 복합대입 연산자를 이용해 구하세요\n",
    "\n",
    "(5**3)%3"
   ]
  },
  {
   "cell_type": "code",
   "execution_count": null,
   "id": "eca839a5",
   "metadata": {},
   "outputs": [],
   "source": [
    "#1부터 5까지 입력해서 12345를 출력하세요\n",
    "num=12345\n",
    "\n",
    "for i in range(1,6):\n",
    "    \n",
    "    if i < 6 :\n",
    "        print(i, end=' ')\n",
    "        continue\n",
    "    else:\n",
    "        break\n"
   ]
  },
  {
   "cell_type": "code",
   "execution_count": null,
   "id": "2fc9f73b",
   "metadata": {},
   "outputs": [],
   "source": [
    "#[0,1,2,3,4,5,6,7,8,9,' a','b','c']에서 9와 'a'를 삭제후 리스트로 출력하세요\n",
    "a=[0,1,2,3,4,5,6,7,8,9,' a','b','c']\n",
    "del(a[9])\n",
    "del(a[9])\n",
    "\n",
    "a"
   ]
  },
  {
   "cell_type": "code",
   "execution_count": null,
   "id": "99b65a1b",
   "metadata": {},
   "outputs": [],
   "source": [
    "#format함수를 이용해서 다음과 같은 형식으로 현재 날짜/시간을 출력하세요 \n",
    "#2021년 12월 29일 15시 47분 30초\n",
    "\n",
    "import datetime\n",
    "t = datetime.datetime.now()\n",
    "\n",
    "print(\"{}년{}월{}일{}시{}분{}초\".format(t.year,t.month,t.day,t.hour,t.minute,t.second))"
   ]
  },
  {
   "cell_type": "code",
   "execution_count": null,
   "id": "71bd8197",
   "metadata": {},
   "outputs": [],
   "source": [
    "#현재 시각을 오전과 오후로 구분하느 프로그램을 작성하세요.\n",
    "import datetime\n",
    "t = datetime.datetime.now()\n",
    "\n",
    "\n",
    "\n",
    "if t.hour> 12:\n",
    "    print(\"현재 시간은 {}시로 오후입니다\".format(t.hour))\n",
    "else:\n",
    "    print(\"오전입니다\")"
   ]
  },
  {
   "cell_type": "code",
   "execution_count": null,
   "id": "5e46aacb",
   "metadata": {},
   "outputs": [],
   "source": [
    "#정수를 입력하면 홀수짝수를 판별하는 프로그램을 작성하세요\n",
    "num = int(input('정수입력: >>>'))\n",
    "while 1:\n",
    "    if num%2 == 0:\n",
    "        print(\"짝수입니다\")\n",
    "    else:\n",
    "        print(\"홀수입니다\")\n",
    "    break"
   ]
  },
  {
   "cell_type": "code",
   "execution_count": null,
   "id": "9d36deb1",
   "metadata": {},
   "outputs": [],
   "source": [
    "#태어난 연도를 입력받아 띠를 출력하는 프로그램을 작성하세요. \n",
    "#원숭이,닭,개,돼지.쥐,소,범 ,토끼,용,뱀,말,양띠\n",
    "\n",
    "i = input(\"태어난 해를 입력해: >>\")\n",
    "year = int(i)%12\n",
    "animals = ['원숭이','닭','개','돼지','쥐','소','범' ,'토끼','용','뱀','말','양띠']\n",
    "\n",
    "print(animals[year],'띠입니다')\n"
   ]
  },
  {
   "cell_type": "code",
   "execution_count": null,
   "id": "ee9ed230",
   "metadata": {},
   "outputs": [],
   "source": [
    "#계절 구분 프로그램 각 계절별 출력멘트는 계절에 맞게 창작\n",
    "\n",
    "month = int(input(\"달을 입력해주세요\"))\n",
    "\n",
    "if month >=3 and month <=5 :\n",
    "    print(f'오늘의 달은 {month}달로 봄입니다')\n",
    "    \n",
    "\n",
    "\n",
    "\n"
   ]
  },
  {
   "cell_type": "code",
   "execution_count": null,
   "id": "17f60601",
   "metadata": {},
   "outputs": [],
   "source": [
    "#계절 구분 프로그램 각 계절별 출력멘트는 계절에 맞게 창작\n",
    "#자판기 커피 재고 5잔, 커피 1잔 가격 300원, 재고 범위내에서 300원 이상 \n",
    "#돈을 넣으면 거스름돈과 커피를 주고 그렇지 않으면 반환하며 재고가 소진되면 \n",
    "#안내멘트 출력 각 Case별 멘트 출력은 상황에 맞게 창작 \n",
    "#while, if ~ elif ~ else 제어문을 사용하여 작성\n",
    "\n",
    "\n",
    "coffee = 5\n",
    "price = 300\n",
    "\n",
    "\n",
    "\n",
    "while 1:\n",
    "    try:\n",
    "        money = int(input(\"돈을 넣어주세요 \"))\n",
    "        if money> 300: \n",
    "            print(\"따듯한 커피 드리겠습니다\")\n",
    "            p = int(input(\"몇 잔 드시겠습니까\"))\n",
    "            change = money -(price*p)\n",
    "            print(\"거스름돈 {}드리겠습니다\".format(change))\n",
    "            coffee= coffee-p\n",
    "            x = input(\"종료하시겠습니까\")\n",
    "            if x =='y':    \n",
    "                break\n",
    "\n",
    "        elif money < 300:\n",
    "            print(\"돈이 부족합니다\")\n",
    "            x = input(\"종료하시겠습니까\")\n",
    "            if x =='y':    \n",
    "                break   \n",
    "        else: \n",
    "            if coffee == 0 :\n",
    "                print(\"재고가 소진되었습니다\")\n",
    "    \n",
    "           \n",
    "\n",
    "    except ValueError:\n",
    "            print(\"숫자로 입력하세요\")\n",
    "        \n",
    "    except:\n",
    "        \n",
    "            print('문자를 입력하세요')\n",
    "\n",
    "\n",
    "\n",
    "\n",
    "\n",
    "\n",
    "\n",
    "\n",
    "\n",
    "\n",
    "\n",
    "\n",
    "\n",
    "\n",
    "\n",
    "\n"
   ]
  },
  {
   "cell_type": "code",
   "execution_count": null,
   "id": "e132080f",
   "metadata": {},
   "outputs": [],
   "source": [
    "#[과제] 1부터 100까지 아래와 같이 2개의 수를 곱해서 가장 큰 수를 구하세요.\n",
    "\n",
    "\n",
    "#1*99,2*98....99*1\n",
    "\n",
    "i +=i\n",
    "m = (100-i)\n",
    "\n",
    "if i in range(1,51):\n",
    "    if i < i(100-51):\n",
    "        b=i\n",
    "        "
   ]
  },
  {
   "cell_type": "code",
   "execution_count": null,
   "id": "5e39117d",
   "metadata": {},
   "outputs": [],
   "source": [
    "i +=i\n",
    "m = 100-i\n",
    "\n",
    "for i in range(1,51):\n",
    "    if i<i(100-51):\n",
    "        b=i\n",
    "    print(a,\"*\",100-a'의 최댓값은 b'입니다)\n",
    "    "
   ]
  },
  {
   "cell_type": "code",
   "execution_count": 1,
   "id": "1a37d646",
   "metadata": {},
   "outputs": [
    {
     "name": "stdout",
     "output_type": "stream",
     "text": [
      "[[1, 4, 7], [2, 5, 8], [3, 6, 9]]\n"
     ]
    }
   ],
   "source": [
    "#[1,4,7], [2,5,8],[3,6,9]\n",
    "\n",
    "numbers = [1,2,3,4,5,6,7,8,9]\n",
    "output = [[],[],[]]\n",
    "\n",
    "\n",
    "\n",
    "for number in numbers:\n",
    "    output [(number+2)%3].append(number)\n",
    "print(output)"
   ]
  },
  {
   "cell_type": "code",
   "execution_count": 3,
   "id": "c1a0a8a4",
   "metadata": {},
   "outputs": [
    {
     "data": {
      "text/plain": [
       "array([12, 15,  0,  3,  3,  7,  9, 19, 18,  4,  6, 12,  1,  6,  7, 14, 17,\n",
       "        5, 13,  8])"
      ]
     },
     "execution_count": 3,
     "metadata": {},
     "output_type": "execute_result"
    }
   ],
   "source": [
    "import numpy as np\n",
    "np.random.seed(0)\n",
    "num= np.random.randint(20,size=20)\n",
    "num"
   ]
  },
  {
   "cell_type": "code",
   "execution_count": 9,
   "id": "afad9f59",
   "metadata": {},
   "outputs": [
    {
     "name": "stdout",
     "output_type": "stream",
     "text": [
      "[38 43 18  7 28  1]\n"
     ]
    }
   ],
   "source": [
    "import numpy as np\n",
    "\n",
    "for i in range(1,46):\n",
    "    lotto_num=np.random.randint(46,size=6)\n",
    "print(lotto_num)"
   ]
  },
  {
   "cell_type": "code",
   "execution_count": 2,
   "id": "cbe667b3",
   "metadata": {},
   "outputs": [
    {
     "name": "stdout",
     "output_type": "stream",
     "text": [
      "[[1, 4, 7], [2, 5, 8], [3, 6, 9]]\n"
     ]
    }
   ],
   "source": [
    "numbers = [1,2,3,4,5,6,7,8,9]\n",
    "output = [[],[],[]]\n",
    "\n",
    "\n",
    "for number in numbers:\n",
    "    output[(number+2)%3].append(number)\n",
    "print(output)"
   ]
  },
  {
   "cell_type": "code",
   "execution_count": 12,
   "id": "f58a4c95",
   "metadata": {},
   "outputs": [
    {
     "name": "stdout",
     "output_type": "stream",
     "text": [
      "게임 횟수 입력4\n",
      "[3, 12, 39, 40, 41, 45]\n"
     ]
    }
   ],
   "source": [
    "import random\n",
    "\n",
    "n=input(\"게임 횟수 입력\")\n",
    "\n",
    "for i in range(0,int(n)):\n",
    "    lotto = random.sample(range(1,46),6)\n",
    "    lotto.sort()\n",
    "print(lotto)"
   ]
  },
  {
   "cell_type": "code",
   "execution_count": 20,
   "id": "ac9cbd68",
   "metadata": {},
   "outputs": [
    {
     "name": "stdout",
     "output_type": "stream",
     "text": [
      "커플1:이몽룡-줄리엣\n",
      "커플2:로미오-성춘향\n",
      "커플3:심봉사-원더우먼\n",
      "커플4:슈퍼맨-뺑덕\n",
      "커플5:마루치-아라치\n"
     ]
    }
   ],
   "source": [
    "\n",
    "from random import shuffle\n",
    "\n",
    "male = ['슈퍼맨', '심봉사', '로미오', '이몽룡', '마루치']\n",
    "female = ['원더우먼', '뺑덕', '줄리엣', '성춘향', '아라치']\n",
    "\n",
    "shuffle(male)\n",
    "shuffle(female)\n",
    "couples = zip(male,female)\n",
    "\n",
    "for i, couple in enumerate(couples):\n",
    "    print(f'커플{i+1}:{couple[0]}-{couple[1]}')"
   ]
  },
  {
   "cell_type": "code",
   "execution_count": 23,
   "id": "0a159c41",
   "metadata": {},
   "outputs": [
    {
     "name": "stdout",
     "output_type": "stream",
     "text": [
      "커플 1:심봉사-아라치\n",
      "커플 2:마루치-뺑덕\n",
      "커플 3:이몽룡-원더우먼\n",
      "커플 4:로미오-성춘향\n",
      "커플 5:슈퍼맨-줄리엣\n"
     ]
    }
   ],
   "source": [
    "#[과제]남녀 파트너 정해주기 프로그램을 작성하세요(5개 커플)\n",
    "\n",
    "from random import shuffle\n",
    "\n",
    "male = ['슈퍼맨', '심봉사', '로미오', '이몽룡', '마루치']\n",
    "female = ['원더우먼', '뺑덕', '줄리엣', '성춘향', '아라치']\n",
    "\n",
    "shuffle(male)\n",
    "shuffle(female)\n",
    "couples =zip(male,female)\n",
    "\n",
    "for i,couples in enumerate(couples):\n",
    "    print(f'커플 {i+1}:{couples[0]}-{couples[1]}')"
   ]
  },
  {
   "cell_type": "code",
   "execution_count": 39,
   "id": "5971533e",
   "metadata": {},
   "outputs": [],
   "source": [
    "#입력받은 문자열의 각 문자를 그 다음 문자로 변경하여 출력하세요\n",
    "\n",
    "#abcde ->bcdea \n",
    "\n"
   ]
  },
  {
   "cell_type": "code",
   "execution_count": 45,
   "id": "485c8d9d",
   "metadata": {
    "scrolled": true
   },
   "outputs": [
    {
     "ename": "TypeError",
     "evalue": "'list' object is not callable",
     "output_type": "error",
     "traceback": [
      "\u001b[1;31m---------------------------------------------------------------------------\u001b[0m",
      "\u001b[1;31mTypeError\u001b[0m                                 Traceback (most recent call last)",
      "\u001b[1;32m~\\AppData\\Local\\Temp/ipykernel_3452/1161864521.py\u001b[0m in \u001b[0;36m<module>\u001b[1;34m\u001b[0m\n\u001b[0;32m      1\u001b[0m \u001b[0mstr\u001b[0m\u001b[1;33m=\u001b[0m\u001b[1;34m'abcde'\u001b[0m\u001b[1;33m\u001b[0m\u001b[1;33m\u001b[0m\u001b[0m\n\u001b[1;32m----> 2\u001b[1;33m \u001b[0mlst\u001b[0m \u001b[1;33m=\u001b[0m \u001b[0mlist\u001b[0m\u001b[1;33m(\u001b[0m\u001b[0mstr\u001b[0m\u001b[1;33m)\u001b[0m\u001b[1;33m\u001b[0m\u001b[1;33m\u001b[0m\u001b[0m\n\u001b[0m\u001b[0;32m      3\u001b[0m \u001b[0mlst\u001b[0m\u001b[1;33m.\u001b[0m\u001b[0mappend\u001b[0m\u001b[1;33m(\u001b[0m\u001b[0mlst\u001b[0m\u001b[1;33m[\u001b[0m\u001b[1;36m0\u001b[0m\u001b[1;33m]\u001b[0m\u001b[1;33m)\u001b[0m\u001b[1;33m\u001b[0m\u001b[1;33m\u001b[0m\u001b[0m\n\u001b[0;32m      4\u001b[0m \u001b[0mlst\u001b[0m\u001b[1;33m.\u001b[0m\u001b[0mremove\u001b[0m\u001b[1;33m(\u001b[0m\u001b[0mlst\u001b[0m\u001b[1;33m[\u001b[0m\u001b[1;36m0\u001b[0m\u001b[1;33m]\u001b[0m\u001b[1;33m)\u001b[0m\u001b[1;33m\u001b[0m\u001b[1;33m\u001b[0m\u001b[0m\n\u001b[0;32m      5\u001b[0m \u001b[0mstr\u001b[0m \u001b[1;33m=\u001b[0m \u001b[1;34m''\u001b[0m\u001b[1;33m.\u001b[0m\u001b[0mjoin\u001b[0m\u001b[1;33m(\u001b[0m\u001b[0mlst\u001b[0m\u001b[1;33m)\u001b[0m\u001b[1;33m\u001b[0m\u001b[1;33m\u001b[0m\u001b[0m\n",
      "\u001b[1;31mTypeError\u001b[0m: 'list' object is not callable"
     ]
    }
   ],
   "source": [
    "str ='abcde'\n",
    "lst = list(str)\n",
    "lst.append(lst[0])\n",
    "lst.remove(lst[0])\n",
    "str = ''.join(lst)\n",
    "str"
   ]
  },
  {
   "cell_type": "code",
   "execution_count": 46,
   "id": "5ddad371",
   "metadata": {},
   "outputs": [
    {
     "name": "stdout",
     "output_type": "stream",
     "text": [
      "{2: 2, 3: 4, 4: 2, 5: 2, 6: 2, 7: 2, 8: 2, 9: 2}\n"
     ]
    }
   ],
   "source": [
    "numbers = [3,6,3,5,8,2,9,7,4,3,6,3,5,8,2,9,7,4]\n",
    "dic_num={}\n",
    "\n",
    "for i in set(numbers):\n",
    "    dic_num[i] = numbers.count(i)\n",
    "    \n",
    "print(dic_num)"
   ]
  },
  {
   "cell_type": "code",
   "execution_count": 47,
   "id": "fb05fa00",
   "metadata": {},
   "outputs": [
    {
     "name": "stdout",
     "output_type": "stream",
     "text": [
      "{2: 2, 3: 4, 4: 2, 5: 2, 6: 2, 7: 2, 8: 2, 9: 2}\n"
     ]
    }
   ],
   "source": [
    "numbers = [3,6,3,5,8,2,9,7,4,3,6,3,5,8,2,9,7,4]\n",
    "dic_num={}\n",
    "\n",
    "for i in set(numbers):\n",
    "    dic_num[i]=numbers.count(i)\n",
    "print(dic_num)"
   ]
  },
  {
   "cell_type": "code",
   "execution_count": 48,
   "id": "b52ba8be",
   "metadata": {},
   "outputs": [
    {
     "name": "stdout",
     "output_type": "stream",
     "text": [
      "{2: 2, 3: 4, 4: 2, 5: 2, 6: 2, 7: 2, 8: 2, 9: 2}\n"
     ]
    }
   ],
   "source": [
    "numbers = [3,6,3,5,8,2,9,7,4,3,6,3,5,8,2,9,7,4]\n",
    "dic_num= {}\n",
    "\n",
    "for i in set(numbers):\n",
    "    dic_num[i] = numbers.count(i)\n",
    "print(dic_num)"
   ]
  },
  {
   "cell_type": "code",
   "execution_count": 57,
   "id": "a9b53d3d",
   "metadata": {},
   "outputs": [
    {
     "name": "stdout",
     "output_type": "stream",
     "text": [
      "6\n",
      "8\n"
     ]
    }
   ],
   "source": [
    "#[과제] 4칙 연산 기능을 포함한 Cal4  클래스 (생성자 이용)을 작성하고 이 클래스를\n",
    "#이용하여 Cal 계싼기 객체를 만든후 적절한 사칙연산 수행 결과를 출력하세요class Add:\n",
    "\n",
    "class FourCal:\n",
    "    def setdata(self,first,second):\n",
    "        self.first = first\n",
    "        self.second = second\n",
    "    def add(self):\n",
    "        result = self.first+ self.second\n",
    "        return result\n",
    "\n",
    "    def mul(self):\n",
    "        result = self.first * self.second\n",
    "        return result \n",
    "    def sub(self):\n",
    "        result = self.first - self.second\n",
    "        return result \n",
    "    def div(self):\n",
    "        result = self.first / self.second\n",
    "        return result \n",
    "\n",
    "a = FourCal()\n",
    "a.setdata(4,2)\n",
    "print(a.add())\n",
    "print(a.mul())\n",
    "        "
   ]
  },
  {
   "cell_type": "code",
   "execution_count": 60,
   "id": "3b2af6c5",
   "metadata": {},
   "outputs": [
    {
     "ename": "IndentationError",
     "evalue": "expected an indented block (Temp/ipykernel_3452/3239892025.py, line 6)",
     "output_type": "error",
     "traceback": [
      "\u001b[1;36m  File \u001b[1;32m\"C:\\Users\\admin\\AppData\\Local\\Temp/ipykernel_3452/3239892025.py\"\u001b[1;36m, line \u001b[1;32m6\u001b[0m\n\u001b[1;33m    class Add:\u001b[0m\n\u001b[1;37m              ^\u001b[0m\n\u001b[1;31mIndentationError\u001b[0m\u001b[1;31m:\u001b[0m expected an indented block\n"
     ]
    }
   ],
   "source": [
    "class Cal4:\n",
    "    def __init__(self,n1,n2):\n",
    "        \n",
    "\n",
    "\n",
    "class Add:\n",
    "    def add(self,n1,n2):\n",
    "        return n1+n2\n",
    "class Sub:\n",
    "    def sub(slef, n1, n2):\n",
    "        return n1-n2\n",
    "class Mul:\n",
    "    def mul(self,n1,n2):\n",
    "        return n1*n2\n",
    "class Div:\n",
    "    def div(self,n1,n2):\n",
    "        return n1/n2\n",
    "\n",
    "class Cal(Add,Sub,Mul,Div):\n",
    "    def cal(self, n1,n2):\n",
    "        return n1+n2, n1-n2, n1*n2, n1/n2\n",
    "    \n",
    "a = Cal4()\n",
    "print(a.add(1,2))\n",
    "print(a.mul(3,2))\n",
    "print(a.sub(5,3))    "
   ]
  },
  {
   "cell_type": "code",
   "execution_count": null,
   "id": "2df5518f",
   "metadata": {},
   "outputs": [],
   "source": [
    "20문제  \n",
    "\n",
    "기본적으로 \n",
    "for 문, IF문\n",
    "내장함수 \n",
    "함수-\n",
    "함수 형태 4가지\n",
    "입력값,출력값 있고없고 없고있고 둘다있고\n",
    "내장함수 외장함수 했고\n",
    " range \n",
    "enumerate(인덱스하고 요소하고 같이나옴)\n",
    "eval (문자열로 해도 연산이되어서나옴)\n",
    "sort /reverse\n",
    "map함수 뭐에요(랩핑해주는거야\n",
    "잘 알아야돼 )\n",
    "fliter/map함수 잘 써야돼\n",
    "사용자함ㅁ수 만등러서 보여주고\n",
    "내장함수 이용ㅎ서 바ㄱ꿔보라 가 나올수있어\n",
    "lambda함수\n",
    "sum = lambda a,b :a+b\n",
    "sum(3,4)\n",
    "pickle os 같은 외장함수 glob, time 등\n",
    "glob 프로그래밍에 올 .txt\n",
    "패턴과 이름이 ㅇ리치하는 모든 파일과 디렉토리 알려줌\n",
    "time이라는 라이브러리에는 \n",
    "time local time asctime \n",
    "외장함수 쓰면서 익혀둬야한다\n",
    "print(calendar.weekday(2022,1,13)\n",
    "import webbrowser\n",
    "webbrowser.open('http://navercom\")\n",
    "pop뽑아주는 거 리스트에서 없어짐\n",
    "remove역시\n",
    "람다함수 내장함수 사용해 출력하기 \n",
    "\n",
    "\n",
    "\n",
    "li=[1,2,3,4,5]\n",
    "blank =[[],[],[],[],[]]\n",
    "\n",
    "exp = lambda a,b:(li[a]**b)\n",
    "for i in range(4):\n",
    "blank[i] = exp(1,2)\n",
    "print(blank)\n",
    "내장함수 필터링하는 거 할 줄 알아야되고\n",
    "몫과 나머지 구하는 거 div mod\n",
    "\n",
    "함수응용은 별로 안나올거야\n",
    "예외처리도해야겠주\n",
    " try except finally 2-3개이상 예외처리할 수 있어야돼\n",
    "정규표현식 과제정도 다 할 줄 알아야됨\n",
    "어떤 리스트에서 숫자가 몇 번 등장하는지\n",
    "ㅇ건 딕셔너맃타입으로 숫자별로몇개ㅡ이렇게\n",
    "해줘야되잖아 그런거\n",
    "그다음에 클래스\n",
    "생성자, 메[소드,속성 등 \n",
    "상속을 받아서 부모클래스있ㄴ,ㄴ 거 가져와서\n",
    "사용할 줄 안는 거 해야돼\n",
    "사칙연산 수행하는 클래스, \n",
    "클레스 이용해서 객체만들기, \n",
    "거기에 input값 줘서 출력하고\n",
    "인수하고 매개변수하고 매개변수 설명\n",
    "안했는데 input값이 인수, ㅡ클래스\n",
    "만들 때 인수 입력하게 a,b \n",
    "\n",
    "add(self,a,b) a,b가 매개변수 저기에오는 숫자가\n",
    "3,5=> 인수\n",
    "날짜수 계싼하는 거 정돈 할 수 있어야돼\n",
    "\n",
    "출생아 데이터가지고 한 거\n",
    "출생아 수 출력한 거 \n",
    "그정도\n"
   ]
  }
 ],
 "metadata": {
  "kernelspec": {
   "display_name": "Python 3 (ipykernel)",
   "language": "python",
   "name": "python3"
  },
  "language_info": {
   "codemirror_mode": {
    "name": "ipython",
    "version": 3
   },
   "file_extension": ".py",
   "mimetype": "text/x-python",
   "name": "python",
   "nbconvert_exporter": "python",
   "pygments_lexer": "ipython3",
   "version": "3.7.11"
  },
  "widgets": {
   "application/vnd.jupyter.widget-state+json": {
    "state": {},
    "version_major": 2,
    "version_minor": 0
   }
  }
 },
 "nbformat": 4,
 "nbformat_minor": 5
}

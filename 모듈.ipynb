{
 "cells": [
  {
   "cell_type": "markdown",
   "id": "7cfa554d",
   "metadata": {},
   "source": [
    "### 모듈\n",
    "-특정 기능들(함수,변수,클래스 등)이 구현되어 있는 파이썬 파일(.py)\n",
    "\n",
    "### 패키지\n",
    "- 특정 기능과 관련된 여러 모듈들을 하나의 상위 폴더에 넣어놓은 것을 의미 \n",
    "- 패키지 안에 여러가지 폴더 존재 가능\n",
    "- 패키지를 표현해주기 위해  \\_init_.py가 존재\n",
    "\n",
    "\n",
    "### 라이브러리 \n",
    "- 여러 모듈과 패키지를 묶어 라이브러리라고 함\n",
    "- 파이썬 설치시 기본적으로 설치되는 라이브러리를 표준 라이브러리라고 함\n",
    "- 외부( 3rd party)에서 개발한 모듈과 패키지를 묶어 외부 라이브러리라고 함"
   ]
  },
  {
   "cell_type": "markdown",
   "id": "400d78d0",
   "metadata": {},
   "source": [
    "os같은 거 다 import만 하잖아 -> 내부 \n",
    "외부 라이브러리에서는 numpy seaborn pandas"
   ]
  },
  {
   "cell_type": "code",
   "execution_count": 5,
   "id": "0fc4e384",
   "metadata": {},
   "outputs": [],
   "source": [
    "#모듈 mod1 만들기\n",
    "#이렇게 작성하면 메모장에 저장돼\n",
    "with open ('mod1.py','w') as f:  \n",
    "    f.write('''\n",
    "def add(x,y): \n",
    "    return x+y\n",
    "pirnt(add(3,4))\n",
    "\n",
    "''')"
   ]
  },
  {
   "cell_type": "code",
   "execution_count": 18,
   "id": "d0e1240a",
   "metadata": {},
   "outputs": [
    {
     "name": "stdout",
     "output_type": "stream",
     "text": [
      "\n",
      "def add(x,y): \n",
      "    return x+y\n",
      "pirnt(add(3,4))\n",
      "\n",
      "\n"
     ]
    }
   ],
   "source": [
    "\n",
    "with open ('mod1.py','r') as f:\n",
    "    data=f.read()\n",
    "    print(data)\n",
    "    \n",
    "\n"
   ]
  },
  {
   "cell_type": "code",
   "execution_count": 9,
   "id": "1aeaa3c2",
   "metadata": {},
   "outputs": [
    {
     "name": "stderr",
     "output_type": "stream",
     "text": [
      "Traceback (most recent call last):\n",
      "  File \"mod1.py\", line 4, in <module>\n",
      "    pirnt(add(3,4))\n",
      "NameError: name 'pirnt' is not defined\n"
     ]
    }
   ],
   "source": [
    "!python mod1.py"
   ]
  },
  {
   "cell_type": "code",
   "execution_count": 10,
   "id": "029935bf",
   "metadata": {},
   "outputs": [
    {
     "ename": "NameError",
     "evalue": "name 'pirnt' is not defined",
     "output_type": "error",
     "traceback": [
      "\u001b[1;31m---------------------------------------------------------------------------\u001b[0m",
      "\u001b[1;31mNameError\u001b[0m                                 Traceback (most recent call last)",
      "\u001b[1;32m~\\AppData\\Local\\Temp/ipykernel_4348/1766116365.py\u001b[0m in \u001b[0;36m<module>\u001b[1;34m\u001b[0m\n\u001b[1;32m----> 1\u001b[1;33m \u001b[1;32mimport\u001b[0m \u001b[0mmod1\u001b[0m\u001b[1;33m\u001b[0m\u001b[1;33m\u001b[0m\u001b[0m\n\u001b[0m",
      "\u001b[1;32mC:\\cakd5\\workspace\\m1_programming\\mod1.py\u001b[0m in \u001b[0;36m<module>\u001b[1;34m\u001b[0m\n\u001b[0;32m      2\u001b[0m \u001b[1;32mdef\u001b[0m \u001b[0madd\u001b[0m\u001b[1;33m(\u001b[0m\u001b[0mx\u001b[0m\u001b[1;33m,\u001b[0m\u001b[0my\u001b[0m\u001b[1;33m)\u001b[0m\u001b[1;33m:\u001b[0m\u001b[1;33m\u001b[0m\u001b[1;33m\u001b[0m\u001b[0m\n\u001b[0;32m      3\u001b[0m     \u001b[1;32mreturn\u001b[0m \u001b[0mx\u001b[0m\u001b[1;33m+\u001b[0m\u001b[0my\u001b[0m\u001b[1;33m\u001b[0m\u001b[1;33m\u001b[0m\u001b[0m\n\u001b[1;32m----> 4\u001b[1;33m \u001b[0mpirnt\u001b[0m\u001b[1;33m(\u001b[0m\u001b[0madd\u001b[0m\u001b[1;33m(\u001b[0m\u001b[1;36m3\u001b[0m\u001b[1;33m,\u001b[0m\u001b[1;36m4\u001b[0m\u001b[1;33m)\u001b[0m\u001b[1;33m)\u001b[0m\u001b[1;33m\u001b[0m\u001b[1;33m\u001b[0m\u001b[0m\n\u001b[0m\u001b[0;32m      5\u001b[0m \u001b[1;33m\u001b[0m\u001b[0m\n",
      "\u001b[1;31mNameError\u001b[0m: name 'pirnt' is not defined"
     ]
    }
   ],
   "source": [
    "import mod1"
   ]
  },
  {
   "cell_type": "code",
   "execution_count": 6,
   "id": "3c8684a5",
   "metadata": {},
   "outputs": [],
   "source": [
    "#모듈 mod2민들기\n",
    "with open('mod2.py','w') as f:\n",
    "    f.write('''\n",
    "def add(x,y): \n",
    "    return x + y\n",
    "    \n",
    "    \n",
    "if__name__ == \"__main__\" :\n",
    "    pirnt(add(3,4)) \n",
    "''')"
   ]
  },
  {
   "cell_type": "code",
   "execution_count": 44,
   "id": "201fb329",
   "metadata": {},
   "outputs": [
    {
     "name": "stdout",
     "output_type": "stream",
     "text": [
      "\n",
      "def add(x,y): \n",
      "    return x+y\n",
      "    \n",
      "    \n",
      "if__name__ ==\"__main__\":\n",
      "    pirnt(add(3,4))\n",
      " \n",
      "\n"
     ]
    }
   ],
   "source": [
    "with open('mod2.py','r') as f:\n",
    "    data=f.read()\n",
    "    print(data)"
   ]
  },
  {
   "cell_type": "code",
   "execution_count": 7,
   "id": "d434dc41",
   "metadata": {},
   "outputs": [
    {
     "name": "stderr",
     "output_type": "stream",
     "text": [
      "  File \"mod2.py\", line 6\n",
      "    if__name__ == \"__main__\" :\n",
      "                             ^\n",
      "SyntaxError: invalid syntax\n"
     ]
    }
   ],
   "source": [
    "!python mod2.py"
   ]
  },
  {
   "cell_type": "code",
   "execution_count": 2,
   "id": "89e0e92b",
   "metadata": {},
   "outputs": [
    {
     "ename": "SyntaxError",
     "evalue": "invalid syntax (mod2.py, line 6)",
     "output_type": "error",
     "traceback": [
      "Traceback \u001b[1;36m(most recent call last)\u001b[0m:\n",
      "  File \u001b[0;32m\"C:\\Users\\admin\\Anaconda3\\envs\\cakd5\\lib\\site-packages\\IPython\\core\\interactiveshell.py\"\u001b[0m, line \u001b[0;32m3444\u001b[0m, in \u001b[0;35mrun_code\u001b[0m\n    exec(code_obj, self.user_global_ns, self.user_ns)\n",
      "\u001b[1;36m  File \u001b[1;32m\"C:\\Users\\admin\\AppData\\Local\\Temp/ipykernel_4348/898192415.py\"\u001b[1;36m, line \u001b[1;32m1\u001b[1;36m, in \u001b[1;35m<module>\u001b[1;36m\u001b[0m\n\u001b[1;33m    import mod2\u001b[0m\n",
      "\u001b[1;36m  File \u001b[1;32m\"C:\\cakd5\\workspace\\m1_programming\\mod2.py\"\u001b[1;36m, line \u001b[1;32m6\u001b[0m\n\u001b[1;33m    if__name__ == \"__main__\" :\u001b[0m\n\u001b[1;37m                              ^\u001b[0m\n\u001b[1;31mSyntaxError\u001b[0m\u001b[1;31m:\u001b[0m invalid syntax\n"
     ]
    }
   ],
   "source": [
    "import mod2"
   ]
  },
  {
   "cell_type": "code",
   "execution_count": 50,
   "id": "b1f6f1e1",
   "metadata": {},
   "outputs": [
    {
     "ename": "NameError",
     "evalue": "name 'mod2' is not defined",
     "output_type": "error",
     "traceback": [
      "\u001b[1;31m---------------------------------------------------------------------------\u001b[0m",
      "\u001b[1;31mNameError\u001b[0m                                 Traceback (most recent call last)",
      "\u001b[1;32m~\\AppData\\Local\\Temp/ipykernel_3284/1182435325.py\u001b[0m in \u001b[0;36m<module>\u001b[1;34m\u001b[0m\n\u001b[1;32m----> 1\u001b[1;33m \u001b[0mmod2\u001b[0m\u001b[1;33m.\u001b[0m\u001b[0madd\u001b[0m\u001b[1;33m(\u001b[0m\u001b[1;36m2\u001b[0m\u001b[1;33m,\u001b[0m\u001b[1;36m3\u001b[0m\u001b[1;33m)\u001b[0m\u001b[1;33m\u001b[0m\u001b[1;33m\u001b[0m\u001b[0m\n\u001b[0m",
      "\u001b[1;31mNameError\u001b[0m: name 'mod2' is not defined"
     ]
    }
   ],
   "source": [
    "mod2.add(2,3)"
   ]
  },
  {
   "cell_type": "code",
   "execution_count": 62,
   "id": "a8939e50",
   "metadata": {
    "scrolled": true
   },
   "outputs": [
    {
     "name": "stdout",
     "output_type": "stream",
     "text": [
      " C 드라이브의 볼륨에는 이름이 없습니다.\n",
      " 볼륨 일련 번호: 682B-EDCF\n",
      "\n",
      " C:\\cakd5\\workspace\\m1_programming 디렉터리\n",
      "\n",
      "2022-01-04  오전 10:45    <DIR>          .\n",
      "2022-01-04  오전 10:45    <DIR>          ..\n",
      "2022-01-04  오전 10:13    <DIR>          .ipynb_checkpoints\n",
      "2022-01-04  오전 09:30    <DIR>          data\n",
      "2021-12-31  오전 11:31                17 foo,txt\n",
      "2021-12-31  오전 11:31                17 foo.txt\n",
      "2022-01-04  오전 09:22            60,879 info.txt\n",
      "2021-12-28  오후 05:12             5,791 Jupyter notebook  사용법-checkpoint.ipynb\n",
      "2022-01-04  오전 10:25                53 mod1.py\n",
      "2022-01-04  오전 10:39                98 mod2.py\n",
      "2022-01-04  오전 09:32             1,113 mydata2.txt\n",
      "2021-12-31  오후 12:16                40 test.txt\n",
      "2021-12-31  오후 12:03               251 test_new.txt\n",
      "2021-12-31  오전 11:30                17 too,txt\n",
      "2022-01-03  오후 12:32             3,119 Untitled.ipynb\n",
      "2022-01-04  오전 10:28    <DIR>          __pycache__\n",
      "2021-12-31  오후 02:25            70,124 과제.ipynb\n",
      "2021-12-30  오전 11:06            45,994 기초 Last Checkpoint.ipynb\n",
      "2022-01-03  오후 12:37            46,328 기초2(함수).ipynb\n",
      "2021-12-31  오후 04:37            46,523 기초2.ipynb\n",
      "2021-12-28  오후 04:18            94,995 매직명령어.jpg\n",
      "2022-01-04  오전 10:45            10,716 모듈.ipynb\n",
      "2022-01-03  오전 10:46             9,234 식당메뉴판.ipynb\n",
      "2021-12-31  오후 06:14            13,344 커피연습_최종.ipynb\n",
      "2022-01-03  오전 10:43            33,718 함수.ipynb\n",
      "2022-01-04  오전 10:13           382,700 함수_응용.ipynb\n",
      "              21개 파일             825,071 바이트\n",
      "               5개 디렉터리  951,227,748,352 바이트 남음\n",
      "\n"
     ]
    }
   ],
   "source": [
    "#시스템 명렁어의 결과값 리턴 받기\n",
    "import os # 내장함수는 import할 필요없고 외장이니깐 import한거야\n",
    "\n",
    "f = os.popen('dir')\n",
    "print(f.read())"
   ]
  },
  {
   "cell_type": "code",
   "execution_count": 64,
   "id": "7a1c007f",
   "metadata": {},
   "outputs": [
    {
     "data": {
      "text/plain": [
       "'test1.txt'"
      ]
     },
     "execution_count": 64,
     "metadata": {},
     "output_type": "execute_result"
    }
   ],
   "source": [
    "#파일 복사 \n",
    "import shutil\n",
    "shutil.copy('test.txt','test1.txt')"
   ]
  },
  {
   "cell_type": "code",
   "execution_count": 65,
   "id": "a7b4c530",
   "metadata": {},
   "outputs": [
    {
     "name": "stdout",
     "output_type": "stream",
     "text": [
      " C 드라이브의 볼륨에는 이름이 없습니다.\n",
      " 볼륨 일련 번호: 682B-EDCF\n",
      "\n",
      " C:\\cakd5\\workspace\\m1_programming 디렉터리\n",
      "\n",
      "2022-01-04  오전 10:47    <DIR>          .\n",
      "2022-01-04  오전 10:47    <DIR>          ..\n",
      "2022-01-04  오전 10:13    <DIR>          .ipynb_checkpoints\n",
      "2022-01-04  오전 09:30    <DIR>          data\n",
      "2021-12-31  오전 11:31                17 foo,txt\n",
      "2021-12-31  오전 11:31                17 foo.txt\n",
      "2022-01-04  오전 09:22            60,879 info.txt\n",
      "2021-12-28  오후 05:12             5,791 Jupyter notebook  사용법-checkpoint.ipynb\n",
      "2022-01-04  오전 10:25                53 mod1.py\n",
      "2022-01-04  오전 10:39                98 mod2.py\n",
      "2022-01-04  오전 09:32             1,113 mydata2.txt\n",
      "2021-12-31  오후 12:16                40 test.txt\n",
      "2022-01-04  오전 10:47                40 test1.txt\n",
      "2021-12-31  오후 12:03               251 test_new.txt\n",
      "2021-12-31  오전 11:30                17 too,txt\n",
      "2022-01-03  오후 12:32             3,119 Untitled.ipynb\n",
      "2022-01-04  오전 10:28    <DIR>          __pycache__\n",
      "2021-12-31  오후 02:25            70,124 과제.ipynb\n",
      "2021-12-30  오전 11:06            45,994 기초 Last Checkpoint.ipynb\n",
      "2022-01-03  오후 12:37            46,328 기초2(함수).ipynb\n",
      "2021-12-31  오후 04:37            46,523 기초2.ipynb\n",
      "2021-12-28  오후 04:18            94,995 매직명령어.jpg\n",
      "2022-01-04  오전 10:45            10,716 모듈.ipynb\n",
      "2022-01-03  오전 10:46             9,234 식당메뉴판.ipynb\n",
      "2021-12-31  오후 06:14            13,344 커피연습_최종.ipynb\n",
      "2022-01-03  오전 10:43            33,718 함수.ipynb\n",
      "2022-01-04  오전 10:13           382,700 함수_응용.ipynb\n",
      "              22개 파일             825,111 바이트\n",
      "               5개 디렉터리  951,231,795,200 바이트 남음\n"
     ]
    }
   ],
   "source": [
    "!dir"
   ]
  },
  {
   "cell_type": "code",
   "execution_count": null,
   "id": "226276b3",
   "metadata": {},
   "outputs": [],
   "source": [
    "#스레드 프로세스가 처리되는 과정? 일꾼 쓰레드는 일꾼이에요\n",
    "#어떤걸 시작했을 때 순서대로 하면 오래걸리는 걸 여러명의 일꾼이\n",
    "#동시에 하게끔 만든 것\n",
    "#player1,2,3 다 함꼐하잖아 게임에서 쓰레드 만들어주면 동시에 가능 \n"
   ]
  },
  {
   "cell_type": "code",
   "execution_count": 12,
   "id": "bb3ec17b",
   "metadata": {},
   "outputs": [
    {
     "name": "stdout",
     "output_type": "stream",
     "text": [
      "Start\n",
      "working : 0\n",
      "\n",
      "working : 1\n",
      "\n",
      "working : 2\n",
      "\n",
      "working : 3\n",
      "\n",
      "working : 4\n",
      "\n",
      "working : 0\n",
      "\n",
      "working : 1\n",
      "\n",
      "working : 2\n",
      "\n",
      "working : 3\n",
      "\n",
      "working : 4\n",
      "\n",
      "working : 0\n",
      "\n",
      "working : 1\n",
      "\n",
      "working : 2\n",
      "\n",
      "working : 3\n",
      "\n",
      "working : 4\n",
      "\n",
      "working : 0\n",
      "\n",
      "working : 1\n",
      "\n",
      "working : 2\n",
      "\n",
      "working : 3\n",
      "\n",
      "working : 4\n",
      "\n",
      "working : 0\n",
      "\n",
      "working : 1\n",
      "\n",
      "working : 2\n",
      "\n",
      "working : 3\n",
      "\n",
      "working : 4\n",
      "\n",
      "End\n"
     ]
    }
   ],
   "source": [
    "import time\n",
    "def long_task(): #5초의 시간이 걸리는 함수 \n",
    "    for i in range(5):\n",
    "        time.sleep(1) #1초간 대기\n",
    "        print(f'working : {i}\\n')\n",
    "    \n",
    "print('Start')\n",
    "for i in range(5):\n",
    "    long_task()\n",
    "print('End')"
   ]
  },
  {
   "cell_type": "code",
   "execution_count": 19,
   "id": "1d4b25c4",
   "metadata": {},
   "outputs": [
    {
     "name": "stdout",
     "output_type": "stream",
     "text": [
      "start\n",
      "working : 0\n",
      "\n",
      "working : 0\n",
      "\n",
      "working : 0\n",
      "\n",
      "working : 0\n",
      "\n",
      "working : 0\n",
      "\n",
      "working : 1\n",
      "\n",
      "working : 1\n",
      "\n",
      "working : 1\n",
      "\n",
      "working : 1\n",
      "working : 1\n",
      "\n",
      "\n",
      "working : 2\n",
      "working : 2\n",
      "working : 2\n",
      "\n",
      "working : 2\n",
      "\n",
      "working : 2\n",
      "\n",
      "\n",
      "\n",
      "working : 3\n",
      "\n",
      "working : 3\n",
      "\n",
      "working : 3\n",
      "\n",
      "working : 3\n",
      "\n",
      "working : 3\n",
      "\n",
      "working : 4\n",
      "\n",
      "working : 4\n",
      "working : 4\n",
      "working : 4\n",
      "working : 4\n",
      "\n",
      "\n",
      "\n",
      "\n",
      "END\n"
     ]
    }
   ],
   "source": [
    "import time\n",
    "import threading\n",
    "\n",
    "def long_task():\n",
    "    for i in range(5):\n",
    "        time.sleep(1)\n",
    "   \n",
    "        print(f'working : {i}\\n')\n",
    "      \n",
    "print('start')\n",
    "threads=[]\n",
    "for i in range(5):    #일꾼 만들어주는 거 \n",
    "    t = threading.Thread(target=long_task)\n",
    "    threads.append(t)\n",
    "    \n",
    "for t in threads: #0번일꾼 1번일꾼 이렇게 불러내는거야\n",
    "    t.start()\n",
    "    \n",
    "for t in threads:\n",
    "    t.join()  #일 끝났으니 조인해 조인으로 스레드가 종료될 때까지 기다린다\n",
    "    \n",
    "    \n",
    "print('END')"
   ]
  },
  {
   "cell_type": "code",
   "execution_count": null,
   "id": "9eed833f",
   "metadata": {},
   "outputs": [],
   "source": []
  }
 ],
 "metadata": {
  "kernelspec": {
   "display_name": "Python 3 (ipykernel)",
   "language": "python",
   "name": "python3"
  },
  "language_info": {
   "codemirror_mode": {
    "name": "ipython",
    "version": 3
   },
   "file_extension": ".py",
   "mimetype": "text/x-python",
   "name": "python",
   "nbconvert_exporter": "python",
   "pygments_lexer": "ipython3",
   "version": "3.7.11"
  }
 },
 "nbformat": 4,
 "nbformat_minor": 5
}

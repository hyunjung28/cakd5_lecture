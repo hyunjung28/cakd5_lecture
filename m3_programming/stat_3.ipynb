{
 "cells": [
  {
   "cell_type": "markdown",
   "id": "97c550a8",
   "metadata": {},
   "source": [
    "#### 이산형 확률분포 \n"
   ]
  },
  {
   "cell_type": "code",
   "execution_count": 101,
   "id": "1b9d576c",
   "metadata": {},
   "outputs": [],
   "source": [
    "# 1차원 이산확률분포 \n",
    "import numpy as np\n",
    "import pandas as pd\n",
    "import matplotlib.pyplot as plt\n",
    "import seaborn as sns\n",
    "\n",
    "x_set = np.array([1,2,3,4,5,6])\n",
    "#불공정한 주사위 \n",
    "def f(x): \n",
    "    if x in x_set:\n",
    "        return x/ 21\n",
    "    else:\n",
    "        return 0\n",
    "    \n",
    "X=[x_set,f]\n"
   ]
  },
  {
   "cell_type": "code",
   "execution_count": 102,
   "id": "44c34f17",
   "metadata": {},
   "outputs": [
    {
     "name": "stdout",
     "output_type": "stream",
     "text": [
      "[0.04761905 0.0952381  0.14285714 0.19047619 0.23809524 0.28571429] \n",
      "\n"
     ]
    },
    {
     "data": {
      "text/plain": [
       "{1: 0.047619047619047616,\n",
       " 2: 0.09523809523809523,\n",
       " 3: 0.14285714285714285,\n",
       " 4: 0.19047619047619047,\n",
       " 5: 0.23809523809523808,\n",
       " 6: 0.2857142857142857}"
      ]
     },
     "execution_count": 102,
     "metadata": {},
     "output_type": "execute_result"
    }
   ],
   "source": [
    "prob = np.array([f(x_k) for x_k in x_set])\n",
    "print(prob,'\\n')\n",
    "#x_k와 p_k 대응을 사전식으로 표시\n",
    "dict(zip(x_set,prob))\n",
    "#x_set 확률변수에 대응되는 거 확률이잖아\n"
   ]
  },
  {
   "cell_type": "code",
   "execution_count": 103,
   "id": "b4dfc008",
   "metadata": {},
   "outputs": [
    {
     "data": {
      "text/plain": [
       "Text(0, 0.5, 'prob')"
      ]
     },
     "execution_count": 103,
     "metadata": {},
     "output_type": "execute_result"
    },
    {
     "data": {
      "image/png": "[encoded data removed]",
      "text/plain": [
       "<Figure size 432x216 with 1 Axes>"
      ]
     },
     "metadata": {
      "needs_background": "light"
     },
     "output_type": "display_data"
    }
   ],
   "source": [
    "fig=plt.figure(figsize=(6,3))\n",
    "ax = fig.add_subplot(111)\n",
    "plt.bar(x_set,prob,color='cornflowerblue')\n",
    "ax.set_xlabel('x',fontsize=20)\n",
    "ax.set_ylabel('prob',fontsize=20)"
   ]
  },
  {
   "cell_type": "code",
   "execution_count": 104,
   "id": "e5cac1f4",
   "metadata": {},
   "outputs": [
    {
     "data": {
      "text/plain": [
       "Text(0.5, 1.0, 'Bar Graph')"
      ]
     },
     "execution_count": 104,
     "metadata": {},
     "output_type": "execute_result"
    },
    {
     "data": {
      "image/png": "[encoded data removed]",
      "text/plain": [
       "<Figure size 432x288 with 1 Axes>"
      ]
     },
     "metadata": {
      "needs_background": "light"
     },
     "output_type": "display_data"
    }
   ],
   "source": [
    "import seaborn as sns\n",
    "sns.barplot(x_set,prob,color='pink')\n",
    "plt.title('Bar Graph',fontsize=30)\n"
   ]
  },
  {
   "cell_type": "code",
   "execution_count": 105,
   "id": "b72e7c8f",
   "metadata": {},
   "outputs": [
    {
     "data": {
      "text/plain": [
       "True"
      ]
     },
     "execution_count": 105,
     "metadata": {},
     "output_type": "execute_result"
    }
   ],
   "source": [
    "np.all(prob>=0)\n"
   ]
  },
  {
   "cell_type": "code",
   "execution_count": 106,
   "id": "c1860c5a",
   "metadata": {},
   "outputs": [
    {
     "data": {
      "text/plain": [
       "0.9999999999999999"
      ]
     },
     "execution_count": 106,
     "metadata": {},
     "output_type": "execute_result"
    }
   ],
   "source": [
    "np.sum(prob)"
   ]
  },
  {
   "cell_type": "code",
   "execution_count": 107,
   "id": "7d91586e",
   "metadata": {},
   "outputs": [
    {
     "data": {
      "text/plain": [
       "0.2857142857142857"
      ]
     },
     "execution_count": 107,
     "metadata": {},
     "output_type": "execute_result"
    }
   ],
   "source": [
    "#누적분포함수 \n",
    "def F(x):\n",
    "    return np.sum([f(x_k) for x_k in x_set if x_k<=x])\n",
    "F(3)"
   ]
  },
  {
   "cell_type": "code",
   "execution_count": 108,
   "id": "5ad58e14",
   "metadata": {},
   "outputs": [
    {
     "data": {
      "text/plain": [
       "{5: 0.047619047619047616,\n",
       " 7: 0.09523809523809523,\n",
       " 9: 0.14285714285714285,\n",
       " 11: 0.19047619047619047,\n",
       " 13: 0.23809523809523808,\n",
       " 15: 0.2857142857142857}"
      ]
     },
     "execution_count": 108,
     "metadata": {},
     "output_type": "execute_result"
    }
   ],
   "source": [
    "# 확률변수의 변환: 확률변수 X에 2를 곱하고 3을 더한 2X+3도 확률\n",
    "#변수가 된다\n",
    "y_set = np.array([2* x_k +3 for x_k in x_set])\n",
    "prob = np.array([f(x_k) for x_k in x_set])\n",
    "dict(zip(y_set,prob))"
   ]
  },
  {
   "cell_type": "code",
   "execution_count": 109,
   "id": "e5a6269b",
   "metadata": {},
   "outputs": [
    {
     "data": {
      "text/plain": [
       "4.333333333333333"
      ]
     },
     "execution_count": 109,
     "metadata": {},
     "output_type": "execute_result"
    }
   ],
   "source": [
    "#1차원 이산형 확률변수의 지표\n",
    "#평균: 확률변수의 평균은 확률변수의 중심을 나타내는 지표가 되며 기댓값이라고 \n",
    "#부른다\n",
    "np.sum([x_k*f(x_k) for x_k in x_set])"
   ]
  },
  {
   "cell_type": "code",
   "execution_count": 110,
   "id": "bcd05a83",
   "metadata": {},
   "outputs": [
    {
     "data": {
      "text/plain": [
       "4.332407"
      ]
     },
     "execution_count": 110,
     "metadata": {},
     "output_type": "execute_result"
    }
   ],
   "source": [
    "#확률변수의 기댓값은 확률변수를 무제한 시행하여 얻은 실현값의 평균\n",
    "sample =np.random.choice(x_set,int(1e6),p=prob)\n",
    "np.mean(sample)"
   ]
  },
  {
   "cell_type": "code",
   "execution_count": 111,
   "id": "b13e1c98",
   "metadata": {},
   "outputs": [
    {
     "data": {
      "text/plain": [
       "4.333333333333333"
      ]
     },
     "execution_count": 111,
     "metadata": {},
     "output_type": "execute_result"
    }
   ],
   "source": [
    "#일반화\n",
    "def E(X,g=lambda x:x):\n",
    "    x_set,f = X\n",
    "    return np.sum([g(x_k)*f(x_k) for x_k in x_set])\n",
    "E(X)"
   ]
  },
  {
   "cell_type": "code",
   "execution_count": 112,
   "id": "48888e67",
   "metadata": {},
   "outputs": [
    {
     "ename": "SyntaxError",
     "evalue": "invalid syntax (Temp/ipykernel_11664/2417571912.py, line 1)",
     "output_type": "error",
     "traceback": [
      "\u001b[1;36m  File \u001b[1;32m\"C:\\Users\\admin\\AppData\\Local\\Temp/ipykernel_11664/2417571912.py\"\u001b[1;36m, line \u001b[1;32m1\u001b[0m\n\u001b[1;33m    def E(x,g=lambda x:x)\u001b[0m\n\u001b[1;37m                         ^\u001b[0m\n\u001b[1;31mSyntaxError\u001b[0m\u001b[1;31m:\u001b[0m invalid syntax\n"
     ]
    }
   ],
   "source": [
    "def E(x,g=lambda x:x)\n",
    "    x_set,f =X\n",
    "    return np.sum([g(x_k)*f(x_k) for x_k in x_set])\n",
    "E(X)"
   ]
  },
  {
   "cell_type": "code",
   "execution_count": null,
   "id": "5fdf1f0e",
   "metadata": {},
   "outputs": [],
   "source": [
    "E(X, g=lambda x: 2*x+3)"
   ]
  },
  {
   "cell_type": "code",
   "execution_count": null,
   "id": "ebfb7f0d",
   "metadata": {},
   "outputs": [],
   "source": [
    "\n",
    "#기댓값의 선형성\n",
    "2*E(X)+3"
   ]
  },
  {
   "cell_type": "code",
   "execution_count": null,
   "id": "75a1b577",
   "metadata": {},
   "outputs": [],
   "source": [
    "#분산\n",
    "mean=E(X)\n",
    "np.sum([(x_k-mean)**2 * f(x_k) for x_k in x_set])"
   ]
  },
  {
   "cell_type": "code",
   "execution_count": null,
   "id": "fc5629a3",
   "metadata": {},
   "outputs": [],
   "source": [
    "#일반화\n",
    "def V(X,g=lambda x: x):\n",
    "    x_set, f= X\n",
    "    mean=E(X,g)\n",
    "    return np.sum([g(x_k)-mean**2 * f(x_k) for x_k in x_set])\n",
    "V(X)"
   ]
  },
  {
   "cell_type": "code",
   "execution_count": null,
   "id": "ab43b510",
   "metadata": {},
   "outputs": [],
   "source": [
    "V(X,lambda x:2*x+3)"
   ]
  },
  {
   "cell_type": "code",
   "execution_count": null,
   "id": "a1173fc6",
   "metadata": {},
   "outputs": [],
   "source": [
    "#분산의 공식\n",
    "2**2*V(X)"
   ]
  },
  {
   "cell_type": "code",
   "execution_count": null,
   "id": "0a62c068",
   "metadata": {},
   "outputs": [],
   "source": [
    "#2차원 이산형 확률분포\n",
    "x_set = np.arange(2,13)\n",
    "y_set = np.arange(1,7)"
   ]
  },
  {
   "cell_type": "code",
   "execution_count": null,
   "id": "fe95d4fb",
   "metadata": {},
   "outputs": [],
   "source": [
    "#확률변수 X,Y를 동시에 고려한 분포 결합: 결합확률분포\n",
    "def f_XY(x,y):\n",
    "    if 1<=y<=6 and 1<=x-y<=6:\n",
    "        return y*(x-y)/441\n",
    "    else:\n",
    "        return 0\n"
   ]
  },
  {
   "cell_type": "code",
   "execution_count": null,
   "id": "e770a3b9",
   "metadata": {},
   "outputs": [],
   "source": [
    "XY = [x_set,y_set,f_XY]"
   ]
  },
  {
   "cell_type": "code",
   "execution_count": null,
   "id": "82536254",
   "metadata": {},
   "outputs": [],
   "source": [
    "prob=np.array([[f_XY(x_i,y_j) for y_j in y_set]\n",
    "              for x_i in x_set])\n",
    "fig = plt.figure(figsize=(10,8))\n",
    "ax = fig.add_subplot(111)\n",
    "c = ax.pcolor(prob)\n",
    "ax.set_xticks(np.arange(prob.shape[1])+0.5,minor=False)\n",
    "ax.set_yticks(np.arange(prob.shape[0])+0.5,minor=False)\n",
    "ax.set_xticklabels(np.arange(1,7),minor=False)\n",
    "ax.set_yticklabels(np.arange(2,13),minor=False)\n",
    "#Y축을 내림차순의 숫자가 되게 하여 위아래를 역전시킨다.\n",
    "ax.invert_yaxis()#원래대로하면 12,11~2까지 있었음\n",
    "#x축 눈금을 그래프 위쪽에 표시\n",
    "ax.xaxis.tick_top()  \n",
    "fig.colorbar(c,ax=ax)\n",
    "plt.show()"
   ]
  },
  {
   "cell_type": "code",
   "execution_count": null,
   "id": "30cf9315",
   "metadata": {},
   "outputs": [],
   "source": [
    "ax.set_xticks(np.arange(prob.shape[1]+0.5,minor=False))\n",
    "c-ax.pcolor"
   ]
  },
  {
   "cell_type": "code",
   "execution_count": null,
   "id": "2170634e",
   "metadata": {},
   "outputs": [],
   "source": [
    "np.all(prob>=0)"
   ]
  },
  {
   "cell_type": "code",
   "execution_count": null,
   "id": "6210afad",
   "metadata": {},
   "outputs": [],
   "source": [
    "np.sum(prob)"
   ]
  },
  {
   "cell_type": "code",
   "execution_count": null,
   "id": "6ebb574a",
   "metadata": {},
   "outputs": [],
   "source": [
    "#주변확률분포 : 확률변수(X,Y)는 결합확률분포에 의해 동시에 정의되지만\n",
    "#개별 확률변수에만 흥미가 있을 수 있다.\n",
    "#확률변수 X만의 움직임. 즉 확률변수 X의 확률함수를 알고 싶은 상황\n"
   ]
  },
  {
   "cell_type": "code",
   "execution_count": null,
   "id": "47981d90",
   "metadata": {},
   "outputs": [],
   "source": [
    "def f_X(x):\n",
    "    return np.sum([f_XY(x,y_k) for y_k in y_set])"
   ]
  },
  {
   "cell_type": "code",
   "execution_count": null,
   "id": "27035808",
   "metadata": {},
   "outputs": [],
   "source": [
    "def f_Y(y):\n",
    "    return np.sum([f_XY(x_k,y) for x_k in x_set])"
   ]
  },
  {
   "cell_type": "code",
   "execution_count": null,
   "id": "d019b242",
   "metadata": {},
   "outputs": [],
   "source": [
    "\n",
    "X = [x_set,f_X]\n",
    "Y = [y_set,f_Y]"
   ]
  },
  {
   "cell_type": "code",
   "execution_count": null,
   "id": "efd517fe",
   "metadata": {},
   "outputs": [],
   "source": [
    "X"
   ]
  },
  {
   "cell_type": "code",
   "execution_count": null,
   "id": "e02c08fd",
   "metadata": {},
   "outputs": [],
   "source": [
    "Y"
   ]
  },
  {
   "cell_type": "code",
   "execution_count": null,
   "id": "f6d228fb",
   "metadata": {},
   "outputs": [],
   "source": [
    "prob_x = np.array([f_X(x_k) for x_k in x_set])\n",
    "prob_y = np.array([f_Y(y_k) for y_k in y_set])\n",
    "\n",
    "fig = plt.figure(figsize=(8,4))\n",
    "ax1 = fig.add_subplot(121)\n",
    "ax2 = fig.add_subplot(122)\n",
    "\n",
    "ax1.bar(x_set,prob_x)\n",
    "ax1.set_title('X_marginal probability distribution')\n",
    "ax1.set_xlabel('X lable')\n",
    "ax1.set_ylabel('probability')\n",
    "ax1.set_xticks(x_set)\n",
    "\n",
    "ax2.bar(y_set,prob_y)\n",
    "ax2.set_title('Y_marginal probability distribution')\n",
    "ax2.set_xlabel('Y_value')\n",
    "ax2.set_ylabel('probability')\n",
    "\n",
    "plt.show()"
   ]
  },
  {
   "cell_type": "code",
   "execution_count": null,
   "id": "2548dbd6",
   "metadata": {},
   "outputs": [],
   "source": [
    "#2차원 이산형 확률분포의 자료\n",
    "#기댓값\n",
    "np.sum([x_i*f_XY(x_i,y_j) for x_i in x_set for y_j in y_set])"
   ]
  },
  {
   "cell_type": "code",
   "execution_count": null,
   "id": "905ded04",
   "metadata": {},
   "outputs": [],
   "source": [
    "sum=0\n",
    "for y_j in y_set:\n",
    "    for x_i in x_set:\n",
    "        sum+=x_i*f_XY(x_i,y_j)\n",
    "sum"
   ]
  },
  {
   "cell_type": "code",
   "execution_count": null,
   "id": "253da68d",
   "metadata": {},
   "outputs": [],
   "source": [
    "#다중for문\n",
    "def E(XY,g):\n",
    "    x_set,y_set,f_XY=XY\n",
    "    return np.sum([g(x_i,y_j)*f_XY(x_i,y_j)\n",
    "                for x_i in x_set for y_j in y_set])\n",
    "                "
   ]
  },
  {
   "cell_type": "code",
   "execution_count": null,
   "id": "d521df15",
   "metadata": {},
   "outputs": [],
   "source": [
    "def E(XY,g):\n",
    "    x_set,y_set,f_XY=XY\n",
    "    return np.sum([g(x_i,y_j)*f_XY(x_i,y_j)\n",
    "                  for x_i in x_set for y_j in y_set])\n",
    "mean_x = E(XY,lambda x,y:x)\n",
    "mean_x"
   ]
  },
  {
   "cell_type": "code",
   "execution_count": null,
   "id": "b57b6327",
   "metadata": {},
   "outputs": [],
   "source": [
    "mean_y = E(XY,lambda x,y:y)\n",
    "mean_y"
   ]
  },
  {
   "cell_type": "code",
   "execution_count": null,
   "id": "4ae3c8d4",
   "metadata": {},
   "outputs": [],
   "source": [
    "# 기댓값의 선형성\n",
    "a,b=2,3\n",
    "E(XY,lambda x, y: a*x+b*y)"
   ]
  },
  {
   "cell_type": "code",
   "execution_count": null,
   "id": "04005515",
   "metadata": {},
   "outputs": [],
   "source": [
    "a*mean_x + b*mean_y"
   ]
  },
  {
   "cell_type": "code",
   "execution_count": null,
   "id": "7b96d453",
   "metadata": {},
   "outputs": [],
   "source": [
    "#분산의 함수\n",
    "def V(XY,g):\n",
    "    x_set,y_sey,f_XY=XY\n",
    "    mean=E(XY,g)\n",
    "    return np.sum([(g(x_i,y_j)-mean)**2*f_XY(x_i,y_j)\n",
    "                   for x_i in x_set for y_j in y_set])\n"
   ]
  },
  {
   "cell_type": "code",
   "execution_count": null,
   "id": "e57b26ec",
   "metadata": {},
   "outputs": [],
   "source": [
    "\n",
    "var_X =V(XY,g=lambda x,y: x)\n",
    "var_X"
   ]
  },
  {
   "cell_type": "code",
   "execution_count": null,
   "id": "9ae91fe9",
   "metadata": {},
   "outputs": [],
   "source": [
    "var_Y =V(XY,g= lambda x,y:y)\n",
    "var_Y"
   ]
  },
  {
   "cell_type": "code",
   "execution_count": null,
   "id": "1a2812aa",
   "metadata": {},
   "outputs": [],
   "source": [
    "def Cov(XY):\n",
    "    x_set,y_set, f_XY= XY\n",
    "    mean_X =E(XY,lambda x,y:x)\n",
    "    mean_Y = E(XY,lambda x,y:y)\n",
    "    return np.sum([(x_i-mean_X)*(y_j-mean_Y)*f_XY(x_i,y_j)\n",
    "                  for x_i in x_set for y_j in y_set])\n",
    "cov_xy = Cov(XY)\n",
    "cov_xy    "
   ]
  },
  {
   "cell_type": "code",
   "execution_count": null,
   "id": "420dfcb4",
   "metadata": {},
   "outputs": [],
   "source": [
    "cov_xy = Cov(XY)\n",
    "cov_xy"
   ]
  },
  {
   "cell_type": "code",
   "execution_count": null,
   "id": "8eedaa0a",
   "metadata": {},
   "outputs": [],
   "source": [
    "V(XY,lambda x,y: a*x+b*y)"
   ]
  },
  {
   "cell_type": "code",
   "execution_count": null,
   "id": "7d35ed8b",
   "metadata": {},
   "outputs": [],
   "source": [
    "a**2*var_X+b**2*var_Y+2*a*b*cov_xy\n"
   ]
  },
  {
   "cell_type": "code",
   "execution_count": null,
   "id": "6a4b0b62",
   "metadata": {},
   "outputs": [],
   "source": [
    "#확률변수의 상관계수: 공분산을 각각의 표준편차로 나누어 산출\n",
    "cov_xy/np.sqrt(var_X*var_Y)\n"
   ]
  },
  {
   "cell_type": "markdown",
   "id": "f6f41c59",
   "metadata": {},
   "source": [
    "#### 대표적인 이산형 확률분포"
   ]
  },
  {
   "cell_type": "code",
   "execution_count": 213,
   "id": "50ca3fb4",
   "metadata": {},
   "outputs": [],
   "source": [
    "#assert: 원하는 조건의 변수 값을 보증받을 때까지 테스트\n",
    "#그래프를 위한 사용자 함수\n",
    "import numpy as np\n",
    "import matplotlib.pyplot as plt\n",
    "from scipy import stats\n",
    "linestyles= ['-','--',':']\n",
    "# x 확률변수의 기대값\n",
    "def E(X,g=lambda x:x):\n",
    "    x_set,f = X\n",
    "    return np.sum([g(x_k) * f(x_k) for x_k in x_set])\n",
    "def V(X, g=lambda x:x):\n",
    "    x_set,f = X\n",
    "    mean =E(X,g)\n",
    "    return np.sum([(g(x_k)-mean)**2*f(x_k) for x_k in x_set])\n",
    "def check_prob(X): # 확률분포를 인수로 가지면 기댓값과 분산 계산 결과를 반환\n",
    "    x_set, f = X\n",
    "    prob = np.array([f(x_k) for x_k in x_set])\n",
    "    assert np.all(prob >= 0), 'minus probability'\n",
    "    prob_sum = np.round(np.sum(prob), 6)\n",
    "    assert prob_sum ==1, f'sum of probability{prob_sum}'\n",
    "    print(f'expected value {E(X):.4}')\n",
    "    print(f'variance {(V(X)):.4}')\n",
    "    \n",
    "def plot_prob(X):#확률분포를 인수로 가지며 그 확률변수의 확률함수와 기대값\n",
    "    #그리기 위한 함수\n",
    "    x_set,f =X #확률변수와 확률함수\n",
    "    prob= np.array([f(x_k) for x_k in x_set])\n",
    "    fig = plt.figure(figsize=(6,4))\n",
    "    ax=fig.add_subplot(111)\n",
    "    ax.bar(x_set,prob,label='prob')\n",
    "    ax.vlines(E(X),0,1,label='mean',color='crimson')\n",
    "    ax.set_xticks(np.append(x_set,E(X)))\n",
    "    ax.set_ylim(0,prob.max()*1.2)\n",
    "    ax.legend()\n",
    "    \n",
    "    plt.show()\n",
    "    "
   ]
  },
  {
   "cell_type": "markdown",
   "id": "59106896",
   "metadata": {},
   "source": [
    "#### 베르누이 분포\n",
    "- 가장 기본적인 이산형 확률분포로 확률변수가 취할 수 있는 값이 0과 1밖에 없는 분포이다.\n",
    "-  베르누이 분포를 따르는 확률변수의 시행을 베르누이 시행이라 하며 1이 나오면 성공,0이 나오면 실패\n",
    "- 동전을 던져 앞면이 나올 확률,주사위를 한 번 굴려 6이 나오지 않을 확률"
   ]
  },
  {
   "cell_type": "code",
   "execution_count": null,
   "id": "f4ad3cff",
   "metadata": {},
   "outputs": [],
   "source": [
    "def Bern(p):\n",
    "    x_set = np.array([0,1])\n",
    "    def f(x):\n",
    "        if x in x_set:\n",
    "            return p**x*(1-p)**(1-x) # p의 x승 곱하기 1-p에 1-x승\n",
    "        # 확률변수 (x) ,(1-p)는 실패하는 확률에는 (1-x)승\n",
    "        else:\n",
    "            return 0\n",
    "    return x_set,f\n",
    "p=0.3\n",
    "X=Bern(p)\n",
    "X"
   ]
  },
  {
   "cell_type": "code",
   "execution_count": null,
   "id": "e8befbdf",
   "metadata": {},
   "outputs": [],
   "source": [
    "check_prob(X)"
   ]
  },
  {
   "cell_type": "code",
   "execution_count": null,
   "id": "f08c80dd",
   "metadata": {},
   "outputs": [],
   "source": [
    "plot_prob(X)"
   ]
  },
  {
   "cell_type": "code",
   "execution_count": null,
   "id": "eb0a9f64",
   "metadata": {},
   "outputs": [],
   "source": [
    "rv=stats.bernoulli(p)\n"
   ]
  },
  {
   "cell_type": "code",
   "execution_count": null,
   "id": "c580336e",
   "metadata": {},
   "outputs": [],
   "source": [
    "#probability \n",
    "rv.pmf(0),rv.pmf(1) \n"
   ]
  },
  {
   "cell_type": "code",
   "execution_count": null,
   "id": "36cd4b7f",
   "metadata": {},
   "outputs": [],
   "source": [
    "rv.pmf([0,1])"
   ]
  },
  {
   "cell_type": "code",
   "execution_count": null,
   "id": "4ebe274b",
   "metadata": {},
   "outputs": [],
   "source": [
    "#누산분포함수 -이산형, 연속형 둘 다 가능\n",
    "rv.cdf([0,1])"
   ]
  },
  {
   "cell_type": "code",
   "execution_count": null,
   "id": "b329fc18",
   "metadata": {},
   "outputs": [],
   "source": [
    "rv.mean(),rv.var()"
   ]
  },
  {
   "cell_type": "markdown",
   "id": "e26b1ba8",
   "metadata": {},
   "source": [
    "#### 이항분포 \n",
    "- 성공확률이 p인 베르누이 시행을 n번 헀을 때의 성공 횟수가 따르는 분포\n",
    "    f(x) = $_{n}\\mathrm{C}_{x}(1-p)^{n-x}$ $(x \\in \\{0,1,2,,,,n\\}$)\n",
    "       0            (otherwise)\n"
   ]
  },
  {
   "cell_type": "code",
   "execution_count": null,
   "id": "1f77c7e4",
   "metadata": {},
   "outputs": [],
   "source": [
    "\n",
    "\n",
    "from scipy.special import comb\n",
    "def Bin(n,p):\n",
    "    x_set = np.arange(n+1)\n",
    "    def f(x):\n",
    "        if x in x_set:\n",
    "            return comb(n,x)*p**x*(1-p)**(n-x)\n",
    "        else:\n",
    "            return 0\n",
    "    return x_set,f\n"
   ]
  },
  {
   "cell_type": "code",
   "execution_count": null,
   "id": "bf7e82e5",
   "metadata": {},
   "outputs": [],
   "source": [
    "\n",
    "from scipy.special import comb\n",
    "def Bin(n,p):\n",
    "    x_set=np.arange(n+1)\n",
    "    def f(x):\n",
    "        if x in x_set:\n",
    "            return comb(n,x)*p**x*(1-p)**(n-x)\n",
    "        "
   ]
  },
  {
   "cell_type": "code",
   "execution_count": null,
   "id": "bd5590e9",
   "metadata": {},
   "outputs": [],
   "source": [
    "#[과제] 동전을 10번 던져 앞면이 3번 나올 확률의 이항분포의 기대값과 분산을\n",
    "##구하시오.\n",
    "n=10\n",
    "p=0.3\n",
    "X=Bin(n,p)\n",
    "check_prob(X)"
   ]
  },
  {
   "cell_type": "code",
   "execution_count": null,
   "id": "601e8566",
   "metadata": {},
   "outputs": [],
   "source": [
    "# [과제] 확률이 0.3, 0.5, 0.7로 변할 때 확률함수가 변화는 모습을 시각화 하세요\n",
    "\n",
    "fig = plt.figure(figsize=(6,6))\n",
    "ax=fig.add_subplot(111)\n",
    "\n",
    "x_set = np.arange(n+1)\n",
    "for p,ls in zip([0.3,0.5,0.7],linestyles):\n",
    "    # spicy.stats에서 이항분포의 확률변수는 binom함수로 생성가능 \n",
    "    rv=stats.binom(n,p)\n",
    "    ax.plot(x_set,rv.pmf(x_set),label=f'p:{p}',ls=ls,color='orange')\n",
    "ax.set_xticks(x_set)\n",
    "ax.legend()\n",
    "plt.show()"
   ]
  },
  {
   "cell_type": "markdown",
   "id": "f981758f",
   "metadata": {},
   "source": [
    "#### 기하분포\n",
    "- 베르누이 시행에서 처음 성공할 때까지 반복한 시행 횟수가 따르는 분포\n",
    "- 기하분포의 파라미터는 베르누이 새행의 성공 확률 파라미터 P가 되며 \n",
    " 파라미터 P의 기하분포를 Ge(p)로 표기\n",
    "\n",
    "f(x) = $(1-p)^{x-1}p$ $(x \\in \\{1,2,3,...\\})$\n",
    "\n",
    "     0              (otherwise)\n",
    "- 기하분포의 기댓값과 분산 : E(X)=1/p,V(X) = (1-p)/$p^2$\n",
    "    "
   ]
  },
  {
   "cell_type": "code",
   "execution_count": null,
   "id": "aec2b56b",
   "metadata": {},
   "outputs": [],
   "source": [
    "#[과제] 기하분포의 사용자 함수를 구하세요.(단, 확률변수를 1이상 29이하인 정수로 설정)\n",
    "def Ge(p):\n",
    "    x_set=np.arange(1,30)\n",
    "    def f(x):\n",
    "        if x in x_set:\n",
    "            return p*(1-p)**(x-1)\n",
    "        else:\n",
    "            return 0\n",
    "    return x_set,f"
   ]
  },
  {
   "cell_type": "code",
   "execution_count": null,
   "id": "17b940b0",
   "metadata": {},
   "outputs": [],
   "source": [
    "#[과제] 성공확률이 0.5일떄 기하분포의 기댓값과 분산을 구하세요\n",
    "p = 0.5\n",
    "X=Ge(p)\n",
    "check_prob(X)"
   ]
  },
  {
   "cell_type": "code",
   "execution_count": null,
   "id": "a9422f5c",
   "metadata": {},
   "outputs": [],
   "source": [
    "#[과제] 상기 기하분포의 확률함수와 기댓값을 시각화하세요\n",
    "plot_prob(X)"
   ]
  },
  {
   "cell_type": "code",
   "execution_count": null,
   "id": "59af6857",
   "metadata": {},
   "outputs": [],
   "source": [
    "#[과제] 성공 확률(p)이 0.2,.0.5,0.8로 변할 떄 확류함수가 변하는 모습 시각화\n",
    "\n",
    "fig=plt.figure(figsize=(6,6))\n",
    "ax=fig.add_subplot(111)\n",
    "\n",
    "x_set = np.arange(1,14)\n",
    "for p,ls in zip([0.2,0.5,0.8],linestyles):\n",
    "    rv=stats.geom(p)\n",
    "    ax.plot(x_set,rv.pmf(x_set),label=f'p:{p}',ls=ls,color='g')\n",
    "ax.set_xticks(x_set)\n",
    "ax.legend()\n",
    "plt.show()"
   ]
  },
  {
   "cell_type": "code",
   "execution_count": null,
   "id": "3dd00670",
   "metadata": {},
   "outputs": [],
   "source": [
    "# 야구선수가 홈런칠 확률 0.05, 6타석만에 홈런칠 확률은?\n",
    "from scipy.stats import geom\n",
    "rv =geom(p=0.05)\n",
    "rv.pmf(6) #총 시도횟수"
   ]
  },
  {
   "cell_type": "code",
   "execution_count": null,
   "id": "86343510",
   "metadata": {},
   "outputs": [],
   "source": [
    "rv=geom(p=0.05)\n",
    "x =np.arange(1,91)\n",
    "pmf_geom = rv.pmf(x)\n",
    "fig=plt.figure()\n",
    "ax=fig.add_subplot(111)\n",
    "ax.plot(x,pmf_geom,'bo')\n",
    "ax.vlines(x,0,pmf_geom,lw=2)\n",
    "ax.set_ylabel('geom PMF')\n",
    "plt.show()"
   ]
  },
  {
   "cell_type": "markdown",
   "id": "ba0c2654",
   "metadata": {},
   "source": [
    "#### 포아송 분포\n",
    "-  임의의 사건이 단위 시간당 발생하는 건수가 따르는 확률분포이며 포아송 분포의\n",
    " 파라미터는 $\\lambda$ (람다)로 나타낸다.\n",
    "- 하루에 평균 2건의 교통사고가 발생하는 지역에서 하루 교통사고 발생건수는 Poi(2)를 따른다.\n",
    "   예) 하루에 교통사고가 한 건도 일어나지 않을 확률: \n",
    "    P(X=0) = 2!/0! * $e^{-2}$ = 0.135\n",
    "    #e가 자연상수이고, 약 2.72818이다\n",
    "- 포아송 분포의 기댓값과 분산 모두 $\\lambda$ 가 된다."
   ]
  },
  {
   "cell_type": "code",
   "execution_count": null,
   "id": "bdbef577",
   "metadata": {},
   "outputs": [],
   "source": [
    "#[과제] 사용자 함수를 구하세요(단, 확률변수 1부터 19이하 정수로 설정)\n",
    "from scipy.special import factorial\n",
    "def Poi(lam):\n",
    "    x_set = np.arange(20)\n",
    "    def f(x):\n",
    "        if x in x_set:\n",
    "            return np.power(lam,x)/factorial(x) *np.exp(-lam)\n",
    "        else:\n",
    "            return 0\n",
    "        \n",
    "    return x_set,f\n"
   ]
  },
  {
   "cell_type": "code",
   "execution_count": null,
   "id": "1811ecac",
   "metadata": {},
   "outputs": [],
   "source": [
    "#[과제]  람다가 3일때 기댓값과 분산을 구하세요\n",
    "lam=3\n",
    "X=Poi(lam)\n",
    "check_prob(X)"
   ]
  },
  {
   "cell_type": "code",
   "execution_count": null,
   "id": "f77e0efa",
   "metadata": {},
   "outputs": [],
   "source": [
    "#[과제]  상기 포아송분포의 확률함수와 기댓값을 시각화하세요\n",
    "plot_prob(X)"
   ]
  },
  {
   "cell_type": "code",
   "execution_count": null,
   "id": "4d272c3e",
   "metadata": {},
   "outputs": [],
   "source": [
    "#[과제] 람다가 3,5,8로 변할 때 확률함수가 변하는 모습을 시각화\n",
    "fig=plt.figure(figsize=(6,6))\n",
    "ax =fig.add_subplot(111)\n",
    "\n",
    "x_set = np.arange(20)\n",
    "for lam,Is in zip([3,5,8],linestyles):\n",
    "    rv = stats.poisson(lam)\n",
    "    ax.plot(x_set,rv.pmf(x_set),\n",
    "           label=f'lam:{lam}',ls=ls, color='gray')\n",
    "ax.set_xticks(x_set)\n",
    "ax.legend()\n",
    "plt.show()"
   ]
  },
  {
   "cell_type": "code",
   "execution_count": null,
   "id": "654f5b6e",
   "metadata": {},
   "outputs": [],
   "source": [
    "#[과제] 베르누이.이항,기하,포아송분포의 사례를 각가 2개씩 제시하세요"
   ]
  },
  {
   "cell_type": "code",
   "execution_count": null,
   "id": "0d91fd88",
   "metadata": {
    "scrolled": true
   },
   "outputs": [],
   "source": [
    "def Bern(p):\n",
    "    x_set = np.array([0,1])\n",
    "    def f(x):\n",
    "        if x in x_set:\n",
    "            return p**x*(1-p)**(1-x) # p의 x승 곱하기 1-p에 1-x승\n",
    "        # 확률변수 (x) ,(1-p)는 실패하는 확률에는 (1-x)승\n",
    "        else:\n",
    "            return 0\n",
    "    return x_set,f\n",
    "p=0.3\n",
    "X=Bern(p)\n",
    "X\n",
    "#베르누이는  x_set이 np.array([0,1]) 이여야한다"
   ]
  },
  {
   "cell_type": "code",
   "execution_count": null,
   "id": "cb272a75",
   "metadata": {},
   "outputs": [],
   "source": [
    "#베르누이 주사위가 짝수가 나올 확률과 홀수가 나올 확률\n",
    "def Bern(p):\n",
    "    x_set = np.array([0,1])\n",
    "    def f(x):\n",
    "        if x in x_set:\n",
    "            return p**x*(1-p)**(1-x)\n",
    "        else:\n",
    "            return 0\n",
    "    return x_set,f\n",
    "\n",
    "p=0.5\n",
    "X=Bern(p)\n",
    "check_prob(X)"
   ]
  },
  {
   "cell_type": "code",
   "execution_count": null,
   "id": "b1dbfb72",
   "metadata": {},
   "outputs": [],
   "source": [
    "#베르누이 검은공 3개와 흰공 7개가 있는 주머니에서 흰공이 나오면 성공\n",
    "def Bern(p):\n",
    "    x_set = np.array([0,1])\n",
    "    def f(x):\n",
    "        if x in x_set:\n",
    "            return p**x*(1-p)**(1-x)\n",
    "        else:\n",
    "            return 0\n",
    "    return x_set,f\n",
    "\n",
    "p=0.7\n",
    "X=Bern(p)\n",
    "check_prob(X)"
   ]
  },
  {
   "cell_type": "code",
   "execution_count": null,
   "id": "21b919f0",
   "metadata": {},
   "outputs": [],
   "source": [
    "rv= stats.bernoulli(p)\n",
    "rv.pmf(0),rv.pmf(1)"
   ]
  },
  {
   "cell_type": "code",
   "execution_count": null,
   "id": "8ca82dbf",
   "metadata": {},
   "outputs": [],
   "source": [
    "plot_prob(X)"
   ]
  },
  {
   "cell_type": "code",
   "execution_count": null,
   "id": "4f9e67ee",
   "metadata": {},
   "outputs": [],
   "source": [
    "#이항분포 15명의 환자에게 약을 투여해서 치료될 확률 0.7, 15명중 5명 환자가 치료될 확률\n",
    "from scipy.special import comb\n",
    "\n",
    "def Bin(n,p):\n",
    "    x_set = np.arange(n+1)\n",
    "    def f(x):\n",
    "        if x in x_set:\n",
    "            return comb(n,x)*p**x*(1-p)**(n-x)\n",
    "        else:\n",
    "            return 0\n",
    "    return x_set,f\n",
    "\n",
    "n=5\n",
    "p=0.7\n",
    "X =Bin(n,p)\n",
    "check_prob(X)"
   ]
  },
  {
   "cell_type": "code",
   "execution_count": null,
   "id": "daeaa5f0",
   "metadata": {},
   "outputs": [],
   "source": [
    "from scipy.special import comb\n",
    "\n",
    "n=5\n",
    "p=0.7\n",
    "def Bin(n,x,p):\n",
    "    return comb(n,x)*p**x*(1-p)**(n-x)\n",
    "result=[]\n",
    "for x in range(1,n+1):\n",
    "    result.append(Bin(n,x,p))\n",
    "plt.bar(range(1,n+1),result)"
   ]
  },
  {
   "cell_type": "code",
   "execution_count": null,
   "id": "1d0bea59",
   "metadata": {},
   "outputs": [],
   "source": [
    "plot_prob(X)"
   ]
  },
  {
   "cell_type": "code",
   "execution_count": null,
   "id": "f921678a",
   "metadata": {},
   "outputs": [],
   "source": [
    "fig = plt.figure(figsize=(5,5))\n",
    "ax=fig.add_subplot(111)\n",
    "for p,ls in zip([0.3,0.5,0.7],linestyles):\n",
    "    rv=stats.binom(n,p)\n",
    "    ax.plot(x_set,rv.pmf(x_set),label=f'p:{p}',ls=ls,color='g')\n",
    "ax.set_xticks(x_set)\n",
    "ax.legend()\n",
    "plt.show()"
   ]
  },
  {
   "cell_type": "code",
   "execution_count": null,
   "id": "16ef09ca",
   "metadata": {
    "scrolled": true
   },
   "outputs": [],
   "source": [
    "\n",
    "\n",
    "#이항분포 동전 100회 던져서 앞면이 60회 나올 확률 \n",
    "from scipy.special import comb\n",
    "def Bin(n,p):\n",
    "    x_set = np.arange(n+1)\n",
    "    def f(x):\n",
    "        if x in x_set:\n",
    "            return comb(n,x)*p**x*(1-p)**(n-x)\n",
    "        else:\n",
    "            return 0\n",
    "    return x_set,f\n",
    "\n",
    "n=100\n",
    "p=0.5\n",
    "X=Bin(n,p)\n",
    "check_prob(X)"
   ]
  },
  {
   "cell_type": "code",
   "execution_count": null,
   "id": "1822dd92",
   "metadata": {},
   "outputs": [],
   "source": [
    "#기하분포 : 처음 성공\n",
    "def Ge(p):\n",
    "    x_set = np.arange(1,30)\n",
    "    def f(x):\n",
    "        if x in x_set:\n",
    "            return (1-p)**(x-1)*p\n",
    "        else:\n",
    "            return 0\n",
    "    return x_set,f\n",
    "p=0.4\n",
    "#0.4부터 0.9까지만 되네? WHY?\n",
    "X=Ge(p)\n",
    "check_prob(X)\n"
   ]
  },
  {
   "cell_type": "code",
   "execution_count": null,
   "id": "25c11b4e",
   "metadata": {},
   "outputs": [],
   "source": [
    "#기하분포는 geom 으로 확률변수를 받음 \n",
    "fig = plt.figure(figsize=(5,5))\n",
    "ax=fig.add_subplot(111)\n",
    "for p,ls in zip([0.3,0.5,0.7],linestyles):\n",
    "    rv=stats.geom(p)\n",
    "    ax.plot(x_set,rv.pmf(x_set),label=f'p:{p}',ls=ls,color='g')\n",
    "ax.set_xticks(x_set)\n",
    "ax.legend()\n",
    "plt.show()"
   ]
  },
  {
   "cell_type": "markdown",
   "id": "31212f72",
   "metadata": {},
   "source": [
    " ### 포아송분포\n",
    "  \n",
    " f(x)=$\\lambda^x/x!*3^{-\\lambda}$ $(x \\in \\{1,2,3,...\\})$\n",
    " \n",
    "  0                 (otherwise)"
   ]
  },
  {
   "cell_type": "code",
   "execution_count": null,
   "id": "aab42f7c",
   "metadata": {},
   "outputs": [],
   "source": [
    "#포아송분포  임의의 사건이 단위 시간당 발생하는 건수\n",
    "# 어떤 이발소에 1시간에 평균 3명의 손님이 찾아온다 \n",
    "# 1시간에 4명이 찾아 올확률은\n",
    "stats.poisson.cdf(4,mu=3)"
   ]
  },
  {
   "cell_type": "code",
   "execution_count": null,
   "id": "27a9d8b5",
   "metadata": {},
   "outputs": [],
   "source": [
    "from scipy.special import factorial\n",
    "def Poi(lam):\n",
    "    x_set=np.arange(20)\n",
    "    def f(x):\n",
    "        if x in x_set:\n",
    "            return np.power(lam,x)/ factorial(x)*np.exp(-lam)\n",
    "        else:\n",
    "            return 0\n",
    "    return x_set,f\n",
    "\n",
    "lam=3\n",
    "X=Poi(lam)\n",
    "\n",
    "check_prob(X)\n"
   ]
  },
  {
   "cell_type": "code",
   "execution_count": null,
   "id": "631f4ccf",
   "metadata": {},
   "outputs": [],
   "source": [
    "plot_prob(X)"
   ]
  },
  {
   "cell_type": "code",
   "execution_count": null,
   "id": "432b424a",
   "metadata": {},
   "outputs": [],
   "source": [
    "#웹사이트 한시간당 평균 접속사 3명, 앞으로 1시간동안 접속자가 2명 이하일 확률은?\n",
    "\n",
    "stats.poisson.cdf(2,mu=3)\n",
    "#2보다 작을 떄 확률을 구하는 것 "
   ]
  },
  {
   "cell_type": "code",
   "execution_count": null,
   "id": "2f9c4af1",
   "metadata": {},
   "outputs": [],
   "source": [
    "lam=3\n",
    "X=Poi(lam)\n",
    "check_prob(X)"
   ]
  },
  {
   "cell_type": "code",
   "execution_count": null,
   "id": "bf25f42e",
   "metadata": {},
   "outputs": [],
   "source": [
    "#람다가 커질수록 분산도 커져서 분포가 넓게 퍼지게 되는 것을 확인할 수 있습니다.\n",
    "fig=plt.figure(figsize=(6,6))\n",
    "ax =fig.add_subplot(111)\n",
    "\n",
    "x_set = np.arange(20)\n",
    "for lam,Is in zip([3,5,8],linestyles):\n",
    "    rv = stats.poisson(lam)\n",
    "    ax.plot(x_set,rv.pmf(x_set),\n",
    "           label=f'lam:{lam}',ls=ls, color='black')\n",
    "ax.set_xticks(x_set)\n",
    "ax.legend()\n",
    "\n",
    "plt.show()"
   ]
  },
  {
   "cell_type": "markdown",
   "id": "f5cf7ce4",
   "metadata": {},
   "source": [
    "### 연속형 확률변수\n",
    "- 이산형 확률변수와 연속형 확률변수의 주된 차이는 확률변수가 취할 수 있는 값이 이산적인가 연속적인가이다.\n",
    "- 확률변수의 경우 계산 과정에 적분이 포함된다. 적분은 SciPy의 integral모듈을 사용하여 구현한다.\n",
    "\n",
    "### 연속형 확률분포와 확률밀도함수\n",
    "- 특정값이 될 확률은 0, 특정 값이 범위에 들어갈 확률은 확률밀도함수를 적분하여 계산(적분은 곡선 아래 면적의 크기)\n",
    "- 정규분포는 연속확률분포로 가장 자주 쓰이는 확률분포, 모양은 평균을 중심으로 하나의 봉우리 형태를 띄며 한 집단의 많은 사람들의 키, 몸무게, 시험성적 등의 데이터에 잘 나타나는 분포\n",
    "- 누적분포함수: 확률분포에서 얻은 확률변수 3 이하가 되는 확률. cumulative density function \n",
    "###  stats.norm.cdf(loc=4,scale=0.8,x=3)\n",
    "- 정규분포의 확률밀도 계산\n",
    "   * 확률변수 3일 때의 확률밀도 N(3|4, 0.8**2)\n",
    "### stats.norm.pdf(loc=4,scale=0.8,x=3) \n",
    "Probability density function\n",
    "- 하측확률 : '확률변수 x가 N보다 낮을 확률은 M퍼센트이다'에서 N을 고정하고 M을 구하는 경우 \n",
    "    * 이 때의 M이 하측확률이며 M(확률)을 고정하고 N(변수)을 구하는 경우*이때의 N이 퍼센트포인트 하측확률이 2.5%가 되는 퍼센트 포인트\n",
    "- stats.norm.pdf(x=x)로 하여 loc와 scale을 지정하지 않을 경우 표준정규분포가 됨. probability density function\n",
    "- stats.norm.rvs()함수는 정규확률분포로 부터 난수 생성"
   ]
  },
  {
   "cell_type": "code",
   "execution_count": null,
   "id": "fa5d8cd4",
   "metadata": {},
   "outputs": [],
   "source": [
    "import numpy as np\n",
    "import matplotlib.pyplot as plt\n",
    "from scipy import integrate\n",
    "from scipy import stats\n",
    "import scipy as sp\n",
    "import seaborn as sns\n",
    "import warnings\n",
    "warnings.filterwarnings('ignore')"
   ]
  },
  {
   "cell_type": "code",
   "execution_count": 198,
   "id": "5dced2a7",
   "metadata": {},
   "outputs": [],
   "source": [
    "x_range = np.array([0,1])\n",
    "\n",
    "def f(x):\n",
    "    if x_range[0]<= x <= x_range[1]:\n",
    "        return 2*x\n",
    "    else:\n",
    "        return 0\n",
    "X=[x_range,f]"
   ]
  },
  {
   "cell_type": "code",
   "execution_count": 199,
   "id": "d4e720bf",
   "metadata": {},
   "outputs": [
    {
     "data": {
      "image/png": "[encoded data removed]",
      "text/plain": [
       "<Figure size 720x432 with 1 Axes>"
      ]
     },
     "metadata": {
      "needs_background": "light"
     },
     "output_type": "display_data"
    }
   ],
   "source": [
    "xs=np.linspace(x_range[0],x_range[1],100)\n",
    "fig=plt.figure(figsize=(10,6))\n",
    "ax=fig.add_subplot(111)\n",
    "\n",
    "ax.plot(xs,[f(x) for x in xs],label ='f(x)',color='g')\n",
    "ax.hlines(0,-0.2,1.2,alpha=0.3)\n",
    "ax.vlines(0,-0.2,1.2,alpha=0.3)\n",
    "ax.vlines(xs.max(),0,2.2,linestyles=':',color='g')\n",
    "#0.4~0.6 x좌표를 setting\n",
    "xs=np.linspace(0.4,0.6,100)\n",
    "ax.fill_between(xs,[f(x) for x in xs],label='prob')\n",
    "\n",
    "ax.set_xticks(np.arange(-0.2,1.3,0.1))\n",
    "ax.set_xlim(-0.1,1.1)\n",
    "ax.set_ylim(-0.2,2.1)\n",
    "\n",
    "ax.legend()\n",
    "\n",
    "plt.show()"
   ]
  },
  {
   "cell_type": "code",
   "execution_count": null,
   "id": "4ae1e37a",
   "metadata": {},
   "outputs": [],
   "source": [
    "#추정오차 인수는 피적분함수, 두번쨰 인수와 세번쨰 인수는 적분 범위\n",
    "# quad함수는 적분값(면적)과 추정오차를 반환\n",
    "#삼각형의 면적을 구할 때  quad함수를 사용해서 구할 수 있음\n",
    "integrate.quad(f,0.4,0.6)"
   ]
  },
  {
   "cell_type": "markdown",
   "id": "7c8e9509",
   "metadata": {},
   "source": [
    "#### 연속형 확률변수에서는 확률의 성질이 수식을 만족해야 함\n",
    "- f(x)가 항상 0이상의 값을 취함\n",
    "- 확률은 0보다 커야되지 , f(x)라는게 확률함수잖아 \n",
    "- f(x)에 대하여 무한대 범위의 적분 결과는 1\n",
    "\n",
    "\n"
   ]
  },
  {
   "cell_type": "code",
   "execution_count": 100,
   "id": "5e98e4e8",
   "metadata": {},
   "outputs": [
    {
     "data": {
      "text/plain": [
       "0"
      ]
     },
     "execution_count": 100,
     "metadata": {},
     "output_type": "execute_result"
    }
   ],
   "source": [
    "#확률밀도함수의 최소값\n",
    "from scipy.optimize import minimize_scalar\n",
    "\n",
    "res = minimize_scalar(f)\n",
    "# 함수의 최솟값은  fun이라는 인스턴스 변수에\n",
    "res.fun"
   ]
  },
  {
   "cell_type": "code",
   "execution_count": 83,
   "id": "bb918cfc",
   "metadata": {},
   "outputs": [
    {
     "data": {
      "text/plain": [
       "0.0"
      ]
     },
     "execution_count": 83,
     "metadata": {},
     "output_type": "execute_result"
    }
   ],
   "source": [
    "integrate.quad(f,-np.inf,np.inf)[0]"
   ]
  },
  {
   "cell_type": "code",
   "execution_count": 84,
   "id": "927bfc6e",
   "metadata": {},
   "outputs": [
    {
     "data": {
      "text/plain": [
       "3.141592653589793"
      ]
     },
     "execution_count": 84,
     "metadata": {},
     "output_type": "execute_result"
    }
   ],
   "source": [
    "np.pi"
   ]
  },
  {
   "cell_type": "code",
   "execution_count": 85,
   "id": "996a41a1",
   "metadata": {},
   "outputs": [
    {
     "data": {
      "text/plain": [
       "0.22831135673627742"
      ]
     },
     "execution_count": 85,
     "metadata": {},
     "output_type": "execute_result"
    }
   ],
   "source": [
    "#정규분포의 확률밀도 계산\n",
    "# 확률변수 3일때의, 확률밀도 N(3/4.0,0.8**2)\n",
    "x = 3 \n",
    "mu = 4\n",
    "sigma = 0.8\n",
    "\n",
    "1/(np.sqrt(2*np.pi*sigma**2))*sp.exp(-((x-mu)**2)/(2*sigma**2))\n"
   ]
  },
  {
   "cell_type": "code",
   "execution_count": 86,
   "id": "c065cbd4",
   "metadata": {},
   "outputs": [
    {
     "data": {
      "text/plain": [
       "0.2283113567362774"
      ]
     },
     "execution_count": 86,
     "metadata": {},
     "output_type": "execute_result"
    }
   ],
   "source": [
    "stats.norm.pdf(loc=4,scale=0.8,x=3) #x=3 퍼센트포인트라구?"
   ]
  },
  {
   "cell_type": "code",
   "execution_count": 87,
   "id": "a82e9b55",
   "metadata": {},
   "outputs": [
    {
     "data": {
      "text/plain": [
       "0.24197072451914337"
      ]
     },
     "execution_count": 87,
     "metadata": {},
     "output_type": "execute_result"
    }
   ],
   "source": [
    "# Q.표준정규분포에서 확률변수가 x=1 일떄 확률밀도 구해보세요\n",
    "#표준정규분포니깐 평균이 0, 표준편차가 1\n",
    "stats.norm.pdf(loc=0,scale=1,x=1)"
   ]
  },
  {
   "cell_type": "code",
   "execution_count": 88,
   "id": "3e9f628f",
   "metadata": {},
   "outputs": [
    {
     "data": {
      "text/plain": [
       "0.0"
      ]
     },
     "execution_count": 88,
     "metadata": {},
     "output_type": "execute_result"
    }
   ],
   "source": [
    "def F(x):\n",
    "    return integrate.quad(f,-np.inf,x)[0]\n",
    "F(0.6)-F(0.4)"
   ]
  },
  {
   "cell_type": "code",
   "execution_count": 196,
   "id": "3a9511f5",
   "metadata": {},
   "outputs": [
    {
     "ename": "NameError",
     "evalue": "name 'x_range' is not defined",
     "output_type": "error",
     "traceback": [
      "\u001b[1;31m---------------------------------------------------------------------------\u001b[0m",
      "\u001b[1;31mNameError\u001b[0m                                 Traceback (most recent call last)",
      "\u001b[1;32m~\\AppData\\Local\\Temp/ipykernel_11664/1369098006.py\u001b[0m in \u001b[0;36m<module>\u001b[1;34m\u001b[0m\n\u001b[1;32m----> 1\u001b[1;33m \u001b[0mxs\u001b[0m\u001b[1;33m=\u001b[0m\u001b[0mnp\u001b[0m\u001b[1;33m.\u001b[0m\u001b[0mlinspace\u001b[0m\u001b[1;33m(\u001b[0m\u001b[0mx_range\u001b[0m\u001b[1;33m[\u001b[0m\u001b[1;36m0\u001b[0m\u001b[1;33m]\u001b[0m\u001b[1;33m,\u001b[0m\u001b[0mx_range\u001b[0m\u001b[1;33m[\u001b[0m\u001b[1;36m1\u001b[0m\u001b[1;33m]\u001b[0m\u001b[1;33m,\u001b[0m\u001b[1;36m100\u001b[0m\u001b[1;33m)\u001b[0m\u001b[1;33m\u001b[0m\u001b[1;33m\u001b[0m\u001b[0m\n\u001b[0m\u001b[0;32m      2\u001b[0m \u001b[1;33m\u001b[0m\u001b[0m\n\u001b[0;32m      3\u001b[0m \u001b[1;33m\u001b[0m\u001b[0m\n\u001b[0;32m      4\u001b[0m \u001b[0mfig\u001b[0m\u001b[1;33m=\u001b[0m\u001b[0mplt\u001b[0m\u001b[1;33m.\u001b[0m\u001b[0mfigure\u001b[0m\u001b[1;33m(\u001b[0m\u001b[0mfigsize\u001b[0m\u001b[1;33m=\u001b[0m\u001b[1;33m(\u001b[0m\u001b[1;36m10\u001b[0m\u001b[1;33m,\u001b[0m\u001b[1;36m6\u001b[0m\u001b[1;33m)\u001b[0m\u001b[1;33m)\u001b[0m\u001b[1;33m\u001b[0m\u001b[1;33m\u001b[0m\u001b[0m\n\u001b[0;32m      5\u001b[0m \u001b[0max\u001b[0m\u001b[1;33m=\u001b[0m\u001b[0mfig\u001b[0m\u001b[1;33m.\u001b[0m\u001b[0madd_subplot\u001b[0m\u001b[1;33m(\u001b[0m\u001b[1;36m111\u001b[0m\u001b[1;33m)\u001b[0m\u001b[1;33m\u001b[0m\u001b[1;33m\u001b[0m\u001b[0m\n",
      "\u001b[1;31mNameError\u001b[0m: name 'x_range' is not defined"
     ]
    }
   ],
   "source": [
    "xs=np.linspace(x_range[0],x_range[1],100)\n",
    "\n",
    "\n",
    "fig=plt.figure(figsize=(10,6))\n",
    "ax=fig.add_subplot(111)\n",
    "\n",
    "ax.plot(xs,[F(x) for x in xs],label='F(x)',color='g')\n",
    "ax.hlines(0,-0.1,1.1,alpha=0.3)\n",
    "ax.vlines(0,-0.1,1.1,alpha=0.3)\n",
    "ax.vlines(xs.max(),0,1,linestyle=':',color='g')\n",
    "\n",
    "ax.set_xticks(np.arange(-0.1,1.2,0.1))\n",
    "ax.set_xlim(-0.1,1.1)\n",
    "ax.set_ylim(-0.1,1.1)\n",
    "ax.legend()\n",
    "\n",
    "plt.show()"
   ]
  },
  {
   "cell_type": "code",
   "execution_count": 99,
   "id": "bd9d86ab",
   "metadata": {},
   "outputs": [
    {
     "data": {
      "text/plain": [
       "Text(0.5, 1.0, '확률밀도함수')"
      ]
     },
     "execution_count": 99,
     "metadata": {},
     "output_type": "execute_result"
    },
    {
     "data": {
      "image/png": "[encoded data removed]",
      "text/plain": [
       "<Figure size 576x432 with 1 Axes>"
      ]
     },
     "metadata": {
      "needs_background": "light"
     },
     "output_type": "display_data"
    }
   ],
   "source": [
    "from matplotlib.pyplot import rc\n",
    "rc('font',family='Malgun Gothic')\n",
    "plt.rcParams['axes.unicode_minus'] = False\n",
    "rv= stats.norm(loc=0,scale=1) #편차가 커지면 점점 더 벌어짐\n",
    "xx= np.linspace(-3,3,100) #100개로 잘게 나눠준것\n",
    "pdf =rv.pdf(xx)\n",
    "plt.figure(figsize=(8,6))\n",
    "plt.plot(xx,pdf)\n",
    "plt.title('확률밀도함수')"
   ]
  },
  {
   "cell_type": "code",
   "execution_count": 91,
   "id": "d9038d0b",
   "metadata": {},
   "outputs": [
    {
     "data": {
      "text/plain": [
       "Text(0.5, 1.0, '누적분포함수')"
      ]
     },
     "execution_count": 91,
     "metadata": {},
     "output_type": "execute_result"
    },
    {
     "data": {
      "image/png": "[encoded data removed]",
      "text/plain": [
       "<Figure size 576x432 with 1 Axes>"
      ]
     },
     "metadata": {
      "needs_background": "light"
     },
     "output_type": "display_data"
    }
   ],
   "source": [
    "xx = np.linspace(-8,8,100)\n",
    "cdf = rv.cdf(xx)\n",
    "plt.figure(figsize=(8,6))\n",
    "plt.plot(xx,cdf)\n",
    "plt.title('누적분포함수')"
   ]
  },
  {
   "cell_type": "code",
   "execution_count": 93,
   "id": "ed7f97e3",
   "metadata": {},
   "outputs": [
    {
     "data": {
      "text/plain": [
       "0.2283113567362774"
      ]
     },
     "execution_count": 93,
     "metadata": {},
     "output_type": "execute_result"
    }
   ],
   "source": [
    "#정규분포 인스턴스 생성 \n",
    "norm_dist = stats.norm(loc=4,scale=0.8)\n",
    "norm_dist.pdf(x=3)"
   ]
  },
  {
   "cell_type": "code",
   "execution_count": 115,
   "id": "a1d3c66e",
   "metadata": {},
   "outputs": [
    {
     "data": {
      "text/plain": [
       "array([1. , 1.1, 1.2, 1.3, 1.4, 1.5, 1.6, 1.7, 1.8, 1.9, 2. , 2.1, 2.2,\n",
       "       2.3, 2.4, 2.5, 2.6, 2.7, 2.8, 2.9, 3. , 3.1, 3.2, 3.3, 3.4, 3.5,\n",
       "       3.6, 3.7, 3.8, 3.9, 4. , 4.1, 4.2, 4.3, 4.4, 4.5, 4.6, 4.7, 4.8,\n",
       "       4.9, 5. , 5.1, 5.2, 5.3, 5.4, 5.5, 5.6, 5.7, 5.8, 5.9, 6. , 6.1,\n",
       "       6.2, 6.3, 6.4, 6.5, 6.6, 6.7, 6.8, 6.9, 7. ])"
      ]
     },
     "execution_count": 115,
     "metadata": {},
     "output_type": "execute_result"
    }
   ],
   "source": [
    "x_plot = np.arange(1,7.1,0.1)\n",
    "x_plot"
   ]
  },
  {
   "cell_type": "code",
   "execution_count": 194,
   "id": "c6f4c9e9",
   "metadata": {},
   "outputs": [
    {
     "data": {
      "text/plain": [
       "1.7606816861659025"
      ]
     },
     "execution_count": 194,
     "metadata": {},
     "output_type": "execute_result"
    }
   ],
   "source": [
    "x_plot.std()"
   ]
  },
  {
   "cell_type": "code",
   "execution_count": 96,
   "id": "e394f03d",
   "metadata": {},
   "outputs": [
    {
     "data": {
      "text/plain": [
       "Text(0.5, 1.0, '확률밀도함수')"
      ]
     },
     "execution_count": 96,
     "metadata": {},
     "output_type": "execute_result"
    },
    {
     "data": {
      "image/png": "[encoded data removed]",
      "text/plain": [
       "<Figure size 576x432 with 1 Axes>"
      ]
     },
     "metadata": {
      "needs_background": "light"
     },
     "output_type": "display_data"
    }
   ],
   "source": [
    "from matplotlib.pyplot import rc\n",
    "rc('font',family='Malgun Gothic')\n",
    "plt.rcParams['axes.unicode_minus'] = False\n",
    "rv= stats.norm(loc=4,scale=1.7) #편차가 커지면 점점 더 벌어짐\n",
    "xx= np.linspace(1,7,100) #100개로 잘게 나눠준것\n",
    "pdf =rv.pdf(xx)\n",
    "plt.figure(figsize=(8,6))\n",
    "plt.plot(xx,pdf)\n",
    "plt.title('확률밀도함수')"
   ]
  },
  {
   "cell_type": "code",
   "execution_count": 116,
   "id": "8ad72b75",
   "metadata": {},
   "outputs": [
    {
     "data": {
      "text/plain": [
       "[<matplotlib.lines.Line2D at 0x1e800511a88>]"
      ]
     },
     "execution_count": 116,
     "metadata": {},
     "output_type": "execute_result"
    },
    {
     "data": {
      "image/png": "[encoded data removed]",
      "text/plain": [
       "<Figure size 432x288 with 1 Axes>"
      ]
     },
     "metadata": {
      "needs_background": "light"
     },
     "output_type": "display_data"
    }
   ],
   "source": [
    "mean = x_plot.mean()\n",
    "std = x_plot.std()\n",
    "\n",
    "pdf=stats.norm(mean,std).pdf(x_plot)\n",
    "plt.plot(x_plot,pdf)"
   ]
  },
  {
   "cell_type": "code",
   "execution_count": 235,
   "id": "2777f5e1",
   "metadata": {},
   "outputs": [
    {
     "data": {
      "text/plain": [
       "array([5.29947629, 3.51059487, 3.5774626 , 3.1416251 , 4.6923261 ,\n",
       "       2.15876904, 5.39584941, 3.39103448, 4.25523128, 3.8005037 ])"
      ]
     },
     "execution_count": 235,
     "metadata": {},
     "output_type": "execute_result"
    }
   ],
   "source": [
    "# 표본이 어떤 값 이하가 되는  비율\n",
    "np.random.seed(1)\n",
    "simulated_sample= stats.norm.rvs(loc=4,scale=0.8,size=100000)\n",
    "simulated_sample[:10]\n",
    "ss=simulated_sample[:10]\n",
    "ss"
   ]
  },
  {
   "cell_type": "code",
   "execution_count": 232,
   "id": "eae9ed54",
   "metadata": {},
   "outputs": [
    {
     "data": {
      "text/plain": [
       "count    100000.000000\n",
       "mean          4.004202\n",
       "std           0.798667\n",
       "min           0.538490\n",
       "25%           3.465533\n",
       "50%           4.004800\n",
       "75%           4.539819\n",
       "max           7.334494\n",
       "dtype: float64"
      ]
     },
     "execution_count": 232,
     "metadata": {},
     "output_type": "execute_result"
    }
   ],
   "source": [
    "pd.Series(simulated_sample).describe()"
   ]
  },
  {
   "cell_type": "code",
   "execution_count": 247,
   "id": "c886d48a",
   "metadata": {},
   "outputs": [
    {
     "name": "stdout",
     "output_type": "stream",
     "text": [
      "27151.549504137874\n"
     ]
    },
    {
     "data": {
      "text/plain": [
       "1037.1"
      ]
     },
     "execution_count": 247,
     "metadata": {},
     "output_type": "execute_result"
    }
   ],
   "source": [
    "# Q. 3보다 작은 샘플의 합계와 확률은?\n",
    "\n",
    "a=pd.Series(simulated_sample)\n",
    "print(a[a<3].sum())\n",
    "len(a[a<=3])/len(ss)"
   ]
  },
  {
   "cell_type": "code",
   "execution_count": 258,
   "id": "1922219e",
   "metadata": {},
   "outputs": [
    {
     "data": {
      "text/plain": [
       "0.10564977366685535"
      ]
     },
     "execution_count": 258,
     "metadata": {},
     "output_type": "execute_result"
    }
   ],
   "source": [
    "# 누적분포함수 : 확률분포에서 얻은 확률변수 3 이하가 되는 확률(loc=4.scale=0.8)\n",
    "stats.norm.cdf(loc=4,scale=0.8,x=3)\n"
   ]
  },
  {
   "cell_type": "code",
   "execution_count": 261,
   "id": "455e3675",
   "metadata": {},
   "outputs": [
    {
     "data": {
      "text/plain": [
       "0.5"
      ]
     },
     "execution_count": 261,
     "metadata": {},
     "output_type": "execute_result"
    }
   ],
   "source": [
    "#정규분포는 평균에 대해 좌우대칭 \n",
    "#데이터가 평균값 이하가 될 확률은? 50% \n",
    "stats.norm.cdf(loc=4,scale=0.8,x=4)"
   ]
  },
  {
   "cell_type": "code",
   "execution_count": 266,
   "id": "17d68d44",
   "metadata": {},
   "outputs": [
    {
     "data": {
      "text/plain": [
       "2.4320288123679563"
      ]
     },
     "execution_count": 266,
     "metadata": {},
     "output_type": "execute_result"
    }
   ],
   "source": [
    "# 하측확률: 확률변수 x가 N보다 작을 확률은 M퍼센트이다\n",
    "# M을 고정하고 N을 구하는 경우 \n",
    "# q: 하측확률이 주어졌을 때 퍼센트 포인트 구하는법\n",
    "stats.norm.ppf(loc=4,scale=0.8,q=0.025)\n"
   ]
  },
  {
   "cell_type": "code",
   "execution_count": 264,
   "id": "a95ddbc1",
   "metadata": {},
   "outputs": [
    {
     "data": {
      "text/plain": [
       "0.024999999999999977"
      ]
     },
     "execution_count": 264,
     "metadata": {},
     "output_type": "execute_result"
    }
   ],
   "source": [
    "# x: 퍼센트 포인트 -> 하측확률 구하는 법 \n",
    "stats.norm.cdf(loc=4,scale=0.8,x=2.4320288123679563)"
   ]
  },
  {
   "cell_type": "code",
   "execution_count": 268,
   "id": "eef5cc70",
   "metadata": {},
   "outputs": [
    {
     "data": {
      "text/plain": [
       "4.0"
      ]
     },
     "execution_count": 268,
     "metadata": {},
     "output_type": "execute_result"
    }
   ],
   "source": [
    "# 하측확률이 50%가 되는 퍼센트 포인트는 평균과 일치\n",
    "stats.norm.ppf(loc=4,scale=0.8,q=0.5) "
   ]
  },
  {
   "cell_type": "code",
   "execution_count": 117,
   "id": "6d0b06e9",
   "metadata": {},
   "outputs": [
    {
     "data": {
      "text/plain": [
       "94.75599487291959"
      ]
     },
     "execution_count": 117,
     "metadata": {},
     "output_type": "execute_result"
    }
   ],
   "source": [
    "#[과제] 평균 100, 표준편차 10인 정규분포에서 하측확률이 0.3일 경우의\n",
    "#퍼센트포인트를 구하고 그 퍼센트 포인트를 적용해 하측확률 구하여라\n",
    "\n",
    "stats.norm.ppf(loc=100,scale=10,q=0.3)"
   ]
  },
  {
   "cell_type": "code",
   "execution_count": 118,
   "id": "3fe45550",
   "metadata": {},
   "outputs": [
    {
     "data": {
      "text/plain": [
       "0.2999999999999998"
      ]
     },
     "execution_count": 118,
     "metadata": {},
     "output_type": "execute_result"
    }
   ],
   "source": [
    "stats.norm.cdf(loc=100,scale=10,x= 94.75599487291959)"
   ]
  },
  {
   "cell_type": "code",
   "execution_count": 228,
   "id": "8cf93121",
   "metadata": {},
   "outputs": [
    {
     "data": {
      "image/png": "[encoded data removed]",
      "text/plain": [
       "<Figure size 720x576 with 1 Axes>"
      ]
     },
     "metadata": {
      "needs_background": "light"
     },
     "output_type": "display_data"
    }
   ],
   "source": [
    "# [과제] N(mean, sigma**2) 파라미터를 각각 (0,1), (0,4), (1,1)로 변경할 때의 정규분포\n",
    "fig = plt.figure(figsize = (10,8))\n",
    "ax = fig.add_subplot(111)\n",
    "\n",
    "xs = np.linspace(-5,5,100)\n",
    "params = [(0,1),(0,2),(1,1)]\n",
    "colors = ['red','blue','black']\n",
    "\n",
    "for param, ls , color in zip(params,linestyles,colors):\n",
    "    mu, sigma = param\n",
    "    rv = stats.norm(mu,sigma)\n",
    "    ax.plot(xs,rv.pdf(xs), label = f'N({mu},{sigma**2})',ls=ls,color=color)\n",
    "    \n",
    "ax.legend()\n",
    "plt.show()\n"
   ]
  },
  {
   "cell_type": "code",
   "execution_count": 193,
   "id": "bf899abe",
   "metadata": {
    "scrolled": true
   },
   "outputs": [
    {
     "data": {
      "image/png": "[encoded data removed]",
      "text/plain": [
       "<Figure size 720x432 with 2 Axes>"
      ]
     },
     "metadata": {
      "needs_background": "light"
     },
     "output_type": "display_data"
    }
   ],
   "source": [
    "#[과제] 상기 정규분포의 확률밀도함수와 누적분포 함수를 시각화하여\n",
    "#하측확률과 퍼센트포인트간의 관계를 확인하세요.\n",
    "fig=plt.figure(figsize=(10,6))\n",
    "ax1 = fig.add_subplot(111)\n",
    "ax2 = ax1.twinx()\n",
    "\n",
    "rv = stats.norm(loc=100, scale=10)\n",
    "xx = np.linspace(70,131,100)\n",
    "\n",
    "pdf = rv.pdf(xx)\n",
    "cdf = rv.cdf(xx)\n",
    "\n",
    "line_pdf = ax1.plot(xx,pdf,color='red',label='PDF')\n",
    "ax1.set_xlabel('num',fontsize=15)\n",
    "ax1.set_ylabel('pdf',rotation=0,fontsize=15,labelpad=20)\n",
    "\n",
    "line_cdf = ax2.plot(xx,cdf,color='blue',label='CDF')\n",
    "ax2.set_ylabel('cdf',rotation=0,fontsize=15,labelpad=20)\n",
    "\n",
    "ax1.legend(loc='center left')\n",
    "ax2.legend(loc='center right')\n",
    "plt.show()\n"
   ]
  },
  {
   "cell_type": "code",
   "execution_count": 162,
   "id": "47da5064",
   "metadata": {},
   "outputs": [],
   "source": [
    "rv= stats.norm(0,1)"
   ]
  },
  {
   "cell_type": "code",
   "execution_count": 179,
   "id": "2b120a4f",
   "metadata": {},
   "outputs": [
    {
     "data": {
      "image/png": "[encoded data removed]",
      "text/plain": [
       "<Figure size 720x432 with 2 Axes>"
      ]
     },
     "metadata": {
      "needs_background": "light"
     },
     "output_type": "display_data"
    }
   ],
   "source": [
    "#Q.확률밀도함수(pdf)와 누적분포함수(cdf)를 하나의 그래프를 시각화하여 비교하세요\n",
    "\n",
    "fig=plt.figure(figsize=(10,6))\n",
    "ax1 = fig.add_subplot(111)\n",
    "ax2 = ax1.twinx()\n",
    "\n",
    "rv=stats.norm(loc=0,scale=1)\n",
    "x =np.linspace(-3,3,100)\n",
    "pdf = rv.pdf(x)\n",
    "cdf = rv.cdf(x)\n",
    "\n",
    "line_pdf = ax1.plot(x,pdf,color='red',label='PDF')\n",
    "line_cdf = ax2.plot(x,cdf,color='blue',label='CDF')\n",
    "\n",
    "ax1.set_xlabel('num',fontsize=15)\n",
    "ax1.set_ylabel('pdf',rotation=0,fontsize=15,labelpad=20)\n",
    "ax2.set_ylabel('cdf',fontsize=15)\n",
    "plt.show()"
   ]
  },
  {
   "cell_type": "code",
   "execution_count": 188,
   "id": "9fc549b2",
   "metadata": {},
   "outputs": [
    {
     "name": "stdout",
     "output_type": "stream",
     "text": [
      "누적 확률이 M이되는 확률변수 값에 직선을 그려드리겠습니다. M을 입력하세요.(0~1사이)0.5\n"
     ]
    },
    {
     "data": {
      "image/png": "[encoded data removed]",
      "text/plain": [
       "<Figure size 1440x432 with 2 Axes>"
      ]
     },
     "metadata": {
      "needs_background": "light"
     },
     "output_type": "display_data"
    }
   ],
   "source": [
    "from matplotlib import rc\n",
    "rc('font',family='Malgun Gothic') # 한글 인코딩\n",
    "plt.rcParams['axes.unicode_minus'] = False # 음수 부분 처리\n",
    "\n",
    "a = float(input('누적 확률이 M이되는 확률변수 값에 직선을 그려드리겠습니다. M을 입력하세요.(0~1사이)'))\n",
    "rv = stats.norm(0,1)\n",
    "xx = np.linspace(-3,3)\n",
    "pdf = rv.pdf(xx)\n",
    "cdf = rv.cdf(xx)\n",
    "\n",
    "fig = plt.figure(figsize=(20,6))\n",
    "ax1 = fig.add_subplot(121)\n",
    "ax1.set_ylabel('확률밀도함수',rotation=0,fontsize=12,loc='top')\n",
    "ax1.set_xlabel('확률변수 값',fontsize=15)\n",
    "ax1.vlines(rv.ppf(a),0,0.42,colors='gray',ls = ':')\n",
    "lns1 = ax1.plot(xx,pdf,label='pdf',color='cornflowerblue')\n",
    "\n",
    "ax2 = plt.twinx(ax1)\n",
    "lns2 = ax2.set_ylabel('누적분포함수',rotation=0,fontsize=12,loc='bottom')\n",
    "lns2 = ax2.plot(xx,cdf,label='cdf',color='crimson')\n",
    "lns = lns1 + lns2\n",
    "lab = [i.get_label() for i in lns]\n",
    "ax1.legend(lns,lab,loc='upper left',fontsize=15)\n",
    "\n",
    "plt.title('확률밀도함수와 누적분포함수',fontsize=30)\n",
    "plt.show()\n"
   ]
  },
  {
   "cell_type": "code",
   "execution_count": 144,
   "id": "1cd98c2c",
   "metadata": {},
   "outputs": [
    {
     "data": {
      "text/plain": [
       "0.5"
      ]
     },
     "execution_count": 144,
     "metadata": {},
     "output_type": "execute_result"
    }
   ],
   "source": [
    "# Q. 0까지 누적분포\n",
    "rv.cdf(0)"
   ]
  },
  {
   "cell_type": "code",
   "execution_count": 180,
   "id": "fa26fd9f",
   "metadata": {},
   "outputs": [
    {
     "data": {
      "text/plain": [
       "0.0"
      ]
     },
     "execution_count": 180,
     "metadata": {},
     "output_type": "execute_result"
    }
   ],
   "source": [
    "# Q. 누적분포가 0.5인 X값\n",
    "# ppf: 누적분포함수의 역함수\n",
    "rv.ppf(0.5)"
   ]
  },
  {
   "cell_type": "code",
   "execution_count": 181,
   "id": "835bdf49",
   "metadata": {},
   "outputs": [
    {
     "data": {
      "text/plain": [
       "1.0"
      ]
     },
     "execution_count": 181,
     "metadata": {},
     "output_type": "execute_result"
    }
   ],
   "source": [
    "# 누적분포가 0.8413447460685429인 x값\n",
    "rv.ppf(0.8413447460685429)"
   ]
  },
  {
   "cell_type": "code",
   "execution_count": 151,
   "id": "76d046e0",
   "metadata": {},
   "outputs": [
    {
     "data": {
      "text/plain": [
       "0.3413447460685429"
      ]
     },
     "execution_count": 151,
     "metadata": {},
     "output_type": "execute_result"
    }
   ],
   "source": [
    "# Q. 0~1까지의 누적확률분포\n",
    "rv.cdf(1)-rv.cdf(0)"
   ]
  },
  {
   "cell_type": "code",
   "execution_count": 153,
   "id": "4142be70",
   "metadata": {},
   "outputs": [
    {
     "data": {
      "text/plain": [
       "0.9544997361036416"
      ]
     },
     "execution_count": 153,
     "metadata": {},
     "output_type": "execute_result"
    }
   ],
   "source": [
    "#  Q. (-2<x<2)확률\n",
    "rv.cdf(2)-rv.cdf(-2)"
   ]
  },
  {
   "cell_type": "code",
   "execution_count": 190,
   "id": "c3ff9cb6",
   "metadata": {},
   "outputs": [
    {
     "data": {
      "text/plain": [
       "1.6448536269514722"
      ]
     },
     "execution_count": 190,
     "metadata": {},
     "output_type": "execute_result"
    }
   ],
   "source": [
    "# 상위 5%확률의 퍼센트 포인트\n",
    "rv.isf(0.05)\n",
    "rv.ppf(0.95)"
   ]
  },
  {
   "cell_type": "code",
   "execution_count": 191,
   "id": "8aed7342",
   "metadata": {},
   "outputs": [
    {
     "data": {
      "text/plain": [
       "-1.6448536269514722"
      ]
     },
     "execution_count": 191,
     "metadata": {},
     "output_type": "execute_result"
    }
   ],
   "source": [
    "# 하위 5%확률의 퍼센트 포인트\n",
    "rv.ppf(0.05)\n",
    "rv.isf(0.95)"
   ]
  },
  {
   "cell_type": "code",
   "execution_count": 192,
   "id": "b1637d4a",
   "metadata": {},
   "outputs": [
    {
     "data": {
      "text/plain": [
       "(-1.6448536269514729, 1.6448536269514722)"
      ]
     },
     "execution_count": 192,
     "metadata": {},
     "output_type": "execute_result"
    }
   ],
   "source": [
    "#Q.하위5%, 상위5%의 퍼센트 포인트 (하위5,상위5 빼면 90%잖아)\n",
    "rv.interval(0.9)"
   ]
  },
  {
   "cell_type": "code",
   "execution_count": 165,
   "id": "06ffb729",
   "metadata": {},
   "outputs": [
    {
     "data": {
      "text/plain": [
       "0.22662735237686826"
      ]
     },
     "execution_count": 165,
     "metadata": {},
     "output_type": "execute_result"
    }
   ],
   "source": [
    "# Q.어느 회사에서 종업원들의 근무시간 조사하였는데 종업원들의 근무기간은 평균 11년\n",
    "#표준편차가 4년인 정규분포를 따른다고 한다. 이 회사에서 14년이상 근무한 종업원의 비율은?\n",
    "# stats.norm(loc=11,sigma=4)\n",
    "# (X>=14)\n",
    "rv= stats.norm(11,4)\n",
    "1-rv.cdf(14)"
   ]
  },
  {
   "cell_type": "code",
   "execution_count": 168,
   "id": "e9b44472",
   "metadata": {},
   "outputs": [
    {
     "data": {
      "text/plain": [
       "0.09121121972586788"
      ]
     },
     "execution_count": 168,
     "metadata": {},
     "output_type": "execute_result"
    }
   ],
   "source": [
    "# Q. 어느 전구회사의 전구 수명은 평균 800일, 표준편차는 30일인 정규분포를 따른다.\n",
    "#전구의 수명이 760이하일 확률을 구하세요.\n",
    "rv=stats.norm(800,30)\n",
    "rv.cdf(760)"
   ]
  },
  {
   "cell_type": "code",
   "execution_count": 170,
   "id": "e6ad66b2",
   "metadata": {},
   "outputs": [
    {
     "data": {
      "text/plain": [
       "0.09944010834107919"
      ]
     },
     "execution_count": 170,
     "metadata": {},
     "output_type": "execute_result"
    }
   ],
   "source": [
    "#Q. 어느 고3 학생들의 수학 성적 평균은 70점, 분산이 64점인 정규분포를 따른다.\n",
    "#점수가 80점이상 90점 이하일 확률은?\n",
    "rv=stats.norm(70,8)\n",
    "rv.cdf(90)-rv.cdf(80)"
   ]
  },
  {
   "cell_type": "code",
   "execution_count": 122,
   "id": "0c45b62d",
   "metadata": {},
   "outputs": [
    {
     "data": {
      "image/png": "[encoded data removed]",
      "text/plain": [
       "<Figure size 2160x432 with 2 Axes>"
      ]
     },
     "metadata": {
      "needs_background": "light"
     },
     "output_type": "display_data"
    }
   ],
   "source": [
    "rv = stats.norm(loc = 100,scale = 10)\n",
    "xx = np.linspace(60,141)\n",
    "pdf = rv.pdf(xx)\n",
    "cdf = rv.cdf(xx)\n",
    "\n",
    "fig = plt.figure(figsize=(30,6))\n",
    "ax1 = fig.add_subplot(121)\n",
    "ax1.set_ylabel('확률밀도함수',rotation=0,fontsize=12,loc='top')\n",
    "ax1.set_xlabel('확률변수 값',fontsize=15)\n",
    "ax1.vlines(rv.ppf(a),0,0.05,colors='gray',ls = ':')\n",
    "lns1 = ax1.plot(xx,pdf,label='pdf',color='cornflowerblue')\n",
    "\n",
    "ax2 = plt.twinx(ax1)\n",
    "lns2 = ax2.set_ylabel('누적분포함수',rotation=0,fontsize=12,loc='bottom')\n",
    "lns2 = ax2.plot(xx,cdf,label='cdf',color='crimson')\n",
    "lns = lns1 + lns2\n",
    "lab = [i.get_label() for i in lns]\n",
    "ax1.legend(lns,lab,loc='upper left',fontsize=15)\n",
    "\n",
    "plt.title('확률밀도함수와 누적분포함수',fontsize=30)\n",
    "plt.show()\n"
   ]
  },
  {
   "cell_type": "code",
   "execution_count": 272,
   "id": "57992d96",
   "metadata": {},
   "outputs": [
    {
     "data": {
      "text/plain": [
       "Text(0.5, 1.0, '확률밀도함수')"
      ]
     },
     "execution_count": 272,
     "metadata": {},
     "output_type": "execute_result"
    },
    {
     "data": {
      "image/png": "[encoded data removed]",
      "text/plain": [
       "<Figure size 576x432 with 1 Axes>"
      ]
     },
     "metadata": {
      "needs_background": "light"
     },
     "output_type": "display_data"
    }
   ],
   "source": [
    "from matplotlib.pyplot import rc\n",
    "rc('font',family='Malgun Gothic')\n",
    "plt.rcParams['axes.unicode_minus'] = False\n",
    "\n",
    "rv= stats.norm(loc=100,scale=10) #편차가 커지면 점점 더 벌어짐\n",
    "xx= np.linspace(-3,3,100) #100개로 잘게 나눠준것\n",
    "pdf =rv.pdf(xx)\n",
    "plt.figure(figsize=(8,6))\n",
    "plt.plot(xx,pdf)\n",
    "plt.title('확률밀도함수')"
   ]
  },
  {
   "cell_type": "code",
   "execution_count": 113,
   "id": "2605b95d",
   "metadata": {},
   "outputs": [
    {
     "data": {
      "text/plain": [
       "Text(0.5, 1.0, '확률누적함수')"
      ]
     },
     "execution_count": 113,
     "metadata": {},
     "output_type": "execute_result"
    },
    {
     "data": {
      "image/png": "[encoded data removed]",
      "text/plain": [
       "<Figure size 576x432 with 1 Axes>"
      ]
     },
     "metadata": {
      "needs_background": "light"
     },
     "output_type": "display_data"
    }
   ],
   "source": [
    "rv= stats.norm(loc=100,scale=10) #편차가 커지면 점점 더 벌어짐\n",
    "xx= np.linspace(-3,3,100) #100개로 잘게 나눠준것\n",
    "pdf =rv.cdf(xx)\n",
    "plt.figure(figsize=(8,6))\n",
    "plt.plot(xx,pdf)\n",
    "plt.title('확률누적함수')"
   ]
  },
  {
   "cell_type": "markdown",
   "id": "2de60090",
   "metadata": {},
   "source": [
    "#코딩으로배우는 통계 블로그\n",
    "https://makeit.tistory.com/category/%EC%BD%94%EB%94%A9%EC%9C%BC%EB%A1%9C%20%EC%9D%B5%ED%9E%88%EB%8A%94%20Python/%ED%86%B5%EA%B3%84"
   ]
  },
  {
   "cell_type": "markdown",
   "id": "bd26ed02",
   "metadata": {},
   "source": [
    "### 지수분포\n",
    "어떤 사건이 발생하는 간격이 따르는 분포이며 확률변수가 취할 수 있는 값은 0이상의 실수\n",
    "지수분포의 파라미터는 로 양의 실수이며 EX()로 표기한다.\n",
    "EX()는 단위시간당 평균 번 발생하는 사건의 발생 간격에 따르는 확률분포이다."
   ]
  },
  {
   "cell_type": "code",
   "execution_count": 218,
   "id": "d4940372",
   "metadata": {},
   "outputs": [],
   "source": [
    "from scipy import stats, integrate\n",
    "# from scipy\n",
    "\n",
    "linestyels=['-','--',':']\n",
    "\n",
    "def E(X, g=lambda x:x):\n",
    "    x_range , f =X\n",
    "    def integrand(x):\n",
    "        return g(x) * f(x)\n",
    "    return integrate.quad(integrand, -np.inf,np.inf)[0]\n",
    "\n",
    "def V(X, g=lambda x:x):\n",
    "    x_ragne, f =X\n",
    "    mean = E(X,g)\n",
    "    def integrand(x):\n",
    "        return (g(x) - mean) **2 *f(x)\n",
    "    return integrate.quad(integrand, -np.inf , np.inf)[0]\n",
    "\n",
    "def check_prob(X):\n",
    "    x_range , f =X\n",
    "    f_min = minimize_scalar(f).fun\n",
    "    assert f_min >= 0 , 'density function is minus value'\n",
    "    prob_sum = np.round(integrate.quad(f,-np.inf, np.inf)[0],6)\n",
    "    assert prob_sum ==1 , f'sum of probability is {prob_sum}'\n",
    "    print(f'expected value {E(X):.3f}')\n",
    "    print(f'variance {V(X): .3f}')\n",
    "    \n",
    "def plot_prob(X,x_min,x_max):\n",
    "    x_range, f =X\n",
    "    def F(x):\n",
    "        return integrate.quad(f,-np.inf,x)[0]\n",
    "    xs = np.linspace(x_min,x_max,100)\n",
    "    fig = plt.figure(figsize=(10,6))\n",
    "    ax = fig.add_subplot(111)\n",
    "    ax.plot(xs,[f(x) for x in xs], label='f(x)', color='rebeccapurple')\n",
    "    ax.plot(xs, [F(x) for x in xs], label='F(x)', ls='--',color='purple')\n",
    "    ax.legend()"
   ]
  },
  {
   "cell_type": "code",
   "execution_count": 210,
   "id": "0d8a7b0a",
   "metadata": {},
   "outputs": [],
   "source": [
    "def Ex(lam):\n",
    "    x_range = [0,np.inf]\n",
    "    def f(x):\n",
    "        if x >=0:\n",
    "            return lam * np.exp(-lam * x)\n",
    "        else:\n",
    "            return 0\n",
    "    return x_range, f"
   ]
  },
  {
   "cell_type": "code",
   "execution_count": 219,
   "id": "0f3f9d72",
   "metadata": {},
   "outputs": [
    {
     "name": "stdout",
     "output_type": "stream",
     "text": [
      "expected value 0.333\n",
      "variance  0.111\n"
     ]
    }
   ],
   "source": [
    "lam = 3\n",
    "X = Ex(lam)\n",
    "check_prob(X)"
   ]
  },
  {
   "cell_type": "code",
   "execution_count": 221,
   "id": "94a8ce66",
   "metadata": {},
   "outputs": [
    {
     "data": {
      "image/png": "[encoded data removed]",
      "text/plain": [
       "<Figure size 720x432 with 1 Axes>"
      ]
     },
     "metadata": {
      "needs_background": "light"
     },
     "output_type": "display_data"
    }
   ],
   "source": [
    "plot_prob(X,0,2)"
   ]
  },
  {
   "cell_type": "code",
   "execution_count": 222,
   "id": "781f2ef0",
   "metadata": {},
   "outputs": [
    {
     "data": {
      "image/png": "[encoded data removed]",
      "text/plain": [
       "<Figure size 720x432 with 1 Axes>"
      ]
     },
     "metadata": {
      "needs_background": "light"
     },
     "output_type": "display_data"
    }
   ],
   "source": [
    "# [과제] 파라미터 람다가 1,2,3으로 변경시 지수분포의 확률분포함수를 시각화 하세요\n",
    "\n",
    "fig = plt.figure(figsize=(10,6))\n",
    "ax = fig.add_subplot(111)\n",
    "\n",
    "xs = np.linspace(0,3,100)\n",
    "for lam,ls in zip([1,2,3], linestyles):\n",
    "    rv = stats.expon(scale =1/lam)\n",
    "    ax.plot(xs, rv.pdf(xs), label=f'lambda:{lam}' , ls=ls, color=\"salmon\")\n",
    "ax.legend()\n",
    "plt.show()\n"
   ]
  },
  {
   "cell_type": "markdown",
   "id": "e2993fb9",
   "metadata": {},
   "source": [
    "### 카이제곱분포\n",
    "- $Z_1,Z_2,...Z_n$ 이 서로 독립이고 N(0,1)을 따르고 있을 떄 그 제곱합의 확률분포을 자유도(샘플 개수)가 n인 카이제곱분포라고 한다.\n",
    "- 카이제곱분포는 분산의 구간 추정이나 독립성 검정에서 사용되는 확률분포이다.\n",
    "-  좌우비대칭으로 왼쪽으로 치우치고 오른쪽으로 넓어진다\n",
    "- 자유도가 커지면 좌우대칭에 가까워진다.\n",
    "- 자유도의 값 가까이에 분포의 정점이 있다.\n"
   ]
  },
  {
   "cell_type": "code",
   "execution_count": 239,
   "id": "41650923",
   "metadata": {},
   "outputs": [
    {
     "name": "stdout",
     "output_type": "stream",
     "text": [
      "(10, 1000000)\n"
     ]
    },
    {
     "data": {
      "text/plain": [
       "array([11.05116221, 10.5242263 ,  6.61151902, ..., 14.72159082,\n",
       "       13.67140345,  9.5721032 ])"
      ]
     },
     "execution_count": 239,
     "metadata": {},
     "output_type": "execute_result"
    }
   ],
   "source": [
    "#포본크기 10으로 백만번 무작위 추출하여 카이제곱분포를\n",
    "#따르는 표본 데이터 만들기\n",
    "n=10\n",
    "rv=stats.norm()\n",
    "sample_size=int(1e6)\n",
    "#표준정규분포에서 표본크기 100만으로 무작위추출\n",
    "z_sample=rv.rvs((n,sample_size))\n",
    "print(z_sample.shape)\n",
    "# axis=0에서 총합을 구하고, 표준정규분포의\n",
    "#제곱합 표본 데이터를 구한다\n",
    "chi2_sample= np.sum(z_sample**2,axis=0)\n",
    "chi2_sample"
   ]
  },
  {
   "cell_type": "code",
   "execution_count": 234,
   "id": "ad942a33",
   "metadata": {},
   "outputs": [
    {
     "data": {
      "image/png": "[encoded data removed]",
      "text/plain": [
       "<Figure size 432x432 with 1 Axes>"
      ]
     },
     "metadata": {
      "needs_background": "light"
     },
     "output_type": "display_data"
    }
   ],
   "source": [
    "# 표본 데이터의 히스토그램과 밀도함수 시각화\n",
    "fig =plt.figure(figsize=(6,6))\n",
    "ax=fig.add_subplot(111)\n",
    "\n",
    "rv_true=stats.chi2(n)\n",
    "xs=np.linspace(0,30,100)\n",
    "ax.hist(chi2_sample,bins=100,density=True,\n",
    "       alpha=0.5,label='chi2_sample')\n",
    "ax.plot(xs,rv_true.pdf(xs),label=f'chi2{n}',\n",
    "       color='black')\n",
    "ax.legend()\n",
    "ax.set_xlim(0,30)\n",
    "plt.show()"
   ]
  },
  {
   "cell_type": "code",
   "execution_count": 236,
   "id": "0c41410d",
   "metadata": {},
   "outputs": [
    {
     "data": {
      "image/png": "[encoded data removed]",
      "text/plain": [
       "<Figure size 432x432 with 1 Axes>"
      ]
     },
     "metadata": {
      "needs_background": "light"
     },
     "output_type": "display_data"
    }
   ],
   "source": [
    "fig=plt.figure(figsize=(6,6))\n",
    "ax=fig.add_subplot(111)\n",
    "\n",
    "xs=np.linspace(0,30,100)\n",
    "\n",
    "for n,ls in zip([3,5,10],linestyles):\n",
    "    rv=stats.chi2(n)\n",
    "    ax.plot(xs,rv.pdf(xs),label=f'chi2{n}',\n",
    "           ls=ls,color='black')\n",
    "ax.legend()\n",
    "plt.show()"
   ]
  },
  {
   "cell_type": "code",
   "execution_count": 242,
   "id": "74e8244d",
   "metadata": {},
   "outputs": [
    {
     "data": {
      "text/plain": [
       "11.070497693516355"
      ]
     },
     "execution_count": 242,
     "metadata": {},
     "output_type": "execute_result"
    }
   ],
   "source": [
    "rv=stats.chi2(5)\n",
    "rv.isf(0.05)"
   ]
  },
  {
   "cell_type": "code",
   "execution_count": 245,
   "id": "b3c7b1d8",
   "metadata": {},
   "outputs": [
    {
     "data": {
      "text/plain": [
       "(8.671760204670077, 27.58711163827534)"
      ]
     },
     "execution_count": 245,
     "metadata": {},
     "output_type": "execute_result"
    }
   ],
   "source": [
    "#Q. χ**2 분포에서 자유도가 17인 χ**2 분포의 \n",
    "#상, 하위 5%의 확률을 주는 값을 찾아라.\n",
    "rv=stats.chi2(17)\n",
    "rv.interval(0.9)"
   ]
  },
  {
   "cell_type": "markdown",
   "id": "a5b73f03",
   "metadata": {},
   "source": [
    "- 정규분포에서는 데이터들이 얼마나 치우쳐져있는지를 평균표준편차로만 알기 때문에, 치우쳐짐의 정도를 정확히 모르기 때문에, 카이제곱분포를 통해 분산의 가설검정, 신뢰구간으로 검정하는데 사용한다.\n",
    "- 카이제곱분포의 95%예언적중구간을 이용하여 모분산을 구간추정 할 수 있게 된다.\n",
    "- 모평균을 모를때 // 모평균을 알 때, 둘 다 모분산 구간추정이 가능하다.\n",
    "\n"
   ]
  },
  {
   "cell_type": "code",
   "execution_count": 246,
   "id": "0ee140a1",
   "metadata": {},
   "outputs": [
    {
     "data": {
      "text/plain": [
       "nan"
      ]
     },
     "execution_count": 246,
     "metadata": {},
     "output_type": "execute_result"
    }
   ],
   "source": [
    "rv=stats.chi2(3)\n",
    "rv.isf(9.1)"
   ]
  },
  {
   "cell_type": "code",
   "execution_count": 251,
   "id": "d1cb5766",
   "metadata": {},
   "outputs": [
    {
     "data": {
      "text/plain": [
       "0.9567825802959631"
      ]
     },
     "execution_count": 251,
     "metadata": {},
     "output_type": "execute_result"
    }
   ],
   "source": [
    "# 확률변수X 가 X**2(20)을 따를 떄 P(9.5<X<34)를\n",
    "#구하여라\n",
    "rv=stats.chi2(20)\n",
    "rv.cdf(34)-rv.cdf(9)"
   ]
  },
  {
   "cell_type": "markdown",
   "id": "d89806ab",
   "metadata": {},
   "source": [
    "#### t분포\n",
    "- 정규분포에서 모평균의 구간추정 등에 사용되는 확률분포\n",
    "- 확률변수 Z,Y는 서로 독립이고 Z은 표준정규분포 N(0,1)을 Y는 자유도가 n인\n",
    "카이제곱 분포 $\\chi^2(n)$ 를 따를 때  t= ${Z}\\over{\\sqrt{{Y}\\over{n}}}$ 의 확률분포를 자유도가 n인 t분포라고한다.\n",
    "- t분포의 의미\n",
    " * 모분산을 모르는 상황에서도 표본평균의 분포에 대하여 얘기할 수 있다.\n",
    " * t분포를 만들 때 표본에서 계산한 표준오차로 표본평균을 표준화함\n",
    " * 표본에서 계산한 표준오차로 표본평균을 표준화했을 경우의 결과가 t분포를 따른다는 사실을 이용하면 얻어낸 표본평균에 관한 불확실성을 짐작할 수 있다.\n",
    "- t분포의 특성\n",
    " * t분포는 모집단이 정규분포이더라도 분산 $\\sigma^2$이 알려져 있지 않고 표본의 수가 적은 경우에 평균 $\\mu$에 대한 신뢰구간 추정 및 가설검정에 아주 유용하게 쓰이는 분포이다.\n",
    " * t분포는 표준정규분포처럼 0을 중심으로 종형의 모습을 가진 대칭 분포이다.\n",
    " *  t분포는 꼬리는 표준정규분포 보다 두껍다(fat tail)\n",
    " * t분포는 자유도 n에 따라 모습이 변하는데 자유도 n이 커짐에 따라 표준정규분포 N(0,1)에 수렴한다. 통상 모집단의 분산이 알려져 있지 않을 경우 표본 분포를 결정할 때 표본의 크기가 30이하면 t분포를 그 크기가 30이상이면 표준정규분포를 이용한다.\n",
    " \n",
    " \n"
   ]
  },
  {
   "cell_type": "code",
   "execution_count": 254,
   "id": "5f574485",
   "metadata": {},
   "outputs": [],
   "source": [
    "n=10\n",
    "rv1 = stats.norm()\n",
    "rv2 = stats.chi2(n)\n",
    "\n",
    "sample_size=int(1e6)\n",
    "z_sample =rv1.rvs(sample_size)\n",
    "chi2_sample=rv2.rvs(sample_size)\n",
    "\n",
    "t_sample =z_sample/np.sqrt(chi2_sample/n)\n"
   ]
  },
  {
   "cell_type": "code",
   "execution_count": 265,
   "id": "025d0bd9",
   "metadata": {},
   "outputs": [
    {
     "data": {
      "image/png": "[encoded data removed]",
      "text/plain": [
       "<Figure size 720x432 with 1 Axes>"
      ]
     },
     "metadata": {
      "needs_background": "light"
     },
     "output_type": "display_data"
    }
   ],
   "source": [
    "#표본데이터의 히스토그램과 밀도함수를 그리시오\n",
    "fig = plt.figure(figsize=(10,6))\n",
    "ax = fig.add_subplot(111)\n",
    "\n",
    "xs=np.linspace(-3,3,100)\n",
    "rv = stats.t(n)\n",
    "ax.hist(t_sample,bins=100,range=(-3,3),density=True,alpha=0.5,\n",
    "        label='t_sample',color='skyblue')\n",
    "ax.plot(xs,rv.pdf(xs),label=f't({n})',color='gray')\n",
    "ax.legend()\n",
    "ax.set_xlim(-3,3)\n",
    "plt.show()"
   ]
  },
  {
   "cell_type": "code",
   "execution_count": 276,
   "id": "20d0c319",
   "metadata": {},
   "outputs": [
    {
     "data": {
      "image/png": "[encoded data removed]",
      "text/plain": [
       "<Figure size 720x432 with 1 Axes>"
      ]
     },
     "metadata": {
      "needs_background": "light"
     },
     "output_type": "display_data"
    }
   ],
   "source": [
    "#자유도 n을 3,5,10으로 변화시켜 그려보기\n",
    "fig = plt.figure(figsize=(10,6))\n",
    "ax = fig.add_subplot(111)\n",
    "\n",
    "xs=np.linspace(-3,3,100)\n",
    "for n,ls in zip([3,5,10],linestyles):\n",
    "    rv=stats.t(n)\n",
    "    ax.plot(xs,rv.pdf(xs),label=f't({n})',ls=ls,color='limegreen')\n",
    "rv=stats.norm()\n",
    "ax.plot(xs,rv.pdf(xs),label='N(0,1)')\n",
    "ax.legend()\n",
    "plt.show()"
   ]
  },
  {
   "cell_type": "code",
   "execution_count": 277,
   "id": "3a452e27",
   "metadata": {},
   "outputs": [
    {
     "data": {
      "text/plain": [
       "2.0150483726691575"
      ]
     },
     "execution_count": 277,
     "metadata": {},
     "output_type": "execute_result"
    }
   ],
   "source": [
    "rv=stats.t(5)\n",
    "rv.isf(0.05)"
   ]
  },
  {
   "cell_type": "code",
   "execution_count": 287,
   "id": "6244e1ab",
   "metadata": {},
   "outputs": [
    {
     "data": {
      "text/plain": [
       "2.1318467813362907"
      ]
     },
     "execution_count": 287,
     "metadata": {},
     "output_type": "execute_result"
    }
   ],
   "source": [
    "#확률변수T가 자유도 4인 T분포를 따를 떄 P(T>t)=0.05가 성립하는  t값은?\n",
    "rv =stats.t(4)\n",
    "rv.isf(0.05)"
   ]
  },
  {
   "cell_type": "markdown",
   "id": "7c8e7eec",
   "metadata": {},
   "source": [
    "#### F분포\n",
    "- 확률변수 %Y_1,Y_2는 서로 독리빙고 각각 $Y_1$~${\\chi}^2(n1),Y_2$ ~ ${\\chi}^2(n2)$ 를 따를 때,\n",
    "F= ${Y_1/n-1}$/\\over${Y_2/n-2} $ 의 확률분포를 자유도 $n1,n2$인 F분포 F( $n1,n2$)라고 한다.\n",
    "- 좌우 비대칭으로 왼쪽으로 치우치고 오른쪽으로 넓어지는 분포이다.\n",
    "- F분포가 취할 수 있는 값은 0 이상인 실수이며 분포의 정점은 1에 가깝다."
   ]
  },
  {
   "cell_type": "code",
   "execution_count": 290,
   "id": "2f944e3d",
   "metadata": {},
   "outputs": [],
   "source": [
    "n1=5\n",
    "n2=10\n",
    "rv1=stats.chi2(n1)\n",
    "rv2 = stats.chi2(n2)\n",
    "\n",
    "sample_size =int(1e6)\n",
    "sample1 =rv1.rvs(sample_size)\n",
    "sample2 = rv2.rvs(sample_size)\n",
    "\n",
    "f_sample = (sample1/n1)/(sample2/n2)"
   ]
  },
  {
   "cell_type": "code",
   "execution_count": 343,
   "id": "f0d30208",
   "metadata": {},
   "outputs": [
    {
     "data": {
      "text/plain": [
       "Text(0.5, 1.0, 'F분포의 샘플 히스토그램 vs 확률밀도함수')"
      ]
     },
     "execution_count": 343,
     "metadata": {},
     "output_type": "execute_result"
    },
    {
     "data": {
      "image/png": "[encoded data removed]",
      "text/plain": [
       "<Figure size 720x432 with 1 Axes>"
      ]
     },
     "metadata": {
      "needs_background": "light"
     },
     "output_type": "display_data"
    }
   ],
   "source": [
    "fig = plt.figure(figsize=(10,6))\n",
    "ax = fig.add_subplot(111)\n",
    "\n",
    "rv = stats.f(n1,n2)\n",
    "xs = np.linspace(0,6,200)\n",
    "\n",
    "ax.hist(f_sample,bins=100,range=(0,6), density=True, label = 'f_sample', color='lavenderblush')\n",
    "ax.plot(xs, rv.pdf(xs) ,label=f'f ({n1},{n2})', color = 'blueviolet')\n",
    "ax.legend(fontsize=13)\n",
    "ax.set_title('F분포의 샘플 히스토그램 vs 확률밀도함수',fontsize=20)\n"
   ]
  },
  {
   "cell_type": "code",
   "execution_count": 351,
   "id": "39a3f267",
   "metadata": {},
   "outputs": [
    {
     "data": {
      "image/png": "[encoded data removed]",
      "text/plain": [
       "<Figure size 720x432 with 1 Axes>"
      ]
     },
     "metadata": {
      "needs_background": "light"
     },
     "output_type": "display_data"
    }
   ],
   "source": [
    "#n2를 10으로 고정하고 n1을 3,5,10으로 변화시킬 떄 분포 형태를 시각화하여 비교하라\n",
    "\n",
    "fig = plt.figure(figsize=(10,6))\n",
    "ax = fig.add_subplot(111)\n",
    "\n",
    "xs = np.linspace(0, 10, 200)[1:]\n",
    "for n1, ls in zip([3,5,10], linestyles):\n",
    "    rv = stats.f(n1, 10)\n",
    "    ax.plot(xs, rv.pdf(xs), \n",
    "           label=f'F({n1}, 10)', ls=ls, color='gray')\n",
    "    \n",
    "ax.legend()\n",
    "plt.show()\n"
   ]
  },
  {
   "cell_type": "code",
   "execution_count": 348,
   "id": "51fecdf1",
   "metadata": {},
   "outputs": [
    {
     "data": {
      "image/png": "[encoded data removed]",
      "text/plain": [
       "<Figure size 720x432 with 1 Axes>"
      ]
     },
     "metadata": {
      "needs_background": "light"
     },
     "output_type": "display_data"
    }
   ],
   "source": [
    "#n1을 5로 고정하고 n2를 5,10,15로 변화시킬 때 분포 형태를 시각화하여 비교\n",
    "plt.figure(figsize=(10,6))\n",
    "color = ['yellowgreen','dodgerblue','deeppink']\n",
    "xs = np.linspace(0,6,200)\n",
    "for n2,ls,color in zip([5,10,15],linestyles,color):\n",
    "    rv = stats.f(5,n2)\n",
    "    plt.plot(xs,rv.pdf(xs),label=f'f (5,{n2})',ls=ls,color=color)\n",
    "plt.legend(fontsize=13)\n",
    "plt.title('n2의 변화에 따른 확률밀도함수',fontsize=20)\n",
    "plt.show()\n",
    "\n"
   ]
  },
  {
   "cell_type": "code",
   "execution_count": 321,
   "id": "826414ad",
   "metadata": {},
   "outputs": [
    {
     "data": {
      "text/plain": [
       "0.02275013194817921"
      ]
     },
     "execution_count": 321,
     "metadata": {},
     "output_type": "execute_result"
    }
   ],
   "source": [
    "# [개인연습]영풍전자의 주가 수익률은 평균0.15, 분산 0.0025의 정규분포를 따른다\n",
    "# 주가 수익률이 25%이상일 확률은?\n",
    "rv= stats.norm(loc=0.15,scale=0.05)\n",
    "1 - rv.cdf(0.25)"
   ]
  },
  {
   "cell_type": "code",
   "execution_count": 326,
   "id": "8f1cca92",
   "metadata": {},
   "outputs": [
    {
     "data": {
      "text/plain": [
       "(0.0981783305253105, 0.2018216694746895)"
      ]
     },
     "execution_count": 326,
     "metadata": {},
     "output_type": "execute_result"
    }
   ],
   "source": [
    "#주가 수익률이 0.05에서 0.25사이일 확률\n",
    "rv.interval(0.70)"
   ]
  },
  {
   "cell_type": "code",
   "execution_count": 329,
   "id": "ccd11fab",
   "metadata": {},
   "outputs": [
    {
     "data": {
      "text/plain": [
       "nan"
      ]
     },
     "execution_count": 329,
     "metadata": {},
     "output_type": "execute_result"
    }
   ],
   "source": [
    "# 주가수익률 -0.15이하일 확률\n",
    "rv.isf(-0.15)"
   ]
  },
  {
   "cell_type": "code",
   "execution_count": 336,
   "id": "ee05df54",
   "metadata": {},
   "outputs": [
    {
     "data": {
      "text/plain": [
       "0.6321205588285577"
      ]
     },
     "execution_count": 336,
     "metadata": {},
     "output_type": "execute_result"
    }
   ],
   "source": [
    "# 형광등 수명시간 500시간 못미칠 확률은? \n",
    "# $lambda= 0.002\n",
    "rv=stats.expon(scale=1/0.002)\n",
    "rv.cdf(500)"
   ]
  },
  {
   "cell_type": "code",
   "execution_count": null,
   "id": "08aae48f",
   "metadata": {},
   "outputs": [],
   "source": [
    "# 평균과 분산\n",
    "E(x)= 1/0.002\n",
    "var(x)=1/(0.002**2)\n"
   ]
  },
  {
   "cell_type": "code",
   "execution_count": 339,
   "id": "3697cd14",
   "metadata": {},
   "outputs": [
    {
     "data": {
      "text/plain": [
       "0.6988057880877978"
      ]
     },
     "execution_count": 339,
     "metadata": {},
     "output_type": "execute_result"
    }
   ],
   "source": [
    "rv.cdf(600)"
   ]
  },
  {
   "cell_type": "code",
   "execution_count": null,
   "id": "8d53f3f7",
   "metadata": {},
   "outputs": [],
   "source": []
  },
  {
   "cell_type": "code",
   "execution_count": null,
   "id": "6a79c06d",
   "metadata": {},
   "outputs": [],
   "source": []
  },
  {
   "cell_type": "code",
   "execution_count": null,
   "id": "315b6977",
   "metadata": {},
   "outputs": [],
   "source": []
  },
  {
   "cell_type": "code",
   "execution_count": null,
   "id": "fcfedc7f",
   "metadata": {},
   "outputs": [],
   "source": []
  },
  {
   "cell_type": "code",
   "execution_count": null,
   "id": "10e1cfe5",
   "metadata": {},
   "outputs": [],
   "source": []
  },
  {
   "cell_type": "code",
   "execution_count": null,
   "id": "5e1d879f",
   "metadata": {},
   "outputs": [],
   "source": []
  }
 ],
 "metadata": {
  "kernelspec": {
   "display_name": "Python 3 (ipykernel)",
   "language": "python",
   "name": "python3"
  },
  "language_info": {
   "codemirror_mode": {
    "name": "ipython",
    "version": 3
   },
   "file_extension": ".py",
   "mimetype": "text/x-python",
   "name": "python",
   "nbconvert_exporter": "python",
   "pygments_lexer": "ipython3",
   "version": "3.7.11"
  }
 },
 "nbformat": 4,
 "nbformat_minor": 5
}

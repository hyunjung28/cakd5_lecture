{
 "cells": [
  {
   "cell_type": "code",
   "execution_count": 6,
   "id": "c01ac84d",
   "metadata": {},
   "outputs": [],
   "source": [
    "import numpy as np\n",
    "import pandas as pd\n",
    "import matplotlib.pyplot as plt\n",
    "from scipy import stats\n"
   ]
  },
  {
   "cell_type": "markdown",
   "id": "30acabbd",
   "metadata": {},
   "source": [
    "#### 통계적 추정\n",
    "- 점추정\n",
    "    -모평균이나 모분산 등의 모수를 하나의 수치로 추정\n",
    "    - 추정량의 기댓값이 추측하려는 모수가 되는 성질을 불편성이라고 하며 불편성을 가진 추정량을 불편추정량이라\n",
    "    한다.\n",
    "    -표본평균이 모평균을 잘 추정할 수 있는 근거 중 하나가 바로 이 불편성이다.\n",
    "    - 표본크기 n을 증가시키면 추측하기 원하는 모수에 수렴해 가는 성질을 일치성이라 하며 일치성을 지닌 추정량을\n",
    "    일치 추정량이라고 함\n",
    "    - 표본평균은 불편성과 일치성을 모두 가지고 있기 때문에 모평균을 잘 추정한다고 할 수 있다.\n",
    "    - 모분산의 불편 추정량이 되는 표본통계량은 불편분산이다.\n",
    "    - 불편분산은 표본분산에서 나누는 수 n-1로 하는 식으로 계산되며 표본분산은 $S^2$으로 나타내지만 불편분산은\n",
    "    $s^2$으로 나타낸다.\n",
    "    \n",
    "- 구간추정\n",
    "    - 모분산을 알고 있는 경우 모평균 구간추정\n",
    "    - 모분산을 알고 있는 경우의 모분산 구간추정\n",
    "    - 모분산을 알지 못하는 경우의 모평균 구간추정\n",
    "    - 베르누이 분포의 모평균의 구간추정\n",
    "    - 포아송 분포의 모평균의 구간추정"
   ]
  },
  {
   "cell_type": "code",
   "execution_count": 15,
   "id": "8737c568",
   "metadata": {},
   "outputs": [
    {
     "data": {
      "text/plain": [
       "array([76, 55], dtype=int64)"
      ]
     },
     "execution_count": 15,
     "metadata": {},
     "output_type": "execute_result"
    }
   ],
   "source": [
    "df = pd.read_csv('./data/ch4_scores400.csv')\n",
    "scores=np.array(df['score'])\n",
    "scores[:2]"
   ]
  },
  {
   "cell_type": "code",
   "execution_count": 16,
   "id": "ba55eef8",
   "metadata": {},
   "outputs": [
    {
     "data": {
      "text/plain": [
       "(69.53, 206.6691)"
      ]
     },
     "execution_count": 16,
     "metadata": {},
     "output_type": "execute_result"
    }
   ],
   "source": [
    "mean = np.mean(scores)\n",
    "var = np.var(scores)\n",
    "mean,var"
   ]
  },
  {
   "cell_type": "code",
   "execution_count": 17,
   "id": "b6392d0f",
   "metadata": {},
   "outputs": [],
   "source": [
    "#[과제] 모평균과 모분산의 점추정 사례를 파이썬 코드로 수행하세요"
   ]
  },
  {
   "cell_type": "code",
   "execution_count": 18,
   "id": "ecd1c361",
   "metadata": {},
   "outputs": [
    {
     "data": {
      "image/png": "[encoded data removed]",
      "text/plain": [
       "<Figure size 720x432 with 1 Axes>"
      ]
     },
     "metadata": {
      "needs_background": "light"
     },
     "output_type": "display_data"
    }
   ],
   "source": [
    "fig=plt.figure(figsize=(10,6))\n",
    "ax = fig.add_subplot(111)\n",
    "\n",
    "xs=np.arange(101)\n",
    "rv=stats.norm(mean,np.sqrt(var))\n",
    "ax.plot(xs,rv.pdf(xs))\n",
    "ax.hist(scores, bins = 100,range=(0,100),density=True)\n",
    "plt.show()"
   ]
  },
  {
   "cell_type": "code",
   "execution_count": 19,
   "id": "9aee8a19",
   "metadata": {},
   "outputs": [
    {
     "data": {
      "text/plain": [
       "array([49, 60, 72, 86, 52, 61, 77, 91, 80, 56, 69, 67, 90, 56, 75, 79, 60,\n",
       "       79, 68, 81], dtype=int64)"
      ]
     },
     "execution_count": 19,
     "metadata": {},
     "output_type": "execute_result"
    }
   ],
   "source": [
    "np.random.seed(0)\n",
    "n=20\n",
    "sample=np.random.choice(scores,n)\n",
    "sample"
   ]
  },
  {
   "cell_type": "code",
   "execution_count": 20,
   "id": "7d662cda",
   "metadata": {},
   "outputs": [],
   "source": [
    "np.random.seed(1111)\n",
    "n_samples=10000\n",
    "samples=np.random.choice(scores,(n_samples,n))\n",
    "samples\n",
    "xs = np.arange(101)\n",
    "rv=stats.norm(mean,np.sqrt(var))\n",
    "ax.plot(xs,rv.pdf(xs))\n",
    "ax.hist(samples,bins=100,range=(0,100),density=True)\n",
    "plt.show()"
   ]
  },
  {
   "cell_type": "code",
   "execution_count": 21,
   "id": "520eaa66",
   "metadata": {},
   "outputs": [
    {
     "data": {
      "text/plain": [
       "69.542954"
      ]
     },
     "execution_count": 21,
     "metadata": {},
     "output_type": "execute_result"
    }
   ],
   "source": [
    "np.mean(np.random.choice(scores,int(1e6)))"
   ]
  },
  {
   "cell_type": "code",
   "execution_count": 22,
   "id": "5fca0f7f",
   "metadata": {},
   "outputs": [
    {
     "data": {
      "text/plain": [
       "207.08336592317"
      ]
     },
     "execution_count": 22,
     "metadata": {},
     "output_type": "execute_result"
    }
   ],
   "source": [
    "np.var(np.random.choice(scores,int(1e6)),ddof=1)"
   ]
  },
  {
   "cell_type": "markdown",
   "id": "48e4d7e3",
   "metadata": {},
   "source": [
    "#### 불편성: 기댓값이 추측하기 원하는 모수가 되는 성질\n",
    "#### 일치성: 표본 크기를 키우면 추측하기 원하는 모수가 되는 성질"
   ]
  },
  {
   "cell_type": "code",
   "execution_count": 23,
   "id": "3999195d",
   "metadata": {},
   "outputs": [
    {
     "data": {
      "text/plain": [
       "70.4"
      ]
     },
     "execution_count": 23,
     "metadata": {},
     "output_type": "execute_result"
    }
   ],
   "source": [
    "#표본 데이터의 평균\n",
    "s_mean=np.mean(sample)\n",
    "s_mean"
   ]
  },
  {
   "cell_type": "code",
   "execution_count": 24,
   "id": "9e6953be",
   "metadata": {},
   "outputs": [
    {
     "data": {
      "text/plain": [
       "206.6691"
      ]
     },
     "execution_count": 24,
     "metadata": {},
     "output_type": "execute_result"
    }
   ],
   "source": [
    "# 모평균의 분산\n",
    "p_var= np.var(scores)\n",
    "p_var"
   ]
  },
  {
   "cell_type": "code",
   "execution_count": 25,
   "id": "c2a01097",
   "metadata": {},
   "outputs": [
    {
     "data": {
      "text/plain": [
       "158.25263157894742"
      ]
     },
     "execution_count": 25,
     "metadata": {},
     "output_type": "execute_result"
    }
   ],
   "source": [
    "u_var = np.var(sample,ddof=1)\n",
    "u_var"
   ]
  },
  {
   "cell_type": "code",
   "execution_count": 26,
   "id": "ea7719d9",
   "metadata": {},
   "outputs": [
    {
     "data": {
      "text/plain": [
       "(64.09956018535247, 76.70043981464754)"
      ]
     },
     "execution_count": 26,
     "metadata": {},
     "output_type": "execute_result"
    }
   ],
   "source": [
    "# 모분산을 알고 있을 떄 모평균의 신뢰구간 추정\n",
    "#100번중 95% 비율로 이 값 사이에 들어감\n",
    "\n",
    "rv= stats.norm()\n",
    "lc1 = s_mean-rv.isf(0.025) *np.sqrt(p_var/n)\n",
    "uc1 = s_mean-rv.isf(0.975)* np.sqrt(p_var/n)\n",
    "\n",
    "lc1,uc1\n"
   ]
  },
  {
   "cell_type": "code",
   "execution_count": 27,
   "id": "d633f6ef",
   "metadata": {},
   "outputs": [
    {
     "data": {
      "text/plain": [
       "(64.51244886603887, 76.28755113396114)"
      ]
     },
     "execution_count": 27,
     "metadata": {},
     "output_type": "execute_result"
    }
   ],
   "source": [
    "#[과제] 모분산을 알지 못할 때 정규분포의 모평균의 구간 추정을 파이썬코드로 수행하세요-> 표준오차사용\n",
    "rv=stats.t(df=n-1)\n",
    "lc1 = s_mean-rv.isf(0.025)*np.sqrt(u_var/n)\n",
    "uc1 = s_mean-rv.isf(0.975)*np.sqrt(u_var/n)\n",
    "\n",
    "lc1,uc1"
   ]
  },
  {
   "cell_type": "code",
   "execution_count": 28,
   "id": "a90508a6",
   "metadata": {},
   "outputs": [
    {
     "data": {
      "text/plain": [
       "array([1, 0, 1, 1, 1, 1, 1, 0, 0, 1], dtype=int64)"
      ]
     },
     "execution_count": 28,
     "metadata": {},
     "output_type": "execute_result"
    }
   ],
   "source": [
    "e_df = pd.read_csv('./data/ch10_enquete.csv')\n",
    "e=np.array(e_df['known'])\n",
    "n=len(e)\n",
    "e[:10]"
   ]
  },
  {
   "cell_type": "code",
   "execution_count": 29,
   "id": "f7023660",
   "metadata": {},
   "outputs": [
    {
     "data": {
      "text/plain": [
       "0.709"
      ]
     },
     "execution_count": 29,
     "metadata": {},
     "output_type": "execute_result"
    }
   ],
   "source": [
    "s_mean=e.mean()\n",
    "s_mean"
   ]
  },
  {
   "cell_type": "code",
   "execution_count": 30,
   "id": "9732a099",
   "metadata": {},
   "outputs": [
    {
     "data": {
      "text/plain": [
       "(0.6808474522924337, 0.7371525477075662)"
      ]
     },
     "execution_count": 30,
     "metadata": {},
     "output_type": "execute_result"
    }
   ],
   "source": [
    "#베르누이분포의 모평균 신뢰구간 \n",
    "rv=stats.norm()\n",
    "lc1 = s_mean-rv.isf(0.025)*np.sqrt(s_mean*(1-s_mean)/n)\n",
    "uc1 = s_mean-rv.isf(0.975)*np.sqrt(s_mean*(1-s_mean)/n)\n",
    "lc1,uc1"
   ]
  },
  {
   "cell_type": "code",
   "execution_count": 31,
   "id": "e7191bc7",
   "metadata": {},
   "outputs": [
    {
     "data": {
      "text/plain": [
       "array([10, 11,  9,  9, 18, 13,  4, 10, 10,  8], dtype=int64)"
      ]
     },
     "execution_count": 31,
     "metadata": {},
     "output_type": "execute_result"
    }
   ],
   "source": [
    "n_df = pd.read_csv('./data/ch10_access.csv')\n",
    "n=np.array(n_df['access number'])\n",
    "k=len(n)\n",
    "n[:10]"
   ]
  },
  {
   "cell_type": "code",
   "execution_count": 32,
   "id": "0e208683",
   "metadata": {},
   "outputs": [
    {
     "data": {
      "text/plain": [
       "10.444444444444445"
      ]
     },
     "execution_count": 32,
     "metadata": {},
     "output_type": "execute_result"
    }
   ],
   "source": [
    "s_mean= n.mean()\n",
    "s_mean"
   ]
  },
  {
   "cell_type": "code",
   "execution_count": 33,
   "id": "557166be",
   "metadata": {
    "scrolled": true
   },
   "outputs": [
    {
     "data": {
      "text/plain": [
       "(array([8.44139918, 8.53461572, 8.33304935, 8.33304935, 8.95146265,\n",
       "        8.68765753, 7.2773518 , 8.44139918, 8.44139918, 8.20497176,\n",
       "        8.44139918, 8.53461572, 8.86089812, 8.33304935, 8.61592265,\n",
       "        8.61592265, 8.05034744, 8.20497176, 8.53461572, 8.05034744,\n",
       "        8.53461572, 8.44139918, 7.85852413, 8.53461572, 8.05034744,\n",
       "        8.68765753, 8.75156222, 8.61592265, 8.20497176, 8.20497176,\n",
       "        8.20497176, 8.53461572, 8.44139918, 8.20497176, 7.85852413,\n",
       "        8.20497176, 8.53461572, 8.68765753, 8.61592265, 8.05034744,\n",
       "        8.53461572, 8.33304935, 8.61592265, 8.68765753, 8.75156222,\n",
       "        8.75156222, 8.61592265, 8.90817886, 8.33304935, 8.61592265,\n",
       "        8.53461572, 7.85852413, 8.53461572, 8.53461572, 8.53461572,\n",
       "        8.80896484, 8.33304935, 8.68765753, 7.85852413, 7.85852413,\n",
       "        8.68765753, 8.33304935, 8.61592265, 8.61592265, 8.44139918,\n",
       "        8.05034744, 8.68765753, 8.61592265, 7.85852413, 8.53461572,\n",
       "        8.86089812, 8.44139918]),\n",
       " array([12.44748971, 12.35427317, 12.55583954, 12.55583954, 11.93742623,\n",
       "        12.20123136, 13.61153709, 12.44748971, 12.44748971, 12.68391713,\n",
       "        12.44748971, 12.35427317, 12.02799077, 12.55583954, 12.27296623,\n",
       "        12.27296623, 12.83854145, 12.68391713, 12.35427317, 12.83854145,\n",
       "        12.35427317, 12.44748971, 13.03036476, 12.35427317, 12.83854145,\n",
       "        12.20123136, 12.13732667, 12.27296623, 12.68391713, 12.68391713,\n",
       "        12.68391713, 12.35427317, 12.44748971, 12.68391713, 13.03036476,\n",
       "        12.68391713, 12.35427317, 12.20123136, 12.27296623, 12.83854145,\n",
       "        12.35427317, 12.55583954, 12.27296623, 12.20123136, 12.13732667,\n",
       "        12.13732667, 12.27296623, 11.98071003, 12.55583954, 12.27296623,\n",
       "        12.35427317, 13.03036476, 12.35427317, 12.35427317, 12.35427317,\n",
       "        12.07992405, 12.55583954, 12.20123136, 13.03036476, 13.03036476,\n",
       "        12.20123136, 12.55583954, 12.27296623, 12.27296623, 12.44748971,\n",
       "        12.83854145, 12.20123136, 12.27296623, 13.03036476, 12.35427317,\n",
       "        12.02799077, 12.44748971]))"
      ]
     },
     "execution_count": 33,
     "metadata": {},
     "output_type": "execute_result"
    }
   ],
   "source": [
    "#[과제] 모집단에 정규분포를 가정할 수 없는 예를 포아송 분포로 설명하여 모평균 신뢰구간을 구하세요.\n",
    "rv = stats.norm()\n",
    "lc1= s_mean-rv.isf(0.025) *np.sqrt(s_mean/n)\n",
    "uc1 = s_mean - rv.isf(0.975) * np.sqrt(s_mean/n)\n",
    "lc1, uc1"
   ]
  },
  {
   "cell_type": "code",
   "execution_count": 34,
   "id": "81b7eb9b",
   "metadata": {},
   "outputs": [
    {
     "name": "stdout",
     "output_type": "stream",
     "text": [
      "72 \n",
      "    access number\n",
      "0             10\n",
      "1             11\n",
      "2              9\n",
      "3              9\n",
      "4             18 \n",
      "\n"
     ]
    },
    {
     "data": {
      "text/plain": [
       "(9.697953549598202, 11.190935339290688)"
      ]
     },
     "execution_count": 34,
     "metadata": {},
     "output_type": "execute_result"
    }
   ],
   "source": [
    "# 1시간당 액세스 수\n",
    "n_access_df = pd.read_csv('data/ch10_access.csv')\n",
    "print(len(n_access_df),'\\n', n_access_df.head(),'\\n')\n",
    "n_access = np.array(n_access_df['access number'])\n",
    "n = len(n_access)\n",
    "n_access[:10]\n",
    "\n",
    "s_mean = n_access.mean()\n",
    "s_mean\n",
    "\n",
    "rv = stats.norm\n",
    "lcl = s_mean - rv.isf(0.025) * np.sqrt(s_mean/n)\n",
    "ucl = s_mean - rv.isf(0.975) * np.sqrt(s_mean/n)\n",
    "lcl,ucl"
   ]
  },
  {
   "cell_type": "markdown",
   "id": "2665cc2a",
   "metadata": {},
   "source": [
    "#통계적 가설검정"
   ]
  },
  {
   "cell_type": "code",
   "execution_count": 35,
   "id": "34baecd9",
   "metadata": {},
   "outputs": [
    {
     "name": "stdout",
     "output_type": "stream",
     "text": [
      "-1.932298779026813 \n",
      "\n"
     ]
    },
    {
     "data": {
      "text/plain": [
       "-1.6448536269514722"
      ]
     },
     "execution_count": 35,
     "metadata": {},
     "output_type": "execute_result"
    }
   ],
   "source": [
    " #[과제] A학생의 사례로 가설검정의 프로세스를 정리하세요.\n",
    "# 검정통계량이 임곗값보다 작으므로 귀무가설을 기각한다.\n",
    "df = pd.read_csv('./data/ch11_potato.csv')\n",
    "sample = df.무게\n",
    "\n",
    "# 검정통계량\n",
    "s_mean = np.mean(sample)\n",
    "z = (s_mean - 130) / np.sqrt(9/14)\n",
    "print(z,'\\n')\n",
    "\n",
    "# 임곗값\n",
    "rv = stats.norm()\n",
    "rv.isf(0.95)"
   ]
  },
  {
   "cell_type": "code",
   "execution_count": 36,
   "id": "95d446e0",
   "metadata": {},
   "outputs": [
    {
     "data": {
      "text/plain": [
       "0.026661319523126635"
      ]
     },
     "execution_count": 36,
     "metadata": {},
     "output_type": "execute_result"
    }
   ],
   "source": [
    "# p값이 유의수준 0.05 보다 작으므로 귀무가설을 기각한다. \n",
    "# \"모평균은 130g이다\"라는 결론이 되는 것은 아니다.\n",
    "p_value = rv.cdf(z)\n",
    "p_value"
   ]
  },
  {
   "cell_type": "code",
   "execution_count": 44,
   "id": "a1460fd0",
   "metadata": {},
   "outputs": [
    {
     "data": {
      "image/png": "[encoded data removed]",
      "text/plain": [
       "<Figure size 576x360 with 2 Axes>"
      ]
     },
     "metadata": {
      "needs_background": "light"
     },
     "output_type": "display_data"
    }
   ],
   "source": [
    "import numpy as np\n",
    "import matplotlib.pyplot as plt\n",
    "rv=stats.norm(130,np.sqrt(9/14))\n",
    "fig=plt.figure(figsize=(8,5))\n",
    "ax1 = fig.add_subplot(111)\n",
    "ax2 =ax1.twinx()\n",
    "xs = np.linspace(127,133,60)\n",
    "ax1.plot(xs,rv.pdf(xs))\n",
    "ax2.plot(xs,rv.cdf(xs),color='black')\n",
    "ax1.vlines(rv.ppf(0.05),0,0.5,ls='--')\n",
    "ax1.set_xlabel('x',fontsize=20)\n",
    "ax1.set_ylabel('pdf',rotation=0,fontsize=20)\n",
    "ax2.set_ylabel('cdf',rotation=0,fontsize=20)\n",
    "plt.show()"
   ]
  },
  {
   "cell_type": "markdown",
   "id": "3fc13d5d",
   "metadata": {},
   "source": [
    "####  Q.감자튀김 무게의 평균이 130g이다. 라는 귀무가설에 대한 유의성 검정을 수행하라(정규분포,분산9)"
   ]
  },
  {
   "cell_type": "code",
   "execution_count": 38,
   "id": "ee253c5c",
   "metadata": {},
   "outputs": [
    {
     "name": "stdout",
     "output_type": "stream",
     "text": [
      "128.4507142857143 \n",
      "\n",
      "128.68118313069039 \n",
      "\n",
      "-1.932298779026813 \n",
      "\n",
      "-1.6448536269514722 \n",
      "\n",
      "0.026661319523126635\n"
     ]
    }
   ],
   "source": [
    "# 귀무가설 : 감자튀김의 평균무게는 130g이다.\n",
    "# 대립가설 : 감자튀김의 평균무게는 130g보다 작다.\n",
    "# 유의 수준은 5%로 설정\n",
    "df = pd.read_csv('./data/ch11_potato.csv')\n",
    "sample = np.array(df.무게)\n",
    "s_mean = sample.mean()\n",
    "# 표본평균 : A가 산 감자튀김 14개의 평균 무게 = 128.451g\n",
    "print(s_mean,'\\n')\n",
    "# 임계값 구하기: 퍼센트 포인트  \n",
    "rv = stats.norm(130, np.sqrt(9/14))\n",
    "print(rv.isf(0.95),'\\n')\n",
    "# 검정통계량이 임계값보다 작기때문에 귀무가설은 기각된다.\n",
    "\n",
    "\n",
    "# 표준화 하여 검정통계량과 임계값의 비교\n",
    "\n",
    "# 표준화 된 검정 통계량 값\n",
    "z = (s_mean-130)/np.sqrt(9/14)\n",
    "print(z,'\\n')\n",
    "# 임계값\n",
    "rv = stats.norm()\n",
    "print(rv.isf(0.95) , '\\n')\n",
    "# 검정통계량이 임계값보다 작으므로 귀무가설은 기각\n",
    "\n",
    "# p값을 활용하여 가설검정\n",
    "\n",
    "print(rv.cdf(z))\n",
    "# 유의수준인 0.05보다 작으므로 귀무가설 기각\n",
    "\n",
    "# 따라서 모평균은 130g보다 작다.\n"
   ]
  },
  {
   "cell_type": "code",
   "execution_count": 45,
   "id": "33e2a92f",
   "metadata": {},
   "outputs": [
    {
     "data": {
      "text/plain": [
       "-1.932298779026813"
      ]
     },
     "execution_count": 45,
     "metadata": {},
     "output_type": "execute_result"
    }
   ],
   "source": [
    "# 양측검정\n",
    "z = (s_mean-130)/np.sqrt(9/14)\n",
    "z"
   ]
  },
  {
   "cell_type": "code",
   "execution_count": 46,
   "id": "1f1512d8",
   "metadata": {},
   "outputs": [
    {
     "data": {
      "text/plain": [
       "(-1.959963984540054, 1.959963984540054)"
      ]
     },
     "execution_count": 46,
     "metadata": {},
     "output_type": "execute_result"
    }
   ],
   "source": [
    "rv = stats.norm()\n",
    "rv.interval(0.95)"
   ]
  },
  {
   "cell_type": "code",
   "execution_count": 47,
   "id": "18c27ff8",
   "metadata": {},
   "outputs": [
    {
     "data": {
      "text/plain": [
       "0.05332263904625327"
      ]
     },
     "execution_count": 47,
     "metadata": {},
     "output_type": "execute_result"
    }
   ],
   "source": [
    "#양측 검정의 p값은상단과 하단의 양쪽 면적을 고려해야 하므로 누적밀도 함수의 2배로 계산\n",
    "rv.cdf(z)*2\n",
    "#유의수준보다 크므로 귀무가설 기각되지 않음, '감자튀김의 무게는 130g'이 아니다라고 말할 수 없다"
   ]
  },
  {
   "cell_type": "markdown",
   "id": "3bdac424",
   "metadata": {},
   "source": [
    "#### 가설검정에서의 두가지 오류\n",
    "-  제 1종오류: 귀무가설이 옳을 때 귀무가설을 기각한 오류\n",
    "    - 실제로 평균이 130g인데도 '모평균은 130g 보다 작다'는 결론을 내리는 상황\n",
    "-  제 2종오류: 대립가설이 옳을 때 귀무가설을 체택한 오류\n",
    "    - 모평균은 130g보다 작다인데도 '모평균은 130g 보다 작다'라는 결론을 얻을 수 없는 비율\n",
    "- 통계적 가설검정에서는 제 1종 오류는 제어할 수 있지만 제 2종 오류는 제어할 수 없는 비대칭성이 있다.\n",
    "\n",
    "    "
   ]
  },
  {
   "cell_type": "code",
   "execution_count": 63,
   "id": "67ba46c9",
   "metadata": {},
   "outputs": [],
   "source": [
    "rv= stats.norm(130,3)"
   ]
  },
  {
   "cell_type": "markdown",
   "id": "604e6b9c",
   "metadata": {},
   "source": [
    " $\\alpha$ \n",
    "  $\\beta$"
   ]
  },
  {
   "cell_type": "code",
   "execution_count": 64,
   "id": "1f4e272a",
   "metadata": {},
   "outputs": [
    {
     "data": {
      "text/plain": [
       "0.0522"
      ]
     },
     "execution_count": 64,
     "metadata": {},
     "output_type": "execute_result"
    }
   ],
   "source": [
    "#제 1종 오류를 범할 비율: 위험률, 유의수준(알파), 분석가가 제어할 수 있는 확률\n",
    "np.random.seed(10)\n",
    "c =stats.norm().isf(0.95)\n",
    "n_samples=10000\n",
    "cnt= 0 \n",
    "for _ in range(n_samples):\n",
    "    sample_ = np.round(rv.rvs(14),2)\n",
    "    s_mean_ =np.mean(sample_)\n",
    "    z = (s_mean_-130)/np.sqrt(9/14)\n",
    "    if z< c:\n",
    "        cnt +=1\n",
    "cnt/n_samples"
   ]
  },
  {
   "cell_type": "code",
   "execution_count": 68,
   "id": "b9e6f5e5",
   "metadata": {},
   "outputs": [],
   "source": [
    "#[과제] 제 2종 오류를 범할 비율: 1-𝛽,검정력, 분석가가 제어할 수 없는 확률\n",
    "# 감자튀김 사례로 2종 오류를 범하는 비율을 구하라"
   ]
  },
  {
   "cell_type": "code",
   "execution_count": 51,
   "id": "f052f0e3",
   "metadata": {},
   "outputs": [],
   "source": [
    "#제 2종 오류\n",
    "rv= stats.norm(128,3)"
   ]
  },
  {
   "cell_type": "code",
   "execution_count": 53,
   "id": "89357262",
   "metadata": {},
   "outputs": [
    {
     "data": {
      "text/plain": [
       "0.194"
      ]
     },
     "execution_count": 53,
     "metadata": {},
     "output_type": "execute_result"
    }
   ],
   "source": [
    "c = stats.norm().isf(0.95)\n",
    "n_samples = 10000\n",
    "cnt = 0\n",
    "for _ in range(n_samples):\n",
    "    sample_ =np.round(rv.rvs(14),2)\n",
    "    s_mean_ = np.mean(sample_)\n",
    "    z = (s_mean_-130)/np.sqrt(9/14)\n",
    "    if z>=c :\n",
    "        cnt+=1\n",
    "cnt/n_samples\n"
   ]
  },
  {
   "cell_type": "markdown",
   "id": "c3afeb71",
   "metadata": {},
   "source": [
    "정규분포의 모평균에 대한 검정( 모분산을 알고 있음)"
   ]
  },
  {
   "cell_type": "code",
   "execution_count": 110,
   "id": "08c88e9c",
   "metadata": {},
   "outputs": [],
   "source": [
    "#[과제] 모평균에 대한 검정을 사용자 함수 pmean_test()를 작성하여 감자튀김의 표본 데이터로 실행해보세요\n",
    "#모분산을 알고 있는 경우 \n",
    "def pmean_test(sample,mean0,p_var,alpha=0.05):\n",
    "    s_mean= np.mean(sample)\n",
    "   \n",
    "    n= len(sample)\n",
    "    rv = stats.norm()\n",
    "    interval = rv.interval(1-alpha)\n",
    "    \n",
    "    z = (s_mean-mean0)/np.sqrt(p_var/n)\n",
    "    if interval[0] <=z <=interval[1]:\n",
    "        print('귀무가설 채택')\n",
    "    else:\n",
    "        print('귀무가설 기각')\n",
    "    if z<0:\n",
    "        p=rv.cdf(z)*2\n",
    "    else:\n",
    "        p =(1-rv.cdf(z))*2\n",
    "    print(f'p값은{p:.3f}')"
   ]
  },
  {
   "cell_type": "code",
   "execution_count": 111,
   "id": "c61f1f68",
   "metadata": {},
   "outputs": [
    {
     "name": "stdout",
     "output_type": "stream",
     "text": [
      "귀무가설 채택\n",
      "p값은0.053\n"
     ]
    }
   ],
   "source": [
    "pmean_test(sample,130,9)"
   ]
  },
  {
   "cell_type": "code",
   "execution_count": 86,
   "id": "3c96dfe6",
   "metadata": {},
   "outputs": [],
   "source": [
    "#정규분포의 모분산에 대한 검정\n",
    "def pvar_test(sample,var0,alpha=0.05):\n",
    "    u_var = np.var(sample,ddof=1)\n",
    "    n=len(sample)\n",
    "    rv =stats.chi2(df=n-1)\n",
    "    interval=rv.interval(1-alpha)\n",
    "    \n",
    "    y= (n-1) *u_var / var0 #검정 통계량\n",
    "    if interval[0] <= y <=interval[1]:\n",
    "        print('귀무가설 채택')\n",
    "    else:\n",
    "        print('귀무가설 기각')\n",
    "        \n",
    "    if y<rv.isf(0.5):\n",
    "        p=rv.cdf(z)*2\n",
    "    else:\n",
    "        p =(1-rv.cdf(y))*2\n",
    "    print(f'p값은{p:.3f}')"
   ]
  },
  {
   "cell_type": "code",
   "execution_count": 87,
   "id": "265dca32",
   "metadata": {},
   "outputs": [
    {
     "name": "stdout",
     "output_type": "stream",
     "text": [
      "귀무가설 채택\n",
      "p값은0.085\n"
     ]
    }
   ],
   "source": [
    "pvar_test(sample,9)"
   ]
  },
  {
   "cell_type": "code",
   "execution_count": 106,
   "id": "4413e42a",
   "metadata": {},
   "outputs": [],
   "source": [
    "#정규분포의 모평균에 대한 검정( 모분산을 알지 못함)-t표본사용\n",
    "def pmean_test(sample,mean0,alpha=0.05):\n",
    "    s_mean= np.mean(sample)\n",
    "    u_var =np.var(sample,ddof=1)\n",
    "    n= len(sample)\n",
    "    rv = stats.t(df=n-1)\n",
    "    interval = rv.interval(1-alpha)\n",
    "    \n",
    "    t = (s_mean-mean0)/np.sqrt(u_var/n)\n",
    "    if interval[0] <=t <=interval[1]:\n",
    "        print('귀무가설 채택')\n",
    "    else:\n",
    "        print('귀무가설 기각')\n",
    "    if t <0:\n",
    "        p=rv.cdf(t)*2\n",
    "    else:\n",
    "        p =(1-rv.cdf(t))*2\n",
    "    print(f'p값은{p:.3f}')"
   ]
  },
  {
   "cell_type": "code",
   "execution_count": 107,
   "id": "ba327953",
   "metadata": {},
   "outputs": [
    {
     "name": "stdout",
     "output_type": "stream",
     "text": [
      "귀무가설 채택\n",
      "p값은0.169\n"
     ]
    }
   ],
   "source": [
    "pmean_test(sample,130)"
   ]
  },
  {
   "cell_type": "code",
   "execution_count": 105,
   "id": "6ba6d398",
   "metadata": {},
   "outputs": [
    {
     "data": {
      "text/plain": [
       "(-1.4551960206404198, 0.16933464230414275)"
      ]
     },
     "execution_count": 105,
     "metadata": {},
     "output_type": "execute_result"
    }
   ],
   "source": [
    "from scipy import stats\n",
    "t,p =stats.ttest_1samp(sample,130)\n",
    "t,p"
   ]
  },
  {
   "cell_type": "code",
   "execution_count": null,
   "id": "de84e392",
   "metadata": {},
   "outputs": [],
   "source": [
    " #[과제] 대응표본,독립표본에 대하여 정규분포를 가정하는 경우와 가정할 수 없는 경우 4가지 유형의\n",
    "    #각 사례를 작성하라"
   ]
  },
  {
   "cell_type": "code",
   "execution_count": null,
   "id": "5b714bd4",
   "metadata": {},
   "outputs": [],
   "source": [
    "#대응표본\n",
    "똑같은 집단에서 발생 똑같은 온도 높이는 약을 먹은 후에 체온 \n",
    "동일한집단에 대해 어떠한 사건이 발생 전 후에 대해 효과가 어떻게 달라지는지\n",
    "\n",
    "#독립표본\n",
    "대응표본과 달리 완전히 독립된 ㅈ집단 간에 남자집단과 여자집단의 온도 높이는 약을 먹은 것과 무관하게\n",
    "발생하는 체온차이 "
   ]
  },
  {
   "cell_type": "code",
   "execution_count": null,
   "id": "a6d6ce06",
   "metadata": {},
   "outputs": [],
   "source": [
    "#대응비교 t검정 독립비교 t검정 윌콕슨의 부호순위 검정 만 위트니의 u검정에 대응하는 실사례 \n",
    "#대응비교 t검정이란 대응하는 데이터가 있고 데이터 차이에 정규분포를 가정할 수 있는 경우\n",
    "- 최근 a학생의 학급에서는 근력운동을 하면 집중력이 향상된다는 이야기가 있었고, A학생은 근력운동이\n",
    " 정말 효과있는지 보려고 학급 20명에게 근력운동을 시킴. 운동전후 집중력 차이가 있는지\n",
    "* 같은 집단의 어떠한 사건 전 후의 차이가 나는 것\n",
    "- ex) 같은 시간에 수영을 하는 아침반 참여 사람들이 수영을 한달 한 뒤 체중의 변화가 있는지\n",
    "#독립비교 T검정이란 대응하는 데이터가 없고 독립된 2표본 모집단에 정규분포를 가정할 수 있는 경우\n",
    "# 평균값의 차이에 대한 검정\n",
    " ex) A학급은 인문계열 집단인데 B학급 학생들은 체육계열 학생들이라 평소에도 근력운동 하고 있었음\n",
    "    그래서 차이가 나지 않을까 테스트 해봄 -> 모집단이 다르고 같은 사건의 전 후 비교\n",
    "ex2) 아침반 사람들은 초보자이고 오후반 사람들은 선수반인데 오후반 사람들은 수영을 한달 한 뒤\n",
    "비교해서 체중의 변화가 있는지\n",
    "#윌콕슨의 부호순위 검정 : 대응표본에서 차이에 정규분포를 가정할 수 없는 경우, 중앙값의 차이에 대한 검정\n",
    "ex)대응표본이므로 전후 차이에 주목, 절댓값이 작은 것 부터 순서대로 순위 부여 scipy.stats의 rankdata함수사용\n",
    "차이의 부호가 마이너스인 것의 순위합과 부호가 플러스인 것의 순위합을 각각 구한다. 모집단이 정규분포를\n",
    "따르는 경우에도 사용가능하지만 t검정에 비해 검정력이 낮다.\n",
    "- 포아송/이항/베르누이/기하 \n",
    "- 페북사이트에 평균 1시간당 방문 횟수가 2번이라 할 때, 1시간에 3번 방문이 될 확률은?\n"
   ]
  },
  {
   "cell_type": "markdown",
   "id": "91c56fb9",
   "metadata": {},
   "source": [
    "#정규분포를 가정\n",
    "#### 대응표본 t검정- ex)같은 시간에 수영을 하는 아침반 사람들이 수영을 한 달 한 뒤 체중의 변화가 있었는지\n",
    "#### 독립표본 t검정- ex) 아침반 사람들은 초보자이고 오후반 사람들은 선수반인데 수영을 한 달 한뒤 두 반의\n",
    " #### 체중변화가 있는지를 검정\n",
    "#정규분포를 가정할 수 없는 경우\n",
    "#대응표본- 윌콕슨의 부호순위검정\n",
    "#독립표본- 만 위트니의 u검정\n"
   ]
  },
  {
   "cell_type": "code",
   "execution_count": 116,
   "id": "9696c312",
   "metadata": {},
   "outputs": [
    {
     "name": "stdout",
     "output_type": "stream",
     "text": [
      "(20, 3) \n",
      "     전   후  gap\n",
      "0  59  41  -18\n",
      "1  52  63   11\n",
      "2  55  68   13\n",
      "3  61  59   -2\n",
      "4  59  84   25\n"
     ]
    }
   ],
   "source": [
    "data =pd.read_csv('./data/ch11_training_rel.csv')\n",
    "data['gap'] = data['후']-data['전']\n",
    "print(data.shape,'\\n',data.head())"
   ]
  },
  {
   "cell_type": "code",
   "execution_count": 117,
   "id": "ddf80b66",
   "metadata": {},
   "outputs": [
    {
     "data": {
      "text/plain": [
       "(2.204154108716127, 0.04004419061842953)"
      ]
     },
     "execution_count": 117,
     "metadata": {},
     "output_type": "execute_result"
    }
   ],
   "source": [
    "t,p =stats.ttest_1samp(data['gap'],0)\n",
    "t,p"
   ]
  },
  {
   "cell_type": "code",
   "execution_count": 118,
   "id": "a26fc940",
   "metadata": {},
   "outputs": [
    {
     "data": {
      "text/plain": [
       "0.04004419061842953"
      ]
     },
     "execution_count": 118,
     "metadata": {},
     "output_type": "execute_result"
    }
   ],
   "source": [
    "t,p =stats.ttest_rel(data['후'],data['전'])\n",
    "p\n",
    "# 귀무가설 기각, -> 근력운동이 집중력에 영향을 안미친다고 할 수 없다 "
   ]
  },
  {
   "cell_type": "code",
   "execution_count": 121,
   "id": "808c1000",
   "metadata": {},
   "outputs": [
    {
     "data": {
      "text/html": [
       "<div>\n",
       "<style scoped>\n",
       "    .dataframe tbody tr th:only-of-type {\n",
       "        vertical-align: middle;\n",
       "    }\n",
       "\n",
       "    .dataframe tbody tr th {\n",
       "        vertical-align: top;\n",
       "    }\n",
       "\n",
       "    .dataframe thead th {\n",
       "        text-align: right;\n",
       "    }\n",
       "</style>\n",
       "<table border=\"1\" class=\"dataframe\">\n",
       "  <thead>\n",
       "    <tr style=\"text-align: right;\">\n",
       "      <th></th>\n",
       "      <th>A</th>\n",
       "      <th>B</th>\n",
       "    </tr>\n",
       "  </thead>\n",
       "  <tbody>\n",
       "    <tr>\n",
       "      <th>0</th>\n",
       "      <td>47</td>\n",
       "      <td>49</td>\n",
       "    </tr>\n",
       "    <tr>\n",
       "      <th>1</th>\n",
       "      <td>50</td>\n",
       "      <td>52</td>\n",
       "    </tr>\n",
       "    <tr>\n",
       "      <th>2</th>\n",
       "      <td>37</td>\n",
       "      <td>54</td>\n",
       "    </tr>\n",
       "    <tr>\n",
       "      <th>3</th>\n",
       "      <td>60</td>\n",
       "      <td>48</td>\n",
       "    </tr>\n",
       "    <tr>\n",
       "      <th>4</th>\n",
       "      <td>39</td>\n",
       "      <td>51</td>\n",
       "    </tr>\n",
       "  </tbody>\n",
       "</table>\n",
       "</div>"
      ],
      "text/plain": [
       "    A   B\n",
       "0  47  49\n",
       "1  50  52\n",
       "2  37  54\n",
       "3  60  48\n",
       "4  39  51"
      ]
     },
     "execution_count": 121,
     "metadata": {},
     "output_type": "execute_result"
    }
   ],
   "source": [
    "#독립비교 t검정\n",
    "train= pd.read_csv('./data/ch11_training_ind.csv')\n",
    "train.head()"
   ]
  },
  {
   "cell_type": "code",
   "execution_count": 122,
   "id": "315cd47c",
   "metadata": {},
   "outputs": [
    {
     "data": {
      "text/plain": [
       "0.08695731107259361"
      ]
     },
     "execution_count": 122,
     "metadata": {},
     "output_type": "execute_result"
    }
   ],
   "source": [
    "t,p =stats.ttest_ind(train['A'],train['B'],equal_var=False) #ind 인디팬던트 독립의 약자\n",
    "p\n",
    "#유의수준보다 커서 귀무가설 채택,A학급과 B학급 사이에 유의한 차이가 있다고 말할 수 없다"
   ]
  },
  {
   "cell_type": "code",
   "execution_count": 140,
   "id": "5699789f",
   "metadata": {},
   "outputs": [
    {
     "data": {
      "text/html": [
       "<div>\n",
       "<style scoped>\n",
       "    .dataframe tbody tr th:only-of-type {\n",
       "        vertical-align: middle;\n",
       "    }\n",
       "\n",
       "    .dataframe tbody tr th {\n",
       "        vertical-align: top;\n",
       "    }\n",
       "\n",
       "    .dataframe thead th {\n",
       "        text-align: right;\n",
       "    }\n",
       "</style>\n",
       "<table border=\"1\" class=\"dataframe\">\n",
       "  <thead>\n",
       "    <tr style=\"text-align: right;\">\n",
       "      <th></th>\n",
       "      <th>전</th>\n",
       "      <th>후</th>\n",
       "    </tr>\n",
       "  </thead>\n",
       "  <tbody>\n",
       "    <tr>\n",
       "      <th>0</th>\n",
       "      <td>59</td>\n",
       "      <td>41</td>\n",
       "    </tr>\n",
       "    <tr>\n",
       "      <th>1</th>\n",
       "      <td>52</td>\n",
       "      <td>63</td>\n",
       "    </tr>\n",
       "    <tr>\n",
       "      <th>2</th>\n",
       "      <td>55</td>\n",
       "      <td>68</td>\n",
       "    </tr>\n",
       "    <tr>\n",
       "      <th>3</th>\n",
       "      <td>61</td>\n",
       "      <td>59</td>\n",
       "    </tr>\n",
       "    <tr>\n",
       "      <th>4</th>\n",
       "      <td>59</td>\n",
       "      <td>84</td>\n",
       "    </tr>\n",
       "    <tr>\n",
       "      <th>5</th>\n",
       "      <td>45</td>\n",
       "      <td>37</td>\n",
       "    </tr>\n",
       "  </tbody>\n",
       "</table>\n",
       "</div>"
      ],
      "text/plain": [
       "    전   후\n",
       "0  59  41\n",
       "1  52  63\n",
       "2  55  68\n",
       "3  61  59\n",
       "4  59  84\n",
       "5  45  37"
      ]
     },
     "execution_count": 140,
     "metadata": {},
     "output_type": "execute_result"
    }
   ],
   "source": [
    "#[과제] 정규분포를 가정할 수 없는 경우 대응표본에 대한 가설검정 수행\n",
    "#윌콕슨의 부호순위 검정 : 정규분포를 가정할 수 없는 경우, 중앙값의 차이에 대한 검정\n",
    "data =pd.read_csv('./data/ch11_training_rel.csv')\n",
    "data2= data[:6].copy()\n",
    "data2"
   ]
  },
  {
   "cell_type": "code",
   "execution_count": 141,
   "id": "aadafa13",
   "metadata": {},
   "outputs": [
    {
     "data": {
      "text/html": [
       "<div>\n",
       "<style scoped>\n",
       "    .dataframe tbody tr th:only-of-type {\n",
       "        vertical-align: middle;\n",
       "    }\n",
       "\n",
       "    .dataframe tbody tr th {\n",
       "        vertical-align: top;\n",
       "    }\n",
       "\n",
       "    .dataframe thead th {\n",
       "        text-align: right;\n",
       "    }\n",
       "</style>\n",
       "<table border=\"1\" class=\"dataframe\">\n",
       "  <thead>\n",
       "    <tr style=\"text-align: right;\">\n",
       "      <th></th>\n",
       "      <th>전</th>\n",
       "      <th>후</th>\n",
       "      <th>차</th>\n",
       "    </tr>\n",
       "  </thead>\n",
       "  <tbody>\n",
       "    <tr>\n",
       "      <th>0</th>\n",
       "      <td>59</td>\n",
       "      <td>41</td>\n",
       "      <td>-18</td>\n",
       "    </tr>\n",
       "    <tr>\n",
       "      <th>1</th>\n",
       "      <td>52</td>\n",
       "      <td>63</td>\n",
       "      <td>11</td>\n",
       "    </tr>\n",
       "    <tr>\n",
       "      <th>2</th>\n",
       "      <td>55</td>\n",
       "      <td>68</td>\n",
       "      <td>13</td>\n",
       "    </tr>\n",
       "    <tr>\n",
       "      <th>3</th>\n",
       "      <td>61</td>\n",
       "      <td>59</td>\n",
       "      <td>-2</td>\n",
       "    </tr>\n",
       "    <tr>\n",
       "      <th>4</th>\n",
       "      <td>59</td>\n",
       "      <td>84</td>\n",
       "      <td>25</td>\n",
       "    </tr>\n",
       "    <tr>\n",
       "      <th>5</th>\n",
       "      <td>45</td>\n",
       "      <td>37</td>\n",
       "      <td>-8</td>\n",
       "    </tr>\n",
       "  </tbody>\n",
       "</table>\n",
       "</div>"
      ],
      "text/plain": [
       "    전   후   차\n",
       "0  59  41 -18\n",
       "1  52  63  11\n",
       "2  55  68  13\n",
       "3  61  59  -2\n",
       "4  59  84  25\n",
       "5  45  37  -8"
      ]
     },
     "execution_count": 141,
     "metadata": {},
     "output_type": "execute_result"
    }
   ],
   "source": [
    "diff = data2['후']-data2['전']\n",
    "data2['차']=diff\n",
    "data2"
   ]
  },
  {
   "cell_type": "code",
   "execution_count": 142,
   "id": "7877e055",
   "metadata": {},
   "outputs": [
    {
     "data": {
      "text/html": [
       "<div>\n",
       "<style scoped>\n",
       "    .dataframe tbody tr th:only-of-type {\n",
       "        vertical-align: middle;\n",
       "    }\n",
       "\n",
       "    .dataframe tbody tr th {\n",
       "        vertical-align: top;\n",
       "    }\n",
       "\n",
       "    .dataframe thead th {\n",
       "        text-align: right;\n",
       "    }\n",
       "</style>\n",
       "<table border=\"1\" class=\"dataframe\">\n",
       "  <thead>\n",
       "    <tr style=\"text-align: right;\">\n",
       "      <th></th>\n",
       "      <th>전</th>\n",
       "      <th>후</th>\n",
       "      <th>차</th>\n",
       "      <th>rank</th>\n",
       "    </tr>\n",
       "  </thead>\n",
       "  <tbody>\n",
       "    <tr>\n",
       "      <th>0</th>\n",
       "      <td>59</td>\n",
       "      <td>41</td>\n",
       "      <td>-18</td>\n",
       "      <td>5</td>\n",
       "    </tr>\n",
       "    <tr>\n",
       "      <th>1</th>\n",
       "      <td>52</td>\n",
       "      <td>63</td>\n",
       "      <td>11</td>\n",
       "      <td>3</td>\n",
       "    </tr>\n",
       "    <tr>\n",
       "      <th>2</th>\n",
       "      <td>55</td>\n",
       "      <td>68</td>\n",
       "      <td>13</td>\n",
       "      <td>4</td>\n",
       "    </tr>\n",
       "    <tr>\n",
       "      <th>3</th>\n",
       "      <td>61</td>\n",
       "      <td>59</td>\n",
       "      <td>-2</td>\n",
       "      <td>1</td>\n",
       "    </tr>\n",
       "    <tr>\n",
       "      <th>4</th>\n",
       "      <td>59</td>\n",
       "      <td>84</td>\n",
       "      <td>25</td>\n",
       "      <td>6</td>\n",
       "    </tr>\n",
       "    <tr>\n",
       "      <th>5</th>\n",
       "      <td>45</td>\n",
       "      <td>37</td>\n",
       "      <td>-8</td>\n",
       "      <td>2</td>\n",
       "    </tr>\n",
       "  </tbody>\n",
       "</table>\n",
       "</div>"
      ],
      "text/plain": [
       "    전   후   차  rank\n",
       "0  59  41 -18     5\n",
       "1  52  63  11     3\n",
       "2  55  68  13     4\n",
       "3  61  59  -2     1\n",
       "4  59  84  25     6\n",
       "5  45  37  -8     2"
      ]
     },
     "execution_count": 142,
     "metadata": {},
     "output_type": "execute_result"
    }
   ],
   "source": [
    "rank= stats.rankdata(abs(diff)).astype(int)\n",
    "data2['rank'] =rank\n",
    "data2"
   ]
  },
  {
   "cell_type": "code",
   "execution_count": 133,
   "id": "8500d23e",
   "metadata": {},
   "outputs": [
    {
     "data": {
      "text/plain": [
       "(8, 13)"
      ]
     },
     "execution_count": 133,
     "metadata": {},
     "output_type": "execute_result"
    }
   ],
   "source": [
    "#그 차이의 부호가 마이너스인 순위합과 차이가 플러스인 순위합 구하기\n",
    "# 마이너스,플러스 중에 작은 쪽이 검정통계량\n",
    "#검정통계량이 임곗값보다 작은 경우 귀무가설 기각\n",
    "r_minus =np.sum((diff<0)*rank)\n",
    "r_plus = np.sum((diff>0)*rank)\n",
    "r_minus,r_plus"
   ]
  },
  {
   "cell_type": "code",
   "execution_count": 137,
   "id": "fe927193",
   "metadata": {},
   "outputs": [
    {
     "data": {
      "text/plain": [
       "0.03623390197753906"
      ]
     },
     "execution_count": 137,
     "metadata": {},
     "output_type": "execute_result"
    }
   ],
   "source": [
    "T,p =stats.wilcoxon(data['전'],data['후'])\n",
    "p"
   ]
  },
  {
   "cell_type": "code",
   "execution_count": 139,
   "id": "6e07668b",
   "metadata": {},
   "outputs": [
    {
     "data": {
      "text/plain": [
       "0.039989471435546875"
      ]
     },
     "execution_count": 139,
     "metadata": {},
     "output_type": "execute_result"
    }
   ],
   "source": [
    "T,p =stats.wilcoxon(data['후'],data['전'])\n",
    "p"
   ]
  },
  {
   "cell_type": "markdown",
   "id": "95facada",
   "metadata": {},
   "source": [
    "#[과제]독립성 검정이 필요한 사례 2가지를 작성하세요  \n",
    "\n",
    " - 모집단의 표본의 갯수가 다를 때, 두 모집단의 중앙값이 동일한지 여부를 검정(만 위트니 u검정)\n",
    " - 모집단이 정규성을 만족하지 못할 때 사용(윌콕슨의 부호순위 검정)"
   ]
  },
  {
   "cell_type": "code",
   "execution_count": 7,
   "id": "69c4e1d7",
   "metadata": {},
   "outputs": [
    {
     "name": "stdout",
     "output_type": "stream",
     "text": [
      "1000\n"
     ]
    },
    {
     "data": {
      "text/html": [
       "<div>\n",
       "<style scoped>\n",
       "    .dataframe tbody tr th:only-of-type {\n",
       "        vertical-align: middle;\n",
       "    }\n",
       "\n",
       "    .dataframe tbody tr th {\n",
       "        vertical-align: top;\n",
       "    }\n",
       "\n",
       "    .dataframe thead th {\n",
       "        text-align: right;\n",
       "    }\n",
       "</style>\n",
       "<table border=\"1\" class=\"dataframe\">\n",
       "  <thead>\n",
       "    <tr style=\"text-align: right;\">\n",
       "      <th></th>\n",
       "      <th>광고</th>\n",
       "      <th>구입</th>\n",
       "    </tr>\n",
       "  </thead>\n",
       "  <tbody>\n",
       "    <tr>\n",
       "      <th>0</th>\n",
       "      <td>B</td>\n",
       "      <td>하지 않았다</td>\n",
       "    </tr>\n",
       "    <tr>\n",
       "      <th>1</th>\n",
       "      <td>B</td>\n",
       "      <td>하지 않았다</td>\n",
       "    </tr>\n",
       "    <tr>\n",
       "      <th>2</th>\n",
       "      <td>A</td>\n",
       "      <td>했다</td>\n",
       "    </tr>\n",
       "    <tr>\n",
       "      <th>3</th>\n",
       "      <td>A</td>\n",
       "      <td>했다</td>\n",
       "    </tr>\n",
       "    <tr>\n",
       "      <th>4</th>\n",
       "      <td>B</td>\n",
       "      <td>하지 않았다</td>\n",
       "    </tr>\n",
       "  </tbody>\n",
       "</table>\n",
       "</div>"
      ],
      "text/plain": [
       "  광고      구입\n",
       "0  B  하지 않았다\n",
       "1  B  하지 않았다\n",
       "2  A      했다\n",
       "3  A      했다\n",
       "4  B  하지 않았다"
      ]
     },
     "execution_count": 7,
     "metadata": {},
     "output_type": "execute_result"
    }
   ],
   "source": [
    "ad_df = pd.read_csv('./data/ch11_ad.csv')\n",
    "n = len(ad_df)\n",
    "print(n)\n",
    "ad_df.head()"
   ]
  },
  {
   "cell_type": "code",
   "execution_count": 164,
   "id": "6491dd84",
   "metadata": {},
   "outputs": [
    {
     "data": {
      "text/plain": [
       "(3.75, 0.052807511416113395, 1)"
      ]
     },
     "execution_count": 164,
     "metadata": {},
     "output_type": "execute_result"
    }
   ],
   "source": [
    "#p값이 0,05보다 크므로 귀무가설 채택하며 광고 A와 광고 B에 유의미한 차이가 인정되지 않는다\n",
    "chi2,p,dof,ef = stats.chi2_contingency(ad_cross,correction=False)\n",
    "chi2,p,dof"
   ]
  },
  {
   "cell_type": "code",
   "execution_count": 8,
   "id": "73193834",
   "metadata": {},
   "outputs": [
    {
     "data": {
      "text/html": [
       "<div>\n",
       "<style scoped>\n",
       "    .dataframe tbody tr th:only-of-type {\n",
       "        vertical-align: middle;\n",
       "    }\n",
       "\n",
       "    .dataframe tbody tr th {\n",
       "        vertical-align: top;\n",
       "    }\n",
       "\n",
       "    .dataframe thead th {\n",
       "        text-align: right;\n",
       "    }\n",
       "</style>\n",
       "<table border=\"1\" class=\"dataframe\">\n",
       "  <thead>\n",
       "    <tr style=\"text-align: right;\">\n",
       "      <th>구입</th>\n",
       "      <th>하지 않았다</th>\n",
       "      <th>했다</th>\n",
       "    </tr>\n",
       "    <tr>\n",
       "      <th>광고</th>\n",
       "      <th></th>\n",
       "      <th></th>\n",
       "    </tr>\n",
       "  </thead>\n",
       "  <tbody>\n",
       "    <tr>\n",
       "      <th>A</th>\n",
       "      <td>351</td>\n",
       "      <td>49</td>\n",
       "    </tr>\n",
       "    <tr>\n",
       "      <th>B</th>\n",
       "      <td>549</td>\n",
       "      <td>51</td>\n",
       "    </tr>\n",
       "  </tbody>\n",
       "</table>\n",
       "</div>"
      ],
      "text/plain": [
       "구입  하지 않았다  했다\n",
       "광고            \n",
       "A      351  49\n",
       "B      549  51"
      ]
     },
     "execution_count": 8,
     "metadata": {},
     "output_type": "execute_result"
    }
   ],
   "source": [
    "#교차집계표\n",
    "ad_cross = pd.crosstab(ad_df['광고'],ad_df['구입'])\n",
    "ad_cross"
   ]
  },
  {
   "cell_type": "code",
   "execution_count": 9,
   "id": "418b2778",
   "metadata": {},
   "outputs": [
    {
     "data": {
      "text/plain": [
       "광고\n",
       "A    0.1225\n",
       "B    0.0850\n",
       "dtype: float64"
      ]
     },
     "execution_count": 9,
     "metadata": {},
     "output_type": "execute_result"
    }
   ],
   "source": [
    "ad_cross['했다']/(ad_cross['했다']+ ad_cross['하지 않았다'])\n"
   ]
  },
  {
   "cell_type": "code",
   "execution_count": null,
   "id": "f370d2d7",
   "metadata": {},
   "outputs": [],
   "source": [
    "# [과제] 기대도수와 관측도수(실측)의 차이(검정통계량)를 측정해서 검정 수행(chi2값)"
   ]
  },
  {
   "cell_type": "code",
   "execution_count": 165,
   "id": "45b25742",
   "metadata": {},
   "outputs": [
    {
     "data": {
      "text/plain": [
       "(900, 100)"
      ]
     },
     "execution_count": 165,
     "metadata": {},
     "output_type": "execute_result"
    }
   ],
   "source": [
    "n_not,n_yes = ad_cross.sum()\n",
    "n_not,n_yes"
   ]
  },
  {
   "cell_type": "code",
   "execution_count": 10,
   "id": "588a9aaf",
   "metadata": {},
   "outputs": [
    {
     "data": {
      "text/plain": [
       "(3.75, 0.052807511416113395, 1)"
      ]
     },
     "execution_count": 10,
     "metadata": {},
     "output_type": "execute_result"
    }
   ],
   "source": [
    "chi2,p,dof,ef=stats.chi2_contingency(ad_cross,correction=False)\n",
    "chi2,p,dof"
   ]
  }
 ],
 "metadata": {
  "kernelspec": {
   "display_name": "Python 3",
   "language": "python",
   "name": "python3"
  },
  "language_info": {
   "codemirror_mode": {
    "name": "ipython",
    "version": 3
   },
   "file_extension": ".py",
   "mimetype": "text/x-python",
   "name": "python",
   "nbconvert_exporter": "python",
   "pygments_lexer": "ipython3",
   "version": "3.8.8"
  }
 },
 "nbformat": 4,
 "nbformat_minor": 5
}

{
 "cells": [
  {
   "cell_type": "code",
   "execution_count": 2,
   "id": "d995ab40",
   "metadata": {},
   "outputs": [
    {
     "name": "stdout",
     "output_type": "stream",
     "text": [
      "Hello Ptython\n"
     ]
    }
   ],
   "source": [
    "print('Hello Ptython')"
   ]
  },
  {
   "cell_type": "markdown",
   "id": "cc371177",
   "metadata": {},
   "source": [
    "매직명령어: 맨 앞에 %를 붙이고 특정 명령을 수행할 수 있다. 파이썬 문법에는 포함되지 않는  jupyter notebook 만의 기능\n",
    "<img src =  '매직명령어.jpg' >\n"
   ]
  },
  {
   "cell_type": "markdown",
   "id": "37b817ec",
   "metadata": {},
   "source": [
    "# 주피터 노트북 사용법\n",
    "## 주피터 노트북 사용법\n",
    "\n",
    "#### 주피터 노트북 사용법\n",
    "\n",
    "-주피터\n",
    "-노트북\n",
    "\n",
    "#### 주피터 노트북 사용법\n",
    "1. 주피터\n",
    "2. 노트북\n"
   ]
  },
  {
   "cell_type": "markdown",
   "id": "fd281ebf",
   "metadata": {},
   "source": [
    "단축기\n",
    "-ESC를 눌러 커맨드 모드로 진입하여 Enter를 통해 셀을 수정할 수 있다.\n",
    "- A\n",
    "- B\n",
    "- M \n",
    "- Y -> y+m => 마크다운으로 돼서 바로 저장됨 \n",
    "    - Ctrl+Enter : 실행, Shift + Enter :, Alt+ Enter "
   ]
  },
  {
   "cell_type": "code",
   "execution_count": 9,
   "id": "7acfc171",
   "metadata": {},
   "outputs": [
    {
     "data": {
      "text/plain": [
       "'C:\\\\cakd5\\\\workspace\\\\m1_programming'"
      ]
     },
     "execution_count": 9,
     "metadata": {},
     "output_type": "execute_result"
    }
   ],
   "source": [
    "%pwd"
   ]
  },
  {
   "cell_type": "code",
   "execution_count": 13,
   "id": "edb7cd7d",
   "metadata": {},
   "outputs": [],
   "source": [
    "%timeit"
   ]
  },
  {
   "cell_type": "code",
   "execution_count": 15,
   "id": "d77bde62",
   "metadata": {},
   "outputs": [
    {
     "name": "stderr",
     "output_type": "stream",
     "text": [
      "UsageError: Line magic function `%history-i3` not found.\n"
     ]
    }
   ],
   "source": [
    "%history-i3"
   ]
  },
  {
   "cell_type": "code",
   "execution_count": 16,
   "id": "196c9a79",
   "metadata": {
    "scrolled": true
   },
   "outputs": [
    {
     "name": "stdout",
     "output_type": "stream",
     "text": [
      " C 드라이브의 볼륨에는 이름이 없습니다.\n",
      " 볼륨 일련 번호: 682B-EDCF\n",
      "\n",
      " C:\\cakd5\\workspace\\m1_programming 디렉터리\n",
      "\n",
      "2021-12-28  오후 04:24    <DIR>          .\n",
      "2021-12-28  오후 04:24    <DIR>          ..\n",
      "2021-12-28  오후 04:22    <DIR>          .ipynb_checkpoints\n",
      "2021-12-28  오후 04:24             1,831 Jupyter notebook  사용법-checkpoint.ipynb\n",
      "2021-12-28  오후 03:45                72 기초-checkpoint.ipynb\n",
      "2021-12-28  오후 04:18            94,995 매직명령어.jpg\n",
      "               3개 파일              96,898 바이트\n",
      "               3개 디렉터리  955,040,772,096 바이트 남음\n"
     ]
    }
   ],
   "source": [
    "%ls"
   ]
  },
  {
   "cell_type": "code",
   "execution_count": 20,
   "id": "a18bf322",
   "metadata": {
    "scrolled": true
   },
   "outputs": [
    {
     "name": "stderr",
     "output_type": "stream",
     "text": [
      "UsageError: %autosave requires an integer, got ''\n"
     ]
    }
   ],
   "source": [
    "%autosave"
   ]
  },
  {
   "cell_type": "code",
   "execution_count": null,
   "id": "4b8cbf45",
   "metadata": {},
   "outputs": [],
   "source": [
    "#  수식문법\n",
    "#-markdown  셀을 이용\n",
    "# -$ 혹은 $$를 앞뒤로 감싸서 수식을 기술\n",
    "#* $: 문장 안에 기술해야 하는 경우\n",
    "# * $$: 전체 라인으로 표기\n",
    "#- _ dhk ^기호를 이용해서 아래첨자와 위첨자를 사용: a_1, a_{ij}, b^2, b^{ij},c_1^2\n"
   ]
  },
  {
   "cell_type": "markdown",
   "id": "0c9114ac",
   "metadata": {},
   "source": [
    "$a^2 + b^2 = c^2$\n",
    "\n",
    "$$ E = mc^2 $$"
   ]
  },
  {
   "cell_type": "code",
   "execution_count": 22,
   "id": "7f48853a",
   "metadata": {},
   "outputs": [
    {
     "name": "stdout",
     "output_type": "stream",
     "text": [
      " C 드라이브의 볼륨에는 이름이 없습니다.\n",
      " 볼륨 일련 번호: 682B-EDCF\n",
      "\n",
      " C:\\cakd5\\workspace\\m1_programming 디렉터리\n",
      "\n",
      "2021-12-28  오후 04:42    <DIR>          .\n",
      "2021-12-28  오후 04:42    <DIR>          ..\n",
      "2021-12-28  오후 04:22    <DIR>          .ipynb_checkpoints\n",
      "2021-12-28  오후 04:42             4,648 Jupyter notebook  사용법-checkpoint.ipynb\n",
      "2021-12-28  오후 03:45                72 기초-checkpoint.ipynb\n",
      "2021-12-28  오후 04:18            94,995 매직명령어.jpg\n",
      "               3개 파일              99,715 바이트\n",
      "               3개 디렉터리  955,028,467,712 바이트 남음\n"
     ]
    }
   ],
   "source": [
    "ls"
   ]
  },
  {
   "cell_type": "markdown",
   "id": "1f97ea1a",
   "metadata": {},
   "source": [
    "https://www.youtube.com/watch?v=IC1QITRFGHgym"
   ]
  }
 ],
 "metadata": {
  "kernelspec": {
   "display_name": "Python 3 (ipykernel)",
   "language": "python",
   "name": "python3"
  },
  "language_info": {
   "codemirror_mode": {
    "name": "ipython",
    "version": 3
   },
   "file_extension": ".py",
   "mimetype": "text/x-python",
   "name": "python",
   "nbconvert_exporter": "python",
   "pygments_lexer": "ipython3",
   "version": "3.7.11"
  }
 },
 "nbformat": 4,
 "nbformat_minor": 5
}

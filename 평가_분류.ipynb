{
 "cells": [
  {
   "cell_type": "markdown",
   "id": "d6d66904",
   "metadata": {},
   "source": [
    "#### 분류평가\n",
    "- 정확도만으로 불균형한 레이블 데이터 세트에서 평가지표로 사용하기에는 부적합\n",
    "- 정확도가 가지는 분류 평가 지표로의 한계점을 극복하기 위해 여러가지 분류 지표와 함께 적용해야 함\n",
    "\n",
    "#### Confusion Matrix(혼동행렬,오차행렬)\n",
    "- 이진분류에서 성능 지표로 잘 활용되는 오차행렬은 학습된 분류 모델이 예측을 수행하면 얼마나 혼동될 수 있는지도 함께 보여주는 지표\n",
    "- 이진 분류의 예측 오류가 얼마인지와 더불어 어떠한 유형의 예측 오류가 발생하고 있는지를 함께 보여줌\n",
    "\n",
    "#### 평가지표\n",
    "- TP,FP,FN,NP 는 예측 클래스와 실제 클래스의 Positive 결정 값과 Negative 결정 값의 결합에 따라 결정\n",
    "- 앞문자 True/False 는 예측값과 실제값이 같은가/틀린가를 의미하고 뒤 문자는 N/P는 예측 결과값이 부정/긍정을 의미\n",
    "- 정확도 (TP+TN)/(TP+TN+FP+FN)\n",
    "- 정밀도 TP / FP+TP (Positive라고 예측한 대상 중에 \"실제\" 값이 Positive한 데이터의 비율)\n",
    "- 재현율 TP/ FN+TP ( 실제 값이 Positive인 대상 중에 \"예측과 실제 값\"이 Positive한 데이터의 비율)\n",
    "- F1 = 2 * (정밀도 * 재현율) / (정밀도 + 재현율) : 정밀도와 재현율이 어느 한쪽으로 치우치지 않는 수치를 나타낼 때 높아짐\n",
    "- 정밀도와 재현율은 Positive데이터 세트의 예측 성능에 좀 더 초점을 맞춘 평가지표 \n",
    "- 재현율이 중요 지표인 경우: 양성 암 환자에게 음성이라고 고할 때 ,반면 음성인 환자일 경우면 재검사 비용에 그침\n",
    "    실제 금융사기도 positive인데 Negative로 판단하면 회사의 손실이 클 것 \n",
    "- 정밀도가 중요 지표인 경우: positive인 스팸메일을 negative인 일반 메일로 분류하면 불편함을 느끼는 정도지만 Negative인 메일은 positive\n",
    "    인 스팸메일로 분류할 경우 메일을 아예 받지 못하게 될 경우도 있다\n",
    "\n",
    "#### 정밀도 및 재현율 활용 시 유의사항\n",
    "- 정밀도와 재현율 성능 수치는 어느 한쪽만 참조하면 극단적인 수치 조작이 가능\n",
    "- 정밀도 100%가 되는 방법 : 확실한 기준이 되는 경우만 P로 예측하고 나머지는 모두 N으로 예측 TP/(TP+FP) = 1 /(1+0) =1\n",
    "- 재현율 100%가 되는 방법 : 실제 양성 1000명 중 30명 TP/(TP+FN) =  30/30+0 =1\n",
    "- 분류가 정밀도, 재현율 중 하나에 상대적인 중요도를 부여할 수 있지만 하나만 강조해서는 안됨\n",
    "- 암 예측 모델에서 재현율을 높인다고 주로 양성만 판정한다면 환자의 불만과 불평이 커지게 됨\n",
    "\n",
    "    "
   ]
  },
  {
   "cell_type": "code",
   "execution_count": 12,
   "id": "e0fd80c6",
   "metadata": {},
   "outputs": [],
   "source": [
    "from sklearn.metrics import accuracy_score,precision_score,recall_score,confusion_matrix,f1_score\n",
    "#실제값과  y_test 예측값 pred\n",
    "def def_clf_eval(y_test,pred):\n",
    "    confusion = confusion_matrix(y_test,pred)\n",
    "    accuracy = accuracy_score(y_test,pred)\n",
    "    precision =precision_score(y_test,pred)\n",
    "    recall = recall_score(y_test,pred)\n",
    "    f1 = f1_score(y_test,pred)\n",
    "    print('오차행렬')\n",
    "    print(confusion)\n",
    "    print('정확도:{0:.4f},정밀도:{1:.4f},재현율:{2:.4f},f1_score:{3:.4f}'.format(accuracy,precision,recall,f1))\n",
    "    "
   ]
  },
  {
   "cell_type": "code",
   "execution_count": 13,
   "id": "8c2f61c0",
   "metadata": {},
   "outputs": [
    {
     "name": "stdout",
     "output_type": "stream",
     "text": [
      "오차행렬\n",
      "[[108  10]\n",
      " [ 15  46]]\n",
      "정확도:0.8603,정밀도:0.8214,재현율:0.7541,f1_score:0.7863\n"
     ]
    }
   ],
   "source": [
    "def_clf_eval(y_test,pred)"
   ]
  },
  {
   "cell_type": "code",
   "execution_count": 8,
   "id": "aafa2c9c",
   "metadata": {},
   "outputs": [],
   "source": [
    "import re\n",
    "from sklearn.preprocessing import LabelEncoder\n",
    "from sklearn.preprocessing import MinMaxScaler\n",
    "\n",
    "\n",
    "\n",
    "def fillnas(df):\n",
    "    def callname(x):\n",
    "        m = re.compile('[A-Za-z]+[.]')\n",
    "        p = re.findall(m,x)\n",
    "        return p[0]\n",
    "    \n",
    "    df['Callname']=df.Name.apply(lambda x:callname(x))\n",
    "    \n",
    "    df1 = df.loc[df.Age.isnull()]\n",
    "    age_nulllist = list(set(df1.Callname.values.tolist()))\n",
    "    \n",
    "    df2 = df.loc[df.Age.notnull()]\n",
    "    pivot = pd.pivot_table(df2, index = 'Callname', values = 'Age',aggfunc = 'mean')\n",
    "    \n",
    "    for age in age_nulllist:\n",
    "        df.loc[(df.Age.isnull())&(df.Callname == age),['Age']]=(pivot.loc[age][0])\n",
    "        \n",
    "    df['Embarked'].fillna(method = 'ffill',inplace=True)\n",
    "    \n",
    "    df3 = df.loc[df.Cabin.notnull()]\n",
    "\n",
    "    df3['Cabins'] = df3['Cabin'].str[:1]\n",
    "    df4 = df.loc[df.Cabin.isnull()]\n",
    "    \n",
    "    for i in range(1,4):\n",
    "        df33 = df3.loc[df3.Pclass == i]\n",
    "        cabin_fill_list=list(set(df33.Cabins.values.tolist()))\n",
    "        df44 = df4.loc[df4.Pclass == i]\n",
    "        fill_index = list(df44.index)\n",
    "        for index in fill_index:\n",
    "            df.loc[index,'Cabin'] = np.random.choice(cabin_fill_list)\n",
    "            \n",
    "    return df\n",
    "\n",
    "# 불필요 항목 제거\n",
    "def drop_feat(df):\n",
    "    df.drop(['PassengerId','Name','Ticket','Callname'],axis=1,inplace = True)\n",
    "    return df\n",
    "\n",
    "def format_features(df):\n",
    "    df['Cabin'] = df['Cabin'].str[:1]\n",
    "    features = ['Cabin','Sex','Embarked']\n",
    "    for feature in features:\n",
    "        le = LabelEncoder()\n",
    "        le = le.fit(df[feature])\n",
    "        df[feature] = le.transform(df[feature])\n",
    "    scaler = MinMaxScaler()\n",
    "    scaler.fit(df[['Fare']])\n",
    "    fare_scaled = scaler.transform(df[['Fare']])\n",
    "    df['Fare'] = fare_scaled\n",
    "    \n",
    "    return df\n",
    "\n",
    "def transform_features(df):\n",
    "    df = fillnas(df)\n",
    "    df = drop_feat(df)\n",
    "    df = format_features(df)\n",
    "    return df"
   ]
  },
  {
   "cell_type": "code",
   "execution_count": 9,
   "id": "f4e820ce",
   "metadata": {},
   "outputs": [
    {
     "data": {
      "text/html": [
       "<div>\n",
       "<style scoped>\n",
       "    .dataframe tbody tr th:only-of-type {\n",
       "        vertical-align: middle;\n",
       "    }\n",
       "\n",
       "    .dataframe tbody tr th {\n",
       "        vertical-align: top;\n",
       "    }\n",
       "\n",
       "    .dataframe thead th {\n",
       "        text-align: right;\n",
       "    }\n",
       "</style>\n",
       "<table border=\"1\" class=\"dataframe\">\n",
       "  <thead>\n",
       "    <tr style=\"text-align: right;\">\n",
       "      <th></th>\n",
       "      <th>Pclass</th>\n",
       "      <th>Sex</th>\n",
       "      <th>Age</th>\n",
       "      <th>SibSp</th>\n",
       "      <th>Parch</th>\n",
       "      <th>Fare</th>\n",
       "      <th>Cabin</th>\n",
       "      <th>Embarked</th>\n",
       "    </tr>\n",
       "  </thead>\n",
       "  <tbody>\n",
       "    <tr>\n",
       "      <th>0</th>\n",
       "      <td>3</td>\n",
       "      <td>1</td>\n",
       "      <td>22.0</td>\n",
       "      <td>1</td>\n",
       "      <td>0</td>\n",
       "      <td>0.014151</td>\n",
       "      <td>6</td>\n",
       "      <td>2</td>\n",
       "    </tr>\n",
       "    <tr>\n",
       "      <th>1</th>\n",
       "      <td>1</td>\n",
       "      <td>0</td>\n",
       "      <td>38.0</td>\n",
       "      <td>1</td>\n",
       "      <td>0</td>\n",
       "      <td>0.139136</td>\n",
       "      <td>2</td>\n",
       "      <td>0</td>\n",
       "    </tr>\n",
       "    <tr>\n",
       "      <th>2</th>\n",
       "      <td>3</td>\n",
       "      <td>0</td>\n",
       "      <td>26.0</td>\n",
       "      <td>0</td>\n",
       "      <td>0</td>\n",
       "      <td>0.015469</td>\n",
       "      <td>6</td>\n",
       "      <td>2</td>\n",
       "    </tr>\n",
       "    <tr>\n",
       "      <th>3</th>\n",
       "      <td>1</td>\n",
       "      <td>0</td>\n",
       "      <td>35.0</td>\n",
       "      <td>1</td>\n",
       "      <td>0</td>\n",
       "      <td>0.103644</td>\n",
       "      <td>2</td>\n",
       "      <td>2</td>\n",
       "    </tr>\n",
       "    <tr>\n",
       "      <th>4</th>\n",
       "      <td>3</td>\n",
       "      <td>1</td>\n",
       "      <td>35.0</td>\n",
       "      <td>0</td>\n",
       "      <td>0</td>\n",
       "      <td>0.015713</td>\n",
       "      <td>5</td>\n",
       "      <td>2</td>\n",
       "    </tr>\n",
       "  </tbody>\n",
       "</table>\n",
       "</div>"
      ],
      "text/plain": [
       "   Pclass  Sex   Age  SibSp  Parch      Fare  Cabin  Embarked\n",
       "0       3    1  22.0      1      0  0.014151      6         2\n",
       "1       1    0  38.0      1      0  0.139136      2         0\n",
       "2       3    0  26.0      0      0  0.015469      6         2\n",
       "3       1    0  35.0      1      0  0.103644      2         2\n",
       "4       3    1  35.0      0      0  0.015713      5         2"
      ]
     },
     "execution_count": 9,
     "metadata": {},
     "output_type": "execute_result"
    }
   ],
   "source": [
    "import pandas as pd\n",
    "from sklearn.model_selection import train_test_split\n",
    "from sklearn.linear_model import LogisticRegression\n",
    "import numpy as np\n",
    "import warnings\n",
    "warnings.filterwarnings('ignore')\n",
    "\n",
    "\n",
    "t_df = pd.read_csv('../m6_머신러닝알고리즘및이해활용/dataset/train.csv')\n",
    "y_titanic_df = t_df['Survived']\n",
    "X_titanic_df =t_df.drop('Survived',axis=1)\n",
    "X_titanic_df =transform_features(X_titanic_df)\n",
    "X_titanic_df.head()"
   ]
  },
  {
   "cell_type": "code",
   "execution_count": 10,
   "id": "bfb47d1f",
   "metadata": {},
   "outputs": [
    {
     "name": "stdout",
     "output_type": "stream",
     "text": [
      "오차행렬\n",
      "[[108  10]\n",
      " [ 15  46]]\n",
      "정확도:0.8603,정밀도:0.8214,재현율:0.7541,f1_score:0.7863\n"
     ]
    }
   ],
   "source": [
    "from sklearn.model_selection import train_test_split\n",
    "X_train,X_test,y_train,y_test = train_test_split(X_titanic_df,y_titanic_df,test_size=0.2,random_state=11)\n",
    "lr_clf = LogisticRegression()\n",
    "#학습시키기\n",
    "lr_clf.fit(X_train,y_train)\n",
    "#예측\n",
    "pred =lr_clf.predict(X_test)\n",
    "def_clf_eval(y_test,pred)\n",
    "\n",
    "#106 실제로 죽었는데 죽었다고 예측한 거 TN\n",
    "# 12 죽었는데 살았다고 예측한 거 FN\n",
    "# 15 살았는데 죽었다고 FP\n",
    "# 46 산사람 살았다고 TP"
   ]
  },
  {
   "cell_type": "code",
   "execution_count": 11,
   "id": "cb830ab1",
   "metadata": {},
   "outputs": [
    {
     "name": "stdout",
     "output_type": "stream",
     "text": [
      "accuracy : 106.25698324022346\n",
      "precision: 49.833333333333336\n",
      "recall: 49.833333333333336\n",
      "f1 score: 2.0\n"
     ]
    }
   ],
   "source": [
    "#2 * (정밀도 * 재현율) / (정밀도 + 재현율) \n",
    "precision=46/12+46\n",
    "recall = 46/12+46\n",
    "print('accuracy :',106+46/ (106+12+15+46))\n",
    "print(f'precision:', 46/12+46)\n",
    "print(f'recall:', 46/12+46)\n",
    "print('f1 score:',2*(precision+recall)/(precision+recall))"
   ]
  },
  {
   "cell_type": "code",
   "execution_count": 106,
   "id": "a24520d1",
   "metadata": {},
   "outputs": [
    {
     "ename": "SyntaxError",
     "evalue": "invalid syntax (<ipython-input-106-eb422793c213>, line 6)",
     "output_type": "error",
     "traceback": [
      "\u001b[1;36m  File \u001b[1;32m\"<ipython-input-106-eb422793c213>\"\u001b[1;36m, line \u001b[1;32m6\u001b[0m\n\u001b[1;33m    F1 score 2*\u001b[0m\n\u001b[1;37m       ^\u001b[0m\n\u001b[1;31mSyntaxError\u001b[0m\u001b[1;31m:\u001b[0m invalid syntax\n"
     ]
    }
   ],
   "source": [
    "TN = 106, FN =15, FP= 12,TP =46\n",
    "# TN-> N/ FP -> N / TP,FN 네거티브인 줄 알았는데 False니깐\n",
    "accuracy = TP+TN / TN+FN+FP+TP\n",
    "precision = TP /FP+TP\n",
    "recall = TP /TP+FN #결과값이 positive인 것 중에 예측값이 POSITIVE였는데 TURE인 것\n",
    "F1 score 2*\n"
   ]
  },
  {
   "cell_type": "code",
   "execution_count": 19,
   "id": "d92720c0",
   "metadata": {},
   "outputs": [
    {
     "data": {
      "text/plain": [
       "array([[0.53915243, 0.46084757, 0.        ],\n",
       "       [0.88367715, 0.11632285, 0.        ],\n",
       "       [0.8824417 , 0.1175583 , 0.        ]])"
      ]
     },
     "execution_count": 19,
     "metadata": {},
     "output_type": "execute_result"
    }
   ],
   "source": [
    "#Precision/Recall Trade-off\n",
    "pred_proba = lr_clf.predict_proba(X_test)\n",
    "pred =lr_clf.predict(X_test)\n",
    "pred_proba_result = np.concatenate([pred_proba,pred.reshape(-1,1)],axis=1)\n",
    "pred_proba_result[:3]"
   ]
  },
  {
   "cell_type": "code",
   "execution_count": 20,
   "id": "49dc6b80",
   "metadata": {},
   "outputs": [
    {
     "data": {
      "text/plain": [
       "array([[0., 0., 1.],\n",
       "       [1., 0., 0.],\n",
       "       [0., 0., 1.]])"
      ]
     },
     "execution_count": 20,
     "metadata": {},
     "output_type": "execute_result"
    }
   ],
   "source": [
    "from sklearn.preprocessing import Binarizer\n",
    "\n",
    "X = [[1,-1,2],\n",
    "    [2,0,0],\n",
    "    [0,1.1,1.2]]\n",
    "#임곗값을 기준으로 작거나같으면 0 크면 1을 반환\n",
    "binarizer = Binarizer(threshold = 1.1)\n",
    "binarizer.fit_transform(X)\n",
    "#재현율과 정밀도는 각각 케이스에 맞게끔 조정해야된다했지\n",
    "#임계치를 가지고 조정함"
   ]
  },
  {
   "cell_type": "code",
   "execution_count": 21,
   "id": "5f4a62b4",
   "metadata": {},
   "outputs": [
    {
     "name": "stdout",
     "output_type": "stream",
     "text": [
      "오차행렬\n",
      "[[108  10]\n",
      " [ 15  46]]\n",
      "정확도:0.8603,정밀도:0.8214,재현율:0.7541,f1_score:0.7863\n"
     ]
    }
   ],
   "source": [
    "custom_threshold= 0.5\n",
    "#1열 ->사는 확률 \n",
    "pred_proba_1 = pred_proba[:,1].reshape(-1,1)\n",
    "pred_proba_1\n",
    "binarizer = Binarizer(threshold=custom_threshold).fit(pred_proba_1)\n",
    "custom_predict = binarizer.transform(pred_proba_1)\n",
    "custom_predict \n",
    "def_clf_eval(y_test,custom_predict)"
   ]
  },
  {
   "cell_type": "code",
   "execution_count": 22,
   "id": "4b59989d",
   "metadata": {},
   "outputs": [
    {
     "name": "stdout",
     "output_type": "stream",
     "text": [
      "오차행렬\n",
      "[[98 20]\n",
      " [11 50]]\n",
      "정확도:0.8268,정밀도:0.7143,재현율:0.8197,f1_score:0.7634\n"
     ]
    }
   ],
   "source": [
    "#분류결정 임계값 0.5->0.4\n",
    "custom_threshold= 0.4\n",
    "#1열 ->사는 확률 \n",
    "\n",
    "binarizer = Binarizer(threshold=custom_threshold).fit(pred_proba_1)\n",
    "custom_predict = binarizer.transform(pred_proba_1)\n",
    "custom_predict \n",
    "def_clf_eval(y_test,custom_predict)\n",
    "#재현율은 올라가고 정밀도는 떨어졌지 "
   ]
  },
  {
   "cell_type": "code",
   "execution_count": 117,
   "id": "6b27e14e",
   "metadata": {},
   "outputs": [
    {
     "name": "stdout",
     "output_type": "stream",
     "text": [
      "임계값: 0.4\n",
      "오차행렬\n",
      "[[98 20]\n",
      " [10 51]]\n",
      "정확도:0.8324,정밀도:0.7183,재현율:0.8361,f1_score:0.7727\n",
      "임계값: 0.45\n",
      "오차행렬\n",
      "[[101  17]\n",
      " [ 14  47]]\n",
      "정확도:0.8268,정밀도:0.7344,재현율:0.7705,f1_score:0.7520\n",
      "임계값: 0.5\n",
      "오차행렬\n",
      "[[104  14]\n",
      " [ 14  47]]\n",
      "정확도:0.8436,정밀도:0.7705,재현율:0.7705,f1_score:0.7705\n",
      "임계값: 0.55\n",
      "오차행렬\n",
      "[[110   8]\n",
      " [ 15  46]]\n",
      "정확도:0.8715,정밀도:0.8519,재현율:0.7541,f1_score:0.8000\n",
      "임계값: 0.6\n",
      "오차행렬\n",
      "[[113   5]\n",
      " [ 17  44]]\n",
      "정확도:0.8771,정밀도:0.8980,재현율:0.7213,f1_score:0.8000\n"
     ]
    }
   ],
   "source": [
    "threshold=[0.4,0.45,0.50,0.55,0.60]\n",
    "def get_clf_by_threshold(y_test,pred_proba_1,threshold):\n",
    "    for i in threshold:\n",
    "        binarizer = Binarizer(threshold=i).fit(pred_proba_1)\n",
    "        custom_predict = binarizer.transform(pred_proba_1)\n",
    "        print('임계값:', i)\n",
    "        def_clf_eval(y_test,custom_predict)\n",
    "get_clf_by_threshold(y_test,pred_proba[:,1].reshape(-1,1),threshold)\n"
   ]
  },
  {
   "cell_type": "code",
   "execution_count": 111,
   "id": "d51b3637",
   "metadata": {},
   "outputs": [
    {
     "name": "stdout",
     "output_type": "stream",
     "text": [
      "임계값: 0.4\n",
      "오차행렬\n",
      "[[98 20]\n",
      " [10 51]]\n",
      "정확도:0.8324,정밀도:0.7183,재현율:0.8361,f1_score:0.7727\n",
      "임계값: 0.45\n",
      "오차행렬\n",
      "[[101  17]\n",
      " [ 14  47]]\n",
      "정확도:0.8268,정밀도:0.7344,재현율:0.7705,f1_score:0.7520\n",
      "임계값: 0.5\n",
      "오차행렬\n",
      "[[104  14]\n",
      " [ 14  47]]\n",
      "정확도:0.8436,정밀도:0.7705,재현율:0.7705,f1_score:0.7705\n",
      "임계값: 0.55\n",
      "오차행렬\n",
      "[[110   8]\n",
      " [ 15  46]]\n",
      "정확도:0.8715,정밀도:0.8519,재현율:0.7541,f1_score:0.8000\n",
      "임계값: 0.6\n",
      "오차행렬\n",
      "[[113   5]\n",
      " [ 17  44]]\n",
      "정확도:0.8771,정밀도:0.8980,재현율:0.7213,f1_score:0.8000\n"
     ]
    }
   ],
   "source": [
    "threshold=[0.4,0.45,0.50,0.55,0.60]\n",
    "def get_clf_by_threshold(y_test,pred_proba_1,threshold):\n",
    "    for custom_threshold in threshold:\n",
    "        binarizer = Binarizer(threshold=custom_threshold).fit(pred_proba_1)\n",
    "        custom_predict = binarizer.transform(pred_proba_1)\n",
    "        print('임계값:', custom_threshold)\n",
    "        def_clf_eval(y_test,custom_predict)\n",
    "get_clf_by_threshold(y_test,pred_proba[:,1].reshape(-1,1),threshold)\n",
    "\n",
    "#임곗값은 Positive 예측값을 결정하는 확률의 기준 \n",
    "# 0.5가 아닌 0.4부터 Positive로 예측을 더 너그럽게 하기 때문에 임곗값 값을 낮출수록 True값이 많아진다(재현율 증가)\n",
    "# 양성 예측을 많이 하다보니 실제 양성을 음성으로 예측하는 횟수 줄어듬\n",
    "\n"
   ]
  },
  {
   "cell_type": "code",
   "execution_count": 23,
   "id": "94f036a9",
   "metadata": {},
   "outputs": [],
   "source": [
    "threshold=[0.4,0.45,0.50,0.55,0.60]\n",
    "\n",
    "for custom_threshold in threshold:\n",
    "    binarizer=Binarizer(threshold=custom_threshold,)"
   ]
  },
  {
   "cell_type": "code",
   "execution_count": 24,
   "id": "00126748",
   "metadata": {},
   "outputs": [
    {
     "name": "stdout",
     "output_type": "stream",
     "text": [
      "(150,)\n",
      "샘플 추출을 위한 임계값 배열의 index 10개 [  0  15  30  45  60  75  90 105 120 135]\n",
      "샘플용 10개의 임곗값 [0.1  0.12 0.13 0.17 0.27 0.35 0.49 0.64 0.77 0.89]\n",
      "샘플 임계값별 정밀도 [0.396 0.431 0.459 0.528 0.604 0.697 0.77  0.935 0.968 0.938]\n",
      "샘플 임계값별 재현율 [1.    0.967 0.918 0.918 0.902 0.869 0.77  0.705 0.492 0.246]\n"
     ]
    }
   ],
   "source": [
    "from sklearn.metrics import precision_recall_curve\n",
    "\n",
    "pred_proba_class1 = lr_clf.predict_proba(X_test)[:,1]\n",
    "#실제값 데이터 세트와 레이블 값이 1일 떄의 예측 확률을 precision_recall_curve 인자로 입력\n",
    "precision,recalls,threshold = precision_recall_curve(y_test,pred_proba_c1)\n",
    "print(threshold.shape)\n",
    "# 반환된 임계값 배열 로우가 142건이므로 샘플로 10건만 추출, 임곗값을 15step으로 추출\n",
    "thr_index =np.arange(0,threshold.shape[0],15)\n",
    "print('샘플 추출을 위한 임계값 배열의 index 10개',thr_index)\n",
    "print('샘플용 10개의 임곗값',np.round(threshold[thr_index],2))\n",
    "# 15 step단위로 추출된 임계값에 따른 정밀도와 재현율 값\n",
    "print('샘플 임계값별 정밀도', np.round(precision[thr_index],3))\n",
    "print('샘플 임계값별 재현율',np.round(recalls[thr_index],3))"
   ]
  },
  {
   "cell_type": "code",
   "execution_count": 25,
   "id": "9e8d7ca0",
   "metadata": {},
   "outputs": [
    {
     "name": "stdout",
     "output_type": "stream",
     "text": [
      "[0.098836   0.09883764 0.09898434 0.09900983 0.09901592 0.09927081\n",
      " 0.10039295 0.100651   0.10162312 0.10216717 0.1067084  0.10810021\n",
      " 0.1130483  0.11441331 0.11441686 0.11593648 0.11597692 0.11632285\n",
      " 0.1175583  0.12118526 0.12320748 0.12553086 0.12650225 0.12697044\n",
      " 0.12744548 0.12869044 0.12885089 0.12967814 0.13102379 0.1315432\n",
      " 0.13360915 0.13462172 0.13631295 0.13635311 0.13720113 0.13816451\n",
      " 0.13885523 0.14448014 0.14711907 0.14847546 0.15077897 0.15138775\n",
      " 0.15170536 0.1564757  0.15721277 0.16640949 0.18414508 0.18597566\n",
      " 0.19293764 0.20660697 0.2239018  0.22407453 0.22409408 0.2281853\n",
      " 0.24120358 0.24402249 0.24457537 0.24686362 0.26012342 0.26091717\n",
      " 0.26519536 0.2739013  0.27855538 0.27910653 0.29244598 0.29805307\n",
      " 0.30168801 0.30430778 0.30998804 0.3102247  0.34103021 0.34443015\n",
      " 0.34917428 0.34927495 0.35382994 0.35389881 0.36850875 0.37885844\n",
      " 0.38885397 0.39279487 0.39452583 0.40286747 0.42659813 0.43014617\n",
      " 0.4389794  0.45260601 0.45648764 0.46084757 0.46273893 0.48660235\n",
      " 0.48756917 0.48892522 0.494339   0.49477589 0.49523723 0.50482432\n",
      " 0.51426539 0.54693853 0.57517648 0.57700383 0.58707666 0.58718408\n",
      " 0.59686764 0.62147993 0.63062087 0.63740924 0.63769203 0.64731638\n",
      " 0.64992505 0.65423639 0.67070974 0.68841818 0.69169924 0.69321275\n",
      " 0.69357074 0.69494974 0.71680054 0.72667219 0.72746165 0.74524633\n",
      " 0.76582892 0.77770433 0.78404218 0.78975161 0.79606928 0.80759894\n",
      " 0.81343323 0.82887841 0.82982268 0.83903348 0.84557815 0.84888932\n",
      " 0.86024647 0.8671833  0.88298324 0.89054994 0.89209383 0.89508106\n",
      " 0.89870536 0.91032661 0.91928327 0.93403497 0.93689294 0.9386003\n",
      " 0.94542834 0.94568577 0.94679542 0.94999082 0.9578793  0.95998454]\n"
     ]
    },
    {
     "data": {
      "image/png": "[encoded data removed]",
      "text/plain": [
       "<Figure size 432x432 with 1 Axes>"
      ]
     },
     "metadata": {
      "needs_background": "light"
     },
     "output_type": "display_data"
    }
   ],
   "source": [
    "#[과제] 임계값을 0에서 1사이로 변경시킬 때 precision과 recall의 변화 추세를 시각화하여 출력하세요\n",
    "import matplotlib.pyplot as plt\n",
    "import matplotlib.ticker as ticker\n",
    "# %matplotlib.inline\n",
    "\n",
    "def precision_recall_curve_plot(y_test,pred_proba_c1):\n",
    "    precision,recalls,threshold = precision_recall_curve(y_test,pred_proba_c1)\n",
    "    plt.figure(figsize=(6,6))\n",
    "    threshold_boundary= threshold.shape[0]\n",
    "    print(threshold)\n",
    "    plt.plot(threshold,precision[0:threshold_boundary],linestyle='--',label ='precision')\n",
    "    plt.plot(threshold,recalls[0:threshold_boundary],label='recall')\n",
    "    \n",
    "    start,end = plt.xlim()\n",
    "    plt.xticks(np.round(np.arange(start,end,0.1),2))\n",
    "    plt.xlabel('Threshold value')\n",
    "    plt.ylabel('Precision and Recall value')\n",
    "    plt.legend()\n",
    "    plt.grid()\n",
    "    plt.show()\n",
    "\n",
    "precision_recall_curve_plot(y_test,lr_clf.predict_proba(X_test)[:,1])"
   ]
  },
  {
   "cell_type": "code",
   "execution_count": 14,
   "id": "f9132324",
   "metadata": {},
   "outputs": [
    {
     "name": "stdout",
     "output_type": "stream",
     "text": [
      "f1 score :0.7863\n"
     ]
    }
   ],
   "source": [
    "from sklearn.metrics import f1_score\n",
    "f1 = f1_score(y_test,pred)\n",
    "print(f'f1 score :{round(f1,4)}')"
   ]
  },
  {
   "cell_type": "markdown",
   "id": "7151b6f7",
   "metadata": {},
   "source": [
    "#### ROC Curve 와 AUC\n",
    "- 수신자 판단 곡선이라고 하며 ML의 이진 분류 모델의 예측 성능을 판단하는 중요한 평가 지표\n",
    "- FPR이 변할 때 TPR이 어떻게 변하는지를 나타내는 곡선으로 FPR = 1-TNR(특이성), TRP은 재현율(민감도)를 나타냄\n",
    "- TNR = TN/(TN+FP) 이며 FPR = FP/(TN+FP)\n",
    "- ROC곡선은 FPR을 0부터 1까지 변경하면서 FPR을 구하고 이 FPR 값의 변화에 따른 TPR의 변화 값을 구함\n",
    "- FPR을 0에서 1까지 변경하는 것은 p예측값을 결정하는 기준인 분류 결정 임곗값을 변경하면 됨\n",
    "- FPR을 0으로 만들려면 임곗값을 1로 지정하고 반대로 FPR을 1로 만들려면 임곗값을 0으로 지정"
   ]
  },
  {
   "cell_type": "code",
   "execution_count": null,
   "id": "44a92db1",
   "metadata": {},
   "outputs": [],
   "source": [
    "NEGATIVE로 예측을 많이해야 fN이 커진다 FALSE NEGATIVE \n",
    "임계값이 커지면 NEGATIVE많이지는 것 임계값이 작아지면 POSITIVE가 많아지겠지\n",
    "그래서 \n",
    "임계값이 변함에따라 양성 예측을 후하게 하느냐 덜하느냐 정할 수 있다\n",
    "f행과 fp에 대한 변화를 줬잖아\n",
    "positive를 많이 예측하고 덜 예측하고가 임계값에서 적응되니깐\n",
    "임계값이 낮으면 낮을수록 \n",
    "임계값이 높아지면 재현율이 떨어지지 이것일 때 분모의 값이 뭐야 FN -> negative를 많이하고, positive 예측을 적게하잖아\n",
    "임계치가 올라가면 positive 예측을 적게하는 것 , 임계치가 내려가면 positive예측을 많이하는 것임\n",
    "임계치가 많아지면 TRP과 FPR이 변하는데 그걸 나타내는게 ROC야 TRP이란게 뭐랬지 TURE POSITIVE RATE 실제가 파즈티브 => TP+FN분모가\n",
    "TPR,FPR, 임계치에 따라 달라지잖아 \n",
    "TPR민감율 재현율,민감도 실제 P인데 예측도 P하면 좋잖아 AUC가 1에 가까워지면 좋은거야\n",
    "FPR 실제가 음성인데 긍정으로 예측한 거 , 작으면 작을수록 좋지\n",
    "임계값 낮추면 양성 예측 많 TPR FPR변동하는데 그걸 곡선으로 표현한 것\n",
    "임계치에 따라 변화하는 곡선에 아래 면적을 가지고서 얼마나 모델이 정확하게 분류하는지 평가하는 지표\n"
   ]
  },
  {
   "cell_type": "code",
   "execution_count": 26,
   "id": "51535cee",
   "metadata": {},
   "outputs": [
    {
     "data": {
      "image/png": "[encoded data removed]",
      "text/plain": [
       "<Figure size 432x288 with 1 Axes>"
      ]
     },
     "metadata": {
      "needs_background": "light"
     },
     "output_type": "display_data"
    }
   ],
   "source": [
    "import matplotlib.pyplot as plt\n",
    "from sklearn.metrics import roc_curve\n",
    "\n",
    "pred_proba_c1 = lr_clf.predict_proba(X_test)[:,1]\n",
    "\n",
    "def roc_curve_plot(y_test,pred_proba_c1):\n",
    "    \n",
    "    fprs,tprs,threshold = roc_curve(y_test,pred_proba_c1)\n",
    "    threshold #임곗값\n",
    "    # roc_curver가 드레시 홀드의 다양한 값을 가지고 있어 , fpr tpr어떻게 변하는지 알려주는 게 rou 곡선이야\n",
    "    # proba라는 친구는 1일확률 0일확률 두개를 가지고 있지 ,선택을 해주는데 기준이 되는게\n",
    "    # roc_curve 임계치변하는 거에 따라 변화는 곡선 보여주는 기능\n",
    "    plt.plot(fprs,tprs,label='ROC')\n",
    "    plt.plot([0,1],[0,1],'k--',label='Random')\n",
    "\n",
    "    start,end =plt.xlim()\n",
    "    plt.xticks(np.round(np.arange(start,end,0.1),2))\n",
    "    plt.xlim(0,1)\n",
    "    plt.ylim(0,1)\n",
    "    plt.xlabel('FPR(1-Sensitivity)')\n",
    "    plt.ylabel('TPR(Recall)')\n",
    "    plt.legend()\n",
    "\n",
    "roc_curve_plot(y_test,pred_proba[:,1])"
   ]
  },
  {
   "cell_type": "code",
   "execution_count": 27,
   "id": "96eaecea",
   "metadata": {},
   "outputs": [
    {
     "data": {
      "image/png": "[encoded data removed]",
      "text/plain": [
       "<Figure size 432x288 with 1 Axes>"
      ]
     },
     "metadata": {
      "needs_background": "light"
     },
     "output_type": "display_data"
    }
   ],
   "source": [
    "roc_curve_plot(y_test,pred_proba_c1)"
   ]
  },
  {
   "cell_type": "code",
   "execution_count": 28,
   "id": "6cc657e1",
   "metadata": {},
   "outputs": [
    {
     "name": "stdout",
     "output_type": "stream",
     "text": [
      "roc_score:0.9058\n"
     ]
    },
    {
     "data": {
      "text/plain": [
       "0.9058"
      ]
     },
     "execution_count": 28,
     "metadata": {},
     "output_type": "execute_result"
    }
   ],
   "source": [
    "from sklearn.metrics import roc_auc_score\n",
    "\n",
    "pred_proba = lr_clf.predict_proba(X_test)[:,1]\n",
    "roc_score = roc_auc_score(y_test,pred_proba)\n",
    "print('roc_score:{0:.4f}'.format(roc_score))\n",
    "round(roc_score,4)\n"
   ]
  },
  {
   "cell_type": "code",
   "execution_count": 29,
   "id": "8fb68a42",
   "metadata": {},
   "outputs": [],
   "source": [
    "from sklearn.metrics import accuracy_score,precision_score,recall_score,confusion_matrix,f1_score\n",
    "#실제값과  y_test 예측값 pred\n",
    "def def_clf_eval(y_test,pred=None,pred_proba=None):\n",
    "    confusion = confusion_matrix(y_test,pred)\n",
    "    accuracy = accuracy_score(y_test,pred)\n",
    "    precision =precision_score(y_test,pred)\n",
    "    recall = recall_score(y_test,pred)\n",
    "    f1 = f1_score(y_test,pred)\n",
    "    rou_auc = roc_auc_score(y_test,pred_proba)\n",
    "    print('오차행렬')\n",
    "    print(confusion)\n",
    "    print('정확도:{0:.4f},정밀도:{1:.4f},재현율:{2:.4f},f1_score:{3:.4f},rou_auc:{4:.4f}'.format(accuracy,precision,recall,f1,\n",
    "                                                                                       rou_auc))\n",
    "    "
   ]
  },
  {
   "cell_type": "code",
   "execution_count": 30,
   "id": "d1091328",
   "metadata": {},
   "outputs": [
    {
     "name": "stdout",
     "output_type": "stream",
     "text": [
      "오차행렬\n",
      "[[108  10]\n",
      " [ 15  46]]\n",
      "정확도:0.8603,정밀도:0.8214,재현율:0.7541,f1_score:0.7863,rou_auc:0.9058\n"
     ]
    }
   ],
   "source": [
    "def_clf_eval(y_test,pred,pred_proba)"
   ]
  },
  {
   "cell_type": "markdown",
   "id": "a6997f4c",
   "metadata": {},
   "source": [
    "[과제] diabetes.csv 데이터세트를 이용해 다음사항을 수행하여 당뇨병 여부를 판단하는 머신러닝 예측 모델을 작성하고 평가하세요.\n",
    "\n",
    "- SkinThickness 와 Insulin의 0 값은 상당히 많기 때문에 일괄 삭제가 어려우며 평균값으로 대체\n",
    "- 정확도, 정밀도, 재현율, F1 Score, ROC_AUC Score를 포함하는 평가지표 사용자 함수 작성\n",
    "- 정밀도와 재현율의 임곗값에 따른 값 변화를 곡선 형태로 시각화\n",
    "- 전체적인 성능 평가 지표를 유지하면서 재현율을 약간 향상시키는 임계값 산출\n",
    "- 산출된 임계값을 적용한 평가  \n",
    "※ 피처 정보\n",
    "'Pregnancies'(임신 횟수), 'Glucose'(포도당 부하 검사 수치), 'BloodPressure'(혈압), 'SkinThickness'(팔 삼두근 뒤쪽의 피하지방 측정값, 'Insulin'(혈청 인슈린), 'BMI'(체질량 지수), 'DiabetesPedigreeFunction'(당뇨 내력 가중치 값), 'Age', 'Outcome'\n"
   ]
  },
  {
   "cell_type": "markdown",
   "id": "7d0590f1",
   "metadata": {},
   "source": [
    "데이터 세트는 북아메리카 피마 지역 원주민의 Type-2 당뇨병 결과 데이터임.   \n",
    "고립된 지역에서 인디언 고유의 혈통이 지속돼 왔지만 20세기 후반에 들어서면서 서구화된 식습관으로 많은 당뇨 환자 발생  \n",
    "[과제] train.csv 파일을 불러와서 분류모델링 평가를 아래와 같이 수행하세요.\n",
    "- dt 모델을 적용하고 GridSearchCV를 사용, 교차검증과 성능 개선을 위한 하이퍼파라미터 튜닝\n",
    "- accuracy에 추가하여 confusion matrix, accuracy, precision, recall, roc auc score 평가\n"
   ]
  },
  {
   "cell_type": "code",
   "execution_count": 95,
   "id": "ebe98dff",
   "metadata": {},
   "outputs": [
    {
     "data": {
      "text/html": [
       "<div>\n",
       "<style scoped>\n",
       "    .dataframe tbody tr th:only-of-type {\n",
       "        vertical-align: middle;\n",
       "    }\n",
       "\n",
       "    .dataframe tbody tr th {\n",
       "        vertical-align: top;\n",
       "    }\n",
       "\n",
       "    .dataframe thead th {\n",
       "        text-align: right;\n",
       "    }\n",
       "</style>\n",
       "<table border=\"1\" class=\"dataframe\">\n",
       "  <thead>\n",
       "    <tr style=\"text-align: right;\">\n",
       "      <th></th>\n",
       "      <th>Pregnancies</th>\n",
       "      <th>Glucose</th>\n",
       "      <th>BloodPressure</th>\n",
       "      <th>SkinThickness</th>\n",
       "      <th>Insulin</th>\n",
       "      <th>BMI</th>\n",
       "      <th>DiabetesPedigreeFunction</th>\n",
       "      <th>Age</th>\n",
       "      <th>Outcome</th>\n",
       "    </tr>\n",
       "  </thead>\n",
       "  <tbody>\n",
       "    <tr>\n",
       "      <th>0</th>\n",
       "      <td>6</td>\n",
       "      <td>148</td>\n",
       "      <td>72</td>\n",
       "      <td>35</td>\n",
       "      <td>0</td>\n",
       "      <td>33.6</td>\n",
       "      <td>0.627</td>\n",
       "      <td>50</td>\n",
       "      <td>1</td>\n",
       "    </tr>\n",
       "    <tr>\n",
       "      <th>1</th>\n",
       "      <td>1</td>\n",
       "      <td>85</td>\n",
       "      <td>66</td>\n",
       "      <td>29</td>\n",
       "      <td>0</td>\n",
       "      <td>26.6</td>\n",
       "      <td>0.351</td>\n",
       "      <td>31</td>\n",
       "      <td>0</td>\n",
       "    </tr>\n",
       "    <tr>\n",
       "      <th>2</th>\n",
       "      <td>8</td>\n",
       "      <td>183</td>\n",
       "      <td>64</td>\n",
       "      <td>0</td>\n",
       "      <td>0</td>\n",
       "      <td>23.3</td>\n",
       "      <td>0.672</td>\n",
       "      <td>32</td>\n",
       "      <td>1</td>\n",
       "    </tr>\n",
       "    <tr>\n",
       "      <th>3</th>\n",
       "      <td>1</td>\n",
       "      <td>89</td>\n",
       "      <td>66</td>\n",
       "      <td>23</td>\n",
       "      <td>94</td>\n",
       "      <td>28.1</td>\n",
       "      <td>0.167</td>\n",
       "      <td>21</td>\n",
       "      <td>0</td>\n",
       "    </tr>\n",
       "    <tr>\n",
       "      <th>4</th>\n",
       "      <td>0</td>\n",
       "      <td>137</td>\n",
       "      <td>40</td>\n",
       "      <td>35</td>\n",
       "      <td>168</td>\n",
       "      <td>43.1</td>\n",
       "      <td>2.288</td>\n",
       "      <td>33</td>\n",
       "      <td>1</td>\n",
       "    </tr>\n",
       "    <tr>\n",
       "      <th>...</th>\n",
       "      <td>...</td>\n",
       "      <td>...</td>\n",
       "      <td>...</td>\n",
       "      <td>...</td>\n",
       "      <td>...</td>\n",
       "      <td>...</td>\n",
       "      <td>...</td>\n",
       "      <td>...</td>\n",
       "      <td>...</td>\n",
       "    </tr>\n",
       "    <tr>\n",
       "      <th>763</th>\n",
       "      <td>10</td>\n",
       "      <td>101</td>\n",
       "      <td>76</td>\n",
       "      <td>48</td>\n",
       "      <td>180</td>\n",
       "      <td>32.9</td>\n",
       "      <td>0.171</td>\n",
       "      <td>63</td>\n",
       "      <td>0</td>\n",
       "    </tr>\n",
       "    <tr>\n",
       "      <th>764</th>\n",
       "      <td>2</td>\n",
       "      <td>122</td>\n",
       "      <td>70</td>\n",
       "      <td>27</td>\n",
       "      <td>0</td>\n",
       "      <td>36.8</td>\n",
       "      <td>0.340</td>\n",
       "      <td>27</td>\n",
       "      <td>0</td>\n",
       "    </tr>\n",
       "    <tr>\n",
       "      <th>765</th>\n",
       "      <td>5</td>\n",
       "      <td>121</td>\n",
       "      <td>72</td>\n",
       "      <td>23</td>\n",
       "      <td>112</td>\n",
       "      <td>26.2</td>\n",
       "      <td>0.245</td>\n",
       "      <td>30</td>\n",
       "      <td>0</td>\n",
       "    </tr>\n",
       "    <tr>\n",
       "      <th>766</th>\n",
       "      <td>1</td>\n",
       "      <td>126</td>\n",
       "      <td>60</td>\n",
       "      <td>0</td>\n",
       "      <td>0</td>\n",
       "      <td>30.1</td>\n",
       "      <td>0.349</td>\n",
       "      <td>47</td>\n",
       "      <td>1</td>\n",
       "    </tr>\n",
       "    <tr>\n",
       "      <th>767</th>\n",
       "      <td>1</td>\n",
       "      <td>93</td>\n",
       "      <td>70</td>\n",
       "      <td>31</td>\n",
       "      <td>0</td>\n",
       "      <td>30.4</td>\n",
       "      <td>0.315</td>\n",
       "      <td>23</td>\n",
       "      <td>0</td>\n",
       "    </tr>\n",
       "  </tbody>\n",
       "</table>\n",
       "<p>768 rows × 9 columns</p>\n",
       "</div>"
      ],
      "text/plain": [
       "     Pregnancies  Glucose  BloodPressure  SkinThickness  Insulin   BMI  \\\n",
       "0              6      148             72             35        0  33.6   \n",
       "1              1       85             66             29        0  26.6   \n",
       "2              8      183             64              0        0  23.3   \n",
       "3              1       89             66             23       94  28.1   \n",
       "4              0      137             40             35      168  43.1   \n",
       "..           ...      ...            ...            ...      ...   ...   \n",
       "763           10      101             76             48      180  32.9   \n",
       "764            2      122             70             27        0  36.8   \n",
       "765            5      121             72             23      112  26.2   \n",
       "766            1      126             60              0        0  30.1   \n",
       "767            1       93             70             31        0  30.4   \n",
       "\n",
       "     DiabetesPedigreeFunction  Age  Outcome  \n",
       "0                       0.627   50        1  \n",
       "1                       0.351   31        0  \n",
       "2                       0.672   32        1  \n",
       "3                       0.167   21        0  \n",
       "4                       2.288   33        1  \n",
       "..                        ...  ...      ...  \n",
       "763                     0.171   63        0  \n",
       "764                     0.340   27        0  \n",
       "765                     0.245   30        0  \n",
       "766                     0.349   47        1  \n",
       "767                     0.315   23        0  \n",
       "\n",
       "[768 rows x 9 columns]"
      ]
     },
     "execution_count": 95,
     "metadata": {},
     "output_type": "execute_result"
    }
   ],
   "source": [
    "df = pd.read_csv('./dataset/diabetes.csv')\n",
    "df"
   ]
  },
  {
   "cell_type": "code",
   "execution_count": 33,
   "id": "8fe729e4",
   "metadata": {},
   "outputs": [
    {
     "data": {
      "text/plain": [
       "0    500\n",
       "1    268\n",
       "Name: Outcome, dtype: int64"
      ]
     },
     "execution_count": 33,
     "metadata": {},
     "output_type": "execute_result"
    }
   ],
   "source": [
    "df.Outcome.value_counts()"
   ]
  },
  {
   "cell_type": "code",
   "execution_count": 96,
   "id": "08317929",
   "metadata": {},
   "outputs": [
    {
     "name": "stdout",
     "output_type": "stream",
     "text": [
      "<class 'pandas.core.frame.DataFrame'>\n",
      "RangeIndex: 768 entries, 0 to 767\n",
      "Data columns (total 9 columns):\n",
      " #   Column                    Non-Null Count  Dtype  \n",
      "---  ------                    --------------  -----  \n",
      " 0   Pregnancies               768 non-null    int64  \n",
      " 1   Glucose                   768 non-null    int64  \n",
      " 2   BloodPressure             768 non-null    int64  \n",
      " 3   SkinThickness             768 non-null    int64  \n",
      " 4   Insulin                   768 non-null    int64  \n",
      " 5   BMI                       768 non-null    float64\n",
      " 6   DiabetesPedigreeFunction  768 non-null    float64\n",
      " 7   Age                       768 non-null    int64  \n",
      " 8   Outcome                   768 non-null    int64  \n",
      "dtypes: float64(2), int64(7)\n",
      "memory usage: 54.1 KB\n"
     ]
    }
   ],
   "source": [
    "df.info()"
   ]
  },
  {
   "cell_type": "code",
   "execution_count": 113,
   "id": "c7a6bfe5",
   "metadata": {},
   "outputs": [],
   "source": [
    "from sklearn.metrics import accuracy_score,precision_score,recall_score,confusion_matrix,f1_score,roc_auc_score\n",
    "from sklearn.metrics import roc_curve\n",
    "def get_clf_eval(y_test,pred=None,pred_proba=None):\n",
    "    confusion = confusion_matrix(y_test,pred)\n",
    "    accuracy = accuracy_score(y_test,pred)\n",
    "    precision = precision_score(y_test,pred)\n",
    "    recall = recall_score(y_test,pred)\n",
    "    f1 = f1_score(y_test,pred)\n",
    "    roc_auc = roc_auc_score(y_test,pred_proba)\n",
    "    print('오차행렬')\n",
    "    print(confusion)\n",
    "    print('정확도:{0:.4f},정밀도:{1:.4f},재현율:{2:.4f},f1:{3:.4f},rou_auc:{4:.4f}'.format(accuracy,precision,recall,f1,\n",
    "                                                                                   roc_auc))\n",
    "    "
   ]
  },
  {
   "cell_type": "code",
   "execution_count": 103,
   "id": "a79f7bf7",
   "metadata": {},
   "outputs": [
    {
     "name": "stdout",
     "output_type": "stream",
     "text": [
      "오차행렬\n",
      "[[89 11]\n",
      " [20 34]]\n",
      "정확도:0.7987,정밀도:0.7556,재현율:0.6296,f1:0.6869,rou_auc:0.8402\n"
     ]
    }
   ],
   "source": [
    "X = df.iloc[:, :-1]\n",
    "y = df.iloc[:, -1]\n",
    "#stratify : 지정한 Data의 비율을 유지한다\n",
    "X_train, X_test, y_train, y_test = train_test_split(X, y, test_size = 0.2, random_state = 156, stratify=y)\n",
    "\n",
    "# 로지스틱 회귀로 학습,예측 및 평가 수행. \n",
    "lr_clf = LogisticRegression()\n",
    "lr_clf.fit(X_train , y_train)\n",
    "pred = lr_clf.predict(X_test)\n",
    "pred_proba = lr_clf.predict_proba(X_test)[:, 1]\n",
    "\n",
    "get_clf_eval(y_test , pred, pred_proba)\n"
   ]
  },
  {
   "cell_type": "code",
   "execution_count": 98,
   "id": "6e44419d",
   "metadata": {},
   "outputs": [
    {
     "name": "stdout",
     "output_type": "stream",
     "text": [
      "[0.01673594 0.02178566 0.03586022 0.04204907 0.04523531 0.05199438\n",
      " 0.05476006 0.05805039 0.05811646 0.0655674  0.06594506 0.06623792\n",
      " 0.06752703 0.06794889 0.06815045 0.06948284 0.07473041 0.07987753\n",
      " 0.08305282 0.0848258  0.08554636 0.08960646 0.09016028 0.09203513\n",
      " 0.0968859  0.09993289 0.10165552 0.10231799 0.10245299 0.10302921\n",
      " 0.10485274 0.10781511 0.11170116 0.11280242 0.1214564  0.12719563\n",
      " 0.13035913 0.13511205 0.13719035 0.13987397 0.14005628 0.14212499\n",
      " 0.14397265 0.1510494  0.15173093 0.15494979 0.1556024  0.15878473\n",
      " 0.16083674 0.16302621 0.16519667 0.17038399 0.18055219 0.19513186\n",
      " 0.19731006 0.19943946 0.20077783 0.2038362  0.20550511 0.20675389\n",
      " 0.20836594 0.210814   0.21429429 0.22741392 0.23133813 0.23901508\n",
      " 0.25119413 0.2530158  0.2550398  0.26225378 0.26724    0.27296756\n",
      " 0.27899682 0.28099753 0.28335226 0.29485322 0.30148801 0.31266462\n",
      " 0.31510451 0.31557699 0.32401824 0.33028304 0.33911179 0.33977275\n",
      " 0.34285591 0.34348604 0.34912057 0.3505978  0.352274   0.35793953\n",
      " 0.36651717 0.36857108 0.37736802 0.378491   0.39401331 0.40583512\n",
      " 0.40653624 0.40684076 0.40817227 0.40913318 0.41045559 0.42976893\n",
      " 0.44640245 0.46234041 0.46234421 0.47090154 0.47187125 0.47866457\n",
      " 0.48977929 0.49417723 0.49881774 0.50464163 0.5223032  0.5310575\n",
      " 0.53284823 0.53477185 0.55664324 0.56011376 0.57071878 0.58835483\n",
      " 0.60811626 0.64476724 0.65039162 0.65561126 0.65748646 0.65913097\n",
      " 0.67454514 0.67825571 0.67847612 0.68432303 0.6962785  0.70462798\n",
      " 0.71106915 0.71797416 0.72072459 0.7344789  0.73927943 0.74408614\n",
      " 0.75384822 0.76025638 0.76151013 0.76237798 0.7668746  0.77349365\n",
      " 0.78506738 0.80784365 0.81178135 0.82619313 0.83344517 0.84770803\n",
      " 0.85504222 0.87838807 0.91768618 0.98963992]\n"
     ]
    },
    {
     "data": {
      "image/png": "[encoded data removed]",
      "text/plain": [
       "<Figure size 432x432 with 1 Axes>"
      ]
     },
     "metadata": {
      "needs_background": "light"
     },
     "output_type": "display_data"
    }
   ],
   "source": [
    "#전체 데이터의 65%가 negative => 재현율 성능에 초점\n",
    "pred_proba_c1 = lr_clf.predict_proba(X_test)[:,1]\n",
    "precision_recall_curve_plot(y_test,pred_proba_c1)\n",
    "# 임계값이 0.42정도에 어느 정도 균형을 맞춤\n",
    "#그러나 0.7도 안됨."
   ]
  },
  {
   "cell_type": "code",
   "execution_count": null,
   "id": "fe815727",
   "metadata": {},
   "outputs": [],
   "source": [
    "df.describe()"
   ]
  },
  {
   "cell_type": "code",
   "execution_count": 104,
   "id": "4c410916",
   "metadata": {},
   "outputs": [
    {
     "data": {
      "text/plain": [
       "(array([  4.,  19.,  87., 149., 166., 125.,  88.,  54.,  44.,  32.]),\n",
       " array([ 44. ,  59.5,  75. ,  90.5, 106. , 121.5, 137. , 152.5, 168. ,\n",
       "        183.5, 199. ]),\n",
       " <BarContainer object of 10 artists>)"
      ]
     },
     "execution_count": 104,
     "metadata": {},
     "output_type": "execute_result"
    },
    {
     "data": {
      "image/png": "[encoded data removed]",
      "text/plain": [
       "<Figure size 432x288 with 1 Axes>"
      ]
     },
     "metadata": {
      "needs_background": "light"
     },
     "output_type": "display_data"
    }
   ],
   "source": [
    "plt.hist(df['Glucose'],bins=10)"
   ]
  },
  {
   "cell_type": "code",
   "execution_count": 105,
   "id": "fdd14579",
   "metadata": {},
   "outputs": [
    {
     "name": "stdout",
     "output_type": "stream",
     "text": [
      "Glucose 0 건수는 0,퍼센트 0.00%\n",
      "BloodPressure 0 건수는 0,퍼센트 0.00%\n",
      "SkinThickness 0 건수는 0,퍼센트 0.00%\n",
      "Insulin 0 건수는 0,퍼센트 0.00%\n",
      "BMI 0 건수는 0,퍼센트 0.00%\n"
     ]
    }
   ],
   "source": [
    "#0값 검사할 컬럼\n",
    "zero = ['Glucose','BloodPressure','SkinThickness','Insulin','BMI']\n",
    "#전체 데이터 건수\n",
    "total_count = df['Glucose'].count()\n",
    "\n",
    "#컬럼별로 반복하면서 데이터 값이 0인 데이터 건수를 추출하고 퍼센트 계산\n",
    "for i in zero:\n",
    "    zero_count = df[df[i]==0][i].count()\n",
    "    print('{0} 0 건수는 {1},퍼센트 {2:.2f}%'.format(i,zero_count,100*zero_count/total_count))"
   ]
  },
  {
   "cell_type": "code",
   "execution_count": 107,
   "id": "57fc4f69",
   "metadata": {},
   "outputs": [
    {
     "data": {
      "text/plain": [
       "count    768.000000\n",
       "mean     121.681605\n",
       "std       30.436016\n",
       "min       44.000000\n",
       "25%       99.750000\n",
       "50%      117.000000\n",
       "75%      140.250000\n",
       "max      199.000000\n",
       "Name: Glucose, dtype: float64"
      ]
     },
     "execution_count": 107,
     "metadata": {},
     "output_type": "execute_result"
    }
   ],
   "source": [
    "mean_zero = df[zero].mean()\n",
    "df[zero] = df[zero].replace(0,mean_zero)\n",
    "df.Glucose.describe()  "
   ]
  },
  {
   "cell_type": "code",
   "execution_count": 115,
   "id": "e584c97c",
   "metadata": {},
   "outputs": [
    {
     "name": "stdout",
     "output_type": "stream",
     "text": [
      "오차행렬\n",
      "[[90 10]\n",
      " [21 33]]\n",
      "정확도:0.7987,정밀도:0.7674,재현율:0.6111,f1:0.6804,rou_auc:0.8433\n"
     ]
    }
   ],
   "source": [
    "from sklearn.preprocessing import StandardScaler\n",
    "X = df.iloc[:,:-1]\n",
    "y = df.iloc[:,-1]\n",
    "scaler = StandardScaler()\n",
    "X_scaled = scaler.fit_transform(X)\n",
    "\n",
    "X_train,X_test,y_train,y_test = train_test_split(X_scaled,y,test_size=0.2,random_state=156,stratify=y)\n",
    "\n",
    "lr_clf = LogisticRegression()\n",
    "lr_clf.fit(X_train,y_train)\n",
    "pred = lr_clf.predict(X_test)\n",
    "pred_proba = lr_clf.predict_proba(X_test)[:,1]\n",
    "get_clf_eval(y_test,pred,pred_proba)\n",
    "#재현율 수치 개선 여전히 필요해보임"
   ]
  },
  {
   "cell_type": "code",
   "execution_count": 110,
   "id": "9b0cd5b9",
   "metadata": {},
   "outputs": [
    {
     "ename": "IndexError",
     "evalue": "too many indices for array: array is 1-dimensional, but 2 were indexed",
     "output_type": "error",
     "traceback": [
      "\u001b[1;31m---------------------------------------------------------------------------\u001b[0m",
      "\u001b[1;31mIndexError\u001b[0m                                Traceback (most recent call last)",
      "\u001b[1;32m<ipython-input-110-75cb28282c4b>\u001b[0m in \u001b[0;36m<module>\u001b[1;34m\u001b[0m\n\u001b[0;32m      1\u001b[0m \u001b[1;32mfrom\u001b[0m \u001b[0msklearn\u001b[0m\u001b[1;33m.\u001b[0m\u001b[0mpreprocessing\u001b[0m \u001b[1;32mimport\u001b[0m \u001b[0mBinarizer\u001b[0m\u001b[1;33m\u001b[0m\u001b[1;33m\u001b[0m\u001b[0m\n\u001b[1;32m----> 2\u001b[1;33m \u001b[0mpred_proba_1\u001b[0m \u001b[1;33m=\u001b[0m \u001b[0mpred_proba\u001b[0m\u001b[1;33m[\u001b[0m\u001b[1;33m:\u001b[0m\u001b[1;33m,\u001b[0m\u001b[1;36m1\u001b[0m\u001b[1;33m]\u001b[0m\u001b[1;33m.\u001b[0m\u001b[0mreshape\u001b[0m\u001b[1;33m(\u001b[0m\u001b[1;33m-\u001b[0m\u001b[1;36m1\u001b[0m\u001b[1;33m,\u001b[0m\u001b[1;36m1\u001b[0m\u001b[1;33m)\u001b[0m\u001b[1;33m\u001b[0m\u001b[1;33m\u001b[0m\u001b[0m\n\u001b[0m\u001b[0;32m      3\u001b[0m \u001b[0mbinarizer\u001b[0m \u001b[1;33m=\u001b[0m \u001b[0mBinarizer\u001b[0m\u001b[1;33m(\u001b[0m\u001b[0mthreshold\u001b[0m\u001b[1;33m=\u001b[0m\u001b[0mcustom_threshold\u001b[0m\u001b[1;33m)\u001b[0m\u001b[1;33m.\u001b[0m\u001b[0mfit\u001b[0m\u001b[1;33m(\u001b[0m\u001b[0mpred_proba_1\u001b[0m\u001b[1;33m)\u001b[0m\u001b[1;33m\u001b[0m\u001b[1;33m\u001b[0m\u001b[0m\n\u001b[0;32m      4\u001b[0m \u001b[0mcustom_predict\u001b[0m\u001b[1;33m=\u001b[0m \u001b[0mbinarizer\u001b[0m\u001b[1;33m.\u001b[0m\u001b[0mtransform\u001b[0m\u001b[1;33m(\u001b[0m\u001b[0mpred_proba_1\u001b[0m\u001b[1;33m)\u001b[0m\u001b[1;33m\u001b[0m\u001b[1;33m\u001b[0m\u001b[0m\n\u001b[0;32m      5\u001b[0m \u001b[0mget_clf_eval\u001b[0m\u001b[1;33m(\u001b[0m\u001b[0my_test\u001b[0m\u001b[1;33m,\u001b[0m\u001b[0mcustom_predict\u001b[0m\u001b[1;33m)\u001b[0m\u001b[1;33m\u001b[0m\u001b[1;33m\u001b[0m\u001b[0m\n",
      "\u001b[1;31mIndexError\u001b[0m: too many indices for array: array is 1-dimensional, but 2 were indexed"
     ]
    }
   ],
   "source": [
    "from sklearn.preprocessing import Binarizer\n",
    "pred_proba_1 = pred_proba[:,1].reshape(-1,1)\n",
    "binarizer = Binarizer(threshold=custom_threshold).fit(pred_proba_1)\n",
    "custom_predict= binarizer.transform(pred_proba_1)\n",
    "get_clf_eval(y_test,custom_predict)"
   ]
  },
  {
   "cell_type": "code",
   "execution_count": 116,
   "id": "f78c9363",
   "metadata": {},
   "outputs": [],
   "source": [
    "def get_clf_eval(y_test,pred=None,pred_proba=None):\n",
    "    confusion = confusion_matrix(y_test,pred)\n",
    "    accuracy = accuracy_score(y_test,pred)\n",
    "    precision = precision_score(y_test,pred)\n",
    "    recall = recall_score(y_test,pred)\n",
    "    f1 = f1_score(y_test,pred)\n",
    "    roc_auc = roc_auc_score(y_test,pred_proba)\n",
    "    print('오차행렬')\n",
    "    print(confusion)\n",
    "    print('정확도:{0:.4f},정밀도:{1:.4f},재현율:{2:.4f},f1:{3:.4f},rou_auc:{4:.4f}'.format(accuracy,precision,recall,f1,\n",
    "                                                                                   roc_auc))"
   ]
  },
  {
   "cell_type": "code",
   "execution_count": 117,
   "id": "0285cffd",
   "metadata": {},
   "outputs": [
    {
     "ename": "IndexError",
     "evalue": "too many indices for array: array is 1-dimensional, but 2 were indexed",
     "output_type": "error",
     "traceback": [
      "\u001b[1;31m---------------------------------------------------------------------------\u001b[0m",
      "\u001b[1;31mIndexError\u001b[0m                                Traceback (most recent call last)",
      "\u001b[1;32m<ipython-input-117-e64ecf84a6bf>\u001b[0m in \u001b[0;36m<module>\u001b[1;34m\u001b[0m\n\u001b[0;32m      6\u001b[0m         \u001b[0mprint\u001b[0m\u001b[1;33m(\u001b[0m\u001b[1;34m'임계값:'\u001b[0m\u001b[1;33m,\u001b[0m \u001b[0mcustom_threshold\u001b[0m\u001b[1;33m)\u001b[0m\u001b[1;33m\u001b[0m\u001b[1;33m\u001b[0m\u001b[0m\n\u001b[0;32m      7\u001b[0m         \u001b[0mgef_clf_eval\u001b[0m\u001b[1;33m(\u001b[0m\u001b[0my_test\u001b[0m\u001b[1;33m,\u001b[0m\u001b[0mcustom_predict\u001b[0m\u001b[1;33m)\u001b[0m\u001b[1;33m\u001b[0m\u001b[1;33m\u001b[0m\u001b[0m\n\u001b[1;32m----> 8\u001b[1;33m \u001b[0mget_eval_by_threshold\u001b[0m\u001b[1;33m(\u001b[0m\u001b[0my_test\u001b[0m\u001b[1;33m,\u001b[0m\u001b[0mpred_proba\u001b[0m\u001b[1;33m[\u001b[0m\u001b[1;33m:\u001b[0m\u001b[1;33m,\u001b[0m\u001b[1;36m1\u001b[0m\u001b[1;33m]\u001b[0m\u001b[1;33m.\u001b[0m\u001b[0mreshape\u001b[0m\u001b[1;33m(\u001b[0m\u001b[1;33m-\u001b[0m\u001b[1;36m1\u001b[0m\u001b[1;33m,\u001b[0m\u001b[1;36m1\u001b[0m\u001b[1;33m)\u001b[0m\u001b[1;33m,\u001b[0m\u001b[0mthreshold\u001b[0m\u001b[1;33m)\u001b[0m\u001b[1;33m\u001b[0m\u001b[1;33m\u001b[0m\u001b[0m\n\u001b[0m\u001b[0;32m      9\u001b[0m \u001b[1;31m# get_clf_by_threshold(y_test,pred_proba_1,threshold)\u001b[0m\u001b[1;33m\u001b[0m\u001b[1;33m\u001b[0m\u001b[1;33m\u001b[0m\u001b[0m\n",
      "\u001b[1;31mIndexError\u001b[0m: too many indices for array: array is 1-dimensional, but 2 were indexed"
     ]
    }
   ],
   "source": [
    "threshold=[0.4,0.45,0.50,0.55,0.60]\n",
    "def get_eval_by_threshold(y_test,pred_proba_1,threshold):\n",
    "    for custom_threshold in threshold:\n",
    "        binarizer = Binarizer(threshold=custom_threshold).fit(pred_proba_1)\n",
    "        custom_predict = binarizer.transform(pred_proba_1)\n",
    "        print('임계값:', custom_threshold)\n",
    "        gef_clf_eval(y_test,custom_predict)\n",
    "get_eval_by_threshold(y_test,pred_proba[:,1].reshape(-1,1),threshold)\n",
    "# get_clf_by_threshold(y_test,pred_proba_1,threshold)"
   ]
  },
  {
   "cell_type": "code",
   "execution_count": 111,
   "id": "96ca565c",
   "metadata": {},
   "outputs": [
    {
     "ename": "NameError",
     "evalue": "name 'get_eval_by_threshold' is not defined",
     "output_type": "error",
     "traceback": [
      "\u001b[1;31m---------------------------------------------------------------------------\u001b[0m",
      "\u001b[1;31mNameError\u001b[0m                                 Traceback (most recent call last)",
      "\u001b[1;32m<ipython-input-111-360f797bc3dc>\u001b[0m in \u001b[0;36m<module>\u001b[1;34m\u001b[0m\n\u001b[0;32m      2\u001b[0m \u001b[0mthresholds\u001b[0m \u001b[1;33m=\u001b[0m \u001b[1;33m[\u001b[0m\u001b[1;36m0.3\u001b[0m \u001b[1;33m,\u001b[0m \u001b[1;36m0.33\u001b[0m \u001b[1;33m,\u001b[0m\u001b[1;36m0.36\u001b[0m\u001b[1;33m,\u001b[0m\u001b[1;36m0.39\u001b[0m\u001b[1;33m,\u001b[0m \u001b[1;36m0.42\u001b[0m \u001b[1;33m,\u001b[0m \u001b[1;36m0.45\u001b[0m \u001b[1;33m,\u001b[0m\u001b[1;36m0.48\u001b[0m\u001b[1;33m,\u001b[0m \u001b[1;36m0.50\u001b[0m\u001b[1;33m]\u001b[0m\u001b[1;33m\u001b[0m\u001b[1;33m\u001b[0m\u001b[0m\n\u001b[0;32m      3\u001b[0m \u001b[0mpred_proba\u001b[0m \u001b[1;33m=\u001b[0m \u001b[0mlr_clf\u001b[0m\u001b[1;33m.\u001b[0m\u001b[0mpredict_proba\u001b[0m\u001b[1;33m(\u001b[0m\u001b[0mX_test\u001b[0m\u001b[1;33m)\u001b[0m\u001b[1;33m\u001b[0m\u001b[1;33m\u001b[0m\u001b[0m\n\u001b[1;32m----> 4\u001b[1;33m \u001b[0mget_eval_by_threshold\u001b[0m\u001b[1;33m(\u001b[0m\u001b[0my_test\u001b[0m\u001b[1;33m,\u001b[0m \u001b[0mpred_proba\u001b[0m\u001b[1;33m[\u001b[0m\u001b[1;33m:\u001b[0m\u001b[1;33m,\u001b[0m\u001b[1;36m1\u001b[0m\u001b[1;33m]\u001b[0m\u001b[1;33m.\u001b[0m\u001b[0mreshape\u001b[0m\u001b[1;33m(\u001b[0m\u001b[1;33m-\u001b[0m\u001b[1;36m1\u001b[0m\u001b[1;33m,\u001b[0m\u001b[1;36m1\u001b[0m\u001b[1;33m)\u001b[0m\u001b[1;33m,\u001b[0m \u001b[0mthresholds\u001b[0m \u001b[1;33m)\u001b[0m\u001b[1;33m\u001b[0m\u001b[1;33m\u001b[0m\u001b[0m\n\u001b[0m",
      "\u001b[1;31mNameError\u001b[0m: name 'get_eval_by_threshold' is not defined"
     ]
    }
   ],
   "source": [
    "#predict_proba = > 데이터별로 예측 확률 \n",
    "thresholds = [0.3 , 0.33 ,0.36,0.39, 0.42 , 0.45 ,0.48, 0.50]\n",
    "pred_proba = lr_clf.predict_proba(X_test)\n",
    "get_eval_by_threshold(y_test, pred_proba[:,1].reshape(-1,1), thresholds )"
   ]
  },
  {
   "cell_type": "code",
   "execution_count": 118,
   "id": "82805095",
   "metadata": {},
   "outputs": [],
   "source": [
    "from sklearn.metrics import accuracy_score,precision_score,recall_score,confusion_matrix,f1_score\n",
    "#실제값과  y_test 예측값 pred\n",
    "def gef_clf_eval(y_test,pred=None,pred_proba=None):\n",
    "    confusion = confusion_matrix(y_test,pred)\n",
    "    accuracy = accuracy_score(y_test,pred)\n",
    "    precision =precision_score(y_test,pred)\n",
    "    recall = recall_score(y_test,pred)\n",
    "    f1 = f1_score(y_test,pred)\n",
    "    rou_auc = roc_auc_score(y_test,pred_proba)\n",
    "    print('오차행렬')\n",
    "    print(confusion)\n",
    "    print('정확도:{0:.4f},정밀도:{1:.4f},재현율:{2:.4f},f1_score:{3:.4f},rou_auc:{4:.4f}'.format(accuracy,precision,recall,f1,\n",
    "                                                                                       rou_auc))\n",
    "    "
   ]
  },
  {
   "cell_type": "code",
   "execution_count": 119,
   "id": "14485f1d",
   "metadata": {},
   "outputs": [
    {
     "ename": "IndexError",
     "evalue": "too many indices for array: array is 1-dimensional, but 2 were indexed",
     "output_type": "error",
     "traceback": [
      "\u001b[1;31m---------------------------------------------------------------------------\u001b[0m",
      "\u001b[1;31mIndexError\u001b[0m                                Traceback (most recent call last)",
      "\u001b[1;32m<ipython-input-119-3b6e1c1a2f8c>\u001b[0m in \u001b[0;36m<module>\u001b[1;34m\u001b[0m\n\u001b[0;32m      1\u001b[0m \u001b[0mbinarizer\u001b[0m \u001b[1;33m=\u001b[0m \u001b[0mBinarizer\u001b[0m\u001b[1;33m(\u001b[0m\u001b[0mthreshold\u001b[0m\u001b[1;33m=\u001b[0m\u001b[1;36m0.48\u001b[0m\u001b[1;33m)\u001b[0m\u001b[1;33m\u001b[0m\u001b[1;33m\u001b[0m\u001b[0m\n\u001b[0;32m      2\u001b[0m \u001b[1;33m\u001b[0m\u001b[0m\n\u001b[1;32m----> 3\u001b[1;33m \u001b[0mpred_th_048\u001b[0m\u001b[1;33m=\u001b[0m \u001b[0mbinarizer\u001b[0m\u001b[1;33m.\u001b[0m\u001b[0mfit_transform\u001b[0m\u001b[1;33m(\u001b[0m\u001b[0mpred_proba\u001b[0m\u001b[1;33m[\u001b[0m\u001b[1;33m:\u001b[0m\u001b[1;33m,\u001b[0m\u001b[1;36m1\u001b[0m\u001b[1;33m]\u001b[0m\u001b[1;33m.\u001b[0m\u001b[0mreshape\u001b[0m\u001b[1;33m(\u001b[0m\u001b[1;33m-\u001b[0m\u001b[1;36m1\u001b[0m\u001b[1;33m,\u001b[0m\u001b[1;36m1\u001b[0m\u001b[1;33m)\u001b[0m\u001b[1;33m)\u001b[0m\u001b[1;33m\u001b[0m\u001b[1;33m\u001b[0m\u001b[0m\n\u001b[0m\u001b[0;32m      4\u001b[0m \u001b[0mgef_clf_eval\u001b[0m\u001b[1;33m(\u001b[0m\u001b[0my_test\u001b[0m\u001b[1;33m,\u001b[0m\u001b[0mpred_th_048\u001b[0m\u001b[1;33m,\u001b[0m\u001b[0mpred_proba\u001b[0m\u001b[1;33m[\u001b[0m\u001b[1;33m:\u001b[0m\u001b[1;33m,\u001b[0m\u001b[1;36m1\u001b[0m\u001b[1;33m]\u001b[0m\u001b[1;33m)\u001b[0m\u001b[1;33m\u001b[0m\u001b[1;33m\u001b[0m\u001b[0m\n",
      "\u001b[1;31mIndexError\u001b[0m: too many indices for array: array is 1-dimensional, but 2 were indexed"
     ]
    }
   ],
   "source": [
    "binarizer = Binarizer(threshold=0.48)\n",
    "\n",
    "pred_th_048= binarizer.fit_transform(pred_proba[:,1].reshape(-1,1))\n",
    "gef_clf_eval(y_test,pred_th_048,pred_proba[:,1])"
   ]
  },
  {
   "cell_type": "markdown",
   "id": "0bbde799",
   "metadata": {},
   "source": [
    "[과제] train.csv 파일을 불러와서 분류모델링 평가를 아래와 같이 수행하세요.\n",
    "- dt 모델을 적용하고 GridSearchCV를 사용, 교차검증과 성능 개선을 위한 하이퍼파라미터 튜닝\n",
    "- accuracy에 추가하여 confusion matrix, accuracy, precision, recall, roc auc score 평가\n"
   ]
  },
  {
   "cell_type": "code",
   "execution_count": 48,
   "id": "63cd8727",
   "metadata": {},
   "outputs": [
    {
     "data": {
      "text/html": [
       "<div>\n",
       "<style scoped>\n",
       "    .dataframe tbody tr th:only-of-type {\n",
       "        vertical-align: middle;\n",
       "    }\n",
       "\n",
       "    .dataframe tbody tr th {\n",
       "        vertical-align: top;\n",
       "    }\n",
       "\n",
       "    .dataframe thead th {\n",
       "        text-align: right;\n",
       "    }\n",
       "</style>\n",
       "<table border=\"1\" class=\"dataframe\">\n",
       "  <thead>\n",
       "    <tr style=\"text-align: right;\">\n",
       "      <th></th>\n",
       "      <th>PassengerId</th>\n",
       "      <th>Survived</th>\n",
       "      <th>Pclass</th>\n",
       "      <th>Name</th>\n",
       "      <th>Sex</th>\n",
       "      <th>Age</th>\n",
       "      <th>SibSp</th>\n",
       "      <th>Parch</th>\n",
       "      <th>Ticket</th>\n",
       "      <th>Fare</th>\n",
       "      <th>Cabin</th>\n",
       "      <th>Embarked</th>\n",
       "    </tr>\n",
       "  </thead>\n",
       "  <tbody>\n",
       "    <tr>\n",
       "      <th>0</th>\n",
       "      <td>1</td>\n",
       "      <td>0</td>\n",
       "      <td>3</td>\n",
       "      <td>Braund, Mr. Owen Harris</td>\n",
       "      <td>male</td>\n",
       "      <td>22.0</td>\n",
       "      <td>1</td>\n",
       "      <td>0</td>\n",
       "      <td>A/5 21171</td>\n",
       "      <td>7.2500</td>\n",
       "      <td>NaN</td>\n",
       "      <td>S</td>\n",
       "    </tr>\n",
       "    <tr>\n",
       "      <th>1</th>\n",
       "      <td>2</td>\n",
       "      <td>1</td>\n",
       "      <td>1</td>\n",
       "      <td>Cumings, Mrs. John Bradley (Florence Briggs Th...</td>\n",
       "      <td>female</td>\n",
       "      <td>38.0</td>\n",
       "      <td>1</td>\n",
       "      <td>0</td>\n",
       "      <td>PC 17599</td>\n",
       "      <td>71.2833</td>\n",
       "      <td>C85</td>\n",
       "      <td>C</td>\n",
       "    </tr>\n",
       "    <tr>\n",
       "      <th>2</th>\n",
       "      <td>3</td>\n",
       "      <td>1</td>\n",
       "      <td>3</td>\n",
       "      <td>Heikkinen, Miss. Laina</td>\n",
       "      <td>female</td>\n",
       "      <td>26.0</td>\n",
       "      <td>0</td>\n",
       "      <td>0</td>\n",
       "      <td>STON/O2. 3101282</td>\n",
       "      <td>7.9250</td>\n",
       "      <td>NaN</td>\n",
       "      <td>S</td>\n",
       "    </tr>\n",
       "    <tr>\n",
       "      <th>3</th>\n",
       "      <td>4</td>\n",
       "      <td>1</td>\n",
       "      <td>1</td>\n",
       "      <td>Futrelle, Mrs. Jacques Heath (Lily May Peel)</td>\n",
       "      <td>female</td>\n",
       "      <td>35.0</td>\n",
       "      <td>1</td>\n",
       "      <td>0</td>\n",
       "      <td>113803</td>\n",
       "      <td>53.1000</td>\n",
       "      <td>C123</td>\n",
       "      <td>S</td>\n",
       "    </tr>\n",
       "    <tr>\n",
       "      <th>4</th>\n",
       "      <td>5</td>\n",
       "      <td>0</td>\n",
       "      <td>3</td>\n",
       "      <td>Allen, Mr. William Henry</td>\n",
       "      <td>male</td>\n",
       "      <td>35.0</td>\n",
       "      <td>0</td>\n",
       "      <td>0</td>\n",
       "      <td>373450</td>\n",
       "      <td>8.0500</td>\n",
       "      <td>NaN</td>\n",
       "      <td>S</td>\n",
       "    </tr>\n",
       "  </tbody>\n",
       "</table>\n",
       "</div>"
      ],
      "text/plain": [
       "   PassengerId  Survived  Pclass  \\\n",
       "0            1         0       3   \n",
       "1            2         1       1   \n",
       "2            3         1       3   \n",
       "3            4         1       1   \n",
       "4            5         0       3   \n",
       "\n",
       "                                                Name     Sex   Age  SibSp  \\\n",
       "0                            Braund, Mr. Owen Harris    male  22.0      1   \n",
       "1  Cumings, Mrs. John Bradley (Florence Briggs Th...  female  38.0      1   \n",
       "2                             Heikkinen, Miss. Laina  female  26.0      0   \n",
       "3       Futrelle, Mrs. Jacques Heath (Lily May Peel)  female  35.0      1   \n",
       "4                           Allen, Mr. William Henry    male  35.0      0   \n",
       "\n",
       "   Parch            Ticket     Fare Cabin Embarked  \n",
       "0      0         A/5 21171   7.2500   NaN        S  \n",
       "1      0          PC 17599  71.2833   C85        C  \n",
       "2      0  STON/O2. 3101282   7.9250   NaN        S  \n",
       "3      0            113803  53.1000  C123        S  \n",
       "4      0            373450   8.0500   NaN        S  "
      ]
     },
     "execution_count": 48,
     "metadata": {},
     "output_type": "execute_result"
    }
   ],
   "source": [
    "tdf = pd.read_csv('../m6_머신러닝알고리즘및이해활용/dataset/train.csv')\n",
    "tdf.head()"
   ]
  },
  {
   "cell_type": "code",
   "execution_count": 49,
   "id": "9b7bb634",
   "metadata": {},
   "outputs": [],
   "source": [
    "tdf = pd.read_csv('../m6_머신러닝알고리즘및이해활용/dataset/train.csv')\n",
    "y_titanic_df =tdf['Survived']\n",
    "X_titanic_df= tdf.drop('Survived',axis=1)"
   ]
  },
  {
   "cell_type": "code",
   "execution_count": 50,
   "id": "259b10da",
   "metadata": {},
   "outputs": [],
   "source": [
    "import re\n",
    "from sklearn.preprocessing import LabelEncoder\n",
    "from sklearn.preprocessing import MinMaxScaler\n",
    "\n",
    "\n",
    "\n",
    "def fillnas(df):\n",
    "    def callname(x):\n",
    "        m = re.compile('[A-Za-z]+[.]')\n",
    "        p = re.findall(m,x)\n",
    "        return p[0]\n",
    "    \n",
    "    df['Callname']=df.Name.apply(lambda x:callname(x))\n",
    "    \n",
    "    df1 = df.loc[df.Age.isnull()]\n",
    "    age_nulllist = list(set(df1.Callname.values.tolist()))\n",
    "    \n",
    "    df2 = df.loc[df.Age.notnull()]\n",
    "    pivot = pd.pivot_table(df2, index = 'Callname', values = 'Age',aggfunc = 'mean')\n",
    "    \n",
    "    for age in age_nulllist:\n",
    "        df.loc[(df.Age.isnull())&(df.Callname == age),['Age']]=(pivot.loc[age][0])\n",
    "        \n",
    "    df['Embarked'].fillna(method = 'ffill',inplace=True)\n",
    "    \n",
    "    df3 = df.loc[df.Cabin.notnull()]\n",
    "\n",
    "    df3['Cabins'] = df3['Cabin'].str[:1]\n",
    "    df4 = df.loc[df.Cabin.isnull()]\n",
    "    \n",
    "    for i in range(1,4):\n",
    "        df33 = df3.loc[df3.Pclass == i]\n",
    "        cabin_fill_list=list(set(df33.Cabins.values.tolist()))\n",
    "        df44 = df4.loc[df4.Pclass == i]\n",
    "        fill_index = list(df44.index)\n",
    "        for index in fill_index:\n",
    "            df.loc[index,'Cabin'] = np.random.choice(cabin_fill_list)\n",
    "            \n",
    "    return df\n",
    "\n",
    "# 불필요 항목 제거\n",
    "def drop_feat(df):\n",
    "    df.drop(['PassengerId','Name','Ticket','Callname'],axis=1,inplace = True)\n",
    "    return df\n",
    "\n",
    "def format_features(df):\n",
    "    df['Cabin'] = df['Cabin'].str[:1]\n",
    "    features = ['Cabin','Sex','Embarked']\n",
    "    for feature in features:\n",
    "        le = LabelEncoder()\n",
    "        le = le.fit(df[feature])\n",
    "        df[feature] = le.transform(df[feature])\n",
    "    scaler = MinMaxScaler()\n",
    "    scaler.fit(df[['Fare']])\n",
    "    fare_scaled = scaler.transform(df[['Fare']])\n",
    "    df['Fare'] = fare_scaled\n",
    "    \n",
    "    return df\n",
    "\n",
    "def transform_features(df):\n",
    "    df = fillnas(df)\n",
    "    df = drop_feat(df)\n",
    "    df = format_features(df)\n",
    "    return df"
   ]
  },
  {
   "cell_type": "code",
   "execution_count": 51,
   "id": "76a7db90",
   "metadata": {},
   "outputs": [],
   "source": [
    "import numpy as np\n",
    "titanic_df = pd.read_csv('../m6_머신러닝알고리즘및이해활용/dataset/train.csv')\n",
    "y_titanic_df = titanic_df['Survived']\n",
    "X_titanic_df= titanic_df.drop('Survived', axis=1)\n",
    "X_titanic_df = transform_features(X_titanic_df)\n",
    "X_train, X_test, y_train, y_test=train_test_split(X_titanic_df, y_titanic_df, \\\n",
    "                                                  test_size=0.2, random_state=0)\n"
   ]
  },
  {
   "cell_type": "code",
   "execution_count": 54,
   "id": "b00aa3a8",
   "metadata": {},
   "outputs": [
    {
     "name": "stdout",
     "output_type": "stream",
     "text": [
      "GridSearchCV 최적 파라미터 {'max_depth': 5, 'min_samples_leaf': 1, 'min_samples_split': 5}\n",
      "GridSearchCV 최고 정확도 0.8202206244459764\n",
      "정확도: 0.8212290502793296\n"
     ]
    }
   ],
   "source": [
    "import pandas as pd\n",
    "from sklearn.metrics import accuracy_score\n",
    "from sklearn.tree import DecisionTreeClassifier\n",
    "from sklearn.model_selection import GridSearchCV\n",
    "                                               \n",
    "dtree= DecisionTreeClassifier(random_state=11)\n",
    "parameters = {'max_depth':[2,3,5,8], 'min_samples_split':[2,3,5],'min_samples_leaf':[1,5,8]}\n",
    "grid_cv =GridSearchCV(dtree,param_grid =parameters,scoring='accuracy',cv=5,refit=True)\n",
    "grid_cv.fit(X_train,y_train)\n",
    "print('GridSearchCV 최적 파라미터',grid_cv.best_params_)\n",
    "print('GridSearchCV 최고 정확도',grid_cv.best_score_)\n",
    "best_cv = grid_cv.best_estimator_\n",
    "pred = best_cv.predict(X_test)\n",
    "print('정확도:',accuracy_score(y_test,pred))\n",
    "# pd.DataFrame(grid_dtree.cv_results_)"
   ]
  },
  {
   "cell_type": "code",
   "execution_count": 68,
   "id": "638fab13",
   "metadata": {},
   "outputs": [],
   "source": [
    "from sklearn.metrics import accuracy_score,precision_score,recall_score,confusion_matrix,f1_score,roc_auc_score\n",
    "from sklearn.metrics import roc_curve\n",
    "def get_clf_eval(y_test,pred=None,pred_proba=None):\n",
    "    confusion = confusion_matrix(y_test,pred)\n",
    "    accuracy = accuracy_score(y_test,pred)\n",
    "    precision = precision_score(y_test,pred)\n",
    "    recall = recall_score(y_test,pred)\n",
    "    f1 = f1_score(y_test,pred)\n",
    "    roc_auc = roc_auc_score(y_test,pred_proba)\n",
    "    print('오차행렬')\n",
    "    print(confusion)\n",
    "    print('정확도:{0:.4f},정밀도:{1:.4f},재현율:{2:.4f},f1:{3:.4f},rou_auc:{4:.4f}'.format(accuracy,precision,recall,f1,\n",
    "                                                                                   roc_auc))\n"
   ]
  },
  {
   "cell_type": "code",
   "execution_count": 70,
   "id": "c7b839cc",
   "metadata": {},
   "outputs": [
    {
     "ename": "ValueError",
     "evalue": "Found input variables with inconsistent numbers of samples: [179, 154]",
     "output_type": "error",
     "traceback": [
      "\u001b[1;31m---------------------------------------------------------------------------\u001b[0m",
      "\u001b[1;31mValueError\u001b[0m                                Traceback (most recent call last)",
      "\u001b[1;32m<ipython-input-70-a14b21ca2132>\u001b[0m in \u001b[0;36m<module>\u001b[1;34m\u001b[0m\n\u001b[0;32m     15\u001b[0m \u001b[0mlr_clf\u001b[0m\u001b[1;33m.\u001b[0m\u001b[0mfit\u001b[0m\u001b[1;33m(\u001b[0m\u001b[0mX_train\u001b[0m\u001b[1;33m,\u001b[0m\u001b[0my_train\u001b[0m\u001b[1;33m)\u001b[0m\u001b[1;33m\u001b[0m\u001b[1;33m\u001b[0m\u001b[0m\n\u001b[0;32m     16\u001b[0m \u001b[0mpred\u001b[0m\u001b[1;33m=\u001b[0m \u001b[0mlr_clf\u001b[0m\u001b[1;33m.\u001b[0m\u001b[0mpredict\u001b[0m\u001b[1;33m(\u001b[0m\u001b[0mX_test\u001b[0m\u001b[1;33m)\u001b[0m\u001b[1;33m\u001b[0m\u001b[1;33m\u001b[0m\u001b[0m\n\u001b[1;32m---> 17\u001b[1;33m \u001b[0mget_clf_eval\u001b[0m\u001b[1;33m(\u001b[0m\u001b[0my_test\u001b[0m\u001b[1;33m,\u001b[0m\u001b[0mpred\u001b[0m\u001b[1;33m,\u001b[0m\u001b[0mpred_proba\u001b[0m\u001b[1;33m)\u001b[0m\u001b[1;33m\u001b[0m\u001b[1;33m\u001b[0m\u001b[0m\n\u001b[0m",
      "\u001b[1;32m<ipython-input-68-40a28ea69a44>\u001b[0m in \u001b[0;36mget_clf_eval\u001b[1;34m(y_test, pred, pred_proba)\u001b[0m\n\u001b[0;32m      7\u001b[0m     \u001b[0mrecall\u001b[0m \u001b[1;33m=\u001b[0m \u001b[0mrecall_score\u001b[0m\u001b[1;33m(\u001b[0m\u001b[0my_test\u001b[0m\u001b[1;33m,\u001b[0m\u001b[0mpred\u001b[0m\u001b[1;33m)\u001b[0m\u001b[1;33m\u001b[0m\u001b[1;33m\u001b[0m\u001b[0m\n\u001b[0;32m      8\u001b[0m     \u001b[0mf1\u001b[0m \u001b[1;33m=\u001b[0m \u001b[0mf1_score\u001b[0m\u001b[1;33m(\u001b[0m\u001b[0my_test\u001b[0m\u001b[1;33m,\u001b[0m\u001b[0mpred\u001b[0m\u001b[1;33m)\u001b[0m\u001b[1;33m\u001b[0m\u001b[1;33m\u001b[0m\u001b[0m\n\u001b[1;32m----> 9\u001b[1;33m     \u001b[0mroc_auc\u001b[0m \u001b[1;33m=\u001b[0m \u001b[0mroc_auc_score\u001b[0m\u001b[1;33m(\u001b[0m\u001b[0my_test\u001b[0m\u001b[1;33m,\u001b[0m\u001b[0mpred_proba\u001b[0m\u001b[1;33m)\u001b[0m\u001b[1;33m\u001b[0m\u001b[1;33m\u001b[0m\u001b[0m\n\u001b[0m\u001b[0;32m     10\u001b[0m     \u001b[0mprint\u001b[0m\u001b[1;33m(\u001b[0m\u001b[1;34m'오차행렬'\u001b[0m\u001b[1;33m)\u001b[0m\u001b[1;33m\u001b[0m\u001b[1;33m\u001b[0m\u001b[0m\n\u001b[0;32m     11\u001b[0m     \u001b[0mprint\u001b[0m\u001b[1;33m(\u001b[0m\u001b[0mconfusion\u001b[0m\u001b[1;33m)\u001b[0m\u001b[1;33m\u001b[0m\u001b[1;33m\u001b[0m\u001b[0m\n",
      "\u001b[1;32m~\\anaconda3\\lib\\site-packages\\sklearn\\utils\\validation.py\u001b[0m in \u001b[0;36minner_f\u001b[1;34m(*args, **kwargs)\u001b[0m\n\u001b[0;32m     61\u001b[0m             \u001b[0mextra_args\u001b[0m \u001b[1;33m=\u001b[0m \u001b[0mlen\u001b[0m\u001b[1;33m(\u001b[0m\u001b[0margs\u001b[0m\u001b[1;33m)\u001b[0m \u001b[1;33m-\u001b[0m \u001b[0mlen\u001b[0m\u001b[1;33m(\u001b[0m\u001b[0mall_args\u001b[0m\u001b[1;33m)\u001b[0m\u001b[1;33m\u001b[0m\u001b[1;33m\u001b[0m\u001b[0m\n\u001b[0;32m     62\u001b[0m             \u001b[1;32mif\u001b[0m \u001b[0mextra_args\u001b[0m \u001b[1;33m<=\u001b[0m \u001b[1;36m0\u001b[0m\u001b[1;33m:\u001b[0m\u001b[1;33m\u001b[0m\u001b[1;33m\u001b[0m\u001b[0m\n\u001b[1;32m---> 63\u001b[1;33m                 \u001b[1;32mreturn\u001b[0m \u001b[0mf\u001b[0m\u001b[1;33m(\u001b[0m\u001b[1;33m*\u001b[0m\u001b[0margs\u001b[0m\u001b[1;33m,\u001b[0m \u001b[1;33m**\u001b[0m\u001b[0mkwargs\u001b[0m\u001b[1;33m)\u001b[0m\u001b[1;33m\u001b[0m\u001b[1;33m\u001b[0m\u001b[0m\n\u001b[0m\u001b[0;32m     64\u001b[0m \u001b[1;33m\u001b[0m\u001b[0m\n\u001b[0;32m     65\u001b[0m             \u001b[1;31m# extra_args > 0\u001b[0m\u001b[1;33m\u001b[0m\u001b[1;33m\u001b[0m\u001b[1;33m\u001b[0m\u001b[0m\n",
      "\u001b[1;32m~\\anaconda3\\lib\\site-packages\\sklearn\\metrics\\_ranking.py\u001b[0m in \u001b[0;36mroc_auc_score\u001b[1;34m(y_true, y_score, average, sample_weight, max_fpr, multi_class, labels)\u001b[0m\n\u001b[0;32m    540\u001b[0m         \u001b[0mlabels\u001b[0m \u001b[1;33m=\u001b[0m \u001b[0mnp\u001b[0m\u001b[1;33m.\u001b[0m\u001b[0munique\u001b[0m\u001b[1;33m(\u001b[0m\u001b[0my_true\u001b[0m\u001b[1;33m)\u001b[0m\u001b[1;33m\u001b[0m\u001b[1;33m\u001b[0m\u001b[0m\n\u001b[0;32m    541\u001b[0m         \u001b[0my_true\u001b[0m \u001b[1;33m=\u001b[0m \u001b[0mlabel_binarize\u001b[0m\u001b[1;33m(\u001b[0m\u001b[0my_true\u001b[0m\u001b[1;33m,\u001b[0m \u001b[0mclasses\u001b[0m\u001b[1;33m=\u001b[0m\u001b[0mlabels\u001b[0m\u001b[1;33m)\u001b[0m\u001b[1;33m[\u001b[0m\u001b[1;33m:\u001b[0m\u001b[1;33m,\u001b[0m \u001b[1;36m0\u001b[0m\u001b[1;33m]\u001b[0m\u001b[1;33m\u001b[0m\u001b[1;33m\u001b[0m\u001b[0m\n\u001b[1;32m--> 542\u001b[1;33m         return _average_binary_score(partial(_binary_roc_auc_score,\n\u001b[0m\u001b[0;32m    543\u001b[0m                                              max_fpr=max_fpr),\n\u001b[0;32m    544\u001b[0m                                      \u001b[0my_true\u001b[0m\u001b[1;33m,\u001b[0m \u001b[0my_score\u001b[0m\u001b[1;33m,\u001b[0m \u001b[0maverage\u001b[0m\u001b[1;33m,\u001b[0m\u001b[1;33m\u001b[0m\u001b[1;33m\u001b[0m\u001b[0m\n",
      "\u001b[1;32m~\\anaconda3\\lib\\site-packages\\sklearn\\metrics\\_base.py\u001b[0m in \u001b[0;36m_average_binary_score\u001b[1;34m(binary_metric, y_true, y_score, average, sample_weight)\u001b[0m\n\u001b[0;32m     75\u001b[0m \u001b[1;33m\u001b[0m\u001b[0m\n\u001b[0;32m     76\u001b[0m     \u001b[1;32mif\u001b[0m \u001b[0my_type\u001b[0m \u001b[1;33m==\u001b[0m \u001b[1;34m\"binary\"\u001b[0m\u001b[1;33m:\u001b[0m\u001b[1;33m\u001b[0m\u001b[1;33m\u001b[0m\u001b[0m\n\u001b[1;32m---> 77\u001b[1;33m         \u001b[1;32mreturn\u001b[0m \u001b[0mbinary_metric\u001b[0m\u001b[1;33m(\u001b[0m\u001b[0my_true\u001b[0m\u001b[1;33m,\u001b[0m \u001b[0my_score\u001b[0m\u001b[1;33m,\u001b[0m \u001b[0msample_weight\u001b[0m\u001b[1;33m=\u001b[0m\u001b[0msample_weight\u001b[0m\u001b[1;33m)\u001b[0m\u001b[1;33m\u001b[0m\u001b[1;33m\u001b[0m\u001b[0m\n\u001b[0m\u001b[0;32m     78\u001b[0m \u001b[1;33m\u001b[0m\u001b[0m\n\u001b[0;32m     79\u001b[0m     \u001b[0mcheck_consistent_length\u001b[0m\u001b[1;33m(\u001b[0m\u001b[0my_true\u001b[0m\u001b[1;33m,\u001b[0m \u001b[0my_score\u001b[0m\u001b[1;33m,\u001b[0m \u001b[0msample_weight\u001b[0m\u001b[1;33m)\u001b[0m\u001b[1;33m\u001b[0m\u001b[1;33m\u001b[0m\u001b[0m\n",
      "\u001b[1;32m~\\anaconda3\\lib\\site-packages\\sklearn\\metrics\\_ranking.py\u001b[0m in \u001b[0;36m_binary_roc_auc_score\u001b[1;34m(y_true, y_score, sample_weight, max_fpr)\u001b[0m\n\u001b[0;32m    328\u001b[0m                          \"is not defined in that case.\")\n\u001b[0;32m    329\u001b[0m \u001b[1;33m\u001b[0m\u001b[0m\n\u001b[1;32m--> 330\u001b[1;33m     fpr, tpr, _ = roc_curve(y_true, y_score,\n\u001b[0m\u001b[0;32m    331\u001b[0m                             sample_weight=sample_weight)\n\u001b[0;32m    332\u001b[0m     \u001b[1;32mif\u001b[0m \u001b[0mmax_fpr\u001b[0m \u001b[1;32mis\u001b[0m \u001b[1;32mNone\u001b[0m \u001b[1;32mor\u001b[0m \u001b[0mmax_fpr\u001b[0m \u001b[1;33m==\u001b[0m \u001b[1;36m1\u001b[0m\u001b[1;33m:\u001b[0m\u001b[1;33m\u001b[0m\u001b[1;33m\u001b[0m\u001b[0m\n",
      "\u001b[1;32m~\\anaconda3\\lib\\site-packages\\sklearn\\utils\\validation.py\u001b[0m in \u001b[0;36minner_f\u001b[1;34m(*args, **kwargs)\u001b[0m\n\u001b[0;32m     61\u001b[0m             \u001b[0mextra_args\u001b[0m \u001b[1;33m=\u001b[0m \u001b[0mlen\u001b[0m\u001b[1;33m(\u001b[0m\u001b[0margs\u001b[0m\u001b[1;33m)\u001b[0m \u001b[1;33m-\u001b[0m \u001b[0mlen\u001b[0m\u001b[1;33m(\u001b[0m\u001b[0mall_args\u001b[0m\u001b[1;33m)\u001b[0m\u001b[1;33m\u001b[0m\u001b[1;33m\u001b[0m\u001b[0m\n\u001b[0;32m     62\u001b[0m             \u001b[1;32mif\u001b[0m \u001b[0mextra_args\u001b[0m \u001b[1;33m<=\u001b[0m \u001b[1;36m0\u001b[0m\u001b[1;33m:\u001b[0m\u001b[1;33m\u001b[0m\u001b[1;33m\u001b[0m\u001b[0m\n\u001b[1;32m---> 63\u001b[1;33m                 \u001b[1;32mreturn\u001b[0m \u001b[0mf\u001b[0m\u001b[1;33m(\u001b[0m\u001b[1;33m*\u001b[0m\u001b[0margs\u001b[0m\u001b[1;33m,\u001b[0m \u001b[1;33m**\u001b[0m\u001b[0mkwargs\u001b[0m\u001b[1;33m)\u001b[0m\u001b[1;33m\u001b[0m\u001b[1;33m\u001b[0m\u001b[0m\n\u001b[0m\u001b[0;32m     64\u001b[0m \u001b[1;33m\u001b[0m\u001b[0m\n\u001b[0;32m     65\u001b[0m             \u001b[1;31m# extra_args > 0\u001b[0m\u001b[1;33m\u001b[0m\u001b[1;33m\u001b[0m\u001b[1;33m\u001b[0m\u001b[0m\n",
      "\u001b[1;32m~\\anaconda3\\lib\\site-packages\\sklearn\\metrics\\_ranking.py\u001b[0m in \u001b[0;36mroc_curve\u001b[1;34m(y_true, y_score, pos_label, sample_weight, drop_intermediate)\u001b[0m\n\u001b[0;32m    911\u001b[0m \u001b[1;33m\u001b[0m\u001b[0m\n\u001b[0;32m    912\u001b[0m     \"\"\"\n\u001b[1;32m--> 913\u001b[1;33m     fps, tps, thresholds = _binary_clf_curve(\n\u001b[0m\u001b[0;32m    914\u001b[0m         y_true, y_score, pos_label=pos_label, sample_weight=sample_weight)\n\u001b[0;32m    915\u001b[0m \u001b[1;33m\u001b[0m\u001b[0m\n",
      "\u001b[1;32m~\\anaconda3\\lib\\site-packages\\sklearn\\metrics\\_ranking.py\u001b[0m in \u001b[0;36m_binary_clf_curve\u001b[1;34m(y_true, y_score, pos_label, sample_weight)\u001b[0m\n\u001b[0;32m    691\u001b[0m         \u001b[1;32mraise\u001b[0m \u001b[0mValueError\u001b[0m\u001b[1;33m(\u001b[0m\u001b[1;34m\"{0} format is not supported\"\u001b[0m\u001b[1;33m.\u001b[0m\u001b[0mformat\u001b[0m\u001b[1;33m(\u001b[0m\u001b[0my_type\u001b[0m\u001b[1;33m)\u001b[0m\u001b[1;33m)\u001b[0m\u001b[1;33m\u001b[0m\u001b[1;33m\u001b[0m\u001b[0m\n\u001b[0;32m    692\u001b[0m \u001b[1;33m\u001b[0m\u001b[0m\n\u001b[1;32m--> 693\u001b[1;33m     \u001b[0mcheck_consistent_length\u001b[0m\u001b[1;33m(\u001b[0m\u001b[0my_true\u001b[0m\u001b[1;33m,\u001b[0m \u001b[0my_score\u001b[0m\u001b[1;33m,\u001b[0m \u001b[0msample_weight\u001b[0m\u001b[1;33m)\u001b[0m\u001b[1;33m\u001b[0m\u001b[1;33m\u001b[0m\u001b[0m\n\u001b[0m\u001b[0;32m    694\u001b[0m     \u001b[0my_true\u001b[0m \u001b[1;33m=\u001b[0m \u001b[0mcolumn_or_1d\u001b[0m\u001b[1;33m(\u001b[0m\u001b[0my_true\u001b[0m\u001b[1;33m)\u001b[0m\u001b[1;33m\u001b[0m\u001b[1;33m\u001b[0m\u001b[0m\n\u001b[0;32m    695\u001b[0m     \u001b[0my_score\u001b[0m \u001b[1;33m=\u001b[0m \u001b[0mcolumn_or_1d\u001b[0m\u001b[1;33m(\u001b[0m\u001b[0my_score\u001b[0m\u001b[1;33m)\u001b[0m\u001b[1;33m\u001b[0m\u001b[1;33m\u001b[0m\u001b[0m\n",
      "\u001b[1;32m~\\anaconda3\\lib\\site-packages\\sklearn\\utils\\validation.py\u001b[0m in \u001b[0;36mcheck_consistent_length\u001b[1;34m(*arrays)\u001b[0m\n\u001b[0;32m    260\u001b[0m     \u001b[0muniques\u001b[0m \u001b[1;33m=\u001b[0m \u001b[0mnp\u001b[0m\u001b[1;33m.\u001b[0m\u001b[0munique\u001b[0m\u001b[1;33m(\u001b[0m\u001b[0mlengths\u001b[0m\u001b[1;33m)\u001b[0m\u001b[1;33m\u001b[0m\u001b[1;33m\u001b[0m\u001b[0m\n\u001b[0;32m    261\u001b[0m     \u001b[1;32mif\u001b[0m \u001b[0mlen\u001b[0m\u001b[1;33m(\u001b[0m\u001b[0muniques\u001b[0m\u001b[1;33m)\u001b[0m \u001b[1;33m>\u001b[0m \u001b[1;36m1\u001b[0m\u001b[1;33m:\u001b[0m\u001b[1;33m\u001b[0m\u001b[1;33m\u001b[0m\u001b[0m\n\u001b[1;32m--> 262\u001b[1;33m         raise ValueError(\"Found input variables with inconsistent numbers of\"\n\u001b[0m\u001b[0;32m    263\u001b[0m                          \" samples: %r\" % [int(l) for l in lengths])\n\u001b[0;32m    264\u001b[0m \u001b[1;33m\u001b[0m\u001b[0m\n",
      "\u001b[1;31mValueError\u001b[0m: Found input variables with inconsistent numbers of samples: [179, 154]"
     ]
    }
   ],
   "source": [
    "import pandas as pd\n",
    "from sklearn.model_selection import train_test_split\n",
    "from sklearn.linear_model import LogisticRegression\n",
    "import warnings\n",
    "warnings.filterwarnings('ignore')\n",
    "\n",
    "t_df = pd.read_csv('../m6_머신러닝알고리즘및이해활용/dataset/train.csv')\n",
    "y_t_df= t_df['Survived']\n",
    "X_t_df = t_df.drop('Survived',axis=1)\n",
    "X_t_df = transform_features(X_t_df)\n",
    "\n",
    "X_train,X_test,y_train,y_test = train_test_split(X_t_df,y_t_df,test_size=0.2,random_state=11)\n",
    "lr_clf=LogisticRegression()\n",
    "\n",
    "lr_clf.fit(X_train,y_train)\n",
    "pred= lr_clf.predict(X_test)\n",
    "get_clf_eval(y_test,pred,pred_proba)\n"
   ]
  },
  {
   "cell_type": "code",
   "execution_count": null,
   "id": "3f9836ce",
   "metadata": {},
   "outputs": [],
   "source": [
    "임계값 낮추면 양성 예측 많 TPR FPR변동하는데 그걸 곡선으로 표현한 것"
   ]
  }
 ],
 "metadata": {
  "kernelspec": {
   "display_name": "Python 3 (ipykernel)",
   "language": "python",
   "name": "python3"
  },
  "language_info": {
   "codemirror_mode": {
    "name": "ipython",
    "version": 3
   },
   "file_extension": ".py",
   "mimetype": "text/x-python",
   "name": "python",
   "nbconvert_exporter": "python",
   "pygments_lexer": "ipython3",
   "version": "3.9.7"
  }
 },
 "nbformat": 4,
 "nbformat_minor": 5
}

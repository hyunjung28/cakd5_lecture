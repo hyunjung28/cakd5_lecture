{
 "cells": [
  {
   "cell_type": "code",
   "execution_count": 1,
   "id": "bd225d80",
   "metadata": {},
   "outputs": [
    {
     "name": "stdout",
     "output_type": "stream",
     "text": [
      "HI\n"
     ]
    }
   ],
   "source": [
    "# 입력값이 없고 결과값만 있는 함수\n",
    "def say():\n",
    "    return 'HI'\n",
    "\n",
    "a = say()\n",
    "print(a)"
   ]
  },
  {
   "cell_type": "code",
   "execution_count": 2,
   "id": "d5e21f3a",
   "metadata": {},
   "outputs": [
    {
     "name": "stdout",
     "output_type": "stream",
     "text": [
      "3, 4의 합은 7입니다.\n"
     ]
    }
   ],
   "source": [
    "# 입력값은 있고 결과값이 없는 함수\n",
    "# 결과값은 오직 return 명령어로만 돌려 받을 수 있음\n",
    "def add(a,b):\n",
    "    print('%d, %d의 합은 %d입니다.' %(a,b,a+b))\n",
    "add(3,4)"
   ]
  },
  {
   "cell_type": "code",
   "execution_count": 3,
   "id": "edee1d4d",
   "metadata": {},
   "outputs": [
    {
     "name": "stdout",
     "output_type": "stream",
     "text": [
      "Hi\n"
     ]
    }
   ],
   "source": [
    "# 입력값도 결과값도 없는 함수\n",
    "\n",
    "def say():\n",
    "    print('Hi')\n",
    "    \n",
    "say()"
   ]
  },
  {
   "cell_type": "code",
   "execution_count": 4,
   "id": "c42f50d7",
   "metadata": {},
   "outputs": [
    {
     "data": {
      "text/plain": [
       "30"
      ]
     },
     "execution_count": 4,
     "metadata": {},
     "output_type": "execute_result"
    }
   ],
   "source": [
    "# 입력값, 결과값이 모두 있는 함수\n",
    "def max(a,b,c):\n",
    "    if a>b:\n",
    "        if a>c:\n",
    "            return a\n",
    "        elif a<c:\n",
    "            return c\n",
    "    if a<b:\n",
    "        if b>c:\n",
    "            return b\n",
    "        else:\n",
    "            return c\n",
    "\n",
    "# print(\"가장 큰 수는 %d입니다.\" %(max(20,1,30)))\n",
    "max(10,20,30)"
   ]
  },
  {
   "cell_type": "code",
   "execution_count": 5,
   "id": "94ea1d7f",
   "metadata": {},
   "outputs": [
    {
     "data": {
      "text/plain": [
       "5"
      ]
     },
     "execution_count": 5,
     "metadata": {},
     "output_type": "execute_result"
    }
   ],
   "source": [
    "def math(x, y, z):\n",
    "    if z == '*':\n",
    "        return x*y\n",
    "    elif z== '/':\n",
    "        return x/y\n",
    "    elif z== '+':\n",
    "        return x+y\n",
    "    elif z== '%':\n",
    "        return x%y\n",
    "    elif z== '^':\n",
    "        return x**y\n",
    "    elif z== '-':\n",
    "        return x-y\n",
    "    elif z== '//':\n",
    "        return x//y\n",
    "    else:\n",
    "        return\n",
    "\n",
    "# print(math(int(input(\"숫자1 : \")), int(input(\"숫자2 : \")), input(\"기호 : \")))\n",
    "math(10,2,'//')\n"
   ]
  },
  {
   "cell_type": "code",
   "execution_count": 6,
   "id": "80754094",
   "metadata": {},
   "outputs": [
    {
     "data": {
      "text/plain": [
       "'3 equal 3'"
      ]
     },
     "execution_count": 6,
     "metadata": {},
     "output_type": "execute_result"
    }
   ],
   "source": [
    "def com(a,b):\n",
    "    if a>b:\n",
    "        return f'{a} bigger than {b}'\n",
    "    elif a<b:\n",
    "        return f'{a} smaller than {b}'\n",
    "    else:\n",
    "        return f'{a} equal {b}'\n",
    "com(3,3)"
   ]
  },
  {
   "cell_type": "code",
   "execution_count": 7,
   "id": "05a1c086",
   "metadata": {},
   "outputs": [
    {
     "data": {
      "text/plain": [
       "55"
      ]
     },
     "execution_count": 7,
     "metadata": {},
     "output_type": "execute_result"
    }
   ],
   "source": [
    "# 여러 개의 입력값을 받는 함수 만들기\n",
    "# *args 처럼 입력 변수명 앞에 *를 붙이면 입력값들을 전부 모아서 튜플로 만들어 줌\n",
    "\n",
    "def add_many(*args):\n",
    "    add = 0\n",
    "    for i in args:\n",
    "        add += i\n",
    "    return add\n",
    "\n",
    "add_many(1,2,3,4,5,6,7,8,9,10)"
   ]
  },
  {
   "cell_type": "code",
   "execution_count": 8,
   "id": "a937fc65",
   "metadata": {},
   "outputs": [
    {
     "name": "stdout",
     "output_type": "stream",
     "text": [
      "(7, 12)\n"
     ]
    }
   ],
   "source": [
    "# 함수의 반환 값은 언제나 하나임 - 결과 값으로 튜플 값 하나를 갖게 됨\n",
    "def add_and_mul(a,b):\n",
    "    return a+b, a*b\n",
    "\n",
    "result = add_and_mul(3,4)\n",
    "print(result)"
   ]
  },
  {
   "cell_type": "code",
   "execution_count": 9,
   "id": "50a0e5da",
   "metadata": {},
   "outputs": [
    {
     "ename": "IndentationError",
     "evalue": "expected an indented block (Temp/ipykernel_5240/3252160549.py, line 6)",
     "output_type": "error",
     "traceback": [
      "\u001b[1;36m  File \u001b[1;32m\"C:\\Users\\admin\\AppData\\Local\\Temp/ipykernel_5240/3252160549.py\"\u001b[1;36m, line \u001b[1;32m6\u001b[0m\n\u001b[1;33m    add_mul('add', 1,2,3,4,5)\u001b[0m\n\u001b[1;37m          ^\u001b[0m\n\u001b[1;31mIndentationError\u001b[0m\u001b[1;31m:\u001b[0m expected an indented block\n"
     ]
    }
   ],
   "source": [
    "# add_mul() 함수를 정의하여 1,2,3,4,5를 입력 값으로 적용하여 \n",
    "#덧셈,곱셈 연산을 수행하세요.\n",
    "def add_mul(choice, *args):\n",
    "    \n",
    "    \n",
    "add_mul('add', 1,2,3,4,5)"
   ]
  },
  {
   "cell_type": "code",
   "execution_count": null,
   "id": "9ad9173e",
   "metadata": {},
   "outputs": [],
   "source": [
    "def add_mul(choice, *args):\n",
    "    if choice == '+':\n",
    "        result = 0\n",
    "        for i in args:\n",
    "            result += i\n",
    "        return result\n",
    "    elif choice == '*':\n",
    "        result = 1\n",
    "        for i in args:\n",
    "            result *= i\n",
    "        return result\n",
    "    else :\n",
    "        print('수행할 수 없는 연산입니다.')\n",
    "\n",
    "add_mul('*',1,2,3,4,5)\n",
    "add_mul('+',1,2,3,4,5)"
   ]
  },
  {
   "cell_type": "code",
   "execution_count": null,
   "id": "2ce87cb2",
   "metadata": {},
   "outputs": [],
   "source": [
    "# [과제] 뻴셈, 나눗셈 멀티 계산 함수를 작성\n",
    "# ('sub', 2,4,6,8,10)\n",
    "# ('div', 2,4,6,8,10)"
   ]
  },
  {
   "cell_type": "code",
   "execution_count": null,
   "id": "96c7cb60",
   "metadata": {},
   "outputs": [],
   "source": [
    "def sub_div (choice, *args) :\n",
    "    if choice == \"sub\":\n",
    "        result = args[0]\n",
    "        for i in args : \n",
    "            result -= i\n",
    "        return result\n",
    "    elif choice == 'div':\n",
    "        result = args[0]*args[0]\n",
    "        for i in args :\n",
    "            if i == 0:\n",
    "                return print(\"오류\")\n",
    "            result /= i\n",
    "        return result \n",
    "\n",
    "print(sub_div('sub', 2,4,6,8,10))\n",
    "print(sub_div('div', 2,4,6,8,10))\n"
   ]
  },
  {
   "cell_type": "code",
   "execution_count": null,
   "id": "da8561f2",
   "metadata": {},
   "outputs": [],
   "source": [
    "def sub_div(math, *args):\n",
    "    re_sub=args[0]\n",
    "    re_div=args[0]\n",
    "    if math=='sub':\n",
    "        for i in range(len(args)-1):\n",
    "            re_sub-=args[i+1]\n",
    "        return re_sub\n",
    "    elif math=='div':\n",
    "        for i in range(len(args)-1):\n",
    "            re_div/=args[i+1]\n",
    "        return re_div\n",
    "    else:\n",
    "        return f'not defined expression'\n",
    "print(sub_div('sub',2,4,6,8,10))\n",
    "print(sub_div('div',2,4,6,8,10))\n"
   ]
  },
  {
   "cell_type": "code",
   "execution_count": null,
   "id": "c3e97406",
   "metadata": {
    "scrolled": true
   },
   "outputs": [],
   "source": [
    "#함수 안에서 선언된 변수의 효력 범위\n",
    "a = 1 #함수 밖에서 선언했잖아, ㅎ함수 안에서 어떤 효력있을까\n",
    "def vartest (a):\n",
    "    a = a + 1\n",
    "\n",
    "print(vartest(a))\n",
    "#NONE이 나오는데 그 이유는 왜 그럴까용가리\n",
    "print(a)"
   ]
  },
  {
   "cell_type": "code",
   "execution_count": null,
   "id": "44790c07",
   "metadata": {},
   "outputs": [],
   "source": [
    "# 함수 안에서 함수 밖의 변수를 변경하는 방법 -  return\n",
    "# 입력값과 결과값 모두 존재\n",
    "a = 1\n",
    "def vartest(a):   # a라는  input 이 있짢아 결과를 무조건 return으로 추출한다고\n",
    "    a = a+1\n",
    "    return a \n",
    "a = vartest(a)   \n",
    "print(a)"
   ]
  },
  {
   "cell_type": "code",
   "execution_count": null,
   "id": "ef4917db",
   "metadata": {},
   "outputs": [],
   "source": [
    "# global  명령을 이용하는 방법\n",
    "# 입력값과 결과값 모두 미존재\n",
    "\n",
    "a = 1\n",
    "def vartest():    \n",
    "    global a \n",
    "    a = a + 1\n",
    "    \n",
    "vartest()\n",
    "print(a)\n"
   ]
  },
  {
   "cell_type": "code",
   "execution_count": null,
   "id": "6958c606",
   "metadata": {},
   "outputs": [],
   "source": [
    "# 파일 읽고쓰기 \n",
    "f = open('test1.txt','w') #읽을 땐 R, 추가할 땐 A\n",
    "f.close()"
   ]
  },
  {
   "cell_type": "code",
   "execution_count": null,
   "id": "a6773130",
   "metadata": {},
   "outputs": [],
   "source": [
    "%pwd"
   ]
  },
  {
   "cell_type": "code",
   "execution_count": null,
   "id": "8a4bf351",
   "metadata": {},
   "outputs": [],
   "source": [
    "!dir"
   ]
  },
  {
   "cell_type": "code",
   "execution_count": null,
   "id": "b4baca9b",
   "metadata": {},
   "outputs": [],
   "source": [
    "f = open('test1.txt','w')\n",
    "for i in range(1,11):\n",
    "    data='%d번째 줄입니다.\\n' %i \n",
    "    f.write(data)\n",
    "f.close()"
   ]
  },
  {
   "cell_type": "code",
   "execution_count": null,
   "id": "1bb7a2c0",
   "metadata": {},
   "outputs": [],
   "source": [
    "f = open('test1.txt','r')\n",
    "line =  f.readline() #한줄씩 읽음\n",
    "print(line)\n",
    "f.close()"
   ]
  },
  {
   "cell_type": "code",
   "execution_count": null,
   "id": "6324909d",
   "metadata": {},
   "outputs": [],
   "source": [
    "f=open('test1.txt','r')\n",
    "for i in range(1,11):   #몇 개인지 알고있을 때 \n",
    "    line=f.readline()\n",
    "    print(line)\n",
    "f.close()\n"
   ]
  },
  {
   "cell_type": "code",
   "execution_count": null,
   "id": "070e928a",
   "metadata": {},
   "outputs": [],
   "source": [
    "#안에 몇개인지 모를 때\n",
    "\n",
    "f = open(\"test1.txt\", 'r')\n",
    "while True:\n",
    "    line = f.readline()\n",
    "    if not line: break\n",
    "    print(line)\n",
    "f.close()"
   ]
  },
  {
   "cell_type": "code",
   "execution_count": null,
   "id": "f737aec2",
   "metadata": {},
   "outputs": [],
   "source": [
    "f = open('test1.txt','r')\n",
    "line = f.read()\n",
    "print(line)\n",
    "f.close()\n"
   ]
  },
  {
   "cell_type": "code",
   "execution_count": null,
   "id": "d79fce67",
   "metadata": {},
   "outputs": [],
   "source": [
    "# f. read()는 파일 내용전체를 문자열로 반환\n",
    "f = open ('test1.txt','r')\n",
    "data = f.read()\n",
    "print(data)\n",
    "f.close()"
   ]
  },
  {
   "cell_type": "code",
   "execution_count": null,
   "id": "26f41040",
   "metadata": {},
   "outputs": [],
   "source": [
    "#f.add( )는 기존에 있는걸 유지하면서 거기다 추가하려고 할 때 add 사용\n",
    "f=open('test1.txt','a')\n",
    "for i in range(11,16) :\n",
    "    data = '%d번째 줄입니다.\\n'%i\n",
    "    f.write(data)\n",
    "f.close()"
   ]
  },
  {
   "cell_type": "code",
   "execution_count": null,
   "id": "2c4a3210",
   "metadata": {},
   "outputs": [],
   "source": [
    "f=open('test1.txt','r')\n",
    "data=f.read()\n",
    "print(data)\n",
    "f.close()"
   ]
  },
  {
   "cell_type": "code",
   "execution_count": null,
   "id": "2973a556",
   "metadata": {},
   "outputs": [],
   "source": [
    "f= open('test1.txt','r')\n",
    "data=f.read()\n",
    "print(data)\n",
    "f.close()"
   ]
  },
  {
   "cell_type": "code",
   "execution_count": null,
   "id": "f39f68ef",
   "metadata": {},
   "outputs": [],
   "source": [
    "#with 문과 함께 사용\n",
    "\n",
    "with open('foo.txt','w') as f:\n",
    "    f.write('파이썬을 배웁시다')"
   ]
  },
  {
   "cell_type": "code",
   "execution_count": null,
   "id": "47e47e21",
   "metadata": {},
   "outputs": [],
   "source": [
    "with open('foo.txt','r') as f:\n",
    "    data = f.read()\n",
    "    print(data)"
   ]
  },
  {
   "cell_type": "code",
   "execution_count": null,
   "id": "bc9676e1",
   "metadata": {},
   "outputs": [],
   "source": [
    "with open('test1.txt','w') as f:\n",
    "    for i in range(1,11):\n",
    "        data =f'{i}번째 줄입니다\\n'\n",
    "        f.write(data)\n",
    "        print(data)"
   ]
  },
  {
   "cell_type": "code",
   "execution_count": null,
   "id": "2263d5c9",
   "metadata": {},
   "outputs": [],
   "source": [
    "f= open('test1.txt','r')\n",
    "data=f.read()\n",
    "print(data)\n",
    "f.close()"
   ]
  },
  {
   "cell_type": "code",
   "execution_count": null,
   "id": "fca347eb",
   "metadata": {},
   "outputs": [],
   "source": [
    "f =opne('test1.txt','r') as f:\n",
    "    data=f.read()\n",
    "    print(data)\n",
    "f.clsoe()"
   ]
  },
  {
   "cell_type": "code",
   "execution_count": null,
   "id": "8d5bc24c",
   "metadata": {},
   "outputs": [],
   "source": [
    "with open('test1.txt','a') as f:\n",
    "    for i in range(11,16):\n",
    "        data= f'{i}번째 줄입니다.\\n'\n",
    "        f.write(data)"
   ]
  },
  {
   "cell_type": "code",
   "execution_count": null,
   "id": "d4eb063a",
   "metadata": {},
   "outputs": [],
   "source": [
    "with open ('test1.txt','r')as f :\n",
    "    data=f.read()\n",
    "    print(data)"
   ]
  },
  {
   "cell_type": "code",
   "execution_count": null,
   "id": "d5498554",
   "metadata": {},
   "outputs": [],
   "source": [
    "with open('test1.txt','r')as f:\n",
    "    for i in range(1,16):\n",
    "        data = f'{i}번째 줄입니다.\\n'\n",
    "        f.write(data)\n",
    "        print(data)"
   ]
  },
  {
   "cell_type": "code",
   "execution_count": null,
   "id": "c87c9e7e",
   "metadata": {},
   "outputs": [],
   "source": [
    "#내장함수             #숫자에 0은 항상 false야\n",
    "print(abs(-3))\n",
    "print(all([1,2,3,0])) # x가 모두 참이면 true, 거짓이 하나라도 있으면 False. \n",
    "print(any([1,2,3,0]))  # x가 하나라도 참이면 true, 모두 거짓이면 False. \n",
    "print(chr(97))                     \n",
    "#유닛이나 아스키 코드가 왜 필요해\n",
    "-> 문자를 통일하려고?\n",
    "컴퓨터는 숫자로만 처리되잫아 0,1 그러니깐 65이런 건 2진수로 처리되잖아\n",
    "그래서 숫자로 바꿔주는거야 \n"
   ]
  },
  {
   "cell_type": "code",
   "execution_count": null,
   "id": "ba8c0b57",
   "metadata": {},
   "outputs": [],
   "source": [
    "print(abs(-5))\n",
    "print(any([1,3,4]))"
   ]
  },
  {
   "cell_type": "code",
   "execution_count": null,
   "id": "d59e4dd3",
   "metadata": {},
   "outputs": [],
   "source": [
    "#lambda 사용자함수라고 생각하면 돼\n",
    "sum = lambda a,b :a+b\n",
    "sum(3,4)"
   ]
  },
  {
   "cell_type": "code",
   "execution_count": null,
   "id": "b158d4ab",
   "metadata": {},
   "outputs": [],
   "source": [
    "myList = [lambda a,b:a+b, lambda a,b: a*b] # 0번쨰, 1번쨰\n",
    "print(myList[0](3,4))\n",
    "print(myList[1](3,4))"
   ]
  },
  {
   "cell_type": "code",
   "execution_count": null,
   "id": "752d09fb",
   "metadata": {},
   "outputs": [],
   "source": [
    "print(len('python'))\n",
    "print(len([1,2,3]))\n",
    "print(len([1,2,'a']))"
   ]
  },
  {
   "cell_type": "code",
   "execution_count": null,
   "id": "c97f51e1",
   "metadata": {},
   "outputs": [],
   "source": [
    "list(range(5))\n",
    "print(list(range(5)))\n",
    "list(range(1,6))\n",
    "list(range(1,10,2))\n",
    "list(range(0,-10, -1))"
   ]
  },
  {
   "cell_type": "code",
   "execution_count": null,
   "id": "04608d6a",
   "metadata": {},
   "outputs": [],
   "source": [
    "print(divmod(7,3))"
   ]
  },
  {
   "cell_type": "code",
   "execution_count": null,
   "id": "b385aa1a",
   "metadata": {},
   "outputs": [],
   "source": [
    "# 인덱스랑 요소랑 같이나옴\n",
    "#순서가 있는 자료형을 입력으로 받아 인덱스 값을 포함한  enumerate 객체를 리턴\n",
    "for i, name in enumerate (['james','tom','susan']) :  \n",
    "    print(i,name)      "
   ]
  },
  {
   "cell_type": "code",
   "execution_count": null,
   "id": "77271760",
   "metadata": {},
   "outputs": [],
   "source": [
    "#실행가능한 문자열 입력으로 받아 문자열을 실행한 결과값을리턴\n",
    "print(eval('1+2'))"
   ]
  },
  {
   "cell_type": "code",
   "execution_count": null,
   "id": "6b1c226e",
   "metadata": {},
   "outputs": [],
   "source": [
    "li = [0,1,2,3,5,4]\n",
    "li.sort()\n",
    "li\n",
    "li.reverse()\n",
    "li\n",
    "li.sort(reverse=True)\n",
    "li"
   ]
  },
  {
   "cell_type": "code",
   "execution_count": null,
   "id": "5050542e",
   "metadata": {},
   "outputs": [],
   "source": [
    "#정렬된 결과를 반환하는 함수는 본체는 변형되지 않는다.\n",
    "li = [0,2,1,5,4]\n",
    "s = sorted(li)\n",
    "print(s)\n",
    "#li에서 sorted 한 걸 별도로 저장하면 그냥 li것은 살아있음\n",
    "li"
   ]
  },
  {
   "cell_type": "code",
   "execution_count": null,
   "id": "05217ddd",
   "metadata": {},
   "outputs": [],
   "source": [
    "#외장함수: 전 세계 파이썬 사용자들이 만든 유용한 프로그램을 모아 놓은 파이썬\n",
    "#라이브러리, 파이썬을 설치할 때 자동으로 설치가 됨, 그래서  install안하고\n",
    "#input으로 사용가능\n",
    "\n",
    "#pickle 은 객체 형태를 유지하면서 파일에 저장하고 불러올 수 있게 하는 모듈\n",
    "#text하고 반대된 거 바이너리, 메모리가 적게 먹는다는 장점, 우리가 읽을 순 없음\n",
    "import pickle\n",
    "f = open('test.txt','wb')  # write인데 바이너리 타입쓴다해서 wb\n",
    "data={1:'python',2:'you need'}\n",
    "pickle.dump(data,f)\n",
    "f.close()"
   ]
  },
  {
   "cell_type": "code",
   "execution_count": null,
   "id": "8b135d38",
   "metadata": {},
   "outputs": [],
   "source": [
    "import pickle \n",
    "f = open('test.txt','rb')\n",
    "data= pickle.load(f)\n",
    "print(data)\n",
    "f.close()"
   ]
  },
  {
   "cell_type": "code",
   "execution_count": null,
   "id": "a3b5b1e5",
   "metadata": {},
   "outputs": [],
   "source": [
    "import os #operate system\n",
    "os.environ['PATH']"
   ]
  },
  {
   "cell_type": "code",
   "execution_count": null,
   "id": "8e6d724c",
   "metadata": {},
   "outputs": [],
   "source": [
    "#폴더변경 \n",
    "os.chdir('C:\\cakd5\\workspace\\m1_programming')  #바꿀 폴더주소를 입력"
   ]
  },
  {
   "cell_type": "code",
   "execution_count": null,
   "id": "e52f8b75",
   "metadata": {
    "scrolled": true
   },
   "outputs": [],
   "source": [
    "%pwd"
   ]
  },
  {
   "cell_type": "code",
   "execution_count": null,
   "id": "2805cd0a",
   "metadata": {},
   "outputs": [],
   "source": [
    "#현재폴더\n",
    "os.getcwd()  "
   ]
  },
  {
   "cell_type": "code",
   "execution_count": null,
   "id": "4edf417f",
   "metadata": {},
   "outputs": [],
   "source": [
    "#현재 드라이브 보는 거 \n",
    "!dir"
   ]
  },
  {
   "cell_type": "code",
   "execution_count": null,
   "id": "27720526",
   "metadata": {},
   "outputs": [],
   "source": [
    "#파일명 변경\n",
    "\n",
    "import os\n",
    "os.rename('test1.txt','test_new.txt')"
   ]
  },
  {
   "cell_type": "code",
   "execution_count": null,
   "id": "72d9d836",
   "metadata": {},
   "outputs": [],
   "source": [
    "#glob() 함수는 인자로 받은 패턴과 이름이 일치하는 모든 파일과 디렉토리의 \n",
    "#리스트를 반환\n",
    "\n",
    "import glob\n",
    "glob.glob('C:\\cakd5\\workspace\\m1_programming/test*.*')"
   ]
  },
  {
   "cell_type": "code",
   "execution_count": null,
   "id": "17ca7de3",
   "metadata": {},
   "outputs": [],
   "source": [
    "import glob\n",
    "glob.glob('C:\\cakd5\\workspace\\m1_programming/*.txt')"
   ]
  },
  {
   "cell_type": "code",
   "execution_count": null,
   "id": "787e20b3",
   "metadata": {},
   "outputs": [],
   "source": [
    "import time \n",
    "time.time()\n",
    "now()"
   ]
  },
  {
   "cell_type": "code",
   "execution_count": null,
   "id": "a55a2f74",
   "metadata": {},
   "outputs": [],
   "source": [
    "time.localtime(time.time())"
   ]
  },
  {
   "cell_type": "code",
   "execution_count": null,
   "id": "1f9ebb30",
   "metadata": {},
   "outputs": [],
   "source": [
    "time.asctime(time.localtime(time.time()))"
   ]
  },
  {
   "cell_type": "code",
   "execution_count": null,
   "id": "903b66e1",
   "metadata": {
    "scrolled": true
   },
   "outputs": [],
   "source": [
    "#time.sleep() : 일정한 시간 간격을 주고 루프를 실행할 수 있음\n",
    "\n",
    "import time\n",
    "for i in range(10):\n",
    "    print(i)\n",
    "    time.sleep(2)\n"
   ]
  },
  {
   "cell_type": "code",
   "execution_count": null,
   "id": "1dfb8855",
   "metadata": {},
   "outputs": [],
   "source": [
    "import calendar\n",
    "print(calendar.prmonth(2022,1))"
   ]
  },
  {
   "cell_type": "code",
   "execution_count": null,
   "id": "8325fd98",
   "metadata": {},
   "outputs": [],
   "source": [
    "#요일(0 월요일 ~6 일요일)\n",
    "print(calendar.weekday(2021,12,31))"
   ]
  },
  {
   "cell_type": "code",
   "execution_count": null,
   "id": "7ad49bd0",
   "metadata": {},
   "outputs": [],
   "source": [
    "#1일의 요일, 날수 -  금요일 31일\n",
    "calendar.monthrange(2022,1)"
   ]
  },
  {
   "cell_type": "code",
   "execution_count": null,
   "id": "187f0685",
   "metadata": {},
   "outputs": [],
   "source": [
    "import webbrowser\n",
    "webbrowser.open('http://google.com')"
   ]
  },
  {
   "cell_type": "code",
   "execution_count": null,
   "id": "625765e6",
   "metadata": {},
   "outputs": [],
   "source": [
    "#내장함수를 이용해서 list=[0,1,2,3,4,5,6] 에서 2를 삭제후 출력하세요\n",
    "list=[0,1,2,3,4,5,6]\n",
    "del list[2]\n",
    "print(list)"
   ]
  },
  {
   "cell_type": "code",
   "execution_count": null,
   "id": "a4023b03",
   "metadata": {},
   "outputs": [],
   "source": [
    "lst = [0,1,2,3,4,5,6]\n",
    "lst = list(filter(lambda a:a!=2,lst))\n",
    "print(lst)"
   ]
  },
  {
   "cell_type": "code",
   "execution_count": null,
   "id": "3a56c9d6",
   "metadata": {},
   "outputs": [],
   "source": [
    "lt = [0, 1, 2, 3, 4, 5, 6]\n",
    "print(lt)\n",
    "lt.pop(2)   #pop 꺼내기 요소 꺼내기 ,  remove써도 삭제됨\n",
    "print(lt)\n"
   ]
  },
  {
   "cell_type": "code",
   "execution_count": null,
   "id": "cad881a0",
   "metadata": {},
   "outputs": [],
   "source": [
    "#내장함수를 이용해서 list=[0,1,2,3,4,5,6]에서 모든 함ㅅ를 삭제후 출력하세요\n",
    "\n",
    "list=[0,1,2,3,4,5,6]\n",
    "del list[:]   # 콜론은 전부를 의미 \n",
    "print(list)"
   ]
  },
  {
   "cell_type": "code",
   "execution_count": null,
   "id": "5359c176",
   "metadata": {},
   "outputs": [],
   "source": [
    "#람다함수와 적합한 내장함수를 사용하여 아래와 같이 출력하세요\n",
    "[1,2,3,4,5] ->[1, 4, 9, 16, 25]\n",
    "[1,2,3,4,5]-> [1, 2]"
   ]
  },
  {
   "cell_type": "code",
   "execution_count": 11,
   "id": "86ab5884",
   "metadata": {},
   "outputs": [
    {
     "name": "stdout",
     "output_type": "stream",
     "text": [
      "[1, 4, 9, 16, 25]\n"
     ]
    }
   ],
   "source": [
    "x=[1,2,3,4,5] \n",
    "\n",
    "print(list(map(lambda x: x ** 2, x)))"
   ]
  },
  {
   "cell_type": "code",
   "execution_count": 13,
   "id": "baf59955",
   "metadata": {},
   "outputs": [
    {
     "name": "stdout",
     "output_type": "stream",
     "text": [
      "[1, 4, 9, 16, 25]\n"
     ]
    }
   ],
   "source": [
    "square = lambda a: a*a \n",
    "lst = [square(i) for i in range(1,6)]\n",
    "print(lst)\n"
   ]
  },
  {
   "cell_type": "code",
   "execution_count": 16,
   "id": "ef638dc0",
   "metadata": {},
   "outputs": [
    {
     "data": {
      "text/plain": [
       "[1, 2]"
      ]
     },
     "execution_count": 16,
     "metadata": {},
     "output_type": "execute_result"
    }
   ],
   "source": [
    "x=[1,2,3,4,5] \n",
    "list(filter(lambda x: x < 3 , x))  # x 자리에 range(1:6)써도 되더라"
   ]
  },
  {
   "cell_type": "code",
   "execution_count": 17,
   "id": "163c0594",
   "metadata": {},
   "outputs": [
    {
     "data": {
      "text/plain": [
       "[1, 2, 6]"
      ]
     },
     "execution_count": 17,
     "metadata": {},
     "output_type": "execute_result"
    }
   ],
   "source": [
    "#[1,-3,2,0,-5,6]에서 양수만 필터링해서 출력하세요\n",
    "\n",
    "x=[1,-3,2,0,-5,6]\n",
    "list(filter(lambda x: x > 0 , x))\n",
    "\n",
    "#list를 안해줬을 땐 값을 안가지고있어서 출력을 안함 그래서 list를 소환해서\n",
    "#강제로 가지고와야됨"
   ]
  },
  {
   "cell_type": "code",
   "execution_count": null,
   "id": "b8448f37",
   "metadata": {},
   "outputs": [],
   "source": [
    "#내장함수를 이용하여 동일한 개수로 이루어진 자료형을 화살표 좌측에서 우측으로 변환\n",
    "\n",
    "[1,2,3,],[4,5,6]->[(1,4),(2,5),(3,6)]\n",
    "[1,2,3],[4,5,6],[7,8,9]->[(1,4,7),(2,5,8),(3,6,9)]\n",
    "('abc','def')->[('a','d'),('b','e'),('c','f')]"
   ]
  },
  {
   "cell_type": "code",
   "execution_count": null,
   "id": "98c005dd",
   "metadata": {},
   "outputs": [],
   "source": [
    "#[1,2,3,],[4,5,6]->[(1,4),(2,5),(3,6)]\n",
    "list(zip([1,2,3,],[4,5,6]))"
   ]
  },
  {
   "cell_type": "code",
   "execution_count": null,
   "id": "094f4899",
   "metadata": {},
   "outputs": [],
   "source": [
    "#[1,2,3],[4,5,6][7,8,9]->[(1,4,7),(2,5,8),(3,6,9)]\n",
    "\n",
    "list(zip([1,2,3],[4,5,6],[7,8,9]))"
   ]
  },
  {
   "cell_type": "code",
   "execution_count": 19,
   "id": "25bf3c3f",
   "metadata": {},
   "outputs": [
    {
     "data": {
      "text/plain": [
       "[('a', 'd'), ('b', 'e'), ('c', 'f')]"
      ]
     },
     "execution_count": 19,
     "metadata": {},
     "output_type": "execute_result"
    }
   ],
   "source": [
    "#('abc','def')->[('a','d'),('b','e'),('c','f')]\n",
    "list(zip('abc','def'))"
   ]
  },
  {
   "cell_type": "code",
   "execution_count": 23,
   "id": "d8e99435",
   "metadata": {},
   "outputs": [
    {
     "name": "stdout",
     "output_type": "stream",
     "text": [
      "(1, 'a')\n",
      "(2, 'b')\n",
      "(3, 'c')\n"
     ]
    }
   ],
   "source": [
    "num = [1,2,3]\n",
    "lt = ['a','b','c']\n",
    "for pair in zip (num, lt):\n",
    "    print(pair)"
   ]
  },
  {
   "cell_type": "code",
   "execution_count": 39,
   "id": "e88ce692",
   "metadata": {},
   "outputs": [
    {
     "name": "stdout",
     "output_type": "stream",
     "text": [
      "[1, 2, 3]\n"
     ]
    }
   ],
   "source": [
    "#입력으로 들어오는 모든 수의 평균 값을 계산해 주는 함수를 작성한 후 1,2,3을 입력한\n",
    "#결과를 출력하세요\n",
    "\n",
    "a=[1,2,3]\n",
    "list((lambda x: avg(x), x))\n",
    "print(a)"
   ]
  },
  {
   "cell_type": "code",
   "execution_count": 42,
   "id": "3538d9a3",
   "metadata": {},
   "outputs": [
    {
     "data": {
      "text/plain": [
       "2.0"
      ]
     },
     "execution_count": 42,
     "metadata": {},
     "output_type": "execute_result"
    }
   ],
   "source": [
    "def avg(*args):\n",
    "    sum=0\n",
    "    for i in args:\n",
    "        sum+=i\n",
    "    return sum/len(args)\n",
    "avg(1,2,3)\n"
   ]
  },
  {
   "cell_type": "code",
   "execution_count": null,
   "id": "abe02129",
   "metadata": {},
   "outputs": [],
   "source": [
    "#[과제] string 를 다양한 문자가 포함된 순서로 정렬\n",
    "strings= ['a'.'ca','bar','aaaa','abcda']"
   ]
  },
  {
   "cell_type": "code",
   "execution_count": null,
   "id": "a08a7ca3",
   "metadata": {},
   "outputs": [],
   "source": [
    "#포로그램 기획할건데 프로젝트를 수행하든, 왜 하는지\n",
    "목적이 있어야돼 그거를해서 뭔가 부가가치를 만들어내야되잖아\n",
    "부가가치를 만들어내지못하면 가치가 없죠\n",
    "그래서 앞으로 여러분들이 개발자로써, 분석자로써, 아키텍처가 될 수 있고\n",
    "생산적인것을 만드는 역량을 의미하는거잖아요\n",
    "아무리 기술이좋고 많이 아셔도 뭔가 부가가치 있는 걸 만들지 못하면\n",
    "아무가치없어요 수요파악을 잘 해야돼, 내가 만든 게 얼마나\n",
    "쓰일 수 있는지, 가치가 있는지를 잘 알아야돼 그럴려면 기획을 해야돼\n",
    "\n",
    "\n",
    "그래서 한시간 동안 뭐하냐면 배웠던 프로그래밍을 가지고\n",
    "만든 목적이 뭔지, 기대효과 이 프로그램이 어떤 기대효과가 있을것인가 생각해봐야되고\n",
    "그런 목적,기대효과를 거두기 위해 이 프로그램을 만들었는데 어떻게\n",
    "만들것인가, 설계도, 조건문을 사용해서 틀을 만들어서 각각의 경우에\n",
    "음식적 메뉴 가격 계산 해주는 프로그램 만들었잖아\n",
    "주문받는 솔루션이잖아\n",
    "손님이 여러가지 메뉴를 선택할 수 있또록 해주고 가격을 선택해\n",
    "선택할 수 있는 솔류션을 낸거지\n",
    "음식점 주인이 주문한 것들에 대한 편리하게 알 수 있는\n",
    "\n",
    "\n",
    "기획에는 설계도가 있어야돼요 \n",
    "while 을 전체적으로 쓴다던지 \n",
    "프로그램 만든 목적, 기대효과, 주문 솔류션같은 경우;\n",
    " 시간단축, 편리성제고 , 인건비감소, 고객으로부터 이미지 향상 가능\n",
    "회사의 자원대로 낭비, 부가가치는 없고 가장 worst case\n",
    "\n",
    "\n",
    "주문 키오스크가 있고, \n",
    "그 \n",
    "\n",
    "\n",
    "양식자유\n",
    "5장정도 프로젝트 구성, 주말에 짜고 월요일에 복습겸 리뷰\n",
    "\n",
    "\n",
    "\n",
    "\n",
    "\n",
    "\n",
    "\n",
    "\n",
    "\n",
    "\n",
    "\n",
    "\n",
    "\n",
    "\n",
    "\n",
    "\n"
   ]
  }
 ],
 "metadata": {
  "kernelspec": {
   "display_name": "Python 3 (ipykernel)",
   "language": "python",
   "name": "python3"
  },
  "language_info": {
   "codemirror_mode": {
    "name": "ipython",
    "version": 3
   },
   "file_extension": ".py",
   "mimetype": "text/x-python",
   "name": "python",
   "nbconvert_exporter": "python",
   "pygments_lexer": "ipython3",
   "version": "3.7.11"
  }
 },
 "nbformat": 4,
 "nbformat_minor": 5
}

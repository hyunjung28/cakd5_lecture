{
 "cells": [
  {
   "cell_type": "code",
   "execution_count": 1,
   "id": "c4d679a7",
   "metadata": {},
   "outputs": [
    {
     "ename": "SyntaxError",
     "evalue": "invalid syntax (Temp/ipykernel_9416/395446803.py, line 1)",
     "output_type": "error",
     "traceback": [
      "\u001b[1;36m  File \u001b[1;32m\"C:\\Users\\admin\\AppData\\Local\\Temp/ipykernel_9416/395446803.py\"\u001b[1;36m, line \u001b[1;32m1\u001b[0m\n\u001b[1;33m    a:b:c:d\u001b[0m\n\u001b[1;37m       ^\u001b[0m\n\u001b[1;31mSyntaxError\u001b[0m\u001b[1;31m:\u001b[0m invalid syntax\n"
     ]
    }
   ],
   "source": [
    "a:b:c:d\n",
    "            "
   ]
  },
  {
   "cell_type": "code",
   "execution_count": 16,
   "id": "e9ac6b58",
   "metadata": {},
   "outputs": [
    {
     "data": {
      "text/plain": [
       "'a#b#c#d'"
      ]
     },
     "execution_count": 16,
     "metadata": {},
     "output_type": "execute_result"
    }
   ],
   "source": [
    "list='a:b:c:d'\n",
    "text= list.split(':')\n",
    "text\n",
    "\n",
    "re_text=\"#\".join(text)\n",
    "re_text"
   ]
  },
  {
   "cell_type": "code",
   "execution_count": null,
   "id": "cba5cee4",
   "metadata": {},
   "outputs": [],
   "source": [
    "a={''}"
   ]
  },
  {
   "cell_type": "code",
   "execution_count": null,
   "id": "8f057461",
   "metadata": {},
   "outputs": [],
   "source": [
    "data=\"\"\"\n",
    "park 990000-2222222\n",
    "\n",
    "\"\"\"\n",
    "\n",
    "result =[]\n",
    "for line in data.split('\\n'):\n",
    "    word_result=[]\n",
    "    \n",
    "for line in line.split(\" \"):\n",
    "    if len(word) == "
   ]
  }
 ],
 "metadata": {
  "kernelspec": {
   "display_name": "Python 3 (ipykernel)",
   "language": "python",
   "name": "python3"
  },
  "language_info": {
   "codemirror_mode": {
    "name": "ipython",
    "version": 3
   },
   "file_extension": ".py",
   "mimetype": "text/x-python",
   "name": "python",
   "nbconvert_exporter": "python",
   "pygments_lexer": "ipython3",
   "version": "3.7.11"
  }
 },
 "nbformat": 4,
 "nbformat_minor": 5
}

{
 "cells": [
  {
   "cell_type": "markdown",
   "id": "8dabca1d",
   "metadata": {},
   "source": [
    "##정규표현식의 기초 메타 문자\n",
    "\n",
    "\n",
    "- .(dot) ^ $ * + ? {} [] \\ l ()\n",
    "- []  문자 클래스 \n",
    "    - [0-9] : 모든 숫자 다 포함\n",
    "    - \\d 숫자와 매치, [0-9]와 동일한 표현식 \n",
    "    - \\D 숫자가 아닌 것과 매치, [^0-9]와 동일한 표현식\n",
    "    - \\s whitespace 문자와 매치, [ \\t\\n\\r\\f\\v]와 동일한 표현식 \n",
    "    - \\S whitespace 문자가 아닌 것과 매치, [^ \\t\\n\\r\\f\\v]와 동일한 표현식\n",
    "    - \\w 문자 + 숫자와 매치, [a-zA-Z0-9]와 동일한 표현식\n",
    "    - \\W 문자 + 숫자가 아닌 문자와 매치, [a-zA-Z0-9]와 동일한 표현식\n",
    "- whitespace \n",
    "    - 스페이스 바(아스키 코드 32)\n",
    "    - \\b 뒤로 한 칸 이동(Backspace) (아스키코드 8)\n",
    "    - \\t 수평탭 간격 띄우기 (아스키코드 9)\n",
    "    - \\n  : 줄바꿈 (Linefeed) (아스키코드 10)\n",
    "    - \\v  : 수직탭 간격 띄우기 (아스키코드 11)\n",
    "    - \\f  : 프린트 출력 용지를 한 페이지 넘김 (Form feed) (아스키코드 12)\n",
    "    - \\r  : 동일한 줄의 맨 앞으로 커서 이동 (Carriage Return) (아스키코드 13)\n",
    "- Dot(.) 메타 문자는 줄바꿈 문자인 \\n를 제외한 모든 문자와 매치됨을 의미\n",
    "- 반복 (\\*) 0부터 무한대로 반복하는 거 ca*t 있으면 별표앞에있는 a가 0부터 무한대로 반복\n",
    "    caaaaaaaaaat , ct (a가 0 개여도 매치)\n",
    "- 반복 (w+) ca +t 최소 1번 이상 반복\n",
    "- ca{m,n} a 반복횟수가 m부터 n까지인 것을 매치 a{2,3} 반복수가 2번부터3번까지 매치\n",
    "- ca{2}t는 c+a (2번 반복)+t의 의미\n",
    "- 반복 횟수가 {1,} 은 1 이상, {0, }은 0 이상인 경우로 + , *  +는 최소 한 번이상\n",
    "     * -> 0부터 무한반복이니깐 {1,},{0,}랑 같다고 봐\n",
    " {,1} 반복 횟수가 1이하를 의미 \n",
    "- ab?c b가 0~1번 사용되면 매치되는 것으로 ?은 앞에 b가 있어도 되고 없어도 된다.\n",
    " {}중괄호는 반복횟수를 의미함 \n",
    "\n",
    "re 모듈 : regular expression 파이썬은 정규표현식을 지원하기 위해 기본으로 제공\n",
    "-re. compile의 결과로 리턴되는 객체를 이용하여 그 이후 작업 수행\n",
    "\n",
    " 정규식을 이용한 문자열 검색을 위해서 \n",
    " - match(): 문자열의 처음부터 정규식과 매치되는지를 조사\n",
    " - search(): 문자열의 전체를 검색하여 정규식과 매치되는지 조사\n",
    " - findall(): 정규식과 매치되는 모든 문자열을 리스트로 리턴\n",
    " - findliter(): 정규식과 매치되는 모든 문자열을 반복 가능한 객체로 리턴 \n",
    "\n"
   ]
  },
  {
   "cell_type": "code",
   "execution_count": null,
   "id": "e71c4bf9",
   "metadata": {},
   "outputs": [],
   "source": [
    "import re\n",
    "p = re.compile('[a-z]+\\s')\n",
    "m = p.match('python python') #뒤에 공백까지 span(0,7)\n",
    "m"
   ]
  },
  {
   "cell_type": "code",
   "execution_count": null,
   "id": "70bdbd1b",
   "metadata": {},
   "outputs": [],
   "source": [
    "re.match('[a-z]+\\s','python python')"
   ]
  },
  {
   "cell_type": "code",
   "execution_count": null,
   "id": "ab73e090",
   "metadata": {},
   "outputs": [],
   "source": [
    "\n",
    "p.findall('python python')"
   ]
  },
  {
   "cell_type": "code",
   "execution_count": null,
   "id": "03732cea",
   "metadata": {},
   "outputs": [],
   "source": [
    "p.findall('python python ')"
   ]
  },
  {
   "cell_type": "code",
   "execution_count": null,
   "id": "5c186a10",
   "metadata": {},
   "outputs": [],
   "source": [
    "m = p.match('3python')\n",
    "print(m)"
   ]
  },
  {
   "cell_type": "code",
   "execution_count": null,
   "id": "0449ae8e",
   "metadata": {},
   "outputs": [],
   "source": [
    "m = p.search('3python ')\n",
    "print(m)"
   ]
  },
  {
   "cell_type": "code",
   "execution_count": null,
   "id": "ee671d94",
   "metadata": {},
   "outputs": [],
   "source": [
    "# 문자 클래스 : []\n",
    "pattern = re.compile ('[a-z]+')\n",
    "p1=pattern .search('Banker')\n",
    "p2 = pattern.search('banker')\n",
    "print(p1)\n",
    "print(p2)"
   ]
  },
  {
   "cell_type": "code",
   "execution_count": null,
   "id": "0c075c00",
   "metadata": {},
   "outputs": [],
   "source": [
    "#Q. '12345abc'에서 'a'만 출력하세요\n",
    "import re\n",
    "\n",
    "p= re.search('[a]','12345abc')\n",
    "print(p)\n",
    "p.group()"
   ]
  },
  {
   "cell_type": "code",
   "execution_count": null,
   "id": "71f90eda",
   "metadata": {},
   "outputs": [],
   "source": [
    "re.search('[a]','12345abc')"
   ]
  },
  {
   "cell_type": "code",
   "execution_count": null,
   "id": "3fd92599",
   "metadata": {},
   "outputs": [],
   "source": [
    "# Q.'12345Abc' 에서 'A'만 출력하라\n",
    "\n",
    "p = re.search('A','12345Abc')\n",
    "p.group()"
   ]
  },
  {
   "cell_type": "code",
   "execution_count": null,
   "id": "5f520d62",
   "metadata": {},
   "outputs": [],
   "source": [
    "#[ 과제] 'KOREA  대한민국'에서 '대'만 출력하세요.\n",
    "\n",
    "\n",
    "p = re.search('대','KOREA  대한민국')\n",
    "p.group()\n"
   ]
  },
  {
   "cell_type": "code",
   "execution_count": null,
   "id": "00fa342d",
   "metadata": {},
   "outputs": [],
   "source": [
    "# Q. '122333c'를 모두 출력하세요\n",
    "import re \n",
    "p  = re.compile('12{2}3{3}c')\n",
    "text = '122333c'\n",
    "m = p.search(text)\n",
    "m.group()"
   ]
  },
  {
   "cell_type": "code",
   "execution_count": null,
   "id": "5fd06003",
   "metadata": {},
   "outputs": [],
   "source": [
    "#[과제] 'aaaaBBBcccDDDeee' 를 모두 출력하세요\n",
    "\n",
    "import re\n",
    "p = re.search('a*B*c*D*e*','aaaaBBBcccDDDeee')\n",
    "print(p)\n",
    "p.group()"
   ]
  },
  {
   "cell_type": "code",
   "execution_count": null,
   "id": "e28556e8",
   "metadata": {},
   "outputs": [],
   "source": [
    "#[과제]  BC,CC,ABC 모두 C가 출력되는 정규 표현식을 ()에  작성하세요\n",
    "\n",
    "pattern = re.compile('C+')\n",
    "text1 ='BC'\n",
    "text2 = 'CC'\n",
    "text3 = 'ABC'\n",
    "p1 = pattern.search(text1)\n",
    "p2 = pattern.search(text2)\n",
    "p3 = pattern.search(text3)\n",
    "print(p1)\n",
    "print(p2)\n",
    "print(p3)\n",
    "\n"
   ]
  },
  {
   "cell_type": "code",
   "execution_count": null,
   "id": "2c01fca6",
   "metadata": {},
   "outputs": [],
   "source": [
    "p = re.compile('[a-z]+')\n",
    "result1 = p.findall('life is too short')\n",
    "result2 = p.match('life is too short')\n",
    "result3 = p.search('life is too short')  #search는 전부다긴하지만 space처리가 안돼서\n",
    "\n",
    "print(result1)\n",
    "print(result2.group())\n",
    "print(result3.group())"
   ]
  },
  {
   "cell_type": "code",
   "execution_count": null,
   "id": "c277d690",
   "metadata": {},
   "outputs": [],
   "source": [
    "# finditer는  findall과 동일하지만 그 결과로 반복 가능한 객체를 돌려준다\n",
    "result = p.finditer('life is too short ')\n",
    "\n",
    "#list (result)\n",
    "for r in result: print(r.group())"
   ]
  },
  {
   "cell_type": "code",
   "execution_count": null,
   "id": "15ab9b15",
   "metadata": {},
   "outputs": [],
   "source": [
    "#[과제] 정규표현식을 사용하여  text에서 전화번호만 출력하세요.\n",
    "# text= \"문의사항 있으시면 032-232-3245로 연락주시기 바랍니다\"\n",
    "\n",
    "text = \"문의사항 있으시면 032-232-3245로 연락주시기 바랍니다\"\n",
    "p= re.compile(r\"(\\w+)\\s+(\\d+[-]\\d+[-]\\d+)\")\n",
    "m= p.search(text)\n",
    "print(m.group(2))\n",
    "\n"
   ]
  },
  {
   "cell_type": "code",
   "execution_count": null,
   "id": "e9dbc1b7",
   "metadata": {},
   "outputs": [],
   "source": [
    "#Q. '1234a1234'에서 '1','2','3','4'를 출력하세요\n",
    "\n",
    "re.findall( '[0-9]'  ,'1234a1234' )\n",
    "print(p)\n"
   ]
  },
  {
   "cell_type": "code",
   "execution_count": null,
   "id": "6eb13d64",
   "metadata": {},
   "outputs": [],
   "source": [
    "# 중복없이\n",
    "text = '1234a1234'\n",
    "t= re.findall('[0-9]',text)\n",
    "print(sorted(set(t)))\n"
   ]
  },
  {
   "cell_type": "code",
   "execution_count": null,
   "id": "9dce3d0d",
   "metadata": {},
   "outputs": [],
   "source": [
    "# ' Python3 is very good programming language!''  에서 ['Python','is','very','good']\n",
    "# ['programming','language']를 모두 출력하세요\n",
    "\n",
    "re.findall('\\s[a-zA-Z]+',' Python3 is very good programming language!')"
   ]
  },
  {
   "cell_type": "code",
   "execution_count": null,
   "id": "f488ed95",
   "metadata": {},
   "outputs": [],
   "source": [
    "re.findall('\\s\\w+',' Python3 is very good programming language!')"
   ]
  },
  {
   "cell_type": "code",
   "execution_count": null,
   "id": "b9d55e7c",
   "metadata": {},
   "outputs": [],
   "source": [
    "re.findall('^\\s[A-Za-z]+',' Python33 is very good programming language!')"
   ]
  },
  {
   "cell_type": "code",
   "execution_count": null,
   "id": "f450b188",
   "metadata": {},
   "outputs": [],
   "source": [
    "#import re\n",
    "p= re.compile('[a-z]+')\n",
    "m = p.match('python')\n",
    "print(m.group())\n",
    "print(m.start())\n",
    "print(m.end())\n",
    "print(m.span())\n"
   ]
  },
  {
   "cell_type": "code",
   "execution_count": null,
   "id": "52237776",
   "metadata": {},
   "outputs": [],
   "source": [
    "m = p.search('3 python')\n",
    "print(m.group())\n",
    "print(m.start())\n",
    "print(m.end())\n",
    "print(m.span())"
   ]
  },
  {
   "cell_type": "code",
   "execution_count": null,
   "id": "6cedf990",
   "metadata": {},
   "outputs": [],
   "source": [
    "#  모듈 단위로 수행하기\n",
    "\n",
    "m= re.match('[a-z]+',\"python\")\n",
    "print(m.group())\n"
   ]
  },
  {
   "cell_type": "code",
   "execution_count": 3,
   "id": "c22cd515",
   "metadata": {},
   "outputs": [
    {
     "name": "stdout",
     "output_type": "stream",
     "text": [
      "None\n",
      "acb\n",
      "a12?Ab\n"
     ]
    }
   ],
   "source": [
    "#Dot(.)  메타 문자\n",
    "import re\n",
    "p = re.compile ('a.+b')\n",
    "m1 = p.match('a\\nb')\n",
    "m2 = p.match('acb')\n",
    "m3 = p.match('a12?Ab')\n",
    "\n",
    "print(m1)\n",
    "print(m2.group())\n",
    "print(m3.group())"
   ]
  },
  {
   "cell_type": "code",
   "execution_count": 4,
   "id": "9d810742",
   "metadata": {},
   "outputs": [
    {
     "data": {
      "text/plain": [
       "'a\\nb'"
      ]
     },
     "execution_count": 4,
     "metadata": {},
     "output_type": "execute_result"
    }
   ],
   "source": [
    "p = re.compile('a.b', re.DOTALL)\n",
    "m = p.match('a\\nb')\n",
    "m.group()\n",
    "\n"
   ]
  },
  {
   "cell_type": "code",
   "execution_count": 9,
   "id": "6fba0620",
   "metadata": {},
   "outputs": [
    {
     "name": "stdout",
     "output_type": "stream",
     "text": [
      "<re.Match object; span=(0, 6), match='python'>\n",
      "<re.Match object; span=(0, 6), match='Python'>\n",
      "<re.Match object; span=(0, 6), match='PYTHON'>\n"
     ]
    }
   ],
   "source": [
    "# re.Ignorance 또는  re.I 옵션은 대소문자 구분없이 매치를 수행시 사용\n",
    "\n",
    "p = re.compile('[a-z]+', re.I)\n",
    "print(p.match('python'))\n",
    "print(p.match('Python'))\n",
    "print(p.match('PYTHON'))"
   ]
  },
  {
   "cell_type": "code",
   "execution_count": 11,
   "id": "b12fe40d",
   "metadata": {},
   "outputs": [
    {
     "name": "stdout",
     "output_type": "stream",
     "text": [
      "<re.Match object; span=(2, 8), match='python'>\n",
      "<re.Match object; span=(2, 8), match='Python'>\n",
      "<re.Match object; span=(2, 8), match='PYTHON'>\n"
     ]
    }
   ],
   "source": [
    "print(p.search('3 python'))\n",
    "print(p.search('3 Python'))\n",
    "print(p.search('3 PYTHON'))"
   ]
  },
  {
   "cell_type": "code",
   "execution_count": 23,
   "id": "fb975f0c",
   "metadata": {},
   "outputs": [
    {
     "name": "stdout",
     "output_type": "stream",
     "text": [
      "['python one']\n"
     ]
    }
   ],
   "source": [
    "# ^( 문자열의 맨 처음)\n",
    "\n",
    "p = re.compile('^python\\s\\w+')\n",
    "\n",
    "data = \"\"\"python one \n",
    "life is too short\n",
    "python two\n",
    "you need python\n",
    "python three\"\"\"\n",
    "\n",
    "\n",
    "print(p.findall(data))"
   ]
  },
  {
   "cell_type": "code",
   "execution_count": 25,
   "id": "6359f743",
   "metadata": {},
   "outputs": [
    {
     "name": "stdout",
     "output_type": "stream",
     "text": [
      "['python three']\n"
     ]
    }
   ],
   "source": [
    "# $는 마지막에 있는 거  \n",
    "\n",
    "p = re.compile('python\\s\\w+$')\n",
    "\n",
    "data = \"\"\"python one \n",
    "life is too short\n",
    "python two\n",
    "you need python\n",
    "python three\"\"\"\n",
    "\n",
    "\n",
    "print(p.findall(data))"
   ]
  },
  {
   "cell_type": "code",
   "execution_count": 40,
   "id": "8cf96cd2",
   "metadata": {},
   "outputs": [
    {
     "name": "stdout",
     "output_type": "stream",
     "text": [
      "None\n"
     ]
    }
   ],
   "source": [
    "# / or 와 동일한 의미\n",
    "p = re.compile ('CrowlServo')\n",
    "m = p.match('CrowHello')\n",
    "print(m)"
   ]
  },
  {
   "cell_type": "code",
   "execution_count": 27,
   "id": "127990e6",
   "metadata": {},
   "outputs": [
    {
     "name": "stdout",
     "output_type": "stream",
     "text": [
      "<re.Match object; span=(0, 8), match='\\\\section'>\n"
     ]
    },
    {
     "data": {
      "text/plain": [
       "['\\\\section', '\\\\section']"
      ]
     },
     "execution_count": 27,
     "metadata": {},
     "output_type": "execute_result"
    }
   ],
   "source": [
    "# Raw String 규칙\n",
    "p =re.compile(r'\\\\section') #역슬래쉬 자체를 인식하기 위해서 앞에 역슬래쉬 하나더줌\n",
    "\n",
    "print(p.match('\\section'))\n",
    "\n",
    "p.findall('\\section\\section')\n",
    "\n"
   ]
  },
  {
   "cell_type": "code",
   "execution_count": 45,
   "id": "ece3d398",
   "metadata": {},
   "outputs": [
    {
     "data": {
      "text/plain": [
       "'home'"
      ]
     },
     "execution_count": 45,
     "metadata": {},
     "output_type": "execute_result"
    }
   ],
   "source": [
    "# Q. 'we are going home' 에서 home만 출력하세요\n",
    "p=re.search('[a-z]+$','we are going home' )\n",
    "p.group()"
   ]
  },
  {
   "cell_type": "code",
   "execution_count": 54,
   "id": "399535e5",
   "metadata": {},
   "outputs": [
    {
     "data": {
      "text/plain": [
       "'home'"
      ]
     },
     "execution_count": 54,
     "metadata": {},
     "output_type": "execute_result"
    }
   ],
   "source": [
    "# [과제] 'home sweet' 에서 home만 출력하세요\n",
    " \n",
    "p = re.match('^[a-z]+','home sweet')\n",
    "p.group()"
   ]
  },
  {
   "cell_type": "code",
   "execution_count": 55,
   "id": "e6754c33",
   "metadata": {},
   "outputs": [
    {
     "data": {
      "text/plain": [
       "'193305'"
      ]
     },
     "execution_count": 55,
     "metadata": {},
     "output_type": "execute_result"
    }
   ],
   "source": [
    "# [과제] '193305, 1923A, a93247' 에서 '199305 만 출력하세요'\n",
    "\n",
    "p = re.match('[0-9]+','193305, 1923A, a93247')\n",
    "p.group()"
   ]
  },
  {
   "cell_type": "code",
   "execution_count": 69,
   "id": "e6a7d75f",
   "metadata": {},
   "outputs": [
    {
     "name": "stdout",
     "output_type": "stream",
     "text": [
      "<re.Match object; span=(3, 9), match='ABCDEF'>\n",
      "ABCDEF\n",
      "ABCDEF\n",
      "AB\n",
      "CD\n",
      "EF\n"
     ]
    }
   ],
   "source": [
    "#그룹핑: 매치된 문자열 중에서 특정 부분의 문자열만 뽑아내는 경우 ()을 만들어준다\n",
    "# group (0) 매치된 전체 문자열을 출력해주고 1을 입력하면 첫번째 그룹,2-> 두번째 그룹\n",
    "# n을 넣어주면 n번째 그룹\n",
    "\n",
    "p =re.compile ('((AB)(CD)(EF))+')\n",
    "m = p.search('DEFABCDEFDEF OK?')\n",
    "\n",
    "print(m)\n",
    "print(m.group(0))\n",
    "print(m.group(1))\n",
    "print(m.group(2))\n",
    "print(m.group(3))\n",
    "print(m.group(4))"
   ]
  },
  {
   "cell_type": "code",
   "execution_count": null,
   "id": "bbdc0cbf",
   "metadata": {},
   "outputs": [],
   "source": []
  },
  {
   "cell_type": "code",
   "execution_count": 72,
   "id": "21efb771",
   "metadata": {},
   "outputs": [
    {
     "name": "stdout",
     "output_type": "stream",
     "text": [
      "abcdefghi\n",
      "e\n"
     ]
    }
   ],
   "source": [
    "#[과제]  'abcdefghij'에 대하여 중첩을 적용한 서브그룹 5개로 컴파일하여\n",
    "# group()함수를 이용하여  abcdefghi와 'e'를 출력하세요\n",
    "\n",
    "p = re.compile('[a-k]+')\n",
    "q = p.match('abcdefghi')\n",
    "print(q.group())\n",
    "k = re.compile('e')\n",
    "i = k.search('abcdefghi')\n",
    "print(i.group())\n"
   ]
  },
  {
   "cell_type": "code",
   "execution_count": null,
   "id": "7872fe4c",
   "metadata": {},
   "outputs": [],
   "source": []
  }
 ],
 "metadata": {
  "kernelspec": {
   "display_name": "Python 3 (ipykernel)",
   "language": "python",
   "name": "python3"
  },
  "language_info": {
   "codemirror_mode": {
    "name": "ipython",
    "version": 3
   },
   "file_extension": ".py",
   "mimetype": "text/x-python",
   "name": "python",
   "nbconvert_exporter": "python",
   "pygments_lexer": "ipython3",
   "version": "3.7.11"
  }
 },
 "nbformat": 4,
 "nbformat_minor": 5
}

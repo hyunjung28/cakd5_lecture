{
 "cells": [
  {
   "cell_type": "code",
   "execution_count": 3,
   "id": "ec44f5a7",
   "metadata": {},
   "outputs": [
    {
     "data": {
      "text/plain": [
       "1"
      ]
     },
     "execution_count": 3,
     "metadata": {},
     "output_type": "execute_result"
    }
   ],
   "source": [
    "#definition  정의함수\n",
    "#2와 5를 더한 후 3으로 나눈 나머지 값을 사용자 함수를 이용해 구하세요.\n",
    "\n",
    "def cal_abc(a,b,c):\n",
    "    return(a+b)%c\n",
    "\n",
    "cal_abc(2,5,3)"
   ]
  },
  {
   "cell_type": "code",
   "execution_count": 6,
   "id": "1af2187c",
   "metadata": {},
   "outputs": [
    {
     "name": "stdout",
     "output_type": "stream",
     "text": [
      "It is true\n",
      "'Python is fit for data analysis'\n"
     ]
    }
   ],
   "source": [
    "#문자열 앞의 공백을 제거하고 아래와 같이 출력하세요\n",
    "input_a = \"\"\"\n",
    "                       It is true\n",
    "'Python is fit for data analysis'\n",
    "\"\"\"\n",
    "print(input_a.strip())"
   ]
  },
  {
   "cell_type": "code",
   "execution_count": 20,
   "id": "c5cec628",
   "metadata": {},
   "outputs": [
    {
     "data": {
      "text/plain": [
       "['10/', '/30/40/50']"
      ]
     },
     "execution_count": 20,
     "metadata": {},
     "output_type": "execute_result"
    }
   ],
   "source": [
    "#\"10/20/30/40/50\"을 '/'을 기준으로 자르세요\n",
    "a =\"10/20/30/40/50\"\n",
    "b = \"10/20/30/40/50\"\n",
    "a.split(\"/\") #-> #기준이 되는 것을 삽입\n",
    "b.split(\"20\")"
   ]
  },
  {
   "cell_type": "code",
   "execution_count": 26,
   "id": "5ddc7ea7",
   "metadata": {},
   "outputs": [
    {
     "ename": "KeyboardInterrupt",
     "evalue": "Interrupted by user",
     "output_type": "error",
     "traceback": [
      "\u001b[1;31m---------------------------------------------------------------------------\u001b[0m",
      "\u001b[1;31mKeyboardInterrupt\u001b[0m                         Traceback (most recent call last)",
      "\u001b[1;32m~\\AppData\\Local\\Temp/ipykernel_4996/1429108592.py\u001b[0m in \u001b[0;36m<module>\u001b[1;34m\u001b[0m\n\u001b[0;32m      2\u001b[0m \u001b[1;31m# 그 외는 다시 입력하라는 메시지를 출력하세요.\u001b[0m\u001b[1;33m\u001b[0m\u001b[1;33m\u001b[0m\u001b[1;33m\u001b[0m\u001b[0m\n\u001b[0;32m      3\u001b[0m \u001b[1;33m\u001b[0m\u001b[0m\n\u001b[1;32m----> 4\u001b[1;33m \u001b[0mnum1\u001b[0m \u001b[1;33m=\u001b[0m \u001b[0mint\u001b[0m\u001b[1;33m(\u001b[0m\u001b[0minput\u001b[0m\u001b[1;33m(\u001b[0m\u001b[1;34m\"숫자를 입력하세요\"\u001b[0m\u001b[1;33m)\u001b[0m\u001b[1;33m)\u001b[0m\u001b[1;33m\u001b[0m\u001b[1;33m\u001b[0m\u001b[0m\n\u001b[0m\u001b[0;32m      5\u001b[0m \u001b[0mnum2\u001b[0m \u001b[1;33m=\u001b[0m \u001b[0mint\u001b[0m\u001b[1;33m(\u001b[0m\u001b[0minput\u001b[0m\u001b[1;33m(\u001b[0m\u001b[1;34m\"숫자를 입력하세요\"\u001b[0m\u001b[1;33m)\u001b[0m\u001b[1;33m)\u001b[0m\u001b[1;33m\u001b[0m\u001b[1;33m\u001b[0m\u001b[0m\n\u001b[0;32m      6\u001b[0m \u001b[1;32mif\u001b[0m \u001b[0mnum1\u001b[0m\u001b[1;33m%\u001b[0m\u001b[1;36m2\u001b[0m \u001b[1;33m==\u001b[0m\u001b[1;36m0\u001b[0m \u001b[1;32mand\u001b[0m \u001b[0mnum2\u001b[0m\u001b[1;33m%\u001b[0m\u001b[1;36m2\u001b[0m\u001b[1;33m==\u001b[0m\u001b[1;36m0\u001b[0m \u001b[1;33m:\u001b[0m\u001b[1;33m\u001b[0m\u001b[1;33m\u001b[0m\u001b[0m\n",
      "\u001b[1;32m~\\Anaconda3\\envs\\cakd5\\lib\\site-packages\\ipykernel\\kernelbase.py\u001b[0m in \u001b[0;36mraw_input\u001b[1;34m(self, prompt)\u001b[0m\n\u001b[0;32m   1008\u001b[0m             \u001b[0mself\u001b[0m\u001b[1;33m.\u001b[0m\u001b[0m_parent_ident\u001b[0m\u001b[1;33m[\u001b[0m\u001b[1;34m\"shell\"\u001b[0m\u001b[1;33m]\u001b[0m\u001b[1;33m,\u001b[0m\u001b[1;33m\u001b[0m\u001b[1;33m\u001b[0m\u001b[0m\n\u001b[0;32m   1009\u001b[0m             \u001b[0mself\u001b[0m\u001b[1;33m.\u001b[0m\u001b[0mget_parent\u001b[0m\u001b[1;33m(\u001b[0m\u001b[1;34m\"shell\"\u001b[0m\u001b[1;33m)\u001b[0m\u001b[1;33m,\u001b[0m\u001b[1;33m\u001b[0m\u001b[1;33m\u001b[0m\u001b[0m\n\u001b[1;32m-> 1010\u001b[1;33m             \u001b[0mpassword\u001b[0m\u001b[1;33m=\u001b[0m\u001b[1;32mFalse\u001b[0m\u001b[1;33m,\u001b[0m\u001b[1;33m\u001b[0m\u001b[1;33m\u001b[0m\u001b[0m\n\u001b[0m\u001b[0;32m   1011\u001b[0m         )\n\u001b[0;32m   1012\u001b[0m \u001b[1;33m\u001b[0m\u001b[0m\n",
      "\u001b[1;32m~\\Anaconda3\\envs\\cakd5\\lib\\site-packages\\ipykernel\\kernelbase.py\u001b[0m in \u001b[0;36m_input_request\u001b[1;34m(self, prompt, ident, parent, password)\u001b[0m\n\u001b[0;32m   1049\u001b[0m             \u001b[1;32mexcept\u001b[0m \u001b[0mKeyboardInterrupt\u001b[0m\u001b[1;33m:\u001b[0m\u001b[1;33m\u001b[0m\u001b[1;33m\u001b[0m\u001b[0m\n\u001b[0;32m   1050\u001b[0m                 \u001b[1;31m# re-raise KeyboardInterrupt, to truncate traceback\u001b[0m\u001b[1;33m\u001b[0m\u001b[1;33m\u001b[0m\u001b[1;33m\u001b[0m\u001b[0m\n\u001b[1;32m-> 1051\u001b[1;33m                 \u001b[1;32mraise\u001b[0m \u001b[0mKeyboardInterrupt\u001b[0m\u001b[1;33m(\u001b[0m\u001b[1;34m\"Interrupted by user\"\u001b[0m\u001b[1;33m)\u001b[0m \u001b[1;32mfrom\u001b[0m \u001b[1;32mNone\u001b[0m\u001b[1;33m\u001b[0m\u001b[1;33m\u001b[0m\u001b[0m\n\u001b[0m\u001b[0;32m   1052\u001b[0m             \u001b[1;32mexcept\u001b[0m \u001b[0mException\u001b[0m\u001b[1;33m:\u001b[0m\u001b[1;33m\u001b[0m\u001b[1;33m\u001b[0m\u001b[0m\n\u001b[0;32m   1053\u001b[0m                 \u001b[0mself\u001b[0m\u001b[1;33m.\u001b[0m\u001b[0mlog\u001b[0m\u001b[1;33m.\u001b[0m\u001b[0mwarning\u001b[0m\u001b[1;33m(\u001b[0m\u001b[1;34m\"Invalid Message:\"\u001b[0m\u001b[1;33m,\u001b[0m \u001b[0mexc_info\u001b[0m\u001b[1;33m=\u001b[0m\u001b[1;32mTrue\u001b[0m\u001b[1;33m)\u001b[0m\u001b[1;33m\u001b[0m\u001b[1;33m\u001b[0m\u001b[0m\n",
      "\u001b[1;31mKeyboardInterrupt\u001b[0m: Interrupted by user"
     ]
    }
   ],
   "source": [
    "#짝수와 짝수를 입력하면 곱한값을 출력하고 홀수와 홀수를 입력하면 덧셈 값을 출력하고\n",
    "# 그 외는 다시 입력하라는 메시지를 출력하세요.\n",
    "\n",
    "num1 = int(input(\"숫자를 입력하세요\"))\n",
    "num2 = int(input(\"숫자를 입력하세요\"))\n",
    "if num1%2 ==0 and num2%2==0 :\n",
    "    print(num1*num2)\n",
    "elif num1%2== 1 and num2%2 ==1:\n",
    "    print(num1+num2)\n",
    "    \n",
    "\n",
    "else:\n",
    "        print(\"다시 입력하세요\")"
   ]
  },
  {
   "cell_type": "code",
   "execution_count": 31,
   "id": "64f615a1",
   "metadata": {},
   "outputs": [
    {
     "ename": "SyntaxError",
     "evalue": "invalid syntax (Temp/ipykernel_4996/3759585237.py, line 6)",
     "output_type": "error",
     "traceback": [
      "\u001b[1;36m  File \u001b[1;32m\"C:\\Users\\admin\\AppData\\Local\\Temp/ipykernel_4996/3759585237.py\"\u001b[1;36m, line \u001b[1;32m6\u001b[0m\n\u001b[1;33m    var1 <==100 and var2 <==100:\u001b[0m\n\u001b[1;37m           ^\u001b[0m\n\u001b[1;31mSyntaxError\u001b[0m\u001b[1;31m:\u001b[0m invalid syntax\n"
     ]
    }
   ],
   "source": [
    "#[과제] 1부터 100까지 아래와 같이 2개의 수를 곱해서 가장 큰 수를 구하세요.\n",
    "#1*99,2*98....99*1\n",
    "var1<=100\n",
    "var2<=100\n",
    "while 1:\n",
    "    var1 <==100 and var2 <==100:\n",
    "        print(var1*var2)\n",
    "        print(max(var1*var2))\n",
    "    else:\n",
    "        break"
   ]
  },
  {
   "cell_type": "code",
   "execution_count": 1,
   "id": "e1aae73c",
   "metadata": {},
   "outputs": [
    {
     "ename": "SyntaxError",
     "evalue": "invalid syntax (Temp/ipykernel_10744/1429121997.py, line 10)",
     "output_type": "error",
     "traceback": [
      "\u001b[1;36m  File \u001b[1;32m\"C:\\Users\\admin\\AppData\\Local\\Temp/ipykernel_10744/1429121997.py\"\u001b[1;36m, line \u001b[1;32m10\u001b[0m\n\u001b[1;33m    print(a, \"*\",100-a'의 최댓값은' b'입니다')\u001b[0m\n\u001b[1;37m                             ^\u001b[0m\n\u001b[1;31mSyntaxError\u001b[0m\u001b[1;31m:\u001b[0m invalid syntax\n"
     ]
    }
   ],
   "source": [
    "#[과제] 1부터 100까지 아래와 같이 2개의 수를 곱해서 가장 큰 수를 구하세요.\n",
    "#1*99,2*98....99*1\n",
    "\n",
    "i +=1\n",
    "m =(100-i)\n",
    "\n",
    "for i in range(1,51):\n",
    "    if  i<i(100-51):\n",
    "        b=i\n",
    "    print(a, \"*\",100-a'의 최댓값은' b'입니다')  \n",
    "    \n",
    "\n",
    "def cal_abc(a,b,c):\n",
    "    return(a+b)%c\n",
    "\n",
    "cal_abc(2,5,3)\n",
    "\n"
   ]
  },
  {
   "cell_type": "markdown",
   "id": "319f9717",
   "metadata": {},
   "source": [
    "내일은 함수랑 예외를 배우고 다음주 화요일까지 끝내고 다담주부터 라이브러리 배울거에요\n",
    "다음주 금요일에 파이썬 시험봄"
   ]
  },
  {
   "cell_type": "code",
   "execution_count": 45,
   "id": "6533d2d2",
   "metadata": {},
   "outputs": [
    {
     "name": "stdout",
     "output_type": "stream",
     "text": [
      "[[1, 4, 7], [2, 5, 8], [3, 6, 9]]\n"
     ]
    }
   ],
   "source": [
    "#[과제] [ ] 을 채워서 아래의 출력과 같이 출력하세요.\n",
    "#출력:\n",
    "#[1,4,7], [2,5,8],[3,6,9]\n",
    "\n",
    "numbers = [1,2,3,4,5,6,7,8,9]\n",
    "output = [[],[],[]]\n",
    "\n",
    "\n",
    "for number in numbers:\n",
    "    output [(number+2)%3].append(number)\n",
    "print(output)\n"
   ]
  },
  {
   "cell_type": "markdown",
   "id": "50903087",
   "metadata": {},
   "source": [
    "https://nittaku.tistory.com/443"
   ]
  },
  {
   "cell_type": "code",
   "execution_count": 51,
   "id": "06aea61e",
   "metadata": {},
   "outputs": [
    {
     "data": {
      "text/plain": [
       "array([12, 15,  0,  3,  3,  7,  9, 19, 18,  4,  6, 12,  1,  6,  7, 14, 17,\n",
       "        5, 13,  8])"
      ]
     },
     "execution_count": 51,
     "metadata": {},
     "output_type": "execute_result"
    }
   ],
   "source": [
    "import numpy as np\n",
    "np.random.seed(0) # 랜덤하게 안나오고 고정시킬 떄  seed(아무숫자나 넣어도돼)\n",
    "num= np.random.randint(20,size=20)# 20 아래의 숫자중에서 size=몇 개 뽑아낼건지\n",
    "num"
   ]
  },
  {
   "cell_type": "code",
   "execution_count": null,
   "id": "1aa68fea",
   "metadata": {
    "scrolled": true
   },
   "outputs": [],
   "source": [
    "#[과제] 사용자가 입력한 게임 회수만큼 로또 번호를 출력하는 프로그램을 작성하세요.\n",
    "\n",
    "\n",
    "import numpy as np\n",
    "\n",
    "while 1:\n",
    "    x= int(input('게임횟수를 입력하세요:'))\n",
    "    for n in range(1,46):\n",
    "        lotto_num=np.random.randint(46,size=6)\n",
    "    print(lotto_num)\n",
    "    "
   ]
  },
  {
   "cell_type": "code",
   "execution_count": null,
   "id": "7bcf6d1e",
   "metadata": {},
   "outputs": [],
   "source": [
    "\n",
    "\n"
   ]
  },
  {
   "cell_type": "code",
   "execution_count": 165,
   "id": "974581c1",
   "metadata": {},
   "outputs": [
    {
     "name": "stdout",
     "output_type": "stream",
     "text": [
      "[ 9  3  7  1  3 10  7  8  8  4] "
     ]
    }
   ],
   "source": [
    "#[과제]남녀 파트너 정해주기 프로그램을 작성하세요(5개 커플)\n",
    "male = ['슈퍼맨', '심봉사', '로미오', '이몽룡', '마루치']\n",
    "female = ['원더우먼', '뺑덕', '줄리엣', '성춘향', '아라치']\n",
    "import numpy as np\n",
    "\n",
    "for i in range(2,11):\n",
    "     partner= np.random.randint(11,size=2*5)\n",
    "print(partner,end=' ')\n",
    "\n"
   ]
  },
  {
   "cell_type": "code",
   "execution_count": 166,
   "id": "b3f83edb",
   "metadata": {},
   "outputs": [
    {
     "ename": "SyntaxError",
     "evalue": "EOL while scanning string literal (Temp/ipykernel_4996/311085308.py, line 10)",
     "output_type": "error",
     "traceback": [
      "\u001b[1;36m  File \u001b[1;32m\"C:\\Users\\admin\\AppData\\Local\\Temp/ipykernel_4996/311085308.py\"\u001b[1;36m, line \u001b[1;32m10\u001b[0m\n\u001b[1;33m    print(f'커플{i+1}:{couple[0]}-{couple[1]})\u001b[0m\n\u001b[1;37m                                            ^\u001b[0m\n\u001b[1;31mSyntaxError\u001b[0m\u001b[1;31m:\u001b[0m EOL while scanning string literal\n"
     ]
    }
   ],
   "source": [
    "from random import shuffle\n",
    "\n",
    "male = ['슈퍼맨', '심봉사', '로미오', '이몽룡', '마루치']\n",
    "female = ['원더우먼', '뺑덕', '줄리엣', '성춘향', '아라치']\n",
    "shuffle(male)\n",
    "shuffle(female)\n",
    "couples = zip(male, female)\n",
    "\n",
    "for i, couple in enumerate(couples):\n",
    "\tprint(f'커플{i+1}:{couple[0]}-{couple[1]})"
   ]
  },
  {
   "cell_type": "code",
   "execution_count": 168,
   "id": "fa6bdaf1",
   "metadata": {},
   "outputs": [
    {
     "name": "stdout",
     "output_type": "stream",
     "text": [
      "커플1:이몽룡-줄리엣\n",
      "커플2:슈퍼맨-성춘향\n",
      "커플3:마루치-아라치\n",
      "커플4:심봉사-원더우먼\n",
      "커플5:로미오-뺑덕\n"
     ]
    }
   ],
   "source": [
    "from random import shuffle\n",
    "\n",
    "male = ['슈퍼맨', '심봉사', '로미오', '이몽룡', '마루치']\n",
    "female = ['원더우먼', '뺑덕', '줄리엣', '성춘향', '아라치']\n",
    "shuffle(male)\n",
    "shuffle(female)\n",
    "couples = zip(male,female)\n",
    "\n",
    "for i, couple in enumerate(couples):\n",
    "    print(f'커플{i+1}:{couple[0]}-{couple[1]}')\n",
    "          "
   ]
  },
  {
   "cell_type": "code",
   "execution_count": 193,
   "id": "c58c47f2",
   "metadata": {},
   "outputs": [
    {
     "name": "stdout",
     "output_type": "stream",
     "text": [
      "['A', 'B', 'C', 'D', 'E']\n"
     ]
    }
   ],
   "source": [
    "#입력받은 문자열의 각 문자를 그 다음 문자로 변경하여 출력하세요\n",
    "#입력  abcde->출력 bcdea\n",
    "\n",
    "import numpy as np\n",
    "pool = ['A', 'B', 'C', 'D','E']\n",
    "print(list(pool))\n",
    "\n",
    "\n",
    "\n"
   ]
  },
  {
   "cell_type": "code",
   "execution_count": 196,
   "id": "849b2a1d",
   "metadata": {},
   "outputs": [
    {
     "name": "stdout",
     "output_type": "stream",
     "text": [
      "문장을 입력하세요> 박기범\n",
      "기범박\n"
     ]
    }
   ],
   "source": [
    "text= input('문장을 입력하세요> ')\n",
    "\n",
    "ret=''\n",
    "\n",
    "for i in range(len(text)):\n",
    "    if i != len (text)-1 :\n",
    "        ret+= text[i+1]\n",
    "    else:\n",
    "        ret += text[0]\n",
    "print(ret)\n",
    "    "
   ]
  },
  {
   "cell_type": "code",
   "execution_count": 63,
   "id": "d49a5e8e",
   "metadata": {},
   "outputs": [
    {
     "data": {
      "text/plain": [
       "'\\n중앙 식당에 오신 것을 환영합니다\\n\\n========================================\\n\\n          - 메  뉴 -\\n    1. 불고기 비빔밥 : 12,000원\\n    2. 야채 비빔밥 : 8,000원\\n    3. 전주 비빔밥 : 10,000원\\n\\n    세트 주문시 : 3000원 추가\\n    (세트는 밥과 반찬이 추가됩니다.)\\n\\n========================================\\n\\n비빔밥 메뉴를 선택해 주세요. 1, 2, 3 >>> 2\\n세트 주문을 하시겠습니까? 3,000원 추가. y, n >>> y\\n총 금액은 11000원 입니다.\\n\\n'"
      ]
     },
     "execution_count": 63,
     "metadata": {},
     "output_type": "execute_result"
    }
   ],
   "source": [
    "#음식점의 음식 주문가격 산출 프로그램을 자유롭게 작성하세요\n",
    "\n",
    "'''\n",
    "중앙 식당에 오신 것을 환영합니다\n",
    "\n",
    "========================================\n",
    "\n",
    "          - 메  뉴 -\n",
    "    1. 불고기 비빔밥 : 12,000원\n",
    "    2. 야채 비빔밥 : 8,000원\n",
    "    3. 전주 비빔밥 : 10,000원\n",
    "\n",
    "    세트 주문시 : 3000원 추가\n",
    "    (세트는 밥과 반찬이 추가됩니다.)\n",
    "\n",
    "========================================\n",
    "\n",
    "비빔밥 메뉴를 선택해 주세요. 1, 2, 3 >>> 2\n",
    "세트 주문을 하시겠습니까? 3,000원 추가. y, n >>> y\n",
    "총 금액은 11000원 입니다.\n",
    "\n",
    "'''\n"
   ]
  },
  {
   "cell_type": "code",
   "execution_count": 211,
   "id": "655d5827",
   "metadata": {},
   "outputs": [
    {
     "ename": "IndentationError",
     "evalue": "unexpected indent (Temp/ipykernel_4996/3900844154.py, line 16)",
     "output_type": "error",
     "traceback": [
      "\u001b[1;36m  File \u001b[1;32m\"C:\\Users\\admin\\AppData\\Local\\Temp/ipykernel_4996/3900844154.py\"\u001b[1;36m, line \u001b[1;32m16\u001b[0m\n\u001b[1;33m    if menu == 1:\u001b[0m\n\u001b[1;37m    ^\u001b[0m\n\u001b[1;31mIndentationError\u001b[0m\u001b[1;31m:\u001b[0m unexpected indent\n"
     ]
    }
   ],
   "source": [
    "menu='''\n",
    "중앙매점에 오신 것을 환영합니다\n",
    "=============================\n",
    "       -메  뉴 - \n",
    " 1. 떡볶이 : 6,000원  \n",
    " 2. 순대   : 7,000원   \n",
    " 3. 김밥   : 3,000원\n",
    " 세트 주문시 : 3,000원 추가  (음료수 추가와 곱빼기)\n",
    "'''\n",
    "\n",
    "menu =int(input(\"비빔밥의 종류를 선택하세요:  \"))\n",
    "set= input( \"세트로 주문하시겠습니까: \")\n",
    "\n",
    "print('중앙 식당에 오신 것을 환영합니다.'+'\\n')\n",
    "\n",
    "    if menu == 1:\n",
    "        if s == 'y':\n",
    "            print('총 금액은 9,000원 입니다.')\n",
    "        else:\n",
    "            print('총 금액은 6,000원입니다.')\n",
    "        elif (m==2):\n",
    "            if (s==\"y\"):\n",
    "            print('총 금액은 10,000원입니다.')\n",
    "        else:\n",
    "            print('총 금액은 7,000원입니다.')\n",
    "    else:\n",
    "        if (s==\"y\"):\n",
    "            print('총 금액은 6,000원입니다.')\n",
    "        else:\n",
    "            print('총 금액은 3,000원입니다.')         "
   ]
  },
  {
   "cell_type": "code",
   "execution_count": 1,
   "id": "9c46da5a",
   "metadata": {},
   "outputs": [
    {
     "name": "stdout",
     "output_type": "stream",
     "text": [
      "중앙 식당에 오신 것을 환영합니다. \n",
      "\n",
      "========================================\n",
      "\n",
      "\n",
      "       -메  뉴 - \n",
      " 1. 떡볶이 : 6,000원  \n",
      " 2. 순대   : 7,000원   \n",
      " 3. 김밥   : 3,000원\n",
      " 세트 주문시 : 3,000원 추가  (음료수 추가와 곱빼기)\n",
      " \n",
      "\n",
      "========================================\n",
      "메뉴를 선택해주세요. 1,2,3, >> 1\n",
      "세트를 선택하시겠습니까? 3000원 추가. y/n>> y\n",
      "총 금액은 6000원 입니다\n"
     ]
    }
   ],
   "source": [
    "#과제 수정보완하세요\n",
    "\n",
    "\n",
    "\n",
    "\n",
    "menu='''\n",
    "\n",
    "       -메  뉴 - \n",
    " 1. 떡볶이 : 6,000원  \n",
    " 2. 순대   : 7,000원   \n",
    " 3. 김밥   : 3,000원\n",
    " 세트 주문시 : 3,000원 추가  (음료수 추가와 곱빼기)\n",
    " \n",
    "'''\n",
    "\n",
    "print('중앙 식당에 오신 것을 환영합니다.' + ' \\n')\n",
    "print(\"=\"*40)\n",
    "print(menu)\n",
    "print(\"=\"*40)\n",
    "\n",
    "order = input('메뉴를 선택해주세요. 1,2,3, >> ')\n",
    "combo = input('세트를 선택하시겠습니까? 3000원 추가. y/n>> ')\n",
    "\n",
    "price = 0\n",
    "if order == '1':\n",
    "    price = 6000\n",
    "    print(f'총 금액은 {price}원 입니다')\n",
    "elif order == '2':\n",
    "    price = 7000\n",
    "    print(f'총 금액은 {price}원 입니다')\n",
    "else :\n",
    "    price = 3000\n",
    "    print(f'총 금액은 {price}원 입니다')\n",
    "if combo == 'y':\n",
    "    price += 3000\n",
    "\n",
    "elif combo == 'n':\n",
    "    price = price\n",
    "    \n",
    "else :\n",
    "    print('잘못 입력하였습니다')\n"
   ]
  },
  {
   "cell_type": "code",
   "execution_count": 198,
   "id": "1959a1f3",
   "metadata": {},
   "outputs": [
    {
     "name": "stdout",
     "output_type": "stream",
     "text": [
      "중앙매점에 오신 것을 환영합니다\n",
      "=============================\n",
      "\n",
      "         - 메  뉴 -\n",
      "   1. 떡볶이 : 6,000원\n",
      "   2. 순대   : 7,000원\n",
      "   3. 김밥   : 3,000원\n",
      "\n",
      "세트 주문시 : 3,000원 추가\n",
      "  (음료수 추가와 곱빼기)\n",
      "\n",
      "==============================\n"
     ]
    },
    {
     "ename": "KeyboardInterrupt",
     "evalue": "Interrupted by user",
     "output_type": "error",
     "traceback": [
      "\u001b[1;31m---------------------------------------------------------------------------\u001b[0m",
      "\u001b[1;31mKeyboardInterrupt\u001b[0m                         Traceback (most recent call last)",
      "\u001b[1;32m~\\AppData\\Local\\Temp/ipykernel_4996/1837877763.py\u001b[0m in \u001b[0;36m<module>\u001b[1;34m\u001b[0m\n\u001b[0;32m      2\u001b[0m \u001b[1;33m\u001b[0m\u001b[0m\n\u001b[0;32m      3\u001b[0m \u001b[1;33m\u001b[0m\u001b[0m\n\u001b[1;32m----> 4\u001b[1;33m \u001b[0mm\u001b[0m\u001b[1;33m=\u001b[0m\u001b[0mint\u001b[0m\u001b[1;33m(\u001b[0m\u001b[0minput\u001b[0m\u001b[1;33m(\u001b[0m\u001b[1;34m'메뉴를 선택해 주세요.1,2,3: '\u001b[0m\u001b[1;33m)\u001b[0m\u001b[1;33m)\u001b[0m\u001b[1;33m\u001b[0m\u001b[1;33m\u001b[0m\u001b[0m\n\u001b[0m\u001b[0;32m      5\u001b[0m \u001b[0ms\u001b[0m\u001b[1;33m=\u001b[0m\u001b[0minput\u001b[0m\u001b[1;33m(\u001b[0m\u001b[1;34m'세트 주문을 하시겠습니까? 3,000원 추가. y,n: '\u001b[0m\u001b[1;33m)\u001b[0m\u001b[1;33m\u001b[0m\u001b[1;33m\u001b[0m\u001b[0m\n\u001b[0;32m      6\u001b[0m \u001b[1;32mif\u001b[0m \u001b[1;33m(\u001b[0m\u001b[0mm\u001b[0m\u001b[1;33m==\u001b[0m\u001b[1;36m1\u001b[0m\u001b[1;33m)\u001b[0m\u001b[1;33m:\u001b[0m\u001b[1;33m\u001b[0m\u001b[1;33m\u001b[0m\u001b[0m\n",
      "\u001b[1;32m~\\Anaconda3\\envs\\cakd5\\lib\\site-packages\\ipykernel\\kernelbase.py\u001b[0m in \u001b[0;36mraw_input\u001b[1;34m(self, prompt)\u001b[0m\n\u001b[0;32m   1008\u001b[0m             \u001b[0mself\u001b[0m\u001b[1;33m.\u001b[0m\u001b[0m_parent_ident\u001b[0m\u001b[1;33m[\u001b[0m\u001b[1;34m\"shell\"\u001b[0m\u001b[1;33m]\u001b[0m\u001b[1;33m,\u001b[0m\u001b[1;33m\u001b[0m\u001b[1;33m\u001b[0m\u001b[0m\n\u001b[0;32m   1009\u001b[0m             \u001b[0mself\u001b[0m\u001b[1;33m.\u001b[0m\u001b[0mget_parent\u001b[0m\u001b[1;33m(\u001b[0m\u001b[1;34m\"shell\"\u001b[0m\u001b[1;33m)\u001b[0m\u001b[1;33m,\u001b[0m\u001b[1;33m\u001b[0m\u001b[1;33m\u001b[0m\u001b[0m\n\u001b[1;32m-> 1010\u001b[1;33m             \u001b[0mpassword\u001b[0m\u001b[1;33m=\u001b[0m\u001b[1;32mFalse\u001b[0m\u001b[1;33m,\u001b[0m\u001b[1;33m\u001b[0m\u001b[1;33m\u001b[0m\u001b[0m\n\u001b[0m\u001b[0;32m   1011\u001b[0m         )\n\u001b[0;32m   1012\u001b[0m \u001b[1;33m\u001b[0m\u001b[0m\n",
      "\u001b[1;32m~\\Anaconda3\\envs\\cakd5\\lib\\site-packages\\ipykernel\\kernelbase.py\u001b[0m in \u001b[0;36m_input_request\u001b[1;34m(self, prompt, ident, parent, password)\u001b[0m\n\u001b[0;32m   1049\u001b[0m             \u001b[1;32mexcept\u001b[0m \u001b[0mKeyboardInterrupt\u001b[0m\u001b[1;33m:\u001b[0m\u001b[1;33m\u001b[0m\u001b[1;33m\u001b[0m\u001b[0m\n\u001b[0;32m   1050\u001b[0m                 \u001b[1;31m# re-raise KeyboardInterrupt, to truncate traceback\u001b[0m\u001b[1;33m\u001b[0m\u001b[1;33m\u001b[0m\u001b[1;33m\u001b[0m\u001b[0m\n\u001b[1;32m-> 1051\u001b[1;33m                 \u001b[1;32mraise\u001b[0m \u001b[0mKeyboardInterrupt\u001b[0m\u001b[1;33m(\u001b[0m\u001b[1;34m\"Interrupted by user\"\u001b[0m\u001b[1;33m)\u001b[0m \u001b[1;32mfrom\u001b[0m \u001b[1;32mNone\u001b[0m\u001b[1;33m\u001b[0m\u001b[1;33m\u001b[0m\u001b[0m\n\u001b[0m\u001b[0;32m   1052\u001b[0m             \u001b[1;32mexcept\u001b[0m \u001b[0mException\u001b[0m\u001b[1;33m:\u001b[0m\u001b[1;33m\u001b[0m\u001b[1;33m\u001b[0m\u001b[0m\n\u001b[0;32m   1053\u001b[0m                 \u001b[0mself\u001b[0m\u001b[1;33m.\u001b[0m\u001b[0mlog\u001b[0m\u001b[1;33m.\u001b[0m\u001b[0mwarning\u001b[0m\u001b[1;33m(\u001b[0m\u001b[1;34m\"Invalid Message:\"\u001b[0m\u001b[1;33m,\u001b[0m \u001b[0mexc_info\u001b[0m\u001b[1;33m=\u001b[0m\u001b[1;32mTrue\u001b[0m\u001b[1;33m)\u001b[0m\u001b[1;33m\u001b[0m\u001b[1;33m\u001b[0m\u001b[0m\n",
      "\u001b[1;31mKeyboardInterrupt\u001b[0m: Interrupted by user"
     ]
    }
   ],
   "source": [
    "print('중앙매점에 오신 것을 환영합니다\\n=============================\\n\\n         - 메  뉴 -\\n   1. 떡볶이 : 6,000원\\n   2. 순대   : 7,000원\\n   3. 김밥   : 3,000원\\n\\n세트 주문시 : 3,000원 추가\\n  (음료수 추가와 곱빼기)\\n\\n==============================')\n",
    "\n",
    "\n",
    "m=int(input('메뉴를 선택해 주세요.1,2,3: '))\n",
    "s=input('세트 주문을 하시겠습니까? 3,000원 추가. y,n: ')\n",
    "if (m==1):\n",
    "    if (s==\"y\"):\n",
    "        print('총 금액은 9,000원입니다.')\n",
    "    else:\n",
    "        print('총 금액은 6,000원입니다.')\n",
    "elif (m==2):\n",
    "    if (s==\"y\"):\n",
    "        print('총 금액은 10,000원입니다.')\n",
    "    else:\n",
    "        print('총 금액은 7,000원입니다.')\n",
    "else:\n",
    "    if (s==\"y\"):\n",
    "        print('총 금액은 6,000원입니다.')\n",
    "    else:\n",
    "        print('총 금액은 3,000원입니다.')\n"
   ]
  },
  {
   "cell_type": "code",
   "execution_count": 4,
   "id": "2fee8fa4",
   "metadata": {
    "scrolled": true
   },
   "outputs": [
    {
     "ename": "IndentationError",
     "evalue": "expected an indented block (Temp/ipykernel_10744/1246971888.py, line 11)",
     "output_type": "error",
     "traceback": [
      "\u001b[1;36m  File \u001b[1;32m\"C:\\Users\\admin\\AppData\\Local\\Temp/ipykernel_10744/1246971888.py\"\u001b[1;36m, line \u001b[1;32m11\u001b[0m\n\u001b[1;33m    if computer == '가위':\u001b[0m\n\u001b[1;37m     ^\u001b[0m\n\u001b[1;31mIndentationError\u001b[0m\u001b[1;31m:\u001b[0m expected an indented block\n"
     ]
    }
   ],
   "source": [
    "#[과제] palyer가 3승할 때까지 계쏙 진행되는 가위바위보 게임 프록램을 작성하세요\n",
    "#게임은 플레이어와 컴퓨터가 진행\n",
    "\n",
    "\n",
    "\n",
    "computer = random.choice(['가위', '바위', '보'])\n",
    "player = input('가위 바위 보 중 하나를 입력하세요: ')\n",
    "\n",
    "while 1: \n",
    "    \n",
    "if computer == '가위':\n",
    "    print('컴퓨터는 가위를 냈습니다.')\n",
    "    if player == '가위':\n",
    "        print('플레이어는 가위를 냈습니다.')\n",
    "        print('무승부')\n",
    "    elif player == '바위':\n",
    "        print('플레이어는 바위를 냈습니다.')\n",
    "        print('플레이어 승리')   \n",
    "    elif player == '보':\n",
    "        print('플레이어는 보를 냈습니다.')\n",
    "        print('컴퓨터 승리')\n",
    "elif computer == '바위':\n",
    "    print('컴퓨터는 바위를 냈습니다.')\n",
    "    if player == '가위':\n",
    "        print('플레이어는 가위를 냈습니다.')\n",
    "        print('컴퓨터 승리')\n",
    "    elif player == '바위':\n",
    "        print('플레이어는 바위를 냈습니다.')\n",
    "        print('무승부')\n",
    "    elif player == '보':\n",
    "        print('플레이어는 보를 냈습니다.')\n",
    "        print('플레이어 승리')\n",
    "elif computer == '보':\n",
    "    print('컴퓨터는 보를 냈습니다.')\n",
    "    if player == '가위':\n",
    "        print('플레이어는 가위를 냈습니다.')\n",
    "        print('플레이어 승리')\n",
    "    elif player == '바위':\n",
    "        print('플레이어는 바위를 냈습니다.')\n",
    "        print('컴퓨터 승리') \n",
    "    elif player == '보':\n",
    "        print('플레이어는 보를 냈습니다.')\n",
    "        print('무승부')\n",
    "    "
   ]
  },
  {
   "cell_type": "code",
   "execution_count": null,
   "id": "36d9191c",
   "metadata": {},
   "outputs": [],
   "source": [
    "import numpy as np\n",
    "while(1):\n",
    "    s_e=input(\"게임을 하시겠습니까?[y/n]: \")\n",
    "\n",
    "    if(s_e==\"y\"):\n",
    "        anser= np.random.randint(0,10)\n",
    "        while(a != anser):\n",
    "            a=int(input(\"숫자를 입력하세요(0~10): \"))\n",
    "            if(a>anser):\n",
    "                print(\"down\")\n",
    "            elif(a<anser):\n",
    "                print(\"up\")\n",
    "            else:\n",
    "                print(\"범위 안의 숫자를 입력해주세요.\")\n",
    "        print(\"정답입니다.\")\n",
    "    else:\n",
    "        print(\"게임을 종료합니다.\")\n",
    "        break\n"
   ]
  },
  {
   "cell_type": "code",
   "execution_count": 8,
   "id": "1458b4ab",
   "metadata": {},
   "outputs": [
    {
     "ename": "SyntaxError",
     "evalue": "invalid syntax (Temp/ipykernel_10744/2250381115.py, line 15)",
     "output_type": "error",
     "traceback": [
      "\u001b[1;36m  File \u001b[1;32m\"C:\\Users\\admin\\AppData\\Local\\Temp/ipykernel_10744/2250381115.py\"\u001b[1;36m, line \u001b[1;32m15\u001b[0m\n\u001b[1;33m    elif player-com == -1 or (player == 2 and com ==0)\u001b[0m\n\u001b[1;37m       ^\u001b[0m\n\u001b[1;31mSyntaxError\u001b[0m\u001b[1;31m:\u001b[0m invalid syntax\n"
     ]
    }
   ],
   "source": [
    "import random\n",
    "game =[rock,scissor,paper]\n",
    "com= random.randint(0,2)\n",
    "\n",
    "player=int(input(\"0:바위, 1:가위, 2:보 \"))\n",
    "\n",
    "print(\"나의 선택은?:\")\n",
    "print(game[player])\n",
    "\n",
    "print(\"컴퓨터 선택:\")\n",
    "print(game[player])\n",
    "\n",
    "if com== player:\n",
    "    print(\"비겼습니다\")\n",
    "    elif player-com == -1 or (player == 2 and com ==0)\n",
    "        print(\"이겼습니다\")\n",
    "    else:\n",
    "        print(\"졌습니다\")"
   ]
  },
  {
   "cell_type": "code",
   "execution_count": 224,
   "id": "237cffee",
   "metadata": {},
   "outputs": [
    {
     "name": "stdout",
     "output_type": "stream",
     "text": [
      "게임을 하시겠습니까?  [y/n]y\n",
      "숫자를 입력하세요(0~10):0\n",
      "up\n",
      "숫자를 입력하세요(0~10):5\n",
      "down\n",
      "숫자를 입력하세요(0~10):3\n",
      "범위 안의 숫자를 입력하세요\n",
      "정답입니다\n"
     ]
    },
    {
     "ename": "KeyboardInterrupt",
     "evalue": "Interrupted by user",
     "output_type": "error",
     "traceback": [
      "\u001b[1;31m---------------------------------------------------------------------------\u001b[0m",
      "\u001b[1;31mKeyboardInterrupt\u001b[0m                         Traceback (most recent call last)",
      "\u001b[1;32m~\\AppData\\Local\\Temp/ipykernel_4996/3156795317.py\u001b[0m in \u001b[0;36m<module>\u001b[1;34m\u001b[0m\n\u001b[0;32m      1\u001b[0m \u001b[1;32mimport\u001b[0m \u001b[0mnumpy\u001b[0m \u001b[1;32mas\u001b[0m \u001b[0mnp\u001b[0m\u001b[1;33m\u001b[0m\u001b[1;33m\u001b[0m\u001b[0m\n\u001b[0;32m      2\u001b[0m \u001b[1;32mwhile\u001b[0m \u001b[1;36m1\u001b[0m\u001b[1;33m:\u001b[0m\u001b[1;33m\u001b[0m\u001b[1;33m\u001b[0m\u001b[0m\n\u001b[1;32m----> 3\u001b[1;33m     \u001b[0mq\u001b[0m\u001b[1;33m=\u001b[0m\u001b[0minput\u001b[0m\u001b[1;33m(\u001b[0m\u001b[1;34m\"게임을 하시겠습니까?  [y/n]\"\u001b[0m\u001b[1;33m)\u001b[0m\u001b[1;33m\u001b[0m\u001b[1;33m\u001b[0m\u001b[0m\n\u001b[0m\u001b[0;32m      4\u001b[0m \u001b[1;33m\u001b[0m\u001b[0m\n\u001b[0;32m      5\u001b[0m     \u001b[1;32mif\u001b[0m \u001b[0mq\u001b[0m\u001b[1;33m==\u001b[0m\u001b[1;34m'y'\u001b[0m\u001b[1;33m:\u001b[0m\u001b[1;33m\u001b[0m\u001b[1;33m\u001b[0m\u001b[0m\n",
      "\u001b[1;32m~\\Anaconda3\\envs\\cakd5\\lib\\site-packages\\ipykernel\\kernelbase.py\u001b[0m in \u001b[0;36mraw_input\u001b[1;34m(self, prompt)\u001b[0m\n\u001b[0;32m   1008\u001b[0m             \u001b[0mself\u001b[0m\u001b[1;33m.\u001b[0m\u001b[0m_parent_ident\u001b[0m\u001b[1;33m[\u001b[0m\u001b[1;34m\"shell\"\u001b[0m\u001b[1;33m]\u001b[0m\u001b[1;33m,\u001b[0m\u001b[1;33m\u001b[0m\u001b[1;33m\u001b[0m\u001b[0m\n\u001b[0;32m   1009\u001b[0m             \u001b[0mself\u001b[0m\u001b[1;33m.\u001b[0m\u001b[0mget_parent\u001b[0m\u001b[1;33m(\u001b[0m\u001b[1;34m\"shell\"\u001b[0m\u001b[1;33m)\u001b[0m\u001b[1;33m,\u001b[0m\u001b[1;33m\u001b[0m\u001b[1;33m\u001b[0m\u001b[0m\n\u001b[1;32m-> 1010\u001b[1;33m             \u001b[0mpassword\u001b[0m\u001b[1;33m=\u001b[0m\u001b[1;32mFalse\u001b[0m\u001b[1;33m,\u001b[0m\u001b[1;33m\u001b[0m\u001b[1;33m\u001b[0m\u001b[0m\n\u001b[0m\u001b[0;32m   1011\u001b[0m         )\n\u001b[0;32m   1012\u001b[0m \u001b[1;33m\u001b[0m\u001b[0m\n",
      "\u001b[1;32m~\\Anaconda3\\envs\\cakd5\\lib\\site-packages\\ipykernel\\kernelbase.py\u001b[0m in \u001b[0;36m_input_request\u001b[1;34m(self, prompt, ident, parent, password)\u001b[0m\n\u001b[0;32m   1049\u001b[0m             \u001b[1;32mexcept\u001b[0m \u001b[0mKeyboardInterrupt\u001b[0m\u001b[1;33m:\u001b[0m\u001b[1;33m\u001b[0m\u001b[1;33m\u001b[0m\u001b[0m\n\u001b[0;32m   1050\u001b[0m                 \u001b[1;31m# re-raise KeyboardInterrupt, to truncate traceback\u001b[0m\u001b[1;33m\u001b[0m\u001b[1;33m\u001b[0m\u001b[1;33m\u001b[0m\u001b[0m\n\u001b[1;32m-> 1051\u001b[1;33m                 \u001b[1;32mraise\u001b[0m \u001b[0mKeyboardInterrupt\u001b[0m\u001b[1;33m(\u001b[0m\u001b[1;34m\"Interrupted by user\"\u001b[0m\u001b[1;33m)\u001b[0m \u001b[1;32mfrom\u001b[0m \u001b[1;32mNone\u001b[0m\u001b[1;33m\u001b[0m\u001b[1;33m\u001b[0m\u001b[0m\n\u001b[0m\u001b[0;32m   1052\u001b[0m             \u001b[1;32mexcept\u001b[0m \u001b[0mException\u001b[0m\u001b[1;33m:\u001b[0m\u001b[1;33m\u001b[0m\u001b[1;33m\u001b[0m\u001b[0m\n\u001b[0;32m   1053\u001b[0m                 \u001b[0mself\u001b[0m\u001b[1;33m.\u001b[0m\u001b[0mlog\u001b[0m\u001b[1;33m.\u001b[0m\u001b[0mwarning\u001b[0m\u001b[1;33m(\u001b[0m\u001b[1;34m\"Invalid Message:\"\u001b[0m\u001b[1;33m,\u001b[0m \u001b[0mexc_info\u001b[0m\u001b[1;33m=\u001b[0m\u001b[1;32mTrue\u001b[0m\u001b[1;33m)\u001b[0m\u001b[1;33m\u001b[0m\u001b[1;33m\u001b[0m\u001b[0m\n",
      "\u001b[1;31mKeyboardInterrupt\u001b[0m: Interrupted by user"
     ]
    }
   ],
   "source": [
    "import numpy as np\n",
    "while 1:\n",
    "    q=input(\"게임을 하시겠습니까?  [y/n]\")\n",
    "    \n",
    "    if q=='y':\n",
    "        computer = np.random.randint(0,10)\n",
    "        while(x!= computer):\n",
    "            x=int(input('숫자를 입력하세요(0~10):'))\n",
    "            if(x>computer):\n",
    "                print('down')\n",
    "            elif(x<computer):\n",
    "                print('up')\n",
    "            else:\n",
    "                print(\"범위 안의 숫자를 입력하세요\")\n",
    "        print(\"정답입니다\")\n",
    "    \n",
    "    else:\n",
    "        print('게임을 종료합니다')\n",
    "        break"
   ]
  },
  {
   "cell_type": "code",
   "execution_count": 159,
   "id": "e2cbb6b3",
   "metadata": {},
   "outputs": [],
   "source": [
    "#컴퓨터가 랜덤하게 생성하는 숫자 맞추기 게임 프로그램을 작성하세요\n",
    "\n",
    "def number_compare(number, g_number):\n",
    "    choice == 'y'\n",
    "    if (number< g_number):\n",
    "        \n",
    "        print(\"입력한 숫자가 정답보다 큽니다\")\n",
    "        print (\"숫자를 다시 입력하세요\")\n",
    "        print (\"--------\")\n",
    "    elif (number> g_number):\n",
    "        print(\"입력한 숫자가 정답보다 작습니다\")\n",
    "        print(\"숫자를 다시 입력하세요\")\n",
    "        print(\"----\")\n",
    "    else: \n",
    "        print(\"정답!\")\n",
    "        print(\"-----\")\n",
    "        choice=input(\"다시 하시겠습니까?\")\n",
    "        if (choice =='n'):\n",
    "            print(\"프로그램을 종료합니다\")\n",
    "        \n",
    "        return choice"
   ]
  },
  {
   "cell_type": "code",
   "execution_count": 184,
   "id": "7e3e5310",
   "metadata": {},
   "outputs": [
    {
     "data": {
      "text/plain": [
       "'bcdea'"
      ]
     },
     "execution_count": 184,
     "metadata": {},
     "output_type": "execute_result"
    }
   ],
   "source": [
    "str = \"abcde\"\n",
    "lst = list(str)\n",
    "lst.append(lst[0])\n",
    "lst.remove(lst[0])\n",
    "str = ''.join(lst)\n",
    "str\n"
   ]
  },
  {
   "cell_type": "code",
   "execution_count": null,
   "id": "4179380b",
   "metadata": {},
   "outputs": [],
   "source": [
    "word = list(input('문자열을 입력해 주세요. '))\n",
    "word.append(word[0])\n",
    "del word[0]\n",
    "print(''.join(word))\n"
   ]
  },
  {
   "cell_type": "code",
   "execution_count": 187,
   "id": "efc110ef",
   "metadata": {},
   "outputs": [
    {
     "ename": "KeyboardInterrupt",
     "evalue": "Interrupted by user",
     "output_type": "error",
     "traceback": [
      "\u001b[1;31m---------------------------------------------------------------------------\u001b[0m",
      "\u001b[1;31mKeyboardInterrupt\u001b[0m                         Traceback (most recent call last)",
      "\u001b[1;32m~\\AppData\\Local\\Temp/ipykernel_4996/2681470129.py\u001b[0m in \u001b[0;36m<module>\u001b[1;34m\u001b[0m\n\u001b[1;32m----> 1\u001b[1;33m \u001b[0ma\u001b[0m\u001b[1;33m=\u001b[0m\u001b[0mlist\u001b[0m\u001b[1;33m(\u001b[0m\u001b[0minput\u001b[0m\u001b[1;33m(\u001b[0m\u001b[1;34m\"입력 : \"\u001b[0m\u001b[1;33m)\u001b[0m\u001b[1;33m)\u001b[0m\u001b[1;33m\u001b[0m\u001b[1;33m\u001b[0m\u001b[0m\n\u001b[0m\u001b[0;32m      2\u001b[0m \u001b[1;33m\u001b[0m\u001b[0m\n\u001b[0;32m      3\u001b[0m \u001b[1;32mfor\u001b[0m \u001b[0mi\u001b[0m \u001b[1;32min\u001b[0m \u001b[0mrange\u001b[0m\u001b[1;33m(\u001b[0m\u001b[0mlen\u001b[0m\u001b[1;33m(\u001b[0m\u001b[0ma\u001b[0m\u001b[1;33m)\u001b[0m\u001b[1;33m-\u001b[0m\u001b[1;36m1\u001b[0m\u001b[1;33m)\u001b[0m\u001b[1;33m:\u001b[0m\u001b[1;33m\u001b[0m\u001b[1;33m\u001b[0m\u001b[0m\n\u001b[0;32m      4\u001b[0m     \u001b[0mprint\u001b[0m\u001b[1;33m(\u001b[0m\u001b[0ma\u001b[0m\u001b[1;33m[\u001b[0m\u001b[0mi\u001b[0m\u001b[1;33m+\u001b[0m\u001b[1;36m1\u001b[0m\u001b[1;33m]\u001b[0m\u001b[1;33m,\u001b[0m\u001b[0mend\u001b[0m\u001b[1;33m=\u001b[0m\u001b[1;34m''\u001b[0m\u001b[1;33m)\u001b[0m\u001b[1;33m\u001b[0m\u001b[1;33m\u001b[0m\u001b[0m\n\u001b[0;32m      5\u001b[0m \u001b[0mprint\u001b[0m\u001b[1;33m(\u001b[0m\u001b[0ma\u001b[0m\u001b[1;33m[\u001b[0m\u001b[1;36m0\u001b[0m\u001b[1;33m]\u001b[0m\u001b[1;33m)\u001b[0m\u001b[1;33m\u001b[0m\u001b[1;33m\u001b[0m\u001b[0m\n",
      "\u001b[1;32m~\\Anaconda3\\envs\\cakd5\\lib\\site-packages\\ipykernel\\kernelbase.py\u001b[0m in \u001b[0;36mraw_input\u001b[1;34m(self, prompt)\u001b[0m\n\u001b[0;32m   1008\u001b[0m             \u001b[0mself\u001b[0m\u001b[1;33m.\u001b[0m\u001b[0m_parent_ident\u001b[0m\u001b[1;33m[\u001b[0m\u001b[1;34m\"shell\"\u001b[0m\u001b[1;33m]\u001b[0m\u001b[1;33m,\u001b[0m\u001b[1;33m\u001b[0m\u001b[1;33m\u001b[0m\u001b[0m\n\u001b[0;32m   1009\u001b[0m             \u001b[0mself\u001b[0m\u001b[1;33m.\u001b[0m\u001b[0mget_parent\u001b[0m\u001b[1;33m(\u001b[0m\u001b[1;34m\"shell\"\u001b[0m\u001b[1;33m)\u001b[0m\u001b[1;33m,\u001b[0m\u001b[1;33m\u001b[0m\u001b[1;33m\u001b[0m\u001b[0m\n\u001b[1;32m-> 1010\u001b[1;33m             \u001b[0mpassword\u001b[0m\u001b[1;33m=\u001b[0m\u001b[1;32mFalse\u001b[0m\u001b[1;33m,\u001b[0m\u001b[1;33m\u001b[0m\u001b[1;33m\u001b[0m\u001b[0m\n\u001b[0m\u001b[0;32m   1011\u001b[0m         )\n\u001b[0;32m   1012\u001b[0m \u001b[1;33m\u001b[0m\u001b[0m\n",
      "\u001b[1;32m~\\Anaconda3\\envs\\cakd5\\lib\\site-packages\\ipykernel\\kernelbase.py\u001b[0m in \u001b[0;36m_input_request\u001b[1;34m(self, prompt, ident, parent, password)\u001b[0m\n\u001b[0;32m   1049\u001b[0m             \u001b[1;32mexcept\u001b[0m \u001b[0mKeyboardInterrupt\u001b[0m\u001b[1;33m:\u001b[0m\u001b[1;33m\u001b[0m\u001b[1;33m\u001b[0m\u001b[0m\n\u001b[0;32m   1050\u001b[0m                 \u001b[1;31m# re-raise KeyboardInterrupt, to truncate traceback\u001b[0m\u001b[1;33m\u001b[0m\u001b[1;33m\u001b[0m\u001b[1;33m\u001b[0m\u001b[0m\n\u001b[1;32m-> 1051\u001b[1;33m                 \u001b[1;32mraise\u001b[0m \u001b[0mKeyboardInterrupt\u001b[0m\u001b[1;33m(\u001b[0m\u001b[1;34m\"Interrupted by user\"\u001b[0m\u001b[1;33m)\u001b[0m \u001b[1;32mfrom\u001b[0m \u001b[1;32mNone\u001b[0m\u001b[1;33m\u001b[0m\u001b[1;33m\u001b[0m\u001b[0m\n\u001b[0m\u001b[0;32m   1052\u001b[0m             \u001b[1;32mexcept\u001b[0m \u001b[0mException\u001b[0m\u001b[1;33m:\u001b[0m\u001b[1;33m\u001b[0m\u001b[1;33m\u001b[0m\u001b[0m\n\u001b[0;32m   1053\u001b[0m                 \u001b[0mself\u001b[0m\u001b[1;33m.\u001b[0m\u001b[0mlog\u001b[0m\u001b[1;33m.\u001b[0m\u001b[0mwarning\u001b[0m\u001b[1;33m(\u001b[0m\u001b[1;34m\"Invalid Message:\"\u001b[0m\u001b[1;33m,\u001b[0m \u001b[0mexc_info\u001b[0m\u001b[1;33m=\u001b[0m\u001b[1;32mTrue\u001b[0m\u001b[1;33m)\u001b[0m\u001b[1;33m\u001b[0m\u001b[1;33m\u001b[0m\u001b[0m\n",
      "\u001b[1;31mKeyboardInterrupt\u001b[0m: Interrupted by user"
     ]
    }
   ],
   "source": [
    "a=list(input(\"입력 : \"))\n",
    "\n",
    "for i in range(len(a)-1):\n",
    "    print(a[i+1],end='')\n",
    "print(a[0])\n"
   ]
  },
  {
   "cell_type": "code",
   "execution_count": null,
   "id": "4b6cff6f",
   "metadata": {},
   "outputs": [],
   "source": [
    "a=list(input(\"입력:\"))\n",
    "\n",
    "for i in range(len(a)-1):\n",
    "    print(a[i+1],end='')\n",
    "print(a[0])"
   ]
  },
  {
   "cell_type": "code",
   "execution_count": 192,
   "id": "270ba086",
   "metadata": {},
   "outputs": [
    {
     "name": "stdout",
     "output_type": "stream",
     "text": [
      "abcdea\n",
      "bcdea\n"
     ]
    }
   ],
   "source": [
    "sen = input()\n",
    "print(sen[1:5]+sen[0])"
   ]
  },
  {
   "cell_type": "code",
   "execution_count": 9,
   "id": "8484b51c",
   "metadata": {},
   "outputs": [
    {
     "name": "stdout",
     "output_type": "stream",
     "text": [
      "가위:0 바위:1 보:2 내시오1\n",
      "1번째 시도: player는 바위를, computer는 바위를 냈음\n",
      "가위:0 바위:1 보:2 내시오2\n",
      "2번째 시도: player는 보를, computer는 보를 냈음\n",
      "가위:0 바위:1 보:2 내시오2\n",
      "3번째 시도: player는 보를, computer는 바위를 냈음\n",
      "player 이겼음, 1승\n",
      "가위:0 바위:1 보:2 내시오1\n",
      "4번째 시도: player는 바위를, computer는 보를 냈음\n",
      "가위:0 바위:1 보:2 내시오1\n",
      "5번째 시도: player는 바위를, computer는 바위를 냈음\n",
      "가위:0 바위:1 보:2 내시오4\n",
      "0,1,2중 고르시오\n",
      "가위:0 바위:1 보:2 내시오2\n",
      "7번째 시도: player는 보를, computer는 바위를 냈음\n",
      "player 이겼음, 2승\n",
      "가위:0 바위:1 보:2 내시오2\n",
      "8번째 시도: player는 보를, computer는 보를 냈음\n",
      "가위:0 바위:1 보:2 내시오1\n",
      "9번째 시도: player는 바위를, computer는 바위를 냈음\n",
      "가위:0 바위:1 보:2 내시오1\n",
      "10번째 시도: player는 바위를, computer는 보를 냈음\n",
      "가위:0 바위:1 보:2 내시오2\n",
      "11번째 시도: player는 보를, computer는 보를 냈음\n",
      "가위:0 바위:1 보:2 내시오0\n",
      "12번째 시도: player는 가위를, computer는 가위를 냈음\n",
      "가위:0 바위:1 보:2 내시오0\n",
      "13번째 시도: player는 가위를, computer는 바위를 냈음\n",
      "가위:0 바위:1 보:2 내시오1\n",
      "14번째 시도: player는 바위를, computer는 가위를 냈음\n",
      "player 이겼음, 3승\n"
     ]
    }
   ],
   "source": [
    "import random\n",
    "\n",
    "player = [\"가위\",\"바위\",\"보\"]\n",
    "comp = [\"가위\",\"바위\",\"보\"]\n",
    "\n",
    "win_num = 0\n",
    "attempt = 0\n",
    "\n",
    "def rsp_result():#입력값도없고 결과값도없는 \n",
    "    print(\"{}번째 시도: player는 {}를, computer는 {}를 냈음\".format(attempt,player[x],comp[y]))\n",
    "def player_win():\n",
    "    print(\"player 이겼음, {}승\".format(win_num+1))\n",
    "    \n",
    "while win_num != 3:\n",
    "    attempt +=1\n",
    "    x = int(input(\"가위:0 바위:1 보:2 내시오\"))\n",
    "    if(x==0 or x == 1 or x == 2):\n",
    "        y = random.randint(0,2)\n",
    "        if player[x] == \"가위\" and comp[y] == \"보\":\n",
    "            rsp_result()\n",
    "            player_win()\n",
    "            win_num += 1\n",
    "        elif player[x] == \"바위\" and comp[y] == \"가위\":\n",
    "            rsp_result()\n",
    "            player_win()\n",
    "            win_num += 1\n",
    "        elif player[x] == \"보\" and comp[y] == \"바위\":\n",
    "            rsp_result()\n",
    "            player_win()\n",
    "            win_num += 1\n",
    "\n",
    "        else:\n",
    "            rsp_result()\n",
    "    else:\n",
    "        print(\"0,1,2중 고르시오\")\n"
   ]
  }
 ],
 "metadata": {
  "kernelspec": {
   "display_name": "Python 3 (ipykernel)",
   "language": "python",
   "name": "python3"
  },
  "language_info": {
   "codemirror_mode": {
    "name": "ipython",
    "version": 3
   },
   "file_extension": ".py",
   "mimetype": "text/x-python",
   "name": "python",
   "nbconvert_exporter": "python",
   "pygments_lexer": "ipython3",
   "version": "3.7.11"
  }
 },
 "nbformat": 4,
 "nbformat_minor": 5
}

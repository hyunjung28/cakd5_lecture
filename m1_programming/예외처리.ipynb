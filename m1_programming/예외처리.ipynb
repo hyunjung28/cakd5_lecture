{
 "cells": [
  {
   "cell_type": "code",
   "execution_count": 2,
   "id": "95b1666e",
   "metadata": {},
   "outputs": [
    {
     "ename": "SyntaxError",
     "evalue": "invalid syntax (Temp/ipykernel_9468/125298634.py, line 2)",
     "output_type": "error",
     "traceback": [
      "\u001b[1;36m  File \u001b[1;32m\"C:\\Users\\admin\\AppData\\Local\\Temp/ipykernel_9468/125298634.py\"\u001b[1;36m, line \u001b[1;32m2\u001b[0m\n\u001b[1;33m    syntax invaild\u001b[0m\n\u001b[1;37m                 ^\u001b[0m\n\u001b[1;31mSyntaxError\u001b[0m\u001b[1;31m:\u001b[0m invalid syntax\n"
     ]
    }
   ],
   "source": [
    "#구문 오류: 프로그램 실행전에 발생하는 오류\n",
    "syntax invaild\n",
    "\n",
    "#예외 또는 런타임 오류: 포로그램 실행 중에 발생하는 오류\n",
    "\n",
    "print('구문오류 !)"
   ]
  },
  {
   "cell_type": "code",
   "execution_count": 4,
   "id": "df03d203",
   "metadata": {},
   "outputs": [
    {
     "name": "stdout",
     "output_type": "stream",
     "text": [
      "정수 입력> sdf\n"
     ]
    },
    {
     "ename": "ValueError",
     "evalue": "invalid literal for int() with base 10: 'sdf'",
     "output_type": "error",
     "traceback": [
      "\u001b[1;31m---------------------------------------------------------------------------\u001b[0m",
      "\u001b[1;31mValueError\u001b[0m                                Traceback (most recent call last)",
      "\u001b[1;32m~\\AppData\\Local\\Temp/ipykernel_9468/127192140.py\u001b[0m in \u001b[0;36m<module>\u001b[1;34m\u001b[0m\n\u001b[0;32m      1\u001b[0m \u001b[1;31m#정수를 입력하지 않은 경우 예외 발생\u001b[0m\u001b[1;33m\u001b[0m\u001b[1;33m\u001b[0m\u001b[1;33m\u001b[0m\u001b[0m\n\u001b[0;32m      2\u001b[0m \u001b[1;33m\u001b[0m\u001b[0m\n\u001b[1;32m----> 3\u001b[1;33m \u001b[0mnum_input\u001b[0m \u001b[1;33m=\u001b[0m \u001b[0mint\u001b[0m\u001b[1;33m(\u001b[0m\u001b[0minput\u001b[0m\u001b[1;33m(\u001b[0m\u001b[1;34m'정수 입력> '\u001b[0m\u001b[1;33m)\u001b[0m\u001b[1;33m)\u001b[0m\u001b[1;33m\u001b[0m\u001b[1;33m\u001b[0m\u001b[0m\n\u001b[0m\u001b[0;32m      4\u001b[0m \u001b[0mprint\u001b[0m\u001b[1;33m(\u001b[0m\u001b[1;34m'원의 반지름: '\u001b[0m\u001b[1;33m,\u001b[0m \u001b[0mnum_input\u001b[0m\u001b[1;33m)\u001b[0m\u001b[1;33m\u001b[0m\u001b[1;33m\u001b[0m\u001b[0m\n",
      "\u001b[1;31mValueError\u001b[0m: invalid literal for int() with base 10: 'sdf'"
     ]
    }
   ],
   "source": [
    "#정수를 입력하지 않은 경우 예외 발생\n",
    "\n",
    "num_input = int(input('정수 입력> '))\n",
    "print('원의 반지름: ', num_input)"
   ]
  },
  {
   "cell_type": "code",
   "execution_count": 154,
   "id": "f0c2f052",
   "metadata": {},
   "outputs": [
    {
     "name": "stdout",
     "output_type": "stream",
     "text": [
      "4\n",
      "2\n",
      "나누기 결과 : 2.0\n"
     ]
    }
   ],
   "source": [
    "val_a = int(input())\n",
    "val_b = int(input())\n",
    "\n",
    "if val_b == 0:\n",
    "    print(\"0으로 나눌 수 없습니다.\")\n",
    "else:\n",
    "    result = val_a/val_b\n",
    "    print(\"나누기 결과 : {}\".format(result))\n"
   ]
  },
  {
   "cell_type": "code",
   "execution_count": 11,
   "id": "a450773f",
   "metadata": {},
   "outputs": [
    {
     "ename": "KeyboardInterrupt",
     "evalue": "Interrupted by user",
     "output_type": "error",
     "traceback": [
      "\u001b[1;31m---------------------------------------------------------------------------\u001b[0m",
      "\u001b[1;31mKeyboardInterrupt\u001b[0m                         Traceback (most recent call last)",
      "\u001b[1;32m~\\AppData\\Local\\Temp/ipykernel_9468/3742088316.py\u001b[0m in \u001b[0;36m<module>\u001b[1;34m\u001b[0m\n\u001b[1;32m----> 1\u001b[1;33m \u001b[0mnum\u001b[0m\u001b[1;33m=\u001b[0m\u001b[0mint\u001b[0m\u001b[1;33m(\u001b[0m\u001b[0minput\u001b[0m\u001b[1;33m(\u001b[0m\u001b[1;34m'정수입력'\u001b[0m\u001b[1;33m)\u001b[0m\u001b[1;33m)\u001b[0m\u001b[1;33m\u001b[0m\u001b[1;33m\u001b[0m\u001b[0m\n\u001b[0m\u001b[0;32m      2\u001b[0m \u001b[1;32mif\u001b[0m \u001b[0mtype\u001b[0m\u001b[1;33m(\u001b[0m\u001b[0mnum\u001b[0m\u001b[1;33m)\u001b[0m\u001b[1;33m==\u001b[0m\u001b[0mint\u001b[0m\u001b[1;33m:\u001b[0m\u001b[1;33m\u001b[0m\u001b[1;33m\u001b[0m\u001b[0m\n\u001b[0;32m      3\u001b[0m     \u001b[0mprint\u001b[0m\u001b[1;33m(\u001b[0m\u001b[1;34m\"정수맞음\"\u001b[0m\u001b[1;33m)\u001b[0m\u001b[1;33m\u001b[0m\u001b[1;33m\u001b[0m\u001b[0m\n\u001b[0;32m      4\u001b[0m \u001b[1;32melse\u001b[0m\u001b[1;33m:\u001b[0m\u001b[1;33m\u001b[0m\u001b[1;33m\u001b[0m\u001b[0m\n\u001b[0;32m      5\u001b[0m     \u001b[0mprint\u001b[0m\u001b[1;33m(\u001b[0m\u001b[1;34m\"정수아님\"\u001b[0m\u001b[1;33m)\u001b[0m\u001b[1;33m\u001b[0m\u001b[1;33m\u001b[0m\u001b[0m\n",
      "\u001b[1;32m~\\Anaconda3\\envs\\cakd5\\lib\\site-packages\\ipykernel\\kernelbase.py\u001b[0m in \u001b[0;36mraw_input\u001b[1;34m(self, prompt)\u001b[0m\n\u001b[0;32m   1008\u001b[0m             \u001b[0mself\u001b[0m\u001b[1;33m.\u001b[0m\u001b[0m_parent_ident\u001b[0m\u001b[1;33m[\u001b[0m\u001b[1;34m\"shell\"\u001b[0m\u001b[1;33m]\u001b[0m\u001b[1;33m,\u001b[0m\u001b[1;33m\u001b[0m\u001b[1;33m\u001b[0m\u001b[0m\n\u001b[0;32m   1009\u001b[0m             \u001b[0mself\u001b[0m\u001b[1;33m.\u001b[0m\u001b[0mget_parent\u001b[0m\u001b[1;33m(\u001b[0m\u001b[1;34m\"shell\"\u001b[0m\u001b[1;33m)\u001b[0m\u001b[1;33m,\u001b[0m\u001b[1;33m\u001b[0m\u001b[1;33m\u001b[0m\u001b[0m\n\u001b[1;32m-> 1010\u001b[1;33m             \u001b[0mpassword\u001b[0m\u001b[1;33m=\u001b[0m\u001b[1;32mFalse\u001b[0m\u001b[1;33m,\u001b[0m\u001b[1;33m\u001b[0m\u001b[1;33m\u001b[0m\u001b[0m\n\u001b[0m\u001b[0;32m   1011\u001b[0m         )\n\u001b[0;32m   1012\u001b[0m \u001b[1;33m\u001b[0m\u001b[0m\n",
      "\u001b[1;32m~\\Anaconda3\\envs\\cakd5\\lib\\site-packages\\ipykernel\\kernelbase.py\u001b[0m in \u001b[0;36m_input_request\u001b[1;34m(self, prompt, ident, parent, password)\u001b[0m\n\u001b[0;32m   1049\u001b[0m             \u001b[1;32mexcept\u001b[0m \u001b[0mKeyboardInterrupt\u001b[0m\u001b[1;33m:\u001b[0m\u001b[1;33m\u001b[0m\u001b[1;33m\u001b[0m\u001b[0m\n\u001b[0;32m   1050\u001b[0m                 \u001b[1;31m# re-raise KeyboardInterrupt, to truncate traceback\u001b[0m\u001b[1;33m\u001b[0m\u001b[1;33m\u001b[0m\u001b[1;33m\u001b[0m\u001b[0m\n\u001b[1;32m-> 1051\u001b[1;33m                 \u001b[1;32mraise\u001b[0m \u001b[0mKeyboardInterrupt\u001b[0m\u001b[1;33m(\u001b[0m\u001b[1;34m\"Interrupted by user\"\u001b[0m\u001b[1;33m)\u001b[0m \u001b[1;32mfrom\u001b[0m \u001b[1;32mNone\u001b[0m\u001b[1;33m\u001b[0m\u001b[1;33m\u001b[0m\u001b[0m\n\u001b[0m\u001b[0;32m   1052\u001b[0m             \u001b[1;32mexcept\u001b[0m \u001b[0mException\u001b[0m\u001b[1;33m:\u001b[0m\u001b[1;33m\u001b[0m\u001b[1;33m\u001b[0m\u001b[0m\n\u001b[0;32m   1053\u001b[0m                 \u001b[0mself\u001b[0m\u001b[1;33m.\u001b[0m\u001b[0mlog\u001b[0m\u001b[1;33m.\u001b[0m\u001b[0mwarning\u001b[0m\u001b[1;33m(\u001b[0m\u001b[1;34m\"Invalid Message:\"\u001b[0m\u001b[1;33m,\u001b[0m \u001b[0mexc_info\u001b[0m\u001b[1;33m=\u001b[0m\u001b[1;32mTrue\u001b[0m\u001b[1;33m)\u001b[0m\u001b[1;33m\u001b[0m\u001b[1;33m\u001b[0m\u001b[0m\n",
      "\u001b[1;31mKeyboardInterrupt\u001b[0m: Interrupted by user"
     ]
    }
   ],
   "source": [
    "num=int(input('정수입력'))\n",
    "if type(num)==int:\n",
    "    print(\"정수맞음\")\n",
    "else:\n",
    "    print(\"정수아님\")\n"
   ]
  },
  {
   "cell_type": "code",
   "execution_count": null,
   "id": "f6715202",
   "metadata": {},
   "outputs": [],
   "source": [
    "#Q. 정수를 입력하면 '정수', 아니면 ' 정수아님'을 출력하세요\n",
    "num_input=input(('정수를 입력하세요'))\n",
    "if num_input.isdigit() ==True:\n",
    "    print(\" 정수\")\n",
    "else:\n",
    "    print(\"정수아님\")"
   ]
  },
  {
   "cell_type": "code",
   "execution_count": 49,
   "id": "799a8b9c",
   "metadata": {},
   "outputs": [
    {
     "name": "stdout",
     "output_type": "stream",
     "text": [
      "정수 아님\n"
     ]
    }
   ],
   "source": [
    "try:\n",
    "    num = int(input(\"입력: \"))\n",
    "    print(\"정수\")\n",
    "except:\n",
    "    print(\"정수 아님\")\n"
   ]
  },
  {
   "cell_type": "code",
   "execution_count": 17,
   "id": "73759783",
   "metadata": {},
   "outputs": [
    {
     "name": "stdout",
     "output_type": "stream",
     "text": [
      "안녕하세요\n"
     ]
    },
    {
     "ename": "NameError",
     "evalue": "name 'param1' is not defined",
     "output_type": "error",
     "traceback": [
      "\u001b[1;31m---------------------------------------------------------------------------\u001b[0m",
      "\u001b[1;31mNameError\u001b[0m                                 Traceback (most recent call last)",
      "\u001b[1;32m~\\AppData\\Local\\Temp/ipykernel_9468/2429352406.py\u001b[0m in \u001b[0;36m<module>\u001b[1;34m\u001b[0m\n\u001b[0;32m      1\u001b[0m \u001b[1;31m#param=1\u001b[0m\u001b[1;33m\u001b[0m\u001b[1;33m\u001b[0m\u001b[1;33m\u001b[0m\u001b[0m\n\u001b[0;32m      2\u001b[0m \u001b[0mprint\u001b[0m\u001b[1;33m(\u001b[0m\u001b[1;34m'안녕하세요'\u001b[0m\u001b[1;33m)\u001b[0m\u001b[1;33m\u001b[0m\u001b[1;33m\u001b[0m\u001b[0m\n\u001b[1;32m----> 3\u001b[1;33m \u001b[0mprint\u001b[0m\u001b[1;33m(\u001b[0m\u001b[0mparam1\u001b[0m\u001b[1;33m)\u001b[0m \u001b[1;31m#메모리에 아무것도 없는거야 변수불가능\u001b[0m\u001b[1;33m\u001b[0m\u001b[1;33m\u001b[0m\u001b[0m\n\u001b[0m",
      "\u001b[1;31mNameError\u001b[0m: name 'param1' is not defined"
     ]
    }
   ],
   "source": [
    "#param=1\n",
    "print('안녕하세요')\n",
    "print(param1) #메모리에 아무것도 없는거야 변수불가능"
   ]
  },
  {
   "cell_type": "code",
   "execution_count": 18,
   "id": "fc180bfc",
   "metadata": {},
   "outputs": [
    {
     "name": "stdout",
     "output_type": "stream",
     "text": [
      "안녕하세요\n",
      "예외가 발생했습니다\n"
     ]
    }
   ],
   "source": [
    "try: \n",
    "    print('안녕하세요')\n",
    "    print(param1)\n",
    "except: \n",
    "    print('예외가 발생했습니다')\n",
    "#위에껀 안녕하세요 됬고 밑에껀 처리가 안되니깐 except로 예외처리해주면\n",
    "#안끊기고 계쏙 나올 ㅜ수 있음\n",
    "\n",
    "\n",
    "\n"
   ]
  },
  {
   "cell_type": "code",
   "execution_count": 22,
   "id": "0b75cfc6",
   "metadata": {},
   "outputs": [
    {
     "name": "stdout",
     "output_type": "stream",
     "text": [
      "안녕하세요\n",
      "예외가 발생했습니다\n",
      "무조건 실행하는 코드\n"
     ]
    }
   ],
   "source": [
    "try: \n",
    "    print('안녕하세요')\n",
    "    print(param1) \n",
    "except: \n",
    "    print('예외가 발생했습니다')\n",
    "finally:\n",
    "    print('무조건 실행하는 코드')"
   ]
  },
  {
   "cell_type": "code",
   "execution_count": 24,
   "id": "47ee2099",
   "metadata": {},
   "outputs": [
    {
     "name": "stdout",
     "output_type": "stream",
     "text": [
      "name 'param2' is not defined\n"
     ]
    }
   ],
   "source": [
    "# 코드에서 예외 발생 내용을 확인하고자 하는 경우 처리방법\n",
    "\n",
    "try: \n",
    "    print(param2)\n",
    "except Exception as e:\n",
    "    print(e)\n",
    "    "
   ]
  },
  {
   "cell_type": "code",
   "execution_count": 28,
   "id": "9c651a7b",
   "metadata": {},
   "outputs": [
    {
     "name": "stdout",
     "output_type": "stream",
     "text": [
      "1\n",
      "2\n",
      "3\n",
      "4\n",
      "5\n",
      "사용자에 의해 프로그램이 중단되었습니다.\n"
     ]
    }
   ],
   "source": [
    "import time\n",
    "count=1\n",
    "try:\n",
    "    5\n",
    "    while True:\n",
    "        print(count)\n",
    "        count +=1\n",
    "        time.sleep(0.5)\n",
    "except KeyboardInterrupt: \n",
    "    print('사용자에 의해 프로그램이 중단되었습니다.')\n",
    "    "
   ]
  },
  {
   "cell_type": "code",
   "execution_count": 43,
   "id": "a3ba0f5b",
   "metadata": {},
   "outputs": [
    {
     "name": "stdout",
     "output_type": "stream",
     "text": [
      "['52', '273', '32', '103']\n"
     ]
    }
   ],
   "source": [
    "#Q. 리스트 ['52','273','32','문자','103'] 에서 숫자 부분만 출력하세요(예외처리 수행)\n",
    "\n",
    "list_input = ['52', '273','32','문자','103']\n",
    "list_num=[]\n",
    "for i in list_input:    \n",
    "    try:\n",
    "        int(i)\n",
    "        list_num.append()\n",
    "        \n",
    "    except:\n",
    "        pass\n",
    "print(list_)\n",
    "        "
   ]
  },
  {
   "cell_type": "code",
   "execution_count": null,
   "id": "8cdff1ad",
   "metadata": {},
   "outputs": [],
   "source": [
    "try: \n",
    "    print('안녕하세요')\n",
    "    print(param1) \n",
    "except: \n",
    "    print('예외가 발생했습니다')\n",
    "finally:\n",
    "    print('무조건 실행하는 코드')"
   ]
  },
  {
   "cell_type": "code",
   "execution_count": 47,
   "id": "0969a28a",
   "metadata": {},
   "outputs": [
    {
     "name": "stdout",
     "output_type": "stream",
     "text": [
      ">>> 정수 아님\n",
      "프로그램종료\n"
     ]
    }
   ],
   "source": [
    "#Q. 정수를 입력하면 입력정수> 예외발생하지않음> 그로그램종료\n",
    "#정수가 아니라면 입력값> 정수아님> 프로그램 종료 순으로 출력하세요\n",
    "try:\n",
    "    a = input('정수를 입력하세요 : ')\n",
    "    int(a)\n",
    "    print(a)\n",
    "    time.sleep(1)\n",
    "    print('>>> 예외 발생하지 않음')\n",
    "    \n",
    "except:\n",
    "    \n",
    "    print('>>> 정수 아님')\n",
    "   \n",
    "finally:\n",
    "    print(\"프로그램종료\")"
   ]
  },
  {
   "cell_type": "code",
   "execution_count": 50,
   "id": "19da7a58",
   "metadata": {},
   "outputs": [
    {
     "ename": "KeyboardInterrupt",
     "evalue": "Interrupted by user",
     "output_type": "error",
     "traceback": [
      "\u001b[1;31m---------------------------------------------------------------------------\u001b[0m",
      "\u001b[1;31mKeyboardInterrupt\u001b[0m                         Traceback (most recent call last)",
      "\u001b[1;32m~\\AppData\\Local\\Temp/ipykernel_9468/3445245444.py\u001b[0m in \u001b[0;36m<module>\u001b[1;34m\u001b[0m\n\u001b[1;32m----> 1\u001b[1;33m \u001b[0mnum\u001b[0m \u001b[1;33m=\u001b[0m \u001b[0minput\u001b[0m\u001b[1;33m(\u001b[0m\u001b[1;34m'정수를 입력해 주세요. >> '\u001b[0m\u001b[1;33m)\u001b[0m\u001b[1;33m\u001b[0m\u001b[1;33m\u001b[0m\u001b[0m\n\u001b[0m\u001b[0;32m      2\u001b[0m \u001b[1;33m\u001b[0m\u001b[0m\n\u001b[0;32m      3\u001b[0m \u001b[1;32mtry\u001b[0m\u001b[1;33m:\u001b[0m\u001b[1;33m\u001b[0m\u001b[1;33m\u001b[0m\u001b[0m\n\u001b[0;32m      4\u001b[0m     \u001b[0mprint\u001b[0m\u001b[1;33m(\u001b[0m\u001b[1;34mf'{int(num)}로/으로 예외 발생하지 않음'\u001b[0m\u001b[1;33m)\u001b[0m\u001b[1;33m\u001b[0m\u001b[1;33m\u001b[0m\u001b[0m\n\u001b[0;32m      5\u001b[0m \u001b[1;32mexcept\u001b[0m\u001b[1;33m:\u001b[0m\u001b[1;33m\u001b[0m\u001b[1;33m\u001b[0m\u001b[0m\n",
      "\u001b[1;32m~\\Anaconda3\\envs\\cakd5\\lib\\site-packages\\ipykernel\\kernelbase.py\u001b[0m in \u001b[0;36mraw_input\u001b[1;34m(self, prompt)\u001b[0m\n\u001b[0;32m   1008\u001b[0m             \u001b[0mself\u001b[0m\u001b[1;33m.\u001b[0m\u001b[0m_parent_ident\u001b[0m\u001b[1;33m[\u001b[0m\u001b[1;34m\"shell\"\u001b[0m\u001b[1;33m]\u001b[0m\u001b[1;33m,\u001b[0m\u001b[1;33m\u001b[0m\u001b[1;33m\u001b[0m\u001b[0m\n\u001b[0;32m   1009\u001b[0m             \u001b[0mself\u001b[0m\u001b[1;33m.\u001b[0m\u001b[0mget_parent\u001b[0m\u001b[1;33m(\u001b[0m\u001b[1;34m\"shell\"\u001b[0m\u001b[1;33m)\u001b[0m\u001b[1;33m,\u001b[0m\u001b[1;33m\u001b[0m\u001b[1;33m\u001b[0m\u001b[0m\n\u001b[1;32m-> 1010\u001b[1;33m             \u001b[0mpassword\u001b[0m\u001b[1;33m=\u001b[0m\u001b[1;32mFalse\u001b[0m\u001b[1;33m,\u001b[0m\u001b[1;33m\u001b[0m\u001b[1;33m\u001b[0m\u001b[0m\n\u001b[0m\u001b[0;32m   1011\u001b[0m         )\n\u001b[0;32m   1012\u001b[0m \u001b[1;33m\u001b[0m\u001b[0m\n",
      "\u001b[1;32m~\\Anaconda3\\envs\\cakd5\\lib\\site-packages\\ipykernel\\kernelbase.py\u001b[0m in \u001b[0;36m_input_request\u001b[1;34m(self, prompt, ident, parent, password)\u001b[0m\n\u001b[0;32m   1049\u001b[0m             \u001b[1;32mexcept\u001b[0m \u001b[0mKeyboardInterrupt\u001b[0m\u001b[1;33m:\u001b[0m\u001b[1;33m\u001b[0m\u001b[1;33m\u001b[0m\u001b[0m\n\u001b[0;32m   1050\u001b[0m                 \u001b[1;31m# re-raise KeyboardInterrupt, to truncate traceback\u001b[0m\u001b[1;33m\u001b[0m\u001b[1;33m\u001b[0m\u001b[1;33m\u001b[0m\u001b[0m\n\u001b[1;32m-> 1051\u001b[1;33m                 \u001b[1;32mraise\u001b[0m \u001b[0mKeyboardInterrupt\u001b[0m\u001b[1;33m(\u001b[0m\u001b[1;34m\"Interrupted by user\"\u001b[0m\u001b[1;33m)\u001b[0m \u001b[1;32mfrom\u001b[0m \u001b[1;32mNone\u001b[0m\u001b[1;33m\u001b[0m\u001b[1;33m\u001b[0m\u001b[0m\n\u001b[0m\u001b[0;32m   1052\u001b[0m             \u001b[1;32mexcept\u001b[0m \u001b[0mException\u001b[0m\u001b[1;33m:\u001b[0m\u001b[1;33m\u001b[0m\u001b[1;33m\u001b[0m\u001b[0m\n\u001b[0;32m   1053\u001b[0m                 \u001b[0mself\u001b[0m\u001b[1;33m.\u001b[0m\u001b[0mlog\u001b[0m\u001b[1;33m.\u001b[0m\u001b[0mwarning\u001b[0m\u001b[1;33m(\u001b[0m\u001b[1;34m\"Invalid Message:\"\u001b[0m\u001b[1;33m,\u001b[0m \u001b[0mexc_info\u001b[0m\u001b[1;33m=\u001b[0m\u001b[1;32mTrue\u001b[0m\u001b[1;33m)\u001b[0m\u001b[1;33m\u001b[0m\u001b[1;33m\u001b[0m\u001b[0m\n",
      "\u001b[1;31mKeyboardInterrupt\u001b[0m: Interrupted by user"
     ]
    }
   ],
   "source": [
    "num = input('정수를 입력해 주세요. >> ')\n",
    "\n",
    "try:\n",
    "    print(f'{int(num)}로/으로 예외 발생하지 않음')\n",
    "except:\n",
    "    print(f'입력값 {num}은/는 정수가 아닙니다.')\n",
    "finally: print('프로그램 종료')\n"
   ]
  },
  {
   "cell_type": "code",
   "execution_count": 59,
   "id": "d748bfaa",
   "metadata": {},
   "outputs": [
    {
     "name": "stdout",
     "output_type": "stream",
     "text": [
      "정수를 입력해주세요:  >>5\n",
      "5\n",
      "예외발생하지않음\n",
      "프로그램 종료\n"
     ]
    }
   ],
   "source": [
    "#try에서 정수를 받고 예외가없으면 else로 감\n",
    "#만약 정수가 아니면 바로  except 둘 다 파이널로 마무리\n",
    "try: \n",
    "    num = int(input('정수를 입력해주세요:  >>'))\n",
    "except:\n",
    "    print(\"정수아님\")\n",
    "else: \n",
    "    print(num)\n",
    "    print('예외발생하지않음')\n",
    "    \n",
    "finally:\n",
    "    print(\"프로그램 종료\")\n",
    "    "
   ]
  },
  {
   "cell_type": "code",
   "execution_count": 62,
   "id": "aea06cda",
   "metadata": {},
   "outputs": [
    {
     "name": "stdout",
     "output_type": "stream",
     "text": [
      "프로그램이 시작되었습니다.\n",
      "try 구문이 시작되었습니다.\n",
      "프로그램이 종료되었습니다\n"
     ]
    }
   ],
   "source": [
    "print('프로그램이 시작되었습니다.')\n",
    "while True:\n",
    "    try:\n",
    "        print('try 구문이 시작되었습니다.')\n",
    "      \n",
    "        break\n",
    "    except: \n",
    "        print('except 구문이 실행되었습니다')\n",
    "        \n",
    "    print('finally 구문이 실행되었습니다')\n",
    "    print('while 반복문의 마지막 줄입니다')\n",
    "print('프로그램이 종료되었습니다')\n",
    "\n",
    "    \n",
    "    \n",
    "    \n",
    "    "
   ]
  },
  {
   "cell_type": "code",
   "execution_count": null,
   "id": "78856ca1",
   "metadata": {},
   "outputs": [],
   "source": [
    "#위 코드에서 try~ except ~ finally 를 사용하여 아래와 같이 출력\n",
    "\n",
    "\n",
    "프로그램이 시작되었습니다.\n",
    "try 구문이 시작되었습니다.\n",
    "except 구문이 실행되었습니다\n",
    "finally 구문이 실행되었습니다\n",
    "프로그램이 종료되었습니다"
   ]
  },
  {
   "cell_type": "code",
   "execution_count": 83,
   "id": "ce13c73e",
   "metadata": {},
   "outputs": [
    {
     "name": "stdout",
     "output_type": "stream",
     "text": [
      "프로그램이 시작되었습니다.\n",
      "try 구문이 시작되었습니다.\n",
      "except 구문이 실행되었습니다\n",
      "finally 구문이 실행되었습니다\n",
      "프로그램이 종료되었습니다\n"
     ]
    }
   ],
   "source": [
    "print('프로그램이 시작되었습니다.')\n",
    "while True:\n",
    "    try:\n",
    "        print('try 구문이 시작되었습니다.')\n",
    "        int(a)  #c = a+1  다음 줄 print(c)해도됨\n",
    "        break\n",
    "    except: \n",
    "        print('except 구문이 실행되었습니다')\n",
    "        break\n",
    "    finally:\n",
    "        print('finally 구문이 실행되었습니다') \n",
    "    print('while 반복문의 마지막 줄입니다')\n",
    "print('프로그램이 종료되었습니다')"
   ]
  },
  {
   "cell_type": "code",
   "execution_count": null,
   "id": "28fccc82",
   "metadata": {},
   "outputs": [],
   "source": [
    "try: \n",
    "    num = int(input('정수를 입력해주세요:  >>'))\n",
    "except:\n",
    "    print(\"정수아님\")\n",
    "else: \n",
    "    print(num)\n",
    "    print('예외발생하지않음')\n",
    "    \n",
    "finally:\n",
    "    print(\"프로그램 종료\")"
   ]
  },
  {
   "cell_type": "code",
   "execution_count": 106,
   "id": "3f8df31b",
   "metadata": {},
   "outputs": [
    {
     "name": "stdout",
     "output_type": "stream",
     "text": [
      "정수입력>  wjd\n",
      " wjd\n",
      "Value Error\n"
     ]
    }
   ],
   "source": [
    "#[과제] 숫자 대신 문자 입력 시 예외가 발생되는데 아래 코드를 \n",
    "#수정해서 예외 객체의 자료형과 예외 객체 자체를 출력하세요.\n",
    "\n",
    "\n",
    "\n",
    "try:\n",
    "    num_input=input('정수입력> ')\n",
    "    num_input=int(num_input)\n",
    "    print('원의 반지름:', num_input)\n",
    "    print('원의 둘레: ',2*3.14*num_input)\n",
    "    print('원의 넓이: ', 2*3.14*num_input)\n",
    "except:\n",
    "   \n",
    "    print(num_input)\n",
    "    print(\"Value Error\")\n",
    "else: \n",
    "    \n",
    "    print('예외발생하지않음')\n",
    "    "
   ]
  },
  {
   "cell_type": "code",
   "execution_count": 162,
   "id": "6dbba416",
   "metadata": {},
   "outputs": [
    {
     "name": "stdout",
     "output_type": "stream",
     "text": [
      "정수 입력>  d\n",
      "정수를 입력하세요\n",
      "모든 예외 처리 완료\n"
     ]
    }
   ],
   "source": [
    "#[과제] 아래 코드를 보완하여 발생 가능한 모든 예외 (정수,인덱스,미리 파악하지 못한 )\n",
    "#모든 예외처리 완료를 출력하세요.\n",
    "\n",
    "list_num = [52,273,32,72,100]\n",
    "\n",
    "\n",
    "try:\n",
    "    num_input = int(input('정수 입력>  '))\n",
    "except ValueError:\n",
    "    print('정수를 입력하세요')\n",
    "    \n",
    "\n",
    "except IndexError:\n",
    "        print(\"인덱스값이 잘못되었습니다\")\n",
    "else:\n",
    "   \n",
    "        print('{}번째 요소:  {}'.format(num_input,list_num[num_input-1]))\n",
    "finally:\n",
    "    print(\"모든 예외 처리 완료\")"
   ]
  },
  {
   "cell_type": "code",
   "execution_count": 170,
   "id": "e5ffbf02",
   "metadata": {},
   "outputs": [
    {
     "name": "stdout",
     "output_type": "stream",
     "text": [
      "정수 입력>  ef\n",
      "정수를 입력하세요\n",
      "모든 예외 처리 완료\n"
     ]
    }
   ],
   "source": [
    "list_num = [52,273,32,72,100]\n",
    "\n",
    "\n",
    "try:\n",
    "    num_input = int(input('정수 입력>  '))\n",
    "except: \n",
    "    print('정수를 입력하세요')\n",
    "else:\n",
    "    \n",
    "    try:\n",
    "        print('{}번째 요소:  {}'.format(num_input,list_num[num_input-1]))\n",
    "\n",
    "    except:\n",
    "        print(\"인덱스값이 잘못되었습니다\")\n",
    "        \n",
    "\n",
    "finally:\n",
    "    print(\"모든 예외 처리 완료\")"
   ]
  }
 ],
 "metadata": {
  "kernelspec": {
   "display_name": "Python 3 (ipykernel)",
   "language": "python",
   "name": "python3"
  },
  "language_info": {
   "codemirror_mode": {
    "name": "ipython",
    "version": 3
   },
   "file_extension": ".py",
   "mimetype": "text/x-python",
   "name": "python",
   "nbconvert_exporter": "python",
   "pygments_lexer": "ipython3",
   "version": "3.7.11"
  }
 },
 "nbformat": 4,
 "nbformat_minor": 5
}

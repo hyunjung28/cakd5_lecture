{
 "cells": [
  {
   "cell_type": "code",
   "execution_count": 1,
   "id": "a9a501c5",
   "metadata": {},
   "outputs": [
    {
     "name": "stdout",
     "output_type": "stream",
     "text": [
      "Python 3.7.11\n"
     ]
    }
   ],
   "source": [
    "!python -V"
   ]
  },
  {
   "cell_type": "code",
   "execution_count": 2,
   "id": "95d5f17e",
   "metadata": {},
   "outputs": [
    {
     "name": "stdout",
     "output_type": "stream",
     "text": [
      "273\n"
     ]
    },
    {
     "data": {
      "text/plain": [
       "60"
      ]
     },
     "execution_count": 2,
     "metadata": {},
     "output_type": "execute_result"
    }
   ],
   "source": [
    "#표현식\n",
    "\n",
    "print(273)\n",
    "10+20+30"
   ]
  },
  {
   "cell_type": "code",
   "execution_count": 3,
   "id": "880847fb",
   "metadata": {},
   "outputs": [
    {
     "name": "stdout",
     "output_type": "stream",
     "text": [
      "hello python\n",
      "52 hello python 8\n"
     ]
    }
   ],
   "source": [
    "#표현식이 하나 이상씩 모이면 문장\n",
    "print(\"hello python\")\n",
    "print(52, 'hello python', 5+3)"
   ]
  },
  {
   "cell_type": "code",
   "execution_count": 4,
   "id": "1d278257",
   "metadata": {},
   "outputs": [
    {
     "name": "stdout",
     "output_type": "stream",
     "text": [
      "2\n"
     ]
    }
   ],
   "source": [
    "# 문장이 모여서 프로그램\n",
    "a = 1 ; b = 1 ; c=a+b\n",
    "print(c)\n"
   ]
  },
  {
   "cell_type": "code",
   "execution_count": 5,
   "id": "9486d390",
   "metadata": {},
   "outputs": [
    {
     "name": "stdout",
     "output_type": "stream",
     "text": [
      "['False', 'None', 'True', 'and', 'as', 'assert', 'async', 'await', 'break', 'class', 'continue', 'def', 'del', 'elif', 'else', 'except', 'finally', 'for', 'from', 'global', 'if', 'import', 'in', 'is', 'lambda', 'nonlocal', 'not', 'or', 'pass', 'raise', 'return', 'try', 'while', 'with', 'yield'] \n",
      "\n",
      "\n",
      "35\n"
     ]
    }
   ],
   "source": [
    "#python keyword\n",
    "import keyword\n",
    "print(keyword.kwlist,'\\n')\n",
    "print() # 공백주기 위해  ,'\\n 쓰면 공백을 의미'\n",
    "print(len(keyword.kwlist))"
   ]
  },
  {
   "cell_type": "markdown",
   "id": "7e969973",
   "metadata": {},
   "source": [
    "식별자의 기본 규칙\n",
    "\n",
    "* 키워드를 사용하면 안된다.\n",
    "*특수문자는 언더바(_)만 사용한다.\n",
    "*숫자로 시작하면 안된다.\n",
    "*공백을 포함할 수 없다."
   ]
  },
  {
   "cell_type": "code",
   "execution_count": 6,
   "id": "3cdfdbb9",
   "metadata": {},
   "outputs": [
    {
     "ename": "SyntaxError",
     "evalue": "invalid syntax (Temp/ipykernel_3884/3309865105.py, line 5)",
     "output_type": "error",
     "traceback": [
      "\u001b[1;36m  File \u001b[1;32m\"C:\\Users\\admin\\AppData\\Local\\Temp/ipykernel_3884/3309865105.py\"\u001b[1;36m, line \u001b[1;32m5\u001b[0m\n\u001b[1;33m    273alpha # 숫자 - x\u001b[0m\n\u001b[1;37m           ^\u001b[0m\n\u001b[1;31mSyntaxError\u001b[0m\u001b[1;31m:\u001b[0m invalid syntax\n"
     ]
    }
   ],
   "source": [
    "alpha\n",
    "break #키워드 -x\n",
    "alpha10\n",
    "_alpha\n",
    "273alpha # 숫자 - x\n",
    "Alpha\n",
    "ALPHA \n",
    "has space # 공백 -x"
   ]
  },
  {
   "cell_type": "markdown",
   "id": "ce233077",
   "metadata": {},
   "source": [
    "https://bibi6666667.tistory.com/277\n",
    "파이썬은 snake_case와  CamelCase를 모두 사용\n",
    "\n",
    "*itemlist item_list litemList\n",
    "*loginsatus login_status Loginstatus\n",
    "* 캐멀 케이스(대문자로 시작)클래스\n",
    "* 스네이크 케이스(소문자로 시작)뒤에 ()가 있다-함수\n",
    "* 스네이크 케이스(소문자로 시작)뒤에 ()가 없다 - 변수\n",
    "#a=1 이런 건 변수, sum(a) = 함수"
   ]
  },
  {
   "cell_type": "code",
   "execution_count": null,
   "id": "e480626b",
   "metadata": {},
   "outputs": [],
   "source": [
    "#사람이 생각하는 방식을 그대로 표현할 수 있는 언어\n",
    "#  조건일 땐 콜론을 찍습니다\n",
    "if 3 in [1,2,3,4] : print('3이 있습니다')"
   ]
  },
  {
   "cell_type": "code",
   "execution_count": null,
   "id": "7481c917",
   "metadata": {},
   "outputs": [],
   "source": [
    "if '빨강' in ['빨강','노랑','초록'] : print('포함됩니다')"
   ]
  },
  {
   "cell_type": "code",
   "execution_count": null,
   "id": "70b34d0d",
   "metadata": {},
   "outputs": [],
   "source": [
    "#파이썬 자료형 - 숫자형(정수,실수,8진수,16진수)\n",
    "a = 123 # 파이썬에서 = 기호는 대입을 의미\n",
    "b = -123\n",
    "c = 0\n",
    "d = 1.23\n",
    "e = 0o177 # 8지수 00또는  00 으로 시작\n",
    "f = 0xABC #16진수  0x로 시작\n",
    "g = 0b101010  #2진수 0b\n",
    "print(a)\n",
    "print(b)\n",
    "print(c)\n",
    "print(d)\n",
    "print(e)\n",
    "print(f)\n",
    "print(g)"
   ]
  },
  {
   "cell_type": "code",
   "execution_count": null,
   "id": "476c830e",
   "metadata": {},
   "outputs": [],
   "source": [
    "#사칙연산\n",
    "a =10\n",
    "b=2\n",
    "c=a+b\n",
    "d=a*b\n",
    "e=a/b\n",
    "f=a%b #a나누기 b 하고 난 나머지\n",
    "g=a//b # 몫\n",
    "h= 2**3 # 제곱\n",
    "print(a)\n",
    "print(b)\n",
    "print(c)\n",
    "print(d)\n",
    "print(e)\n",
    "print(f)\n",
    "print(g)\n",
    "print(h)"
   ]
  },
  {
   "cell_type": "code",
   "execution_count": null,
   "id": "f8693730",
   "metadata": {},
   "outputs": [],
   "source": [
    "# 다른 타입간 연산은 안됨\n",
    "string = '문자열'\n",
    "number = 273\n",
    "string + number\n"
   ]
  },
  {
   "cell_type": "code",
   "execution_count": null,
   "id": "32826a01",
   "metadata": {},
   "outputs": [],
   "source": [
    "a= 10\n",
    "a = '문자'\n",
    "a = 100\n",
    "type(a)"
   ]
  },
  {
   "cell_type": "code",
   "execution_count": null,
   "id": "c6422593",
   "metadata": {},
   "outputs": [],
   "source": [
    "# 복합 대입 연산자\n",
    "num = 10\n",
    "num += 10 #num =10 넣었지 근데 +가 있잖아  10+10 하라는거야\n",
    "num *= 10 #20있지 곱하기 하래 10을/10을 곱하니간 200이 됬지 200을 넘에 넣으니 200\n",
    "num"
   ]
  },
  {
   "cell_type": "code",
   "execution_count": null,
   "id": "861703ba",
   "metadata": {},
   "outputs": [],
   "source": [
    "#사용자 입력\n",
    "input('인사말을 입력하세요: ')"
   ]
  },
  {
   "cell_type": "code",
   "execution_count": null,
   "id": "114feeda",
   "metadata": {},
   "outputs": [],
   "source": [
    "num = input('숫자를 입력하세요: ') # input 함수를 무엇을 입력해도 문자로 처리\n",
    "print(num)\n",
    "type(num)"
   ]
  },
  {
   "cell_type": "code",
   "execution_count": null,
   "id": "747ab24b",
   "metadata": {},
   "outputs": [],
   "source": [
    "num = 100\n",
    "num /= 10\n",
    "print(num)\n",
    "type(num)"
   ]
  },
  {
   "cell_type": "code",
   "execution_count": null,
   "id": "26cabe9a",
   "metadata": {},
   "outputs": [],
   "source": [
    "num = 100\n",
    "num /= 10\n",
    "num"
   ]
  },
  {
   "cell_type": "code",
   "execution_count": null,
   "id": "c8110275",
   "metadata": {},
   "outputs": [],
   "source": [
    "num1 = input('숫자를 입력하세요')\n",
    "num2 = input('숫자를 입력하세요')\n",
    "print(num1+num2)"
   ]
  },
  {
   "cell_type": "code",
   "execution_count": null,
   "id": "84c02a79",
   "metadata": {},
   "outputs": [],
   "source": [
    "#input()함수를 사용하면 숫자도 문자로 전환되어 숫자연산을 위한 변환 필요\n",
    "num1 = input('숫자를 입력하세요')\n",
    "num1_n =int(num1)\n",
    "num2 = input('숫자를 입력하세요')\n",
    "num2_n = int(num2)\n",
    "print(num1_n+num2_n)"
   ]
  },
  {
   "cell_type": "code",
   "execution_count": null,
   "id": "6bfcc3ee",
   "metadata": {},
   "outputs": [],
   "source": [
    "#Q. 3 과 3.3을 입력하고 숫자연산을 수행하여 6.3을 출력하세요\n",
    "num1 = input('숫자를 입력하세요')\n",
    "num1_n = float(num1)\n",
    "num2 = input('숫자를 입력하세요')\n",
    "num2_n = float(num2)\n",
    "print(num1_n+num2_n)"
   ]
  },
  {
   "cell_type": "code",
   "execution_count": null,
   "id": "23c8321f",
   "metadata": {},
   "outputs": [],
   "source": [
    "#Q. a=52 와 b=52.273 일때, a+b는 5252.273로 출력되도록 a ,b를 문자열 \n",
    "#자료형으로 변환하세요.\n",
    "\n",
    "a = 52\n",
    "b = 52.273\n",
    "print(str(a)+str(b))"
   ]
  },
  {
   "cell_type": "code",
   "execution_count": null,
   "id": "82407c71",
   "metadata": {},
   "outputs": [],
   "source": [
    "num1 = input('숫자를 입력하세요')\n",
    "num1_n = (num1)\n",
    "num2 = input('숫자를 입력하세요')\n",
    "num2_n = (num2)\n",
    "print(num1_n+num2_n)"
   ]
  },
  {
   "cell_type": "code",
   "execution_count": null,
   "id": "297af4dc",
   "metadata": {},
   "outputs": [],
   "source": [
    "a = 52\n",
    "b = 52.273\n",
    "print(str(a)+str(b))"
   ]
  },
  {
   "cell_type": "code",
   "execution_count": null,
   "id": "26cbf9a3",
   "metadata": {},
   "outputs": [],
   "source": [
    "# 문자열 : ''.''.''''''.\"\"\"\"\"\"\n",
    "p1= \"pythons' value is great\"\n",
    "#p2= 'python's value is great'\n",
    "print(p1)\n",
    "#syntax Error :  문법오류"
   ]
  },
  {
   "cell_type": "code",
   "execution_count": null,
   "id": "34def9d8",
   "metadata": {},
   "outputs": [],
   "source": [
    "s1 = '\"python is valuable\"he says'\n",
    "s1"
   ]
  },
  {
   "cell_type": "code",
   "execution_count": null,
   "id": "69a27ff8",
   "metadata": {},
   "outputs": [],
   "source": [
    "s2= 'pythons value\\'s is great'\n",
    "s2"
   ]
  },
  {
   "cell_type": "code",
   "execution_count": null,
   "id": "e1e69409",
   "metadata": {},
   "outputs": [],
   "source": [
    "y1 = \"Once you study data anaysis\\nYou need python\"\n",
    "print(y1)\n",
    "#\\n 줄바꿈\n",
    "y2 = '''Once you study data analysis\n",
    "you need python'''\n",
    "print(y2)\n",
    "y3 = \"\"\"nce you study data anaylsis\n",
    "you need pythin\"\"\"\n",
    "print(y3)"
   ]
  },
  {
   "cell_type": "code",
   "execution_count": null,
   "id": "f6d24653",
   "metadata": {},
   "outputs": [],
   "source": [
    "#문자열 연산\n",
    "a1 = 'Python'\n",
    "a2= 'is easy to learn'\n",
    "print(a1+ a2)\n",
    "print(a1*3)\n",
    "print(\"=\"*20)"
   ]
  },
  {
   "cell_type": "code",
   "execution_count": null,
   "id": "9fc329e6",
   "metadata": {},
   "outputs": [],
   "source": [
    "print(12+2)"
   ]
  },
  {
   "cell_type": "code",
   "execution_count": null,
   "id": "1a4329b1",
   "metadata": {},
   "outputs": [],
   "source": [
    "say = \"\\\"python is cute\\\"he say\"\n",
    "say"
   ]
  },
  {
   "cell_type": "code",
   "execution_count": null,
   "id": "6e6d0c38",
   "metadata": {},
   "outputs": [],
   "source": [
    "# 자료형 -  List\n",
    "#리스트는 []로 표시하며 []안의 요소를 콤마로 구분하여 순서있게 나열\n",
    "list1=[1,2,3,4,5]\n",
    "list2 = ['a','b','c']\n",
    "list3 = [1, 'a','abc',[1,2,3,4,5,],['a','c']]\n",
    "print(list3)"
   ]
  },
  {
   "cell_type": "code",
   "execution_count": null,
   "id": "02400343",
   "metadata": {},
   "outputs": [],
   "source": [
    "#인덱싱\n",
    "list1 = [1,2,3,4,5]\n",
    "list1[:]\n",
    "list3[2]\n",
    "list3[3][4]"
   ]
  },
  {
   "cell_type": "code",
   "execution_count": null,
   "id": "89822fe5",
   "metadata": {},
   "outputs": [],
   "source": [
    "#리스트 수정, 삭제\n",
    "\n",
    "a = [0,1,2,3,4,5,6,7,8,9]\n",
    "b= ['a','b','c']\n",
    "a[0]=1\n",
    "b[1]='a'\n",
    "del b[1]\n",
    "print(a)\n",
    "print(b)"
   ]
  },
  {
   "cell_type": "code",
   "execution_count": null,
   "id": "ec633a88",
   "metadata": {},
   "outputs": [],
   "source": [
    "a = [0,1,2,3,4,5,6,7,8,9]\n",
    "b=['a','b','c']\n",
    "c= a+b\n",
    "print(c)\n",
    "c[-1] =1\n",
    "c"
   ]
  },
  {
   "cell_type": "code",
   "execution_count": null,
   "id": "06def567",
   "metadata": {},
   "outputs": [],
   "source": [
    "c[-2]=2\n",
    "c"
   ]
  },
  {
   "cell_type": "code",
   "execution_count": null,
   "id": "48f16dec",
   "metadata": {},
   "outputs": [],
   "source": [
    "s = [1,1,2,3,4,5,6,7,8,9,2,1]\n",
    "s.sort()\n",
    "print(s)\n",
    "# 내림차순"
   ]
  },
  {
   "cell_type": "code",
   "execution_count": null,
   "id": "b4a59d66",
   "metadata": {},
   "outputs": [],
   "source": [
    "#정렬\n",
    "b=[2,4,3,1]\n",
    "b.sort()\n",
    "print(b)\n",
    "# 내림차순\n",
    "b_d = sorted(b,reverse=True)\n",
    "print(b_d)\n",
    "b.reverse()\n",
    "print(b)"
   ]
  },
  {
   "cell_type": "code",
   "execution_count": null,
   "id": "ea5d116a",
   "metadata": {},
   "outputs": [],
   "source": [
    "s  = [1,1,2,3,4,5,6,7,8,9,2,1,]\n",
    "s.sort()\n",
    "print(s)\n",
    "s.reverse()\n",
    "print(s)\n",
    "s_d = sorted(s, reverse=True)\n",
    "print(s_d)"
   ]
  },
  {
   "cell_type": "code",
   "execution_count": null,
   "id": "3d1e962e",
   "metadata": {},
   "outputs": [],
   "source": [
    "#인덱스 위치 반환\n",
    "c=[1,2,3,1,5]\n",
    "print(c.index(3))"
   ]
  },
  {
   "cell_type": "code",
   "execution_count": null,
   "id": "22daa416",
   "metadata": {},
   "outputs": [],
   "source": [
    "#인덱스 위치 반환\n",
    "import numpy as np\n",
    "c= np.random.randint(100, size=100).tolist()\n",
    "print(c)\n",
    "c.index(65)"
   ]
  },
  {
   "cell_type": "code",
   "execution_count": null,
   "id": "6fd5f4fd",
   "metadata": {},
   "outputs": [],
   "source": [
    "import numpy as np\n",
    "c= np.random.randint(100, size=100).tolist()\n",
    "print(c)\n",
    "c.index(65)"
   ]
  },
  {
   "cell_type": "code",
   "execution_count": null,
   "id": "f6147e7f",
   "metadata": {},
   "outputs": [],
   "source": [
    "!pip install numpy\n",
    "# 라이브러리 설치 이렇게 해도 됨"
   ]
  },
  {
   "cell_type": "code",
   "execution_count": null,
   "id": "ff2aefbc",
   "metadata": {},
   "outputs": [],
   "source": [
    "#개수반환\n",
    "c = [1,1,2,3,3,3,5]\n",
    "c.count(3)\n"
   ]
  },
  {
   "cell_type": "code",
   "execution_count": null,
   "id": "95941d73",
   "metadata": {},
   "outputs": [],
   "source": [
    "#리스트 확장\n",
    "h = [1,2,3]\n",
    "h.extend ([4,5])\n",
    "print(h)\n",
    "h.append(6)\n",
    "print(h)\n",
    "h.insert(0,5)  #0번쨰 인덱스에다가 5를 삽입\n",
    "print(h)\n",
    "h.insert(8,7)\n",
    "print(h)\n",
    "h.insert(-1,8)\n",
    "print(h)"
   ]
  },
  {
   "cell_type": "code",
   "execution_count": null,
   "id": "691e3ebb",
   "metadata": {},
   "outputs": [],
   "source": [
    "#튜플 \n",
    "tuple1 = (1,2,3,4,5)\n",
    "tuple2 = ('a','b','c')\n",
    "tuple3 = (1, 'a','abc',[1,2,3,4,5],['a','b','c'])\n",
    "\n",
    "tuple1[:]\n",
    "tuple3[3][4]\n",
    "tuple3[4][1]\n"
   ]
  },
  {
   "cell_type": "code",
   "execution_count": null,
   "id": "615626c7",
   "metadata": {},
   "outputs": [],
   "source": [
    "# 자료형= TUPLE\n",
    "# 튜플의 요소 값은 변경할 수 없음 - 프로그램에서 그 값이 항상 변하지\n",
    "#않아야되는 경우 사용\n",
    "\n",
    "tuple1[0]=6\n",
    "pirnt(tuple1)\n",
    "tuple[0]='c'\n",
    "print(tuple1)\n",
    "del t1[0]\n",
    "print[t1]"
   ]
  },
  {
   "cell_type": "code",
   "execution_count": null,
   "id": "64d3d395",
   "metadata": {},
   "outputs": [],
   "source": [
    "t1=(1,)# 1개의 요소만 가질 때는 요소 뒤에 콤마를 붙여야함\n",
    "print(t1)\n",
    "t2=1,2,3,\n",
    "print(t2)\n",
    "print(t2*3)\n",
    "t3 = t1+t2\n",
    "print(t3)\n",
    "t4=(1)\n",
    "print(t4)\n",
    "type(t4)"
   ]
  },
  {
   "cell_type": "code",
   "execution_count": null,
   "id": "75aa397d",
   "metadata": {},
   "outputs": [],
   "source": [
    "#자료형 - 사전(키와 값을 하나의 요소로 하는 순서가 없는 집합)\n",
    "d1={'a':1,'b':2,'c':3}\n",
    "print(d1['a'])\n",
    "d1['b']=5\n",
    "print(d1)\n",
    "print(d1['c'])"
   ]
  },
  {
   "cell_type": "code",
   "execution_count": null,
   "id": "439453df",
   "metadata": {},
   "outputs": [],
   "source": [
    "print(d1.keys())\n",
    "print(d1.values())\n",
    "print(d1.items())"
   ]
  },
  {
   "cell_type": "code",
   "execution_count": null,
   "id": "95bfe5fa",
   "metadata": {},
   "outputs": [],
   "source": [
    "print(d1.keys())"
   ]
  },
  {
   "cell_type": "code",
   "execution_count": null,
   "id": "1d71542f",
   "metadata": {},
   "outputs": [],
   "source": [
    "d1 = {1:'a'}\n",
    "a[2] = 'b'\n",
    "a"
   ]
  },
  {
   "cell_type": "markdown",
   "id": "8bc11901",
   "metadata": {},
   "source": [
    "d1={'맑음':1, '눈':2.'비':3}\n",
    "print(d1) # 추가연습\n",
    "print(d1.keys())"
   ]
  },
  {
   "cell_type": "code",
   "execution_count": null,
   "id": "30550e2a",
   "metadata": {},
   "outputs": [],
   "source": [
    "dic = {'apple':'사과', 'book':'책', 'cube':'육면체'}\n",
    "\n",
    "print('현재 사전에 있는 단어 목록')\n",
    "print(dic.keys())\n",
    "search = input(\"\\n뜻을 알고 싶은 영단어를 입력하세요: \")\n",
    "print(search + '(은)는 ' + dic[search] + '입니다.')\n"
   ]
  },
  {
   "cell_type": "code",
   "execution_count": null,
   "id": "a252128a",
   "metadata": {},
   "outputs": [],
   "source": [
    "# 자료형 - 집합, set( 중복을 허용하지 않으며 순서가 없다.)\n",
    "s1= set([1,2,5,4,3])\n",
    "s2= set ('hello') # l자가 두갠데 중복허용하지 않아서 한개만 나옴\n",
    "print(s1)\n",
    "print(s2)"
   ]
  },
  {
   "cell_type": "code",
   "execution_count": null,
   "id": "6d04f0bc",
   "metadata": {},
   "outputs": [],
   "source": [
    "#집합은 인덱싱으로 값을 얻을 수 없으며 필요시 리스트나 튜플로 변환 후 인덱싱\n",
    "l1= list(s1)\n",
    "print(l1[1])\n",
    "l2 = list(s2)\n",
    "print(l2[1])\n",
    "l1 = list(s1)\n",
    "print(l1[3])"
   ]
  },
  {
   "cell_type": "code",
   "execution_count": null,
   "id": "78c19299",
   "metadata": {},
   "outputs": [],
   "source": [
    "#Q. s1, s2 의 합집합과 교집합을 각각 리스트와 튜플로 출력하세요.\n",
    "# 합집합(s1|s2), 교집합 (s1&s2)\n",
    "s1= set([1,2,3,4,5,6])\n",
    "s2 = set([4,5,6,7,8,9])\n",
    "\n",
    "list(s1|s2)\n",
    "print(list(s1|s2))\n",
    "tuple(s1&s2)\n",
    "print(list(s1s2))"
   ]
  },
  {
   "cell_type": "code",
   "execution_count": null,
   "id": "b745796e",
   "metadata": {},
   "outputs": [],
   "source": [
    "s1= set([1,2,3])\n",
    "t1=tuple(s1)\n",
    "t1\n",
    "t1[0]"
   ]
  },
  {
   "cell_type": "code",
   "execution_count": null,
   "id": "5d1f0637",
   "metadata": {},
   "outputs": [],
   "source": [
    "#들여쓰기\n",
    "li=['a','b','c']\n",
    "if 'a' in li:\n",
    "    print('a가 li에 있습니다.')\n",
    "else:\n",
    "    print('a가 li에 없습니다')"
   ]
  },
  {
   "cell_type": "code",
   "execution_count": null,
   "id": "049eca45",
   "metadata": {},
   "outputs": [],
   "source": [
    "li=['사과','딸기','감']\n",
    "if '사과' in li:\n",
    "    print('사과 있습니다')\n",
    "else :\n",
    "    print('사과 없습니다')"
   ]
  },
  {
   "cell_type": "code",
   "execution_count": null,
   "id": "8a23a908",
   "metadata": {},
   "outputs": [],
   "source": [
    "#문자열  format\n",
    "name= '홍길동'\n",
    "age = 30\n",
    "f'나의 이름은 {name}입니다. 나이는 {age}입니다.'"
   ]
  },
  {
   "cell_type": "code",
   "execution_count": null,
   "id": "246d6c95",
   "metadata": {},
   "outputs": [],
   "source": [
    "d= {'name':'헝길동','age':30}\n",
    "f'나의 이름은 {d[\"name\"]}입니다. 나이는 {d[\"age\"]}입니다.'"
   ]
  },
  {
   "cell_type": "code",
   "execution_count": null,
   "id": "7784a512",
   "metadata": {},
   "outputs": [],
   "source": [
    "name ='사과'\n",
    "age= 30\n",
    "f'나의 이름은 {name}입니다.나이는 {age}입니다.'"
   ]
  },
  {
   "cell_type": "code",
   "execution_count": null,
   "id": "07b4244e",
   "metadata": {},
   "outputs": [],
   "source": [
    "d = {'name':'홍길동', 'age':30}\n",
    "f'나의 이름은 {d[\"name\"]}입니다. 나이는 {d[\"age\"]}입니다.'"
   ]
  },
  {
   "cell_type": "code",
   "execution_count": null,
   "id": "a1f53f33",
   "metadata": {},
   "outputs": [],
   "source": [
    "y=3.42134234\n",
    "f'{y:0.4f}' #소수점 4자리까지만 표현\n",
    "#f는 format입니다\n"
   ]
  },
  {
   "cell_type": "code",
   "execution_count": null,
   "id": "47a7a7b3",
   "metadata": {},
   "outputs": [],
   "source": [
    "f'{y:10.4f}' #소수점 4자리까지 표현하고 총 자리수를 10으로 맞춤\n",
    "#전체 자리수 10개고 소수점자리 4개까지\n"
   ]
  },
  {
   "cell_type": "code",
   "execution_count": null,
   "id": "3338b253",
   "metadata": {},
   "outputs": [],
   "source": [
    "f'{y:8.4f}'"
   ]
  },
  {
   "cell_type": "code",
   "execution_count": null,
   "id": "c46ac61e",
   "metadata": {},
   "outputs": [],
   "source": [
    "#포멧함수\n",
    "f1 = \"{1}선수가 {0}등입니다.\".format('홍길동',1)\n",
    "print(f1)\n",
    "print(\"%s선수가 %d등입니다\" %(\"홍길동\",1)) #s는 문자쓸 때, %d는 숫자를 썼고"
   ]
  },
  {
   "cell_type": "code",
   "execution_count": null,
   "id": "b9c12f87",
   "metadata": {},
   "outputs": [],
   "source": [
    "f1=\"{}은 {}보다 {}배 쉽습니다.\".format('파이썬','자바',2)\n",
    "print(f1)\n",
    "print('%s는 %s보다 %d배 쉽습니다'%('파이썬','자바',2))"
   ]
  },
  {
   "cell_type": "code",
   "execution_count": null,
   "id": "ae7385ea",
   "metadata": {},
   "outputs": [],
   "source": [
    "f=\"{}은 {}보다 {}배 쉽습니다.\" .format('파이썬','자바',2)\n",
    "print(f)\n",
    "print(\"%s은 %s보다 %d배 쉽습니다.\" %('파이썬','자바',2))\n"
   ]
  },
  {
   "cell_type": "code",
   "execution_count": null,
   "id": "d8ac54c7",
   "metadata": {
    "scrolled": true
   },
   "outputs": [],
   "source": [
    "y=12345\n",
    "print(f'{y:5.0f}')\n",
    "\n",
    "y=0.000012345\n",
    "print(f'{y:5.5f}')\n"
   ]
  },
  {
   "cell_type": "markdown",
   "id": "2f4f2c3e",
   "metadata": {},
   "source": [
    "#[과제] 아래와 같이 출력하세요\n",
    "\n",
    "12345 \n",
    "     12345\n",
    "12.345679\n",
    "         12.346\n",
    "    "
   ]
  },
  {
   "cell_type": "code",
   "execution_count": null,
   "id": "358494e3",
   "metadata": {},
   "outputs": [],
   "source": [
    "y=1.2345\n",
    "print(f'{y:5f}')\n"
   ]
  },
  {
   "cell_type": "code",
   "execution_count": null,
   "id": "c5f42e48",
   "metadata": {},
   "outputs": [],
   "source": [
    "f'{y:10.4f}' #소수점 4자리까지 표현하고 총 자리수를 10으로 맞춤\n",
    "#전체 자리수 10개고 소수점자리 4개까지\n"
   ]
  },
  {
   "cell_type": "code",
   "execution_count": null,
   "id": "354216fb",
   "metadata": {},
   "outputs": [],
   "source": [
    "y=12345\n",
    "print(f'{y:0.0f}')\n",
    "print(f'{y:10.0f}')"
   ]
  },
  {
   "cell_type": "code",
   "execution_count": null,
   "id": "90c25f1d",
   "metadata": {},
   "outputs": [],
   "source": [
    "y=12345\n",
    "print(f'{y:0.0f}')\n",
    "print(f'{y:10.0f}')\n",
    "y=12.345679\n",
    "print(f'{y:8.6f}')\n",
    "print(f'{y:11.3f}')"
   ]
  },
  {
   "cell_type": "code",
   "execution_count": null,
   "id": "2c834dda",
   "metadata": {},
   "outputs": [],
   "source": [
    "# 과제\n",
    "y=12345\n",
    "print(f'{y:0.0f}')\n",
    "print(f'{y:10.0f}')\n",
    "y=12.345679\n",
    "print(f'{y:8.6f}')\n",
    "print(f'{y:11.3f}')"
   ]
  },
  {
   "cell_type": "code",
   "execution_count": null,
   "id": "2e83f3f7",
   "metadata": {},
   "outputs": [],
   "source": [
    "y=12345\n",
    "print(f'{y:.0f}')\n",
    "print(f'{y:10.0f}')"
   ]
  },
  {
   "cell_type": "code",
   "execution_count": null,
   "id": "fb45586e",
   "metadata": {},
   "outputs": [],
   "source": [
    "#제어문 - if~elif~ else # 세가지이상 조건이 있는 경우 사용\n",
    "# \"수입과 지출금액을 비교해서 수입이 많으면 저축증가, 반대면 빚이 증가\"\n",
    "#\"같으면 현상 유지\"\n",
    "\n",
    "i = 3,000,000\n",
    "e = 5,000,000\n",
    "\n",
    "\n",
    "if i> e:\n",
    "    print('저축증가')\n",
    "elif i < e :\n",
    "    print('빚이 증가')\n",
    "else :\n",
    "    print('현상유지')"
   ]
  },
  {
   "cell_type": "code",
   "execution_count": null,
   "id": "d752db13",
   "metadata": {},
   "outputs": [],
   "source": [
    "#for  반복문\n",
    "numbers = [5,15,6,20,7,25]\n",
    "for number in numbers :\n",
    "    print(number, end= ' ')\n",
    "    \n",
    "    #numbers 에서 각각의 숫자(요소), 하나씩 여섯번 꺼낸다는 것\n",
    "    # 5를 빼, 5를 출력하지 끝에다가 한칸 띄워라 라는 명령 end = \" \""
   ]
  },
  {
   "cell_type": "code",
   "execution_count": null,
   "id": "fc5a24b6",
   "metadata": {},
   "outputs": [],
   "source": [
    "#for ~continue ~ break \n",
    "# 1~ 10 법위의 정수에서 1부터 5까지만 출력하세요\n",
    "\n",
    "\n",
    "\n",
    "for i in range(1,11) :\n",
    "    print(i) \n",
    "    if i < 5:\n",
    "        continue \n",
    "    else:\n",
    "        break\n",
    "        "
   ]
  },
  {
   "cell_type": "code",
   "execution_count": null,
   "id": "64e5b47d",
   "metadata": {},
   "outputs": [],
   "source": [
    "for i  in range(1,11):\n",
    "    print(i, end = ' ')\n",
    "    if i <5 :\n",
    "        continue\n",
    "    else:\n",
    "        break\n",
    "        "
   ]
  },
  {
   "cell_type": "code",
   "execution_count": null,
   "id": "2103de36",
   "metadata": {},
   "outputs": [],
   "source": [
    "#numbers 리스트에서 15,20,25를 출력하세요(for문과  if조건 사용 필수)\n",
    "numbers = [5,15,6,20,7,25]\n",
    "\n",
    "for number in numbers:\n",
    "    if number <10 :\n",
    "         continue        \n",
    "    else:\n",
    "       print(number, end = ' ')"
   ]
  },
  {
   "cell_type": "code",
   "execution_count": null,
   "id": "4aae24cb",
   "metadata": {},
   "outputs": [],
   "source": [
    "numbers = [ 5, 15, 6, 20, 7, 25 ]\n",
    "for number in numbers:\n",
    "    if(number>10):\n",
    "        print(number, end=' ')\n",
    "    else:\n",
    "        continue\n"
   ]
  },
  {
   "cell_type": "code",
   "execution_count": null,
   "id": "c8dcde2c",
   "metadata": {},
   "outputs": [],
   "source": [
    "for number in numbers:\n",
    "    print(number, end = ' ')\n",
    "    if i < 10 :\n",
    "        continue\n",
    "    else: \n",
    "        break"
   ]
  },
  {
   "cell_type": "code",
   "execution_count": null,
   "id": "1fb925a6",
   "metadata": {},
   "outputs": [],
   "source": [
    "# while(무한반복,  break로 끊어줘야됨)\n",
    "# 정수 1부터 n 까지 더할 때 그 합이 1000보다 커지게 되는 n과 합을 구하세요\n",
    "\n",
    "x= 1\n",
    "sum= 0\n",
    "\n",
    "while True:\n",
    "    sum= sum + x\n",
    "    if sum > 1000:\n",
    "        print(x)\n",
    "        print(sum)\n",
    "        break\n",
    "    x = x + 1\n",
    "    "
   ]
  },
  {
   "cell_type": "code",
   "execution_count": 35,
   "id": "97cf693a",
   "metadata": {},
   "outputs": [
    {
     "name": "stdout",
     "output_type": "stream",
     "text": [
      "166833\n"
     ]
    }
   ],
   "source": [
    "#while 문을 사용해1부터 10000까지의 정수 중 3의 배수의 합을 구하시오\n",
    "\n",
    "i=0\n",
    "sum=0\n",
    "\n",
    "while i<1000:\n",
    "    i+=1\n",
    "    if i%3==0:\n",
    "        sum =sum+i\n",
    "        \n",
    "\n",
    "print(sum)\n"
   ]
  },
  {
   "cell_type": "code",
   "execution_count": null,
   "id": "d1346f90",
   "metadata": {},
   "outputs": [],
   "source": [
    "x = 1\n",
    "sum = 0\n",
    "while x<=1000:\n",
    "    if x%3 == 0:\n",
    "        sum+=x\n",
    "    x+=1\n",
    "print(sum)\n"
   ]
  },
  {
   "cell_type": "code",
   "execution_count": null,
   "id": "4689748f",
   "metadata": {},
   "outputs": [],
   "source": [
    "x = 1\n",
    "s = 0\n",
    "\n",
    "while x <= 1000:\n",
    "    if x%3==0:\n",
    "        s += x\n",
    "    x+=1\n",
    "    \n",
    "print(s)\n"
   ]
  },
  {
   "cell_type": "markdown",
   "id": "92a01708",
   "metadata": {},
   "source": [
    "###과제 \n",
    "#1부터 100까지의 정수 중 5에서 95까지의 합을 구하시오.\n"
   ]
  },
  {
   "cell_type": "code",
   "execution_count": null,
   "id": "ac69feff",
   "metadata": {},
   "outputs": [],
   "source": [
    "x = 0\n",
    "s = 0\n",
    "\n",
    "while x<100:\n",
    "    i+=1\n",
    "    if i>=5 or i <=95:\n",
    "     sum += i\n",
    "   print(sum)\n",
    "\n",
    "\n",
    "\n",
    "x"
   ]
  },
  {
   "cell_type": "code",
   "execution_count": null,
   "id": "34179eac",
   "metadata": {},
   "outputs": [],
   "source": [
    "#101의 3승을 구하세요\n",
    "\n",
    "print(101**3)"
   ]
  },
  {
   "cell_type": "code",
   "execution_count": null,
   "id": "622e95ac",
   "metadata": {},
   "outputs": [],
   "source": [
    "# python과 3.8.3을 합쳐서  python 3.8.3으로 출력하세요\n",
    "\n",
    "a= 'python'\n",
    "b= ' 3.8.3'\n",
    "print(a + b)"
   ]
  },
  {
   "cell_type": "code",
   "execution_count": null,
   "id": "1a61d34e",
   "metadata": {},
   "outputs": [],
   "source": [
    "print(5//2)\n",
    "print(5%2)\n",
    "\n",
    "print(101**3)\n",
    "\n",
    "a= 'python'\n",
    "b= ' 3.8.3'\n",
    "print(a + b)\n"
   ]
  },
  {
   "cell_type": "code",
   "execution_count": null,
   "id": "1bed2aa1",
   "metadata": {},
   "outputs": [],
   "source": [
    "#a = 5 a ='10' a =15\n",
    "\n",
    "a=5\n",
    "print(type(a))\n",
    "a= '10'\n",
    "print(type(a))\n",
    "a = 15\n",
    "print(type(a))"
   ]
  },
  {
   "cell_type": "code",
   "execution_count": null,
   "id": "70bfb387",
   "metadata": {},
   "outputs": [],
   "source": [
    "#a = 5 a ='10' a =15\n",
    "a= 5; a = '10' ;a= 15\n",
    "type(a)"
   ]
  },
  {
   "cell_type": "code",
   "execution_count": null,
   "id": "65dd2f61",
   "metadata": {},
   "outputs": [],
   "source": [
    "#5의 3승을 3으로 나누었을 때 나머지를 복합대입 연산자를 이용해 구하세요\n",
    "print((5**3)%3)"
   ]
  },
  {
   "cell_type": "code",
   "execution_count": null,
   "id": "a810f14c",
   "metadata": {},
   "outputs": [],
   "source": [
    "#숫자 3개를 입력해서 첫번째 숫자를 두번째 숫자 승한 뒤에 세번째 숫자로 나누었을 때\n",
    "#몫을 구하세요\n",
    "\n",
    "\n",
    "a = int(input('첫번째 숫자를 입력해주세요'))\n",
    "b = int (input(\"두번째 숫자를 입력해주세요\"))\n",
    "c = int (input(\"세번째 숫자를 입력해주세요.\"))\n",
    "d= (a**b)//c\n",
    "\n",
    "print(d)"
   ]
  },
  {
   "cell_type": "code",
   "execution_count": null,
   "id": "0bcfdd81",
   "metadata": {},
   "outputs": [],
   "source": [
    "#1부터 5까지 입력해서 12345를 출력하세요\n",
    "num=12345\n",
    "print(num)"
   ]
  },
  {
   "cell_type": "code",
   "execution_count": null,
   "id": "2cec3f79",
   "metadata": {},
   "outputs": [],
   "source": [
    "name= input(\"이름이 무엇이세요? \")\n",
    "\"제 이름은\"+name +\"입니다\""
   ]
  },
  {
   "cell_type": "markdown",
   "id": "b559204a",
   "metadata": {},
   "source": [
    "#[과제]\n",
    "1. while문을 사용해 1부터 1000가지의 정수 중 3과 5의 공배수의 합을 구해보세요.\n",
    "2. 1부터 5까지 입력해서 12345를 출력하세요\n",
    "3. [0,1,2,3,4,5,6,7,8,9,' a','b','c']에서 9와 'a'를 삭제후 리스트로 출력하세요\n",
    "4. [0,1,2,3,4,5,6,7,8,'b','c'] 에서 'c'를 삭제후 출력하세요\n",
    "5. 4,8,5,4,8,4,3,9,1,9 를 내림차순으로 정렬하세요\n",
    "6.format함수를 이용해서 다음과 같은 형식으로 현재 날짜/시간을 출력하세요\n",
    "2021년 12월 29일 15시 47분 30초\n",
    "7.현재 시각을 오전과 오후로 구분하느 프로그램을 작성하세요.\n",
    "8.정수를 입력하면 홀수짝수를 판별하는 프로그램을 작성하세요\n",
    "9.태어난 연도를 입력받아 띠를 출력하는 프로그램을 작성하세요.\n",
    "원숭이,닭,개,돼지.쥐,소,범 ,토끼,용,뱀,말,양띠\n",
    "10.계절 구분 프로그램\n",
    " 각 계절별 출력멘트는 계절에 맞게 창작\n",
    "11. if조건문으로  datetime모듈을  import해서 datetime.now함수를 사용해서 작성\n",
    " \n",
    " [ 과제]\n",
    "12.  시나리오 : 자판기 커피 재고 5잔, 커피 1잔 가격 300원, 재고 범위내에서 300원 이상 돈을 넣으면 거스름돈과 커피를 주고 그렇지 않으면 반환하며 재고가 소진되면 안내멘트 출력\n",
    "각 Case별 멘트 출력은 상황에 맞게 창작\n",
    "while, if ~ elif ~ else 제어문을 사용하여 작성\n"
   ]
  },
  {
   "cell_type": "code",
   "execution_count": 22,
   "id": "dc4b816d",
   "metadata": {},
   "outputs": [
    {
     "name": "stdout",
     "output_type": "stream",
     "text": [
      "33165\n",
      "33165\n",
      "33165\n"
     ]
    }
   ],
   "source": [
    "\n",
    "i=0\n",
    "sum=0\n",
    "\n",
    "while i<1000:\n",
    "    i+=1\n",
    "    if i%3 ==0 and i%5 ==0:\n",
    "        sum =sum+i\n",
    "        \n",
    "print(sum)\n",
    "\n",
    "\n",
    "\n",
    "\n",
    "i=0\n",
    "sum=0\n",
    "\n",
    "while i < 1000:\n",
    "    i +=1\n",
    "    if i%3 ==-0 and i%5 ==0:\n",
    "        sum = sum+i\n",
    "        \n",
    "print(sum)\n",
    "\n",
    "i=0\n",
    "sum=0\n",
    "\n",
    "while i< 1000:\n",
    "    i += 1\n",
    "    if i%3==0 and i%5==0 :\n",
    "        sum= sum +i\n",
    "        \n",
    "print(sum)"
   ]
  },
  {
   "cell_type": "code",
   "execution_count": 34,
   "id": "eed1d68c",
   "metadata": {},
   "outputs": [
    {
     "name": "stdout",
     "output_type": "stream",
     "text": [
      "나무를 1번 찍었습니다\n",
      "나무를 2번 찍었습니다\n",
      "나무를 3번 찍었습니다\n",
      "나무를 4번 찍었습니다\n",
      "나무를 5번 찍었습니다\n",
      "나무를 6번 찍었습니다\n",
      "나무를 7번 찍었습니다\n",
      "나무를 8번 찍었습니다\n",
      "나무를 9번 찍었습니다\n",
      "나무를 10번 찍었습니다\n",
      "나무 넘어갑니다\n",
      "1\n",
      "3\n",
      "5\n",
      "7\n",
      "9\n"
     ]
    }
   ],
   "source": [
    "treehit = 0\n",
    "while treehit <10:\n",
    "        treehit= treehit +1\n",
    "        print(\"나무를 %d번 찍었습니다\"%treehit)\n",
    "        if treehit ==10:\n",
    "            print(\"나무 넘어갑니다\")\n",
    "\n",
    "a=0\n",
    "while a<10 :     \n",
    "    a = a+1\n",
    "    if a % 2 ==0: continue\n",
    "    print(a)\n",
    "    \n",
    "\n",
    "\n",
    "        \n"
   ]
  },
  {
   "cell_type": "code",
   "execution_count": null,
   "id": "e46a3a63",
   "metadata": {},
   "outputs": [],
   "source": [
    "#커피과제 \n",
    "\n",
    "coffee = 5\n",
    "\n",
    "\n",
    "money= int(input('돈을 넣어주세요: '))\n",
    "while 1:\n",
    "    if money == 300:\n",
    "        print(\"커피를 드리겠습니다\")\n",
    "        coffee = coffee-1\n",
    "        print(\"남은 커피의 수량은 %d잔 입니다\"% coffee)\n",
    "        \n",
    "    elif money > 300 : \n",
    "         print(\" 거스름돈%d을 드리겠습니다\"% (money -300))\n",
    "         coffee= coffee-1\n",
    "         \n",
    "    else:\n",
    "        print(\"돈을 돌려주고 커피를 주지 않습니다\")\n",
    "        print(\"남은 커피의 양은 %d입니다\"%coffee)\n",
    "    if coffee ==0 :\n",
    "        print(\"커피가 다 떨어졌습니다\")\n",
    "    \n",
    "    break"
   ]
  },
  {
   "cell_type": "code",
   "execution_count": null,
   "id": "2f3af192",
   "metadata": {},
   "outputs": [],
   "source": [
    "#10. 계절 구분 프로그램 각 계절별 출력멘트는 계절에 맞게 창작 if조건문으로 datetime모듈을\n",
    "#import해서 datetime.now함수를 사용해서 작성\n",
    "\n",
    "import datetime\n",
    "\n",
    "now = datetime.datetime.now()\n",
    "\n",
    "if 3 <=now.month <5 :\n",
    "    print(\"이번달은 {}날로 봄입니다\".format(now.month))\n",
    "elif 6<= now.month <9:\n",
    "    print(\"이번달은{}날로 여름입니다\".format(now.month))\n",
    "elif 9<= now.month <12:\n",
    "    print(\"이번달은 {}날로 가을입니다\".format(now.month))\n",
    "else:\n",
    "    print(\"이번달은 {}날로 겨울입니다\".format(now.month))\n"
   ]
  },
  {
   "cell_type": "code",
   "execution_count": null,
   "id": "809c9582",
   "metadata": {},
   "outputs": [],
   "source": [
    "#9.태어난 연도를 입력받아 띠를 출력하는 프로그램을 작성하세요.\n",
    "\n",
    "i=input(\"태어난해를 입력해주세요\")\n",
    "year=int(i)%12\n",
    "\n",
    "animals=[\"원숭이\",\"닭\",\"개\",\"돼지\",\"쥐\",\"소\",\"범\" ,\"토끼\",\"용\",\"뱀\",\"말\",\"양띠\"]\n",
    "print(animals[year],\"띠입니다.\")\n"
   ]
  },
  {
   "cell_type": "code",
   "execution_count": null,
   "id": "d187a06a",
   "metadata": {},
   "outputs": [],
   "source": [
    "#8. 정수를 입력하면 홀수짝수를 판별하는 프로그램을 작성하세요\n",
    "\n",
    "\n",
    "i= input('정수를 입력하세요')\n",
    "i= int(i)\n",
    "\n",
    "if i%2 ==0:\n",
    "    print(\"짝수입니다\")\n",
    "else :\n",
    "    print(\"홀수입니다\")"
   ]
  },
  {
   "cell_type": "code",
   "execution_count": null,
   "id": "581b5a2d",
   "metadata": {},
   "outputs": [],
   "source": [
    "#6. format함수를 이용해서 다음과 같은 형식으로 현재 날짜/시간을 출력하세요 \n",
    "#2021년 12월 29일 15시 47분 30초\n",
    "\n",
    "import datetime\n",
    "t=datetime.datetime.now()\n",
    "\n",
    "import datetime\n",
    "t=datetime.datetime.now()\n",
    "\n",
    "f= \"{}년 {}월 {}일 {}시 {}분 {}초\".format(t.year,t.month,t.day,t.hour,t.minute,t.second)\n",
    "print(f)\n",
    "\n",
    "\n",
    "d = datetime.datetime.now()\n",
    "print (t.year,'년',t.month,'월', t.day,'일',t.hour,'시',t.minute,'분',t.second,'초')\n"
   ]
  },
  {
   "cell_type": "code",
   "execution_count": null,
   "id": "9eda11ea",
   "metadata": {},
   "outputs": [],
   "source": [
    "#7. 현재 시각을 오전과 오후로 구분하는 프로그램을 작성하세요.\n",
    "\n",
    "import datetime\n",
    "\n",
    "now=datetime.datetime.now()\n",
    "\n",
    "\n",
    "t = input('현재 시간을 입력하세요')\n",
    "\n",
    "if now.hour < 12:\n",
    "    print(\"현재시간은 오전입니다\")\n",
    "else:\n",
    "    print(\"현재 시간은 오후입니다\")\n"
   ]
  },
  {
   "cell_type": "code",
   "execution_count": null,
   "id": "2886e450",
   "metadata": {},
   "outputs": [],
   "source": [
    "# 5. 4,8,5,4,8,4,3,9,1,9 를 내림차순으로 정렬하세요\n",
    "\n",
    "x= [4,8,5,4,8,4,3,9,1,9]\n",
    "x= sorted(x,reverse=True)\n",
    "print(x)"
   ]
  },
  {
   "cell_type": "code",
   "execution_count": null,
   "id": "07af7ffc",
   "metadata": {},
   "outputs": [],
   "source": [
    "#4.[0,1,2,3,4,5,6,7,8,'b','c'] 에서 'c'를 삭제후 출력하세요\n",
    "\n",
    "list= [0,1,2,3,4,5,6,7,8,'b','c']\n",
    "del[list[-1]]\n",
    "print(list)"
   ]
  },
  {
   "cell_type": "code",
   "execution_count": null,
   "id": "04889659",
   "metadata": {},
   "outputs": [],
   "source": [
    "#3. [0,1,2,3,4,5,6,7,8,9,' a','b','c']에서 9와 'a'를 삭제후 리스트로 출력하세요\n",
    "\n",
    "x= [0,1,2,3,4,5,6,7,8,9,' a','b','c']\n",
    "del(x[9])\n",
    "del(x[9])\n",
    "print(x)"
   ]
  },
  {
   "cell_type": "code",
   "execution_count": null,
   "id": "88c82121",
   "metadata": {},
   "outputs": [],
   "source": [
    "# 1. while문을 사용해 1부터 1000가지의 정수 중 3과 5의 공배수의 합을 구해보세요\n",
    "\n",
    "i=0\n",
    "sum=0\n",
    "\n",
    "while i<1000:\n",
    "    i+=1\n",
    "    if i%3 ==0 and i%5 ==0:\n",
    "        sum =sum+i\n",
    "        \n",
    "print(sum)"
   ]
  },
  {
   "cell_type": "code",
   "execution_count": null,
   "id": "eed6ac52",
   "metadata": {},
   "outputs": [],
   "source": [
    " number=[0,1,2,3,4,5,6,7,8,9,'a','b','c']\n",
    "    print()"
   ]
  },
  {
   "cell_type": "code",
   "execution_count": null,
   "id": "621e0dc4",
   "metadata": {},
   "outputs": [],
   "source": [
    "#2. 1부터 5까지 입력해서 12345를 출력하세요\n",
    "num=12345\n",
    "print(num)"
   ]
  }
 ],
 "metadata": {
  "kernelspec": {
   "display_name": "Python 3 (ipykernel)",
   "language": "python",
   "name": "python3"
  },
  "language_info": {
   "codemirror_mode": {
    "name": "ipython",
    "version": 3
   },
   "file_extension": ".py",
   "mimetype": "text/x-python",
   "name": "python",
   "nbconvert_exporter": "python",
   "pygments_lexer": "ipython3",
   "version": "3.7.11"
  }
 },
 "nbformat": 4,
 "nbformat_minor": 5
}

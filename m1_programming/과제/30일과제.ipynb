{
 "cells": [
  {
   "cell_type": "code",
   "execution_count": 3,
   "id": "4c3a25d2",
   "metadata": {},
   "outputs": [
    {
     "ename": "IndentationError",
     "evalue": "expected an indented block (<ipython-input-3-6a9ccb2f4942>, line 9)",
     "output_type": "error",
     "traceback": [
      "\u001b[1;36m  File \u001b[1;32m\"<ipython-input-3-6a9ccb2f4942>\"\u001b[1;36m, line \u001b[1;32m9\u001b[0m\n\u001b[1;33m    if (max_a < 50):\u001b[0m\n\u001b[1;37m    ^\u001b[0m\n\u001b[1;31mIndentationError\u001b[0m\u001b[1;31m:\u001b[0m expected an indented block\n"
     ]
    }
   ],
   "source": [
    "# [과제] 1부터 100까지 아래와 같이 2개의 수를 곱해서 가장 큰 수를 구하세요.\n",
    "#1*99, 2*98 ...99*1\n",
    "\n",
    "max_a = 0\n",
    "max_b=100-(max_a)\n",
    "\n",
    "while 1:\n",
    "    for i in range(1,51):\n",
    "    if (max_a < 50):\n",
    "        continue\n",
    "    else:\n",
    "        break"
   ]
  },
  {
   "cell_type": "code",
   "execution_count": 12,
   "id": "9cfc0052",
   "metadata": {},
   "outputs": [
    {
     "name": "stdout",
     "output_type": "stream",
     "text": [
      "[[1, 4, 7], [2, 5, 8], [3, 6, 9]]\n"
     ]
    }
   ],
   "source": [
    "# [과제] [    ]을 채워서 아래의 출력과 같이 출력하세요.\n",
    "# 출력 :\n",
    "# [[1,4,7],[2,5,8],[3,6,9]]\n",
    "\n",
    "numbers = [1,2,3,4,5,6,7,8,9]\n",
    "output = [[], [], []]\n",
    "for number in numbers:\n",
    "    output[    (number+2)%3       ].append(number)\n",
    "print(output)"
   ]
  },
  {
   "cell_type": "code",
   "execution_count": 55,
   "id": "1e8d01b3",
   "metadata": {},
   "outputs": [
    {
     "name": "stdout",
     "output_type": "stream",
     "text": [
      "게임수를 입력하세요\n",
      "게임 수5\n",
      "[5, 15, 17, 22, 26, 35]\n",
      "[8, 14, 22, 23, 37, 44]\n",
      "[15, 17, 26, 27, 30, 44]\n",
      "[22, 23, 32, 34, 39, 44]\n",
      "[6, 12, 18, 23, 27, 29]\n"
     ]
    }
   ],
   "source": [
    "# [과제] 사용자가 입력한 게임 회수만큼 로또 번호를 출력하는 프로그램을 작성하세요.\n",
    "\n",
    "\n",
    "import random\n",
    "\n",
    "\n",
    "print(\"게임수를 입력하세요\")\n",
    "num=input(\"게임 수\")\n",
    "\n",
    "\n",
    "for i in range(0,int(num)):\n",
    "    lotto=random.sample(range(1,46),6)\n",
    "    lotto.sort()\n",
    "    print(lotto)\n",
    "    \n",
    "\n",
    "    "
   ]
  },
  {
   "cell_type": "code",
   "execution_count": 84,
   "id": "1e014b12",
   "metadata": {},
   "outputs": [
    {
     "ename": "NameError",
     "evalue": "name 'shuffle' is not defined",
     "output_type": "error",
     "traceback": [
      "\u001b[1;31m---------------------------------------------------------------------------\u001b[0m",
      "\u001b[1;31mNameError\u001b[0m                                 Traceback (most recent call last)",
      "\u001b[1;32m<ipython-input-84-977f99bd0a3e>\u001b[0m in \u001b[0;36m<module>\u001b[1;34m\u001b[0m\n\u001b[0;32m      4\u001b[0m \u001b[0mfemale\u001b[0m\u001b[1;33m=\u001b[0m\u001b[1;33m{\u001b[0m\u001b[1;34m'로미오'\u001b[0m\u001b[1;33m,\u001b[0m\u001b[1;34m'오로라'\u001b[0m\u001b[1;33m,\u001b[0m\u001b[1;34m'디즈니'\u001b[0m\u001b[1;33m,\u001b[0m\u001b[1;34m'엘사'\u001b[0m\u001b[1;33m,\u001b[0m\u001b[1;34m'스칼렛'\u001b[0m\u001b[1;33m}\u001b[0m\u001b[1;33m\u001b[0m\u001b[1;33m\u001b[0m\u001b[0m\n\u001b[0;32m      5\u001b[0m \u001b[1;33m\u001b[0m\u001b[0m\n\u001b[1;32m----> 6\u001b[1;33m \u001b[0mshuffle\u001b[0m\u001b[1;33m(\u001b[0m\u001b[0mmale\u001b[0m\u001b[1;33m)\u001b[0m\u001b[1;33m\u001b[0m\u001b[1;33m\u001b[0m\u001b[0m\n\u001b[0m\u001b[0;32m      7\u001b[0m \u001b[0mshuffle\u001b[0m\u001b[1;33m(\u001b[0m\u001b[0mfemale\u001b[0m\u001b[1;33m)\u001b[0m\u001b[1;33m\u001b[0m\u001b[1;33m\u001b[0m\u001b[0m\n\u001b[0;32m      8\u001b[0m \u001b[1;33m\u001b[0m\u001b[0m\n",
      "\u001b[1;31mNameError\u001b[0m: name 'shuffle' is not defined"
     ]
    }
   ],
   "source": [
    " #[과제] 남녀 파트너 정해주기 프로그램을 작성하세요(5개 커플)\n",
    "    \n",
    "male={'슈퍼맨','베트맨','마리오','줄리엣','헐크'}\n",
    "female={'로미오','오로라','디즈니','엘사','스칼렛'}\n",
    "\n",
    "shuffle(male)\n",
    "shuffle(female)\n",
    "\n",
    "couples = zip(male, female)\n",
    "\n",
    "for i,couple in enumerate(couples):\n",
    "    print('커플%d: [%s]-[%s]' %(i+1, couple[0], couple[1]))"
   ]
  },
  {
   "cell_type": "code",
   "execution_count": 85,
   "id": "66da0147",
   "metadata": {},
   "outputs": [
    {
     "name": "stdout",
     "output_type": "stream",
     "text": [
      "게임을 하시겠습니까?[y/n]: \n",
      "게임을 종료합니다.\n"
     ]
    }
   ],
   "source": [
    "# 컴퓨터가 랜덤하게 생성하는 숫자 맞추기 게임 프로그램을 작성하세요\n",
    "import numpy as np\n",
    "while(1):\n",
    "    s_e=input(\"게임을 하시겠습니까?[y/n]: \")\n",
    "\n",
    "    if(s_e==\"y\"):\n",
    "        anser= np.random.randint(0,10)\n",
    "        while(a != anser):\n",
    "            a=int(input(\"숫자를 입력하세요(0~10): \"))\n",
    "            if(a>anser):\n",
    "                print(\"down\")\n",
    "            elif(a<anser):\n",
    "                print(\"up\")\n",
    "            else:\n",
    "                print(\"범위 안의 숫자를 입력해주세요.\")\n",
    "        print(\"정답입니다.\")\n",
    "    else:\n",
    "        print(\"게임을 종료합니다.\")\n",
    "        break"
   ]
  },
  {
   "cell_type": "code",
   "execution_count": 89,
   "id": "bf5aeb86",
   "metadata": {},
   "outputs": [
    {
     "name": "stdout",
     "output_type": "stream",
     "text": [
      "숫자를 입력하세요: 3\n",
      "down\n",
      "숫자를 입력하세요: 4\n",
      "down\n",
      "숫자를 입력하세요: 5\n",
      "down\n",
      "숫자를 입력하세요: 6\n",
      "down\n",
      "숫자를 입력하세요: 7\n",
      "down\n",
      "숫자를 입력하세요: 8\n",
      "down\n",
      "숫자를 입력하세요: 1\n",
      "up\n",
      "숫자를 입력하세요: 2\n",
      "정답입니다\n"
     ]
    }
   ],
   "source": [
    "# 컴퓨터가 랜덤하게 생성하는 숫자 맞추기 게임 프로그램을 작성하세요\n",
    "\n",
    "import random\n",
    "\n",
    "number= random.randint(1,10)\n",
    "\n",
    "\n",
    "while 1:\n",
    "    guess = int(input(\"숫자를 입력하세요: \"))\n",
    "    if number == guess :\n",
    "        print(\"정답입니다\")\n",
    "        break\n",
    "    elif number> guess :\n",
    "        print(\"up\")\n",
    "    else:\n",
    "        print(\"down\")\n",
    "        "
   ]
  },
  {
   "cell_type": "code",
   "execution_count": 94,
   "id": "f6f7a186",
   "metadata": {},
   "outputs": [
    {
     "ename": "SyntaxError",
     "evalue": "invalid syntax (<ipython-input-94-50fbf784b430>, line 18)",
     "output_type": "error",
     "traceback": [
      "\u001b[1;36m  File \u001b[1;32m\"<ipython-input-94-50fbf784b430>\"\u001b[1;36m, line \u001b[1;32m18\u001b[0m\n\u001b[1;33m    elif player-com == -1 or (player == 2 and com ==0)\u001b[0m\n\u001b[1;37m    ^\u001b[0m\n\u001b[1;31mSyntaxError\u001b[0m\u001b[1;31m:\u001b[0m invalid syntax\n"
     ]
    }
   ],
   "source": [
    "# [과제] Player가 3승할 때까지 계속 진행되는 가위바위보 게임 프로그램을 작성하세요.\n",
    "# 게임은 Player와 컴퓨터가 진행\n",
    "\n",
    "import random\n",
    "game =[rock,scissor,paper]\n",
    "com= random.randint(0,2)\n",
    "\n",
    "player=int(input(\"0:바위, 1:가위, 2:보 \"))\n",
    "\n",
    "print(\"나의 선택은?:\")\n",
    "print(game[player])\n",
    "\n",
    "print(\"컴퓨터 선택:\")\n",
    "print(game[player])\n",
    "\n",
    "if com== player:\n",
    "    print(\"비겼습니다\")\n",
    "    elif player-com == -1 or (player == 2 and com ==0)\n",
    "        print(\"이겼습니다\")\n",
    "    else:\n",
    "        print(\"졌습니다\")\n",
    "    "
   ]
  },
  {
   "cell_type": "code",
   "execution_count": null,
   "id": "17f1baa0",
   "metadata": {},
   "outputs": [],
   "source": []
  }
 ],
 "metadata": {
  "kernelspec": {
   "display_name": "Python 3",
   "language": "python",
   "name": "python3"
  },
  "language_info": {
   "codemirror_mode": {
    "name": "ipython",
    "version": 3
   },
   "file_extension": ".py",
   "mimetype": "text/x-python",
   "name": "python",
   "nbconvert_exporter": "python",
   "pygments_lexer": "ipython3",
   "version": "3.8.8"
  }
 },
 "nbformat": 4,
 "nbformat_minor": 5
}

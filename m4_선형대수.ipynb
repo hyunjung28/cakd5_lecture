{
 "cells": [
  {
   "cell_type": "markdown",
   "id": "82f485e9",
   "metadata": {},
   "source": [
    "## Python Numpy 선형대수\n",
    "\n",
    "- 단위행렬 (Unit matrix): np.eye(n)\n",
    "- 대각행렬 (Diagonal matrix): np.diag(x)\n",
    "- 내적 (Dot product, Inner product): np.dot(a, b)\n",
    "- 대각합 (Trace): np.trace(x)\n",
    "- 행렬식 (Matrix Determinant): np.linalg.det(x)\n",
    "- 역행렬 (Inverse of a matrix): np.linalg.inv(x)\n",
    "- 고유값 (Eigenvalue), 고유벡터 (Eigenvector): w, v = np.linalg.eig(x)\n",
    "- 특이값 분해 (Singular Value Decomposition): u, s, vh = np.linalg.svd(A)\n",
    "- 연립방정식 해 풀기 (Solve a linear matrix equation): np.linalg.solve(a, b)\n",
    "- 최소자승 해 풀기 (Compute the Least-squares solution): m, c = np.linalg.lstsq(A, y, rcond=None)[0]\n",
    "\n",
    "https://rfriend.tistory.com/380\n"
   ]
  },
  {
   "cell_type": "code",
   "execution_count": 1,
   "id": "a1bac931",
   "metadata": {},
   "outputs": [
    {
     "data": {
      "text/plain": [
       "array([[0, 1, 2],\n",
       "       [3, 4, 5],\n",
       "       [6, 7, 8]])"
      ]
     },
     "execution_count": 1,
     "metadata": {},
     "output_type": "execute_result"
    }
   ],
   "source": [
    "#정방행렬/정사각형 행렬:  같은 수의 행과 열을 갖는 행렬 (n*n 행렬)\n",
    "import numpy as np\n",
    "np.arange(9).reshape(3,3)"
   ]
  },
  {
   "cell_type": "code",
   "execution_count": 2,
   "id": "46bd1041",
   "metadata": {},
   "outputs": [
    {
     "data": {
      "text/plain": [
       "array([[1, 0, 0],\n",
       "       [0, 2, 0],\n",
       "       [0, 0, 3]])"
      ]
     },
     "execution_count": 2,
     "metadata": {},
     "output_type": "execute_result"
    }
   ],
   "source": [
    "# 대각 정방행렬: 주대각선 원소외에 모두 0인 정방행렬\n",
    "np.diag([1,2,3])"
   ]
  },
  {
   "cell_type": "code",
   "execution_count": 3,
   "id": "2cf1b571",
   "metadata": {},
   "outputs": [
    {
     "data": {
      "text/plain": [
       "array([[1, 0, 0, 0, 0],\n",
       "       [0, 2, 0, 0, 0],\n",
       "       [0, 0, 3, 0, 0],\n",
       "       [0, 0, 0, 4, 0],\n",
       "       [0, 0, 0, 0, 5]])"
      ]
     },
     "execution_count": 3,
     "metadata": {},
     "output_type": "execute_result"
    }
   ],
   "source": [
    "np.diag([1,2,3,4,5])"
   ]
  },
  {
   "cell_type": "code",
   "execution_count": 4,
   "id": "df210e6d",
   "metadata": {},
   "outputs": [
    {
     "data": {
      "text/plain": [
       "array([[1., 0., 0.],\n",
       "       [0., 1., 0.],\n",
       "       [0., 0., 1.]])"
      ]
     },
     "execution_count": 4,
     "metadata": {},
     "output_type": "execute_result"
    }
   ],
   "source": [
    "#항등행렬: 단위행렬(unit matrix)라고도 하며 주대각선 원소가 모두 1이고 나머지 원소는 모두 0인 정방행렬\n",
    "np.identity(3)"
   ]
  },
  {
   "cell_type": "code",
   "execution_count": 5,
   "id": "21474260",
   "metadata": {},
   "outputs": [
    {
     "data": {
      "text/plain": [
       "array([[1, 0, 0],\n",
       "       [0, 1, 0],\n",
       "       [0, 0, 1]])"
      ]
     },
     "execution_count": 5,
     "metadata": {},
     "output_type": "execute_result"
    }
   ],
   "source": [
    "np.diag([1,1,1])"
   ]
  },
  {
   "cell_type": "code",
   "execution_count": 6,
   "id": "2486bc2c",
   "metadata": {},
   "outputs": [
    {
     "data": {
      "text/plain": [
       "array([[1., 0., 0.],\n",
       "       [0., 1., 0.],\n",
       "       [0., 0., 1.]])"
      ]
     },
     "execution_count": 6,
     "metadata": {},
     "output_type": "execute_result"
    }
   ],
   "source": [
    "np.eye(3)"
   ]
  },
  {
   "cell_type": "markdown",
   "id": "1e500189",
   "metadata": {},
   "source": [
    "#### 벡터와 행렬의 연산\n",
    "- 벡터/행렬의 덧셈과 뺄셈 : 같은 위치에 있는 원소끼리 수행. 요소별 연산\n",
    "- 스칼라와 벡터/행렬의 곱셈\n",
    "- 브로드캐스팅 : 스칼라를 벡터로 변환한 연산을 허용\n",
    "- 벡터와 벡터의 곱셈. 내적\n",
    " - 두 벡터의 차원(길이)이 같아야 한다.\n",
    " - 앞의 벡터가 행벡터이고 위의 벡터가 열벡터여야 한다.\n",
    " - 내적의 결과는 스칼라 값이 됨. dot() 또는 @ 연산자로 계산\n"
   ]
  },
  {
   "cell_type": "markdown",
   "id": "079d41e2",
   "metadata": {},
   "source": [
    "스칼라:방향이 없는 숫자값 (온도)\n",
    "벡터: 방향과 크기가 존재하는 숫자값 (속도)\n",
    "행렬: 시리즈가 여러개인거 매트릭스가 됬잖아   \n",
    "5 스칼라  \n",
    "[1,2,3] 벡터  \n",
    "[[1,2,3],[2,3,4]] 행렬"
   ]
  },
  {
   "cell_type": "code",
   "execution_count": null,
   "id": "543c4dc9",
   "metadata": {},
   "outputs": [],
   "source": [
    "텐서는 임의의 기하 구조를 좌표 독립(座標獨立, coordinate independent)적으로 표현하기 위한 표기법이다\n",
    "0차원,1차원,2차원 다 텐서야\n"
   ]
  }
 ],
 "metadata": {
  "kernelspec": {
   "display_name": "Python 3",
   "language": "python",
   "name": "python3"
  },
  "language_info": {
   "codemirror_mode": {
    "name": "ipython",
    "version": 3
   },
   "file_extension": ".py",
   "mimetype": "text/x-python",
   "name": "python",
   "nbconvert_exporter": "python",
   "pygments_lexer": "ipython3",
   "version": "3.8.8"
  }
 },
 "nbformat": 4,
 "nbformat_minor": 5
}

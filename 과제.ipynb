{
 "cells": [
  {
   "cell_type": "code",
   "execution_count": 1,
   "id": "fb3e1aaf",
   "metadata": {},
   "outputs": [
    {
     "name": "stdout",
     "output_type": "stream",
     "text": [
      "33165\n"
     ]
    }
   ],
   "source": [
    "# 1. while문을 사용해 1부터 1000가지의 정수 중 3과 5의 공배수의 합을 구해보세요\n",
    "\n",
    "i=0\n",
    "sum=0\n",
    "\n",
    "while i<1000:\n",
    "    i+=1\n",
    "    if i%3 ==0 and i%5 ==0:\n",
    "        sum =sum+i\n",
    "        \n",
    "print(sum)"
   ]
  },
  {
   "cell_type": "code",
   "execution_count": 2,
   "id": "95fe92a0",
   "metadata": {},
   "outputs": [
    {
     "name": "stdout",
     "output_type": "stream",
     "text": [
      "33165\n"
     ]
    }
   ],
   "source": [
    "i=0\n",
    "sum=0\n",
    "while i<1000:\n",
    "    i+=1\n",
    "    if i%15==0:\n",
    "        sum+=i\n",
    "print(sum)\n"
   ]
  },
  {
   "cell_type": "code",
   "execution_count": 3,
   "id": "5548eada",
   "metadata": {},
   "outputs": [
    {
     "name": "stdout",
     "output_type": "stream",
     "text": [
      "12345\n"
     ]
    },
    {
     "ename": "KeyboardInterrupt",
     "evalue": "Interrupted by user",
     "output_type": "error",
     "traceback": [
      "\u001b[1;31m---------------------------------------------------------------------------\u001b[0m",
      "\u001b[1;31mKeyboardInterrupt\u001b[0m                         Traceback (most recent call last)",
      "\u001b[1;32m~\\AppData\\Local\\Temp/ipykernel_10280/851248253.py\u001b[0m in \u001b[0;36m<module>\u001b[1;34m\u001b[0m\n\u001b[0;32m      4\u001b[0m \u001b[1;33m\u001b[0m\u001b[0m\n\u001b[0;32m      5\u001b[0m \u001b[0msum\u001b[0m \u001b[1;33m=\u001b[0m \u001b[1;34m\"\"\u001b[0m\u001b[1;33m\u001b[0m\u001b[1;33m\u001b[0m\u001b[0m\n\u001b[1;32m----> 6\u001b[1;33m \u001b[0mvar1\u001b[0m \u001b[1;33m=\u001b[0m \u001b[0minput\u001b[0m\u001b[1;33m(\u001b[0m\u001b[1;34m\"1입력\"\u001b[0m\u001b[1;33m)\u001b[0m\u001b[1;33m\u001b[0m\u001b[1;33m\u001b[0m\u001b[0m\n\u001b[0m\u001b[0;32m      7\u001b[0m \u001b[0mvar2\u001b[0m \u001b[1;33m=\u001b[0m \u001b[0minput\u001b[0m\u001b[1;33m(\u001b[0m\u001b[1;34m\"2입력\"\u001b[0m\u001b[1;33m)\u001b[0m\u001b[1;33m\u001b[0m\u001b[1;33m\u001b[0m\u001b[0m\n\u001b[0;32m      8\u001b[0m \u001b[0mvar3\u001b[0m \u001b[1;33m=\u001b[0m \u001b[0minput\u001b[0m\u001b[1;33m(\u001b[0m\u001b[1;34m\"3입력\"\u001b[0m\u001b[1;33m)\u001b[0m\u001b[1;33m\u001b[0m\u001b[1;33m\u001b[0m\u001b[0m\n",
      "\u001b[1;32m~\\Anaconda3\\envs\\cakd5\\lib\\site-packages\\ipykernel\\kernelbase.py\u001b[0m in \u001b[0;36mraw_input\u001b[1;34m(self, prompt)\u001b[0m\n\u001b[0;32m   1008\u001b[0m             \u001b[0mself\u001b[0m\u001b[1;33m.\u001b[0m\u001b[0m_parent_ident\u001b[0m\u001b[1;33m[\u001b[0m\u001b[1;34m\"shell\"\u001b[0m\u001b[1;33m]\u001b[0m\u001b[1;33m,\u001b[0m\u001b[1;33m\u001b[0m\u001b[1;33m\u001b[0m\u001b[0m\n\u001b[0;32m   1009\u001b[0m             \u001b[0mself\u001b[0m\u001b[1;33m.\u001b[0m\u001b[0mget_parent\u001b[0m\u001b[1;33m(\u001b[0m\u001b[1;34m\"shell\"\u001b[0m\u001b[1;33m)\u001b[0m\u001b[1;33m,\u001b[0m\u001b[1;33m\u001b[0m\u001b[1;33m\u001b[0m\u001b[0m\n\u001b[1;32m-> 1010\u001b[1;33m             \u001b[0mpassword\u001b[0m\u001b[1;33m=\u001b[0m\u001b[1;32mFalse\u001b[0m\u001b[1;33m,\u001b[0m\u001b[1;33m\u001b[0m\u001b[1;33m\u001b[0m\u001b[0m\n\u001b[0m\u001b[0;32m   1011\u001b[0m         )\n\u001b[0;32m   1012\u001b[0m \u001b[1;33m\u001b[0m\u001b[0m\n",
      "\u001b[1;32m~\\Anaconda3\\envs\\cakd5\\lib\\site-packages\\ipykernel\\kernelbase.py\u001b[0m in \u001b[0;36m_input_request\u001b[1;34m(self, prompt, ident, parent, password)\u001b[0m\n\u001b[0;32m   1049\u001b[0m             \u001b[1;32mexcept\u001b[0m \u001b[0mKeyboardInterrupt\u001b[0m\u001b[1;33m:\u001b[0m\u001b[1;33m\u001b[0m\u001b[1;33m\u001b[0m\u001b[0m\n\u001b[0;32m   1050\u001b[0m                 \u001b[1;31m# re-raise KeyboardInterrupt, to truncate traceback\u001b[0m\u001b[1;33m\u001b[0m\u001b[1;33m\u001b[0m\u001b[1;33m\u001b[0m\u001b[0m\n\u001b[1;32m-> 1051\u001b[1;33m                 \u001b[1;32mraise\u001b[0m \u001b[0mKeyboardInterrupt\u001b[0m\u001b[1;33m(\u001b[0m\u001b[1;34m\"Interrupted by user\"\u001b[0m\u001b[1;33m)\u001b[0m \u001b[1;32mfrom\u001b[0m \u001b[1;32mNone\u001b[0m\u001b[1;33m\u001b[0m\u001b[1;33m\u001b[0m\u001b[0m\n\u001b[0m\u001b[0;32m   1052\u001b[0m             \u001b[1;32mexcept\u001b[0m \u001b[0mException\u001b[0m\u001b[1;33m:\u001b[0m\u001b[1;33m\u001b[0m\u001b[1;33m\u001b[0m\u001b[0m\n\u001b[0;32m   1053\u001b[0m                 \u001b[0mself\u001b[0m\u001b[1;33m.\u001b[0m\u001b[0mlog\u001b[0m\u001b[1;33m.\u001b[0m\u001b[0mwarning\u001b[0m\u001b[1;33m(\u001b[0m\u001b[1;34m\"Invalid Message:\"\u001b[0m\u001b[1;33m,\u001b[0m \u001b[0mexc_info\u001b[0m\u001b[1;33m=\u001b[0m\u001b[1;32mTrue\u001b[0m\u001b[1;33m)\u001b[0m\u001b[1;33m\u001b[0m\u001b[1;33m\u001b[0m\u001b[0m\n",
      "\u001b[1;31mKeyboardInterrupt\u001b[0m: Interrupted by user"
     ]
    }
   ],
   "source": [
    "#2. 1부터 5까지 입력해서 12345를 출력하세요\n",
    "num=12345\n",
    "print(num)\n",
    "\n",
    "sum = \"\"\n",
    "var1 = input(\"1입력\")\n",
    "var2 = input(\"2입력\")\n",
    "var3 = input(\"3입력\")\n",
    "var4 = input(\"4입력\")\n",
    "var5 = input(\"5입력\")\n",
    "\n",
    "sum+=var1+var2+var3+var4+var5\n",
    "sum\n"
   ]
  },
  {
   "cell_type": "code",
   "execution_count": null,
   "id": "21cbe928",
   "metadata": {},
   "outputs": [],
   "source": [
    "#3. [0,1,2,3,4,5,6,7,8,9,' a','b','c']에서 9와 'a'를 삭제후 리스트로 출력하세요\n",
    "\n",
    "x= [0,1,2,3,4,5,6,7,8,9,' a','b','c']\n",
    "del(x[9])\n",
    "del(x[9])\n",
    "print(x)\n",
    "\n",
    "\n",
    "del(x[-4])\n",
    "print(x)"
   ]
  },
  {
   "cell_type": "code",
   "execution_count": null,
   "id": "cc9c16bd",
   "metadata": {},
   "outputs": [],
   "source": [
    "#4.[0,1,2,3,4,5,6,7,8,'b','c'] 에서 'c'를 삭제후 출력하세요\n",
    "\n",
    "list= [0,1,2,3,4,5,6,7,8,'b','c']\n",
    "del[list[-1]]\n",
    "print(list)"
   ]
  },
  {
   "cell_type": "code",
   "execution_count": null,
   "id": "bed5c895",
   "metadata": {},
   "outputs": [],
   "source": [
    "# 5. 4,8,5,4,8,4,3,9,1,9 를 내림차순으로 정렬하세요\n",
    "\n",
    "x= [4,8,5,4,8,4,3,9,1,9]\n",
    "x= sorted(x,reverse=True)\n",
    "print(x)\n",
    "\n",
    "x.reverse()\n",
    "print(x)"
   ]
  },
  {
   "cell_type": "code",
   "execution_count": null,
   "id": "c3dc8274",
   "metadata": {},
   "outputs": [],
   "source": [
    "#6. format함수를 이용해서 다음과 같은 형식으로 현재 날짜/시간을 출력하세요 \n",
    "#2021년 12월 29일 15시 47분 30초\n",
    "\n",
    "import datetime\n",
    "t=datetime.datetime.now()\n",
    "\n",
    "import datetime\n",
    "t=datetime.datetime.now()\n",
    "\n",
    "f= \"{}년 {}월 {}일 {}시 {}분 {}초\".format(t.year,t.month,t.day,t.hour,t.minute,t.second)\n",
    "print(f)\n",
    "\n",
    "\n",
    "d = datetime.datetime.now()\n",
    "print (t.year,'년',t.month,'월', t.day,'일',t.hour,'시',t.minute,'분',t.second,'초')\n"
   ]
  },
  {
   "cell_type": "code",
   "execution_count": null,
   "id": "4f65d30a",
   "metadata": {},
   "outputs": [],
   "source": [
    "#7. 현재 시각을 오전과 오후로 구분하는 프로그램을 작성하세요.\n",
    "\n",
    "import datetime\n",
    "\n",
    "now=datetime.datetime.now()\n",
    "\n",
    "if now.hour < 12:\n",
    "    print(f'현재시간은 {now.hour}시로 오전입니다')\n",
    "else:\n",
    "    print(f\"현재 시간은 {now.hour}시로 오후입니다\")"
   ]
  },
  {
   "cell_type": "code",
   "execution_count": null,
   "id": "0c7f1373",
   "metadata": {},
   "outputs": [],
   "source": [
    "#정수를 입력하면 홀수 짝수를 판별하는 프로그램 작성\n",
    "\n",
    "num = int(input(\"숫자를 입력하세요 :\"))\n",
    "if num %2 ==0:\n",
    "    print(\"짝수입니다\")\n",
    "else :\n",
    "    print(\"홀수입니다\")"
   ]
  },
  {
   "cell_type": "code",
   "execution_count": null,
   "id": "b1b11d83",
   "metadata": {},
   "outputs": [],
   "source": [
    "num=input('number')\n",
    "if int(num)%2==0:\n",
    "    print(f'입력한 숫자 {num}은 짝수입니다')\n",
    "else: \n",
    "    print(f'입력한 숫자 {num}은 홀수입니다.')\n"
   ]
  },
  {
   "cell_type": "code",
   "execution_count": null,
   "id": "3cfa8aeb",
   "metadata": {},
   "outputs": [],
   "source": [
    "#9.태어난 연도를 입력받아 띠를 출력하는 프로그램을 작성하세요.\n",
    "\n",
    "i=input(\"태어난해를 입력해주세요\")\n",
    "year=int(i)%12\n",
    "\n",
    "animals=[\"원숭이\",\"닭\",\"개\",\"돼지\",\"쥐\",\"소\",\"범\" ,\"토끼\",\"용\",\"뱀\",\"말\",\"양띠\"]\n",
    "print(animals[year],\"띠입니다.\")\n",
    "\n",
    "\n",
    "\n",
    "year_input=int(input(\"태어난 해를 입력하세요\"))\n",
    "birth_year = year_input%12\n",
    "\n",
    "if birth_year==0:\n",
    "    print(\"원숭이 띠 입니다.\")\n",
    "elif birth_year==1:\n",
    "    print(\"닭 띠 입니다.\")\n",
    "elif birth_year==2:\n",
    "    print(\"개 띠 입니다.\")\n",
    "elif birth_year==3:\n",
    "    print(\"돼지 띠 입니다.\")\n",
    "elif birth_year==4:\n",
    "    print(\"쥐 띠 입니다.\")\n",
    "elif birth_year==5:\n",
    "    print(\"소 띠 입니다.\")\n",
    "elif birth_year==6:\n",
    "    print(\"범 띠 입니다.\")\n",
    "elif birth_year==7:\n",
    "    print(\"토끼 띠 입니다.\")\n",
    "elif birth_year==8:\n",
    "    print(\"용 띠 입니다.\")\n",
    "elif birth_year==9:\n",
    "    print(\"뱀 띠 입니다.\")\n",
    "elif birth_year==10:\n",
    "    print(\"말 띠 입니다.\")\n",
    "else:\n"
   ]
  },
  {
   "cell_type": "code",
   "execution_count": null,
   "id": "8be1dff1",
   "metadata": {},
   "outputs": [],
   "source": [
    "#10. 계절 구분 프로그램 각 계절별 출력멘트는 계절에 맞게 창작 if조건문으로 datetime모듈을\n",
    "#import해서 datetime.now함수를 사용해서 작성\n",
    "\n",
    "import datetime\n",
    "\n",
    "now = datetime.datetime.now()\n",
    "\n",
    "if 3 <=now.month <5 :\n",
    "    print(\"이번달은 {}날로 봄입니다\".format(now.month))\n",
    "elif 6<= now.month <9:\n",
    "    print(\"이번달은{}날로 여름입니다\".format(now.month))\n",
    "elif 9<= now.month <12:\n",
    "    print(\"이번달은 {}날로 가을입니다\".format(now.month))\n",
    "else:\n",
    "    print(\"이번달은 {}날로 겨울입니다\".format(now.month))"
   ]
  },
  {
   "cell_type": "code",
   "execution_count": null,
   "id": "4e18cfc4",
   "metadata": {},
   "outputs": [],
   "source": [
    "#[과제] 아래와 같이 출력하세요\n",
    "\n",
    "12345 \n",
    "     12345\n",
    "12.345679\n",
    "         12.346"
   ]
  },
  {
   "cell_type": "code",
   "execution_count": null,
   "id": "abef06ae",
   "metadata": {},
   "outputs": [],
   "source": [
    "###과제 #1부터 100까지의 정수 중 5에서 95까지의 합을 구하시오.\n",
    "num = 1\n",
    "sum = 0\n",
    "\n",
    "while num <100:\n",
    "    \n",
    "    if (i>=5 and i <=95) :\n",
    "    sum += num\n",
    "    num += 1\n",
    "    \n",
    "print(sum)"
   ]
  },
  {
   "cell_type": "code",
   "execution_count": null,
   "id": "2336353c",
   "metadata": {},
   "outputs": [],
   "source": [
    "# 과제\n",
    "y=12345\n",
    "print(f'{y:0.0f}')\n",
    "print(f'{y:10.0f}')\n",
    "y=12.345679\n",
    "print(f'{y:8.6f}')\n",
    "print(f'{y:11.3f}')"
   ]
  },
  {
   "cell_type": "code",
   "execution_count": null,
   "id": "13962ac5",
   "metadata": {},
   "outputs": [],
   "source": [
    "a=12.345679\n",
    "a1=int(a*1000)\n",
    "print(f'{a1}')\n",
    "print(f'{a1:10}')\n",
    "print(f'{a}')\n",
    "print(f'{a:17.3f}')\n"
   ]
  },
  {
   "cell_type": "code",
   "execution_count": null,
   "id": "db3b1bca",
   "metadata": {},
   "outputs": [],
   "source": [
    "#for ~continue ~ break \n",
    "# 1~ 10 법위의 정수에서 1부터 5까지만 출력하세요\n",
    "\n",
    "\n",
    "\n",
    "for i in range(1,11) :\n",
    "    print(i, end=\" \") \n",
    "    if i < 5:\n",
    "        continue \n",
    "    else:\n",
    "        break"
   ]
  },
  {
   "cell_type": "code",
   "execution_count": null,
   "id": "20c2e86d",
   "metadata": {},
   "outputs": [],
   "source": [
    "#1000이하의 수 중에서 3과 5의 공배수인 정수의 합\n",
    "i=1\n",
    "sum=0\n",
    "\n",
    "while i<1000:\n",
    "    i+=1\n",
    "    if i%15 ==0:\n",
    "        sum = sum +i\n",
    "print(sum) "
   ]
  },
  {
   "cell_type": "code",
   "execution_count": null,
   "id": "caadda91",
   "metadata": {},
   "outputs": [],
   "source": [
    "#람다함수를 잉ㅇ해서 a의 b제곱을 구하는 식을 만들고\n",
    "#a,b가 아래와 같이 주어졌을 때 각각의 값을 구하세요\n",
    "#a=2, b=5\n",
    "#a=5, b=2\n",
    "\n",
    "x= lambda a,b:a**b\n",
    "print(x(2,5))\n",
    "print(x(5,2))\n",
    "\n"
   ]
  },
  {
   "cell_type": "code",
   "execution_count": null,
   "id": "385dd275",
   "metadata": {},
   "outputs": [],
   "source": [
    "#커피과제 \n",
    "\n",
    "coffee = 5\n",
    "\n",
    "\n",
    "money= int(input('돈을 넣어주세요: '))\n",
    "while 1:\n",
    "    if money == 300:\n",
    "        print(\"커피를 드리겠습니다\")\n",
    "        coffee = coffee-1\n",
    "        print(\"남은 커피의 수량은 %d잔 입니다\"% coffee)\n",
    "        \n",
    "    elif money > 300 : \n",
    "         print(\" 거스름돈%d을 드리겠습니다\"% (money -300))\n",
    "         coffee= coffee-1\n",
    "         \n",
    "    else:\n",
    "        print(\"돈을 돌려주고 커피를 주지 않습니다\")\n",
    "        print(\"남은 커피의 양은 %d입니다\"%coffee)\n",
    "    if coffee ==0 :\n",
    "        print(\"커피가 다 떨어졌습니다\")\n",
    "    \n",
    "    break\n",
    "\n",
    "    "
   ]
  },
  {
   "cell_type": "code",
   "execution_count": null,
   "id": "c6d88dc4",
   "metadata": {},
   "outputs": [],
   "source": [
    "coffee = 5\n",
    "while 1:\n",
    "    money = int(input('자판기를 이용하시려면 돈을 넣어주세요: '))\n",
    "    change = money - 300\n",
    "    if money == 300:\n",
    "        print('따뜻한 커피 나왔습니다')\n",
    "        coffee = coffee - 1\n",
    "    elif money > 300 and money <= 600:\n",
    "        print('따뜻한 커피 나왔습니다. 거스름돈은 %d원입니다.' % change)\n",
    "        coffee = coffee - 1\n",
    "    elif money > 600:\n",
    "        coffee_num = int(input('몇 잔의 커피를 뽑으시겠습니까?'))\n",
    "        change_2 = money - (coffee_num * 300)\n",
    "        if coffee < coffee_num:\n",
    "            print(f'죄송합니다. 재고가 모자랍니다. 현재 재고는 {coffee}개 입니다. 잔돈을 반환합니다.')\n",
    "        elif money % 300 == 0:\n",
    "            print(f'커피 {coffee_num}잔 나왔습니다.')\n",
    "            coffee = coffee - coffee_num\n",
    "        elif money < coffee_num * 300:\n",
    "            print('금액이 모자랍니다.')\n",
    "        else:\n",
    "            print(f'커피 {coffee_num}잔 나왔습니다. 거스름돈은 {change_2}원 입니다.')\n",
    "            coffee = coffee - coffee_num\n",
    "    else:\n",
    "        print('금액이 모자랍니다. 300원 이상 넣어주세요!')\n",
    "        \n",
    "    if coffee == 0:\n",
    "        print('금일 준비한 커피가 모두 소진되어 판매를 일시 중단합니다.')\n",
    "        break\n"
   ]
  },
  {
   "cell_type": "code",
   "execution_count": 13,
   "id": "4276dbd1",
   "metadata": {},
   "outputs": [
    {
     "name": "stdout",
     "output_type": "stream",
     "text": [
      "맛있는 커피, 현금을 투입하세여요350\n",
      "커피와 거스름돈50원 챙기세요\n",
      "맛있는 커피, 현금을 투입하세여요400\n",
      "커피와 거스름돈100원 챙기세요\n",
      "맛있는 커피, 현금을 투입하세여요300\n",
      "맛있는 커피 드리겠습니다\n",
      "맛있는 커피, 현금을 투입하세여요500\n",
      "커피와 거스름돈200원 챙기세요\n",
      "맛있는 커피, 현금을 투입하세여요400\n",
      "커피와 거스름돈100원 챙기세요\n",
      "커피의 재고가 소진되었습니다\n"
     ]
    }
   ],
   "source": [
    "coffee = 5\n",
    "price =300\n",
    "\n",
    "while 1: # 재고가 있는한 계쏙 돌아야하니 while문을 써주겠습니다\n",
    "    money = int(input('맛있는 커피, 현금을 투입하세여요'))\n",
    "    charge = money - 300\n",
    "    if money == 300:\n",
    "        print(\"맛있는 커피 드리겠습니다\")\n",
    "        coffee -= 1\n",
    "    elif money >300:\n",
    "        change = money - 300\n",
    "        coffee -= 1\n",
    "        print(f'커피와 거스름돈{change}원 챙기세요')\n",
    "        \n",
    "    else: \n",
    "        print(f'커피는 {price}원 입니다, 현금을 다시 넣어주세요')\n",
    "    \n",
    "    if coffee == 0:\n",
    "        print('커피의 재고가 소진되었습니다')\n",
    "        break"
   ]
  }
 ],
 "metadata": {
  "kernelspec": {
   "display_name": "Python 3 (ipykernel)",
   "language": "python",
   "name": "python3"
  },
  "language_info": {
   "codemirror_mode": {
    "name": "ipython",
    "version": 3
   },
   "file_extension": ".py",
   "mimetype": "text/x-python",
   "name": "python",
   "nbconvert_exporter": "python",
   "pygments_lexer": "ipython3",
   "version": "3.7.11"
  }
 },
 "nbformat": 4,
 "nbformat_minor": 5
}
